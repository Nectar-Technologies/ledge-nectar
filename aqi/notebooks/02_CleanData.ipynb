{
 "cells": [
  {
   "cell_type": "markdown",
   "metadata": {},
   "source": [
    "\n",
    "## DESCRIPTION\n",
    "\n",
    "This notebook cleans the data processed in generate_data.ipynb"
   ]
  },
  {
   "cell_type": "markdown",
   "metadata": {},
   "source": [
    "***\n",
    "### SETUP"
   ]
  },
  {
   "cell_type": "markdown",
   "metadata": {},
   "source": [
    "The script common_setup.py is called below.\n",
    "\n",
    "You can modify the script at will if needed (e.g. add new packages, etc.)"
   ]
  },
  {
   "cell_type": "code",
   "execution_count": 1,
   "metadata": {},
   "outputs": [],
   "source": [
    "from utils.common_setup import *"
   ]
  },
  {
   "cell_type": "markdown",
   "metadata": {},
   "source": [
    "### Load the preprocessed data"
   ]
  },
  {
   "cell_type": "code",
   "execution_count": 2,
   "metadata": {},
   "outputs": [],
   "source": [
    "data = pd.read_csv('../data/preprocess.csv')"
   ]
  },
  {
   "cell_type": "markdown",
   "metadata": {},
   "source": [
    "***\n",
    "### CLEAN THE DATA"
   ]
  },
  {
   "cell_type": "code",
   "execution_count": 3,
   "metadata": {},
   "outputs": [],
   "source": [
    "ONLY_WINTER = False\n",
    "ONLY_INSEASON = False \n",
    "ACTIVE_ALL_AND_WINTER = True  # Blog post hypothesis \n",
    "if ONLY_WINTER or ONLY_INSEASON:\n",
    "    assert ONLY_WINTER != ONLY_INSEASON, \"choose one! or both False\"\n",
    "if ONLY_INSEASON or ACTIVE_ALL_AND_WINTER:\n",
    "    assert ACTIVE_ALL_AND_WINTER != ONLY_INSEASON, \"choose one! or both False\"\n",
    "\n",
    "# Reload and apply\n",
    "data = pd.read_csv(os.path.join(ROOT_PATH, \"preprocess.csv\"))"
   ]
  },
  {
   "cell_type": "markdown",
   "metadata": {},
   "source": [
    "### Remove bad data\n",
    "\n",
    "Removing OPS for the 2023 season"
   ]
  },
  {
   "cell_type": "code",
   "execution_count": 4,
   "metadata": {},
   "outputs": [
    {
     "name": "stdout",
     "output_type": "stream",
     "text": [
      "121107\n"
     ]
    }
   ],
   "source": [
    "data = data.loc[~((data['season']==2023) & (data['operation_id'].isin([153, 204, 219, 220, 224])))]\n",
    "print(len(data))"
   ]
  },
  {
   "cell_type": "code",
   "execution_count": 5,
   "metadata": {},
   "outputs": [],
   "source": [
    "if ONLY_WINTER:\n",
    "    # Exclude in-season deadout , we are just looking at winter morta \n",
    "    data['death_date'] = pd.to_datetime(data['death_date']).dt.date\n",
    "    data['winter_deadout'] = data.apply(lambda x: x['death_date'] > date(int(x['season']),x['season_start_month'],x['season_start_day']),axis=1)\n",
    "    data = data.loc[data['winter_deadout']].reset_index(drop=True)\n",
    "\n",
    "if ONLY_INSEASON:\n",
    "    data['death_date'] = pd.to_datetime(data['death_date']).dt.date\n",
    "    data['winter_deadout'] = data.apply(lambda x: x['death_date'].month in [6,7,8],axis=1)\n",
    "    data = data.loc[~data['winter_deadout'] | ~data['death_next_season']].reset_index(drop=True)\n",
    "\n",
    "if ACTIVE_ALL_AND_WINTER:\n",
    "    data['death_date'] = pd.to_datetime(data['death_date']).dt.date\n",
    "    data['creation_date'] = pd.to_datetime(data['creation_date']).dt.date\n",
    "    # This ensure the exposition rate is the full season (makes them comparable with the current approach)\n",
    "    # data = data.loc[(data['creation_date'] <= data.apply(\n",
    "    #     lambda x: date(int(x['season']),x['season_start_month']+1,x['season_start_day'])\n",
    "    #                  ,axis=1)) \\\n",
    "    #         & (data['death_date'] > data['season'].apply(lambda x : date(int(x),END_SEASON_MONTH,END_SEASON_DAY)))]\n",
    "    # data = data.reset_index(drop=True)"
   ]
  },
  {
   "cell_type": "markdown",
   "metadata": {},
   "source": [
    "### Keep next year aside and exclude some abnormal data"
   ]
  },
  {
   "cell_type": "code",
   "execution_count": 6,
   "metadata": {},
   "outputs": [],
   "source": [
    "next_year = data.loc[data['season']==2024].reset_index(drop=True)\n",
    "if not ONLY_INSEASON:\n",
    "    data = data.loc[data['season']!=2024].reset_index(drop=True)"
   ]
  },
  {
   "cell_type": "code",
   "execution_count": 7,
   "metadata": {},
   "outputs": [
    {
     "data": {
      "text/plain": [
       "121107"
      ]
     },
     "execution_count": 7,
     "metadata": {},
     "output_type": "execute_result"
    }
   ],
   "source": [
    "len(data)"
   ]
  },
  {
   "cell_type": "code",
   "execution_count": 8,
   "metadata": {},
   "outputs": [
    {
     "data": {
      "text/plain": [
       "season\n",
       "2023    89998\n",
       "2022    24403\n",
       "2021     6706\n",
       "Name: count, dtype: int64"
      ]
     },
     "execution_count": 8,
     "metadata": {},
     "output_type": "execute_result"
    }
   ],
   "source": [
    "data.season.value_counts()"
   ]
  },
  {
   "cell_type": "markdown",
   "metadata": {},
   "source": [
    "Filling null values with zero"
   ]
  },
  {
   "cell_type": "code",
   "execution_count": 9,
   "metadata": {},
   "outputs": [],
   "source": [
    "data.dropna(subset=['aqhi_average','ndvi_average'],axis=0,inplace=True)\n",
    "\n",
    "data['operation_id'] = data['operation_id'].astype(str)\n",
    "data['season'] = data['season'].astype(str)"
   ]
  },
  {
   "cell_type": "code",
   "execution_count": 10,
   "metadata": {},
   "outputs": [],
   "source": [
    "data['wspd_average_og'] = data['wspd_average']\n",
    "data['tavg_average_og'] = data['tavg_average']\n",
    "data['prcp_average_og'] = data['prcp_average']\n",
    "data['aqhi_average_og'] = data['aqhi_average']\n",
    "\n",
    "data['wspd_average'] = np.log(data['wspd_average']+10e-5)\n",
    "data['tavg_average'] = np.log(data['tavg_average']+10e-5)\n",
    "data['prcp_average'] = np.log(data['prcp_average']+10e-5)\n",
    "data['aqhi_average'] = np.log(data['aqhi_average']+10e-5)"
   ]
  },
  {
   "cell_type": "markdown",
   "metadata": {},
   "source": [
    "### Save the cleaned data\n",
    "\n",
    "Cleaned data is saved to the data folder"
   ]
  },
  {
   "cell_type": "code",
   "execution_count": 13,
   "metadata": {},
   "outputs": [],
   "source": [
    "data_folder = os.path.join(os.getcwd(), '..', 'data')\n",
    "data.to_csv(os.path.join(data_folder, 'clean_data.csv'), index=False)"
   ]
  }
 ],
 "metadata": {
  "kernelspec": {
   "display_name": "aqi-PLczhCOw-py3.10",
   "language": "python",
   "name": "python3"
  },
  "language_info": {
   "codemirror_mode": {
    "name": "ipython",
    "version": 3
   },
   "file_extension": ".py",
   "mimetype": "text/x-python",
   "name": "python",
   "nbconvert_exporter": "python",
   "pygments_lexer": "ipython3",
   "version": "3.10.1"
  }
 },
 "nbformat": 4,
 "nbformat_minor": 2
}
