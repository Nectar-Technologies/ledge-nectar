{
 "cells": [
  {
   "cell_type": "markdown",
   "metadata": {},
   "source": [
    "## DESCRIPTION\n",
    "\n",
    "This notebook generates the data and prepares the variables"
   ]
  },
  {
   "cell_type": "markdown",
   "metadata": {},
   "source": [
    "***\n",
    "### SETUP"
   ]
  },
  {
   "cell_type": "markdown",
   "metadata": {},
   "source": [
    "The script common_setup.py is called below.\n",
    "\n",
    "You can modify the script at will if needed (e.g. add new packages, etc.)\n",
    "\n",
    "If you want/need to preprocess the data, modify the flag to RUN_PREPROCESS=True."
   ]
  },
  {
   "cell_type": "code",
   "execution_count": 1,
   "metadata": {},
   "outputs": [],
   "source": [
    "from utils.common_setup import *"
   ]
  },
  {
   "cell_type": "markdown",
   "metadata": {},
   "source": [
    "***\n",
    "### GENERATE DATA"
   ]
  },
  {
   "cell_type": "code",
   "execution_count": null,
   "metadata": {},
   "outputs": [],
   "source": [
    "if RUN_PREPROCESS:\n",
    "    operation_meta = pd.read_csv(os.path.join(ROOT_PATH, \"ops_meta.csv\"))\n",
    "\n",
    "    d = pd.read_csv(os.path.join(ROOT_PATH, \"raw_dev.csv\"))\n",
    "                 \n",
    "    d['death_date'] = pd.to_datetime(d['death_date'], format=\"mixed\")\n",
    "    d['creation_date'] = pd.to_datetime(d['creation_date'], format=\"mixed\")\n",
    "    i = 0\n",
    "    for season in SEASONS_INCLUDED:\n",
    "        for ops_id in d.operation_id.unique():\n",
    "            ops = operation_meta.loc[operation_meta['id']==ops_id]\n",
    "            \n",
    "            season_end = date(season, END_SEASON_MONTH, END_SEASON_DAY)\n",
    "            last_season_end = date(season-1, END_SEASON_MONTH, END_SEASON_DAY)\n",
    "\n",
    "            start_month = ops['season_start_month'].values[0]\n",
    "            start_day = ops['season_start_day'].values[0]\n",
    "            \n",
    "            season_start = date(season,start_month,start_day)\n",
    "            next_season_start = date(season+1,start_month,start_day)\n",
    "        \n",
    "            state_logs = d.loc[d['operation_id']==ops_id]\n",
    "            state_logs[\"death_date\"]= state_logs[\"death_date\"].fillna(next_season_start)\n",
    "            state_logs[\"death_date\"] = pd.to_datetime(state_logs[\"death_date\"]).dt.tz_localize(None)\n",
    "            state_logs[\"creation_date\"] = pd.to_datetime(state_logs[\"creation_date\"]).dt.tz_localize(\n",
    "                None\n",
    "            )\n",
    "           \n",
    "            created_during_season = (state_logs[\"creation_date\"].dt.date < season_end) \n",
    "            # Died after the season start but was alive before\n",
    "            died_after_season_start = state_logs[\"death_date\"].dt.date >= season_start\n",
    "            # Died before the next season \n",
    "            died_before_next_season_start = state_logs[\"death_date\"].dt.date <= next_season_start + timedelta(days=BUFFER)\n",
    "            # Exclude hive created betwween season start and that die before also \n",
    "            didnt_see_summer = ~((state_logs.apply(lambda x: x[\"death_date\"].month in [1, 2, 3, 4, 5] , axis=1)) & (state_logs[\"creation_date\"].dt.date > season_end))\n",
    "        \n",
    "            \n",
    "            subset_state = state_logs.loc[created_during_season & died_after_season_start & died_before_next_season_start & didnt_see_summer]\n",
    "            subset_state['season'] = season\n",
    "            # Also replace death date > then end_of_exp because otherwise bias model (age)\n",
    "            subset_state.loc[pd.to_datetime(subset_state['death_date']).dt.date > next_season_start, 'death_date'] = next_season_start\n",
    "\n",
    "            subset_state['season_start_month'] = start_month \n",
    "            subset_state['season_start_day'] = start_day\n",
    "            \n",
    "            if i == 0:\n",
    "                data = subset_state \n",
    "                i = 1 \n",
    "            else:\n",
    "                data = pd.concat([data,subset_state], axis=0)\n",
    "    data.reset_index(drop=True, inplace=True)\n",
    "    data.to_csv(os.path.join(ROOT_PATH, \"merged_dev.csv\"), index=False)"
   ]
  },
  {
   "cell_type": "markdown",
   "metadata": {},
   "source": [
    "***\n",
    "### LOADING DATA"
   ]
  },
  {
   "cell_type": "code",
   "execution_count": 3,
   "metadata": {},
   "outputs": [],
   "source": [
    "if RUN_PREPROCESS:\n",
    "    aqi = pd.read_csv(os.path.join(ROOT_PATH, \"aqi_dev.csv\"))\n",
    "    weather = pd.read_csv(os.path.join(ROOT_PATH, \"weather_dev.csv\"))\n",
    "    ee = pd.read_csv(os.path.join(ROOT_PATH, \"ee_dev.csv\"))\n",
    "    ee.drop(\"ee-image\", axis=1, inplace=True)\n",
    "    ee.dropna(subset=[\"ndvi\"], inplace=True)\n",
    "    \n",
    "    mov = pd.read_csv(os.path.join(ROOT_PATH, \"mouvements.csv\"))\n",
    "\n",
    "    data = pd.read_csv(os.path.join(ROOT_PATH, \"merged_dev.csv\"))\n",
    "else:\n",
    "    data = pd.read_csv(os.path.join(ROOT_PATH, \"preprocess.csv\"))\n",
    "data['death_date'] = pd.to_datetime(data['death_date'], format='mixed')\n",
    "data = data.loc[data['season'].isin(SEASONS_INCLUDED)]"
   ]
  },
  {
   "cell_type": "markdown",
   "metadata": {},
   "source": [
    "***\n",
    "### DATA INSPECTION"
   ]
  },
  {
   "cell_type": "code",
   "execution_count": 4,
   "metadata": {},
   "outputs": [],
   "source": [
    "if RUN_PREPROCESS:\n",
    "    print(weather.isnull().mean())\n",
    "# For some reason atmost pressure is not getting scrapped "
   ]
  },
  {
   "cell_type": "code",
   "execution_count": 5,
   "metadata": {},
   "outputs": [],
   "source": [
    "if RUN_PREPROCESS:\n",
    "    print(aqi.isnull().mean())"
   ]
  },
  {
   "cell_type": "code",
   "execution_count": 6,
   "metadata": {},
   "outputs": [],
   "source": [
    "if RUN_PREPROCESS:\n",
    "    print(ee.isnull().mean())\n",
    "# 2023 is null , need to update for simulations later..."
   ]
  },
  {
   "cell_type": "code",
   "execution_count": 7,
   "metadata": {},
   "outputs": [],
   "source": [
    "if RUN_PREPROCESS:\n",
    "    print(ee.head())"
   ]
  },
  {
   "cell_type": "markdown",
   "metadata": {},
   "source": [
    "Add creation date and death date"
   ]
  },
  {
   "cell_type": "code",
   "execution_count": 8,
   "metadata": {},
   "outputs": [],
   "source": [
    "if RUN_PREPROCESS:\n",
    "    data['creation_date'] = pd.to_datetime(data['creation_date'], format='mixed').dt.date\n",
    "    data['death_date']= pd.to_datetime(data['death_date']).dt.date"
   ]
  },
  {
   "cell_type": "code",
   "execution_count": 9,
   "metadata": {},
   "outputs": [],
   "source": [
    "if RUN_PREPROCESS:\n",
    "    print(Counter(data.hive_identity_id.value_counts()))\n",
    "# Meaning that 16 632 hives are present in two season while 38405 are only in one season "
   ]
  },
  {
   "cell_type": "markdown",
   "metadata": {},
   "source": [
    "Label creation (based on season start end)"
   ]
  },
  {
   "cell_type": "code",
   "execution_count": 10,
   "metadata": {},
   "outputs": [],
   "source": [
    "if RUN_PREPROCESS:\n",
    "    \n",
    "    def get_state_for_season(state_log):\n",
    "        \n",
    "        return state_log.apply(\n",
    "            lambda x: (x['death_date'] + timedelta(days=BUFFER)) <= date(x['season'] + 1, x['season_start_month'], x['season_start_day']),\n",
    "            axis=1\n",
    "        )\n",
    "    \n",
    "    def get_age_for_season(state_log):\n",
    "        return state_log.apply(\n",
    "            lambda x : abs((x['death_date'] - x['creation_date']).days),\n",
    "            axis=1\n",
    "        )\n",
    "    \n",
    "    data['death_next_season'] = get_state_for_season(data)\n",
    "    data['hive_age_next_season'] = get_age_for_season(data)"
   ]
  },
  {
   "cell_type": "code",
   "execution_count": 13,
   "metadata": {},
   "outputs": [
    {
     "data": {
      "text/plain": [
       "0.355"
      ]
     },
     "execution_count": 13,
     "metadata": {},
     "output_type": "execute_result"
    }
   ],
   "source": [
    "round(data['death_next_season'].mean(), 3)"
   ]
  },
  {
   "cell_type": "markdown",
   "metadata": {},
   "source": [
    "Column types"
   ]
  },
  {
   "cell_type": "code",
   "execution_count": 14,
   "metadata": {},
   "outputs": [
    {
     "data": {
      "text/plain": [
       "hid                              int64\n",
       "creation_date                   object\n",
       "operation_id                     int64\n",
       "death_date              datetime64[ns]\n",
       "season                           int64\n",
       "season_start_month               int64\n",
       "season_start_day                 int64\n",
       "death_next_season                 bool\n",
       "hive_age_next_season             int64\n",
       "aqhi_average                   float64\n",
       "prcp_average                   float64\n",
       "wspd_average                   float64\n",
       "ndvi_average                   float64\n",
       "tavg_average                   float64\n",
       "o3_average                     float64\n",
       "aqhi_skew                      float64\n",
       "prcp_skew                      float64\n",
       "wspd_skew                      float64\n",
       "ndvi_skew                      float64\n",
       "tavg_skew                      float64\n",
       "o3_skew                        float64\n",
       "aqhi_max                       float64\n",
       "prcp_max                       float64\n",
       "wspd_max                       float64\n",
       "ndvi_max                       float64\n",
       "tavg_max                       float64\n",
       "o3_max                         float64\n",
       "region                          object\n",
       "dtype: object"
      ]
     },
     "execution_count": 14,
     "metadata": {},
     "output_type": "execute_result"
    }
   ],
   "source": [
    "data.dtypes"
   ]
  },
  {
   "cell_type": "markdown",
   "metadata": {},
   "source": [
    "Sample size per operation ID"
   ]
  },
  {
   "cell_type": "code",
   "execution_count": 15,
   "metadata": {},
   "outputs": [
    {
     "data": {
      "text/plain": [
       "operation_id\n",
       "193    41419\n",
       "69     28613\n",
       "153    19587\n",
       "55     12354\n",
       "167     7157\n",
       "161     6881\n",
       "87      5658\n",
       "207     3613\n",
       "177     1941\n",
       "210     1610\n",
       "195     1298\n",
       "194      853\n",
       "220      612\n",
       "212      553\n",
       "219      341\n",
       "160      314\n",
       "224      251\n",
       "159      215\n",
       "205      194\n",
       "83       115\n",
       "204        5\n",
       "Name: count, dtype: int64"
      ]
     },
     "execution_count": 15,
     "metadata": {},
     "output_type": "execute_result"
    }
   ],
   "source": [
    "data.operation_id.value_counts()"
   ]
  },
  {
   "cell_type": "markdown",
   "metadata": {},
   "source": [
    "Season sample size"
   ]
  },
  {
   "cell_type": "code",
   "execution_count": 16,
   "metadata": {},
   "outputs": [
    {
     "data": {
      "text/plain": [
       "season\n",
       "2023    102475\n",
       "2022     24403\n",
       "2021      6706\n",
       "Name: count, dtype: int64"
      ]
     },
     "execution_count": 16,
     "metadata": {},
     "output_type": "execute_result"
    }
   ],
   "source": [
    "data.season.value_counts()"
   ]
  },
  {
   "cell_type": "markdown",
   "metadata": {},
   "source": [
    "BAD OPS in 2021-2022"
   ]
  },
  {
   "cell_type": "code",
   "execution_count": 17,
   "metadata": {},
   "outputs": [],
   "source": [
    "if RUN_PREPROCESS:\n",
    "    data = data.loc[~((data['operation_id'] == 51) & (data['season']==2021))]\n",
    "    data = data.loc[~((data['operation_id'] == 87) & (data['season']==2021))]\n",
    "    data = data.loc[~((data['operation_id']== 167) & (data['season']==2022))]"
   ]
  },
  {
   "cell_type": "markdown",
   "metadata": {},
   "source": [
    "Average deaths and ages at next season by operation ID and season"
   ]
  },
  {
   "cell_type": "code",
   "execution_count": 18,
   "metadata": {},
   "outputs": [
    {
     "data": {
      "text/html": [
       "<div>\n",
       "<style scoped>\n",
       "    .dataframe tbody tr th:only-of-type {\n",
       "        vertical-align: middle;\n",
       "    }\n",
       "\n",
       "    .dataframe tbody tr th {\n",
       "        vertical-align: top;\n",
       "    }\n",
       "\n",
       "    .dataframe thead th {\n",
       "        text-align: right;\n",
       "    }\n",
       "</style>\n",
       "<table border=\"1\" class=\"dataframe\">\n",
       "  <thead>\n",
       "    <tr style=\"text-align: right;\">\n",
       "      <th></th>\n",
       "      <th></th>\n",
       "      <th>death_next_season</th>\n",
       "      <th>hive_age_next_season</th>\n",
       "    </tr>\n",
       "    <tr>\n",
       "      <th>season</th>\n",
       "      <th>operation_id</th>\n",
       "      <th></th>\n",
       "      <th></th>\n",
       "    </tr>\n",
       "  </thead>\n",
       "  <tbody>\n",
       "    <tr>\n",
       "      <th rowspan=\"3\" valign=\"top\">2021</th>\n",
       "      <th>55</th>\n",
       "      <td>0.316870</td>\n",
       "      <td>303.664862</td>\n",
       "    </tr>\n",
       "    <tr>\n",
       "      <th>69</th>\n",
       "      <td>0.778855</td>\n",
       "      <td>352.086344</td>\n",
       "    </tr>\n",
       "    <tr>\n",
       "      <th>83</th>\n",
       "      <td>0.000000</td>\n",
       "      <td>277.000000</td>\n",
       "    </tr>\n",
       "    <tr>\n",
       "      <th rowspan=\"9\" valign=\"top\">2022</th>\n",
       "      <th>55</th>\n",
       "      <td>0.189252</td>\n",
       "      <td>530.274366</td>\n",
       "    </tr>\n",
       "    <tr>\n",
       "      <th>69</th>\n",
       "      <td>0.458318</td>\n",
       "      <td>357.938778</td>\n",
       "    </tr>\n",
       "    <tr>\n",
       "      <th>83</th>\n",
       "      <td>0.823529</td>\n",
       "      <td>336.882353</td>\n",
       "    </tr>\n",
       "    <tr>\n",
       "      <th>87</th>\n",
       "      <td>0.678105</td>\n",
       "      <td>256.837119</td>\n",
       "    </tr>\n",
       "    <tr>\n",
       "      <th>153</th>\n",
       "      <td>0.170213</td>\n",
       "      <td>371.130785</td>\n",
       "    </tr>\n",
       "    <tr>\n",
       "      <th>159</th>\n",
       "      <td>0.525000</td>\n",
       "      <td>258.187500</td>\n",
       "    </tr>\n",
       "    <tr>\n",
       "      <th>160</th>\n",
       "      <td>0.333333</td>\n",
       "      <td>251.757576</td>\n",
       "    </tr>\n",
       "    <tr>\n",
       "      <th>161</th>\n",
       "      <td>0.376853</td>\n",
       "      <td>181.977765</td>\n",
       "    </tr>\n",
       "    <tr>\n",
       "      <th>177</th>\n",
       "      <td>0.005089</td>\n",
       "      <td>93.740458</td>\n",
       "    </tr>\n",
       "    <tr>\n",
       "      <th rowspan=\"21\" valign=\"top\">2023</th>\n",
       "      <th>55</th>\n",
       "      <td>0.379773</td>\n",
       "      <td>679.800366</td>\n",
       "    </tr>\n",
       "    <tr>\n",
       "      <th>69</th>\n",
       "      <td>0.608972</td>\n",
       "      <td>503.032304</td>\n",
       "    </tr>\n",
       "    <tr>\n",
       "      <th>83</th>\n",
       "      <td>0.155556</td>\n",
       "      <td>743.111111</td>\n",
       "    </tr>\n",
       "    <tr>\n",
       "      <th>87</th>\n",
       "      <td>0.361939</td>\n",
       "      <td>373.476734</td>\n",
       "    </tr>\n",
       "    <tr>\n",
       "      <th>153</th>\n",
       "      <td>0.189475</td>\n",
       "      <td>533.823926</td>\n",
       "    </tr>\n",
       "    <tr>\n",
       "      <th>159</th>\n",
       "      <td>0.629630</td>\n",
       "      <td>372.288889</td>\n",
       "    </tr>\n",
       "    <tr>\n",
       "      <th>160</th>\n",
       "      <td>0.612903</td>\n",
       "      <td>417.487903</td>\n",
       "    </tr>\n",
       "    <tr>\n",
       "      <th>161</th>\n",
       "      <td>0.112736</td>\n",
       "      <td>439.982446</td>\n",
       "    </tr>\n",
       "    <tr>\n",
       "      <th>167</th>\n",
       "      <td>0.387453</td>\n",
       "      <td>188.097527</td>\n",
       "    </tr>\n",
       "    <tr>\n",
       "      <th>177</th>\n",
       "      <td>0.172294</td>\n",
       "      <td>379.661472</td>\n",
       "    </tr>\n",
       "    <tr>\n",
       "      <th>193</th>\n",
       "      <td>0.332867</td>\n",
       "      <td>271.111881</td>\n",
       "    </tr>\n",
       "    <tr>\n",
       "      <th>194</th>\n",
       "      <td>0.051583</td>\n",
       "      <td>154.887456</td>\n",
       "    </tr>\n",
       "    <tr>\n",
       "      <th>195</th>\n",
       "      <td>0.057011</td>\n",
       "      <td>162.412943</td>\n",
       "    </tr>\n",
       "    <tr>\n",
       "      <th>204</th>\n",
       "      <td>0.800000</td>\n",
       "      <td>237.200000</td>\n",
       "    </tr>\n",
       "    <tr>\n",
       "      <th>205</th>\n",
       "      <td>0.005155</td>\n",
       "      <td>203.247423</td>\n",
       "    </tr>\n",
       "    <tr>\n",
       "      <th>207</th>\n",
       "      <td>0.450872</td>\n",
       "      <td>129.685026</td>\n",
       "    </tr>\n",
       "    <tr>\n",
       "      <th>210</th>\n",
       "      <td>0.075155</td>\n",
       "      <td>243.935404</td>\n",
       "    </tr>\n",
       "    <tr>\n",
       "      <th>212</th>\n",
       "      <td>0.602170</td>\n",
       "      <td>101.043400</td>\n",
       "    </tr>\n",
       "    <tr>\n",
       "      <th>219</th>\n",
       "      <td>0.067449</td>\n",
       "      <td>97.475073</td>\n",
       "    </tr>\n",
       "    <tr>\n",
       "      <th>220</th>\n",
       "      <td>0.302288</td>\n",
       "      <td>183.339869</td>\n",
       "    </tr>\n",
       "    <tr>\n",
       "      <th>224</th>\n",
       "      <td>0.000000</td>\n",
       "      <td>178.940239</td>\n",
       "    </tr>\n",
       "  </tbody>\n",
       "</table>\n",
       "</div>"
      ],
      "text/plain": [
       "                     death_next_season  hive_age_next_season\n",
       "season operation_id                                         \n",
       "2021   55                     0.316870            303.664862\n",
       "       69                     0.778855            352.086344\n",
       "       83                     0.000000            277.000000\n",
       "2022   55                     0.189252            530.274366\n",
       "       69                     0.458318            357.938778\n",
       "       83                     0.823529            336.882353\n",
       "       87                     0.678105            256.837119\n",
       "       153                    0.170213            371.130785\n",
       "       159                    0.525000            258.187500\n",
       "       160                    0.333333            251.757576\n",
       "       161                    0.376853            181.977765\n",
       "       177                    0.005089             93.740458\n",
       "2023   55                     0.379773            679.800366\n",
       "       69                     0.608972            503.032304\n",
       "       83                     0.155556            743.111111\n",
       "       87                     0.361939            373.476734\n",
       "       153                    0.189475            533.823926\n",
       "       159                    0.629630            372.288889\n",
       "       160                    0.612903            417.487903\n",
       "       161                    0.112736            439.982446\n",
       "       167                    0.387453            188.097527\n",
       "       177                    0.172294            379.661472\n",
       "       193                    0.332867            271.111881\n",
       "       194                    0.051583            154.887456\n",
       "       195                    0.057011            162.412943\n",
       "       204                    0.800000            237.200000\n",
       "       205                    0.005155            203.247423\n",
       "       207                    0.450872            129.685026\n",
       "       210                    0.075155            243.935404\n",
       "       212                    0.602170            101.043400\n",
       "       219                    0.067449             97.475073\n",
       "       220                    0.302288            183.339869\n",
       "       224                    0.000000            178.940239"
      ]
     },
     "execution_count": 18,
     "metadata": {},
     "output_type": "execute_result"
    }
   ],
   "source": [
    "data.drop(['death_date', 'creation_date'], axis=1) \\\n",
    "    .groupby(['season', 'operation_id']) \\\n",
    "    .mean(numeric_only=True)[['death_next_season', 'hive_age_next_season']]"
   ]
  },
  {
   "cell_type": "code",
   "execution_count": 21,
   "metadata": {},
   "outputs": [
    {
     "data": {
      "text/plain": [
       "133584"
      ]
     },
     "execution_count": 21,
     "metadata": {},
     "output_type": "execute_result"
    }
   ],
   "source": [
    "len(data)"
   ]
  },
  {
   "cell_type": "code",
   "execution_count": 22,
   "metadata": {},
   "outputs": [
    {
     "data": {
      "text/plain": [
       "hid                     0.000000\n",
       "creation_date           0.000000\n",
       "operation_id            0.000000\n",
       "death_date              0.000000\n",
       "season                  0.000000\n",
       "season_start_month      0.000000\n",
       "season_start_day        0.000000\n",
       "death_next_season       0.000000\n",
       "hive_age_next_season    0.000000\n",
       "aqhi_average            0.072524\n",
       "prcp_average            0.072524\n",
       "wspd_average            0.072524\n",
       "ndvi_average            0.072524\n",
       "tavg_average            0.072524\n",
       "o3_average              0.072524\n",
       "aqhi_skew               0.076431\n",
       "prcp_skew               0.079680\n",
       "wspd_skew               0.076109\n",
       "ndvi_skew               0.076050\n",
       "tavg_skew               0.076124\n",
       "o3_skew                 0.076042\n",
       "aqhi_max                0.072524\n",
       "prcp_max                0.072524\n",
       "wspd_max                0.072524\n",
       "ndvi_max                0.072524\n",
       "tavg_max                0.072524\n",
       "o3_max                  0.072524\n",
       "region                  0.000000\n",
       "dtype: float64"
      ]
     },
     "execution_count": 22,
     "metadata": {},
     "output_type": "execute_result"
    }
   ],
   "source": [
    "data.isnull().mean()"
   ]
  },
  {
   "cell_type": "markdown",
   "metadata": {},
   "source": [
    "***\n",
    "### FEATURE ENGINEERING"
   ]
  },
  {
   "cell_type": "markdown",
   "metadata": {},
   "source": [
    "### From mouvements to sensors data\n",
    "\n",
    "- Idea is to get the location of the hive at time X between June 1^st^ and August 31 \n",
    "- Once we have that info, we simply do statistics on the sequence "
   ]
  },
  {
   "cell_type": "code",
   "execution_count": null,
   "metadata": {},
   "outputs": [],
   "source": [
    "if RUN_PREPROCESS:\n",
    "    mov = mov[mov['hive_identity_id'].isin(list(data.hive_identity_id.unique()))].reset_index(drop=True)"
   ]
  },
  {
   "cell_type": "code",
   "execution_count": 23,
   "metadata": {},
   "outputs": [],
   "source": [
    "if RUN_PREPROCESS:\n",
    "    # WARNING THIS TAKES A WHILE (15-30 minutes...or so)\n",
    "    mov = (\n",
    "        mov.assign(\n",
    "            time=[pd.date_range(start, end) for start, end in zip(mov['from_when'], mov['to_when'])]\n",
    "        )\n",
    "        .explode('time', ignore_index=True)\n",
    "    )"
   ]
  },
  {
   "cell_type": "code",
   "execution_count": null,
   "metadata": {},
   "outputs": [],
   "source": [
    "if RUN_PREPROCESS:\n",
    "    mov['time'] = pd.to_datetime(mov['time']).dt.date\n",
    "    mov = mov.loc[pd.to_datetime(mov['time']).dt.month.isin(FEATURES_MONTH)].reset_index(drop=True)"
   ]
  },
  {
   "cell_type": "code",
   "execution_count": 24,
   "metadata": {},
   "outputs": [],
   "source": [
    "if RUN_PREPROCESS:\n",
    "    merged = pd.merge(mov, aqi, on=[\"yard_id\", \"time\"], how=\"left\")\n",
    "    merged = pd.merge(merged, weather, on=[\"yard_id\", \"time\"], how=\"left\")\n",
    "    merged = pd.merge(merged, ee, on=[\"yard_id\", \"time\"], how=\"left\")\n",
    "    merged.sort_values(\"time\", ascending=True, inplace=True)\n",
    "    # Keep value constant if no change \n",
    "    merged.fillna(method=\"bfill\", inplace=True)\n",
    "    \n",
    "    merged.head()"
   ]
  },
  {
   "cell_type": "code",
   "execution_count": 25,
   "metadata": {},
   "outputs": [],
   "source": [
    "if RUN_PREPROCESS:\n",
    "    merged.isnull().mean()"
   ]
  },
  {
   "cell_type": "markdown",
   "metadata": {},
   "source": [
    "TSun and Wdir high null, just ignore them "
   ]
  },
  {
   "cell_type": "code",
   "execution_count": 26,
   "metadata": {},
   "outputs": [],
   "source": [
    "if RUN_PREPROCESS:\n",
    "    merged.drop(['tsun', 'wdir'], axis=1, inplace=True)"
   ]
  },
  {
   "cell_type": "markdown",
   "metadata": {},
   "source": [
    "### Compute stats for each hid"
   ]
  },
  {
   "cell_type": "code",
   "execution_count": 27,
   "metadata": {},
   "outputs": [],
   "source": [
    "if RUN_PREPROCESS:\n",
    "    merged['season'] = pd.to_datetime(merged['time']).dt.year"
   ]
  },
  {
   "cell_type": "code",
   "execution_count": 28,
   "metadata": {},
   "outputs": [],
   "source": [
    "if RUN_PREPROCESS:\n",
    "    # This takes 10 min or so locally\n",
    "    # merged['month'] = pd.to_datetime(merged['time']).dt.month\n",
    "    \n",
    "    averages = (\n",
    "        merged\n",
    "        .drop(['from_when', 'to_when', 'time', 'submitted_at'], axis=1, errors=\"ignore\")\n",
    "        .groupby([\"hive_identity_id\", \"season\"])\n",
    "        .mean()\n",
    "        .reset_index()\n",
    "    )\n",
    "    \n",
    "    skewed = (\n",
    "        merged\n",
    "        .drop(['from_when', 'to_when', 'time', 'submitted_at'], axis=1, errors=\"ignore\")\n",
    "        .groupby([\"hive_identity_id\", \"season\"])\n",
    "        .agg(lambda x: skew(x))\n",
    "        .reset_index()\n",
    "    )\n",
    "    \n",
    "    maxed = (\n",
    "        merged\n",
    "        .drop(['from_when', 'to_when', 'time', 'submitted_at'], axis=1, errors=\"ignore\")\n",
    "        .groupby([\"hive_identity_id\", \"season\"])\n",
    "        .max()\n",
    "        .reset_index()\n",
    "    )\n",
    "    \n",
    "    mode = (\n",
    "        merged\n",
    "        .drop(['from_when', 'to_when', 'time', 'submitted_at'], axis=1, errors=\"ignore\")\n",
    "        .groupby([\"hive_identity_id\", \"season\"])\n",
    "        .mode()\n",
    "        .reset_index()\n",
    "    )"
   ]
  },
  {
   "cell_type": "code",
   "execution_count": null,
   "metadata": {},
   "outputs": [],
   "source": [
    "if RUN_PREPROCESS:\n",
    "    averages.rename(\n",
    "        columns={\n",
    "            \"aqhi\": \"aqhi_average\",\n",
    "            \"prcp\": \"prcp_average\",\n",
    "            \"wspd\": \"wspd_average\",\n",
    "            \"ndvi\": \"ndvi_average\",\n",
    "            \"tavg\": \"tavg_average\",\n",
    "            \"o3\": \"o3_average\",\n",
    "            \"hive_identity_id\": \"hid\"\n",
    "        },\n",
    "        inplace=True\n",
    "    )\n",
    "    \n",
    "    skewed.rename(\n",
    "        columns={\n",
    "            \"aqhi\": \"aqhi_skew\",\n",
    "            \"prcp\": \"prcp_skew\",\n",
    "            \"wspd\": \"wspd_skew\",\n",
    "            \"ndvi\": \"ndvi_skew\",\n",
    "            \"tavg\": \"tavg_skew\",\n",
    "            \"o3\": \"o3_skew\",\n",
    "            \"hive_identity_id\": \"hid\"\n",
    "        },\n",
    "        inplace=True\n",
    "    )\n",
    "    \n",
    "    maxed.rename(\n",
    "        columns={\n",
    "            \"aqhi\": \"aqhi_max\",\n",
    "            \"prcp\": \"prcp_max\",\n",
    "            \"wspd\": \"wspd_max\",\n",
    "            \"ndvi\": \"ndvi_max\",\n",
    "            \"tavg\": \"tavg_max\",\n",
    "            \"o3\": \"o3_max\",\n",
    "            \"hive_identity_id\": \"hid\"\n",
    "        },\n",
    "        inplace=True\n",
    "    )\n",
    "\n",
    "    # Uncomment if needed\n",
    "    # mode.rename(\n",
    "    #     columns={\n",
    "    #         \"aqhi\": \"aqhi_max\",\n",
    "    #         \"prcp\": \"prcp_max\",\n",
    "    #         \"wspd\": \"wspd_max\",\n",
    "    #         \"ndvi\": \"ndvi_max\",\n",
    "    #         \"tavg\": \"tavg_max\",\n",
    "    #         \"o3\": \"o3_max\",\n",
    "    #         \"hive_identity_id\": \"hid\"\n",
    "    #     },\n",
    "    #     inplace=True\n",
    "    # )"
   ]
  },
  {
   "cell_type": "code",
   "execution_count": null,
   "metadata": {},
   "outputs": [],
   "source": [
    "if RUN_PREPROCESS:\n",
    "    data.rename(columns={\"hive_identity_id\":\"hid\"}, inplace=True)"
   ]
  },
  {
   "cell_type": "markdown",
   "metadata": {},
   "source": [
    "### Bring remote sensors with season state (merge)"
   ]
  },
  {
   "cell_type": "code",
   "execution_count": null,
   "metadata": {},
   "outputs": [],
   "source": [
    "if RUN_PREPROCESS:\n",
    "    print(len(data))\n",
    "    \n",
    "    data = pd.merge(\n",
    "        data,\n",
    "        averages[['season', 'hid', 'aqhi_average', 'prcp_average', 'wspd_average',\n",
    "                  'ndvi_average', 'tavg_average', 'o3_average']],\n",
    "        on=[\"season\", \"hid\"],\n",
    "        how=\"left\"\n",
    "    )\n",
    "    print(len(data))\n",
    "    \n",
    "    data = pd.merge(\n",
    "        data,\n",
    "        skewed[['season', 'hid', 'aqhi_skew', 'prcp_skew', 'wspd_skew',\n",
    "                'ndvi_skew', 'tavg_skew', 'o3_skew']],\n",
    "        on=[\"season\", \"hid\"],\n",
    "        how=\"left\"\n",
    "    )\n",
    "    print(len(data))\n",
    "    \n",
    "    data = pd.merge(\n",
    "        data,\n",
    "        maxed[['season', 'hid', 'aqhi_max', 'prcp_max', 'wspd_max',\n",
    "               'ndvi_max', 'tavg_max', 'o3_max']],\n",
    "        on=[\"season\", \"hid\"],\n",
    "        how=\"left\"\n",
    "    )\n",
    "    print(len(data))\n",
    "    \n",
    "    # Uncomment if needed\n",
    "    # data = pd.merge(\n",
    "    #     data,\n",
    "    #     mode[['season', 'hid', 'aqhi_max', 'prcp_max', 'wspd_max',\n",
    "    #           'ndvi_max', 'tavg_max', 'o3_max']],\n",
    "    #     on=[\"season\", \"hid\"],\n",
    "    #     how=\"left\"\n",
    "    # )"
   ]
  },
  {
   "cell_type": "code",
   "execution_count": 29,
   "metadata": {},
   "outputs": [
    {
     "data": {
      "text/html": [
       "<div>\n",
       "<style scoped>\n",
       "    .dataframe tbody tr th:only-of-type {\n",
       "        vertical-align: middle;\n",
       "    }\n",
       "\n",
       "    .dataframe tbody tr th {\n",
       "        vertical-align: top;\n",
       "    }\n",
       "\n",
       "    .dataframe thead th {\n",
       "        text-align: right;\n",
       "    }\n",
       "</style>\n",
       "<table border=\"1\" class=\"dataframe\">\n",
       "  <thead>\n",
       "    <tr style=\"text-align: right;\">\n",
       "      <th></th>\n",
       "      <th>hid</th>\n",
       "      <th>creation_date</th>\n",
       "      <th>operation_id</th>\n",
       "      <th>death_date</th>\n",
       "      <th>season</th>\n",
       "      <th>season_start_month</th>\n",
       "      <th>season_start_day</th>\n",
       "      <th>death_next_season</th>\n",
       "      <th>hive_age_next_season</th>\n",
       "      <th>aqhi_average</th>\n",
       "      <th>...</th>\n",
       "      <th>ndvi_skew</th>\n",
       "      <th>tavg_skew</th>\n",
       "      <th>o3_skew</th>\n",
       "      <th>aqhi_max</th>\n",
       "      <th>prcp_max</th>\n",
       "      <th>wspd_max</th>\n",
       "      <th>ndvi_max</th>\n",
       "      <th>tavg_max</th>\n",
       "      <th>o3_max</th>\n",
       "      <th>region</th>\n",
       "    </tr>\n",
       "  </thead>\n",
       "  <tbody>\n",
       "    <tr>\n",
       "      <th>0</th>\n",
       "      <td>36865</td>\n",
       "      <td>2021-09-20</td>\n",
       "      <td>55</td>\n",
       "      <td>2022-05-14</td>\n",
       "      <td>2021</td>\n",
       "      <td>5</td>\n",
       "      <td>14</td>\n",
       "      <td>False</td>\n",
       "      <td>236</td>\n",
       "      <td>NaN</td>\n",
       "      <td>...</td>\n",
       "      <td>NaN</td>\n",
       "      <td>NaN</td>\n",
       "      <td>NaN</td>\n",
       "      <td>NaN</td>\n",
       "      <td>NaN</td>\n",
       "      <td>NaN</td>\n",
       "      <td>NaN</td>\n",
       "      <td>NaN</td>\n",
       "      <td>NaN</td>\n",
       "      <td>QC</td>\n",
       "    </tr>\n",
       "    <tr>\n",
       "      <th>1</th>\n",
       "      <td>16649</td>\n",
       "      <td>2021-05-19</td>\n",
       "      <td>55</td>\n",
       "      <td>2022-05-14</td>\n",
       "      <td>2021</td>\n",
       "      <td>5</td>\n",
       "      <td>14</td>\n",
       "      <td>False</td>\n",
       "      <td>360</td>\n",
       "      <td>2.533632</td>\n",
       "      <td>...</td>\n",
       "      <td>0.297063</td>\n",
       "      <td>-0.510858</td>\n",
       "      <td>0.687366</td>\n",
       "      <td>6.0</td>\n",
       "      <td>34.6</td>\n",
       "      <td>25.0</td>\n",
       "      <td>0.460514</td>\n",
       "      <td>26.7</td>\n",
       "      <td>104.845833</td>\n",
       "      <td>QC</td>\n",
       "    </tr>\n",
       "    <tr>\n",
       "      <th>2</th>\n",
       "      <td>14267</td>\n",
       "      <td>2021-05-08</td>\n",
       "      <td>55</td>\n",
       "      <td>2022-05-14</td>\n",
       "      <td>2021</td>\n",
       "      <td>5</td>\n",
       "      <td>14</td>\n",
       "      <td>False</td>\n",
       "      <td>371</td>\n",
       "      <td>2.602740</td>\n",
       "      <td>...</td>\n",
       "      <td>0.216794</td>\n",
       "      <td>-0.395353</td>\n",
       "      <td>0.657954</td>\n",
       "      <td>6.0</td>\n",
       "      <td>34.6</td>\n",
       "      <td>25.0</td>\n",
       "      <td>0.449957</td>\n",
       "      <td>27.2</td>\n",
       "      <td>104.845833</td>\n",
       "      <td>QC</td>\n",
       "    </tr>\n",
       "    <tr>\n",
       "      <th>3</th>\n",
       "      <td>16020</td>\n",
       "      <td>2021-05-17</td>\n",
       "      <td>55</td>\n",
       "      <td>2022-05-14</td>\n",
       "      <td>2021</td>\n",
       "      <td>5</td>\n",
       "      <td>14</td>\n",
       "      <td>False</td>\n",
       "      <td>362</td>\n",
       "      <td>2.580488</td>\n",
       "      <td>...</td>\n",
       "      <td>0.301466</td>\n",
       "      <td>-0.454580</td>\n",
       "      <td>0.719820</td>\n",
       "      <td>6.0</td>\n",
       "      <td>34.6</td>\n",
       "      <td>25.0</td>\n",
       "      <td>0.460514</td>\n",
       "      <td>26.7</td>\n",
       "      <td>104.845833</td>\n",
       "      <td>QC</td>\n",
       "    </tr>\n",
       "    <tr>\n",
       "      <th>4</th>\n",
       "      <td>16923</td>\n",
       "      <td>2021-05-25</td>\n",
       "      <td>55</td>\n",
       "      <td>2022-05-14</td>\n",
       "      <td>2021</td>\n",
       "      <td>5</td>\n",
       "      <td>14</td>\n",
       "      <td>False</td>\n",
       "      <td>354</td>\n",
       "      <td>1.946341</td>\n",
       "      <td>...</td>\n",
       "      <td>0.233874</td>\n",
       "      <td>-0.134386</td>\n",
       "      <td>0.669923</td>\n",
       "      <td>5.0</td>\n",
       "      <td>34.6</td>\n",
       "      <td>25.0</td>\n",
       "      <td>0.477245</td>\n",
       "      <td>26.7</td>\n",
       "      <td>88.303750</td>\n",
       "      <td>QC</td>\n",
       "    </tr>\n",
       "  </tbody>\n",
       "</table>\n",
       "<p>5 rows × 28 columns</p>\n",
       "</div>"
      ],
      "text/plain": [
       "     hid creation_date  operation_id death_date  season  season_start_month  \\\n",
       "0  36865    2021-09-20            55 2022-05-14    2021                   5   \n",
       "1  16649    2021-05-19            55 2022-05-14    2021                   5   \n",
       "2  14267    2021-05-08            55 2022-05-14    2021                   5   \n",
       "3  16020    2021-05-17            55 2022-05-14    2021                   5   \n",
       "4  16923    2021-05-25            55 2022-05-14    2021                   5   \n",
       "\n",
       "   season_start_day  death_next_season  hive_age_next_season  aqhi_average  \\\n",
       "0                14              False                   236           NaN   \n",
       "1                14              False                   360      2.533632   \n",
       "2                14              False                   371      2.602740   \n",
       "3                14              False                   362      2.580488   \n",
       "4                14              False                   354      1.946341   \n",
       "\n",
       "   ...  ndvi_skew  tavg_skew   o3_skew  aqhi_max  prcp_max  wspd_max  \\\n",
       "0  ...        NaN        NaN       NaN       NaN       NaN       NaN   \n",
       "1  ...   0.297063  -0.510858  0.687366       6.0      34.6      25.0   \n",
       "2  ...   0.216794  -0.395353  0.657954       6.0      34.6      25.0   \n",
       "3  ...   0.301466  -0.454580  0.719820       6.0      34.6      25.0   \n",
       "4  ...   0.233874  -0.134386  0.669923       5.0      34.6      25.0   \n",
       "\n",
       "   ndvi_max  tavg_max      o3_max  region  \n",
       "0       NaN       NaN         NaN      QC  \n",
       "1  0.460514      26.7  104.845833      QC  \n",
       "2  0.449957      27.2  104.845833      QC  \n",
       "3  0.460514      26.7  104.845833      QC  \n",
       "4  0.477245      26.7   88.303750      QC  \n",
       "\n",
       "[5 rows x 28 columns]"
      ]
     },
     "execution_count": 29,
     "metadata": {},
     "output_type": "execute_result"
    }
   ],
   "source": [
    "data.head()"
   ]
  },
  {
   "cell_type": "code",
   "execution_count": 30,
   "metadata": {},
   "outputs": [
    {
     "data": {
      "text/plain": [
       "133584"
      ]
     },
     "execution_count": 30,
     "metadata": {},
     "output_type": "execute_result"
    }
   ],
   "source": [
    "len(data)"
   ]
  },
  {
   "cell_type": "markdown",
   "metadata": {},
   "source": [
    "### Add region"
   ]
  },
  {
   "cell_type": "code",
   "execution_count": 32,
   "metadata": {},
   "outputs": [],
   "source": [
    "# if RUN_PREPROCESS:\n",
    "operation_meta = pd.read_csv(os.path.join(ROOT_PATH,\"ops_meta_loc.csv\"))\n",
    "operation_meta.index = operation_meta['Operation ID']\n",
    "regions = operation_meta.to_dict(orient=\"dict\")['Location']"
   ]
  },
  {
   "cell_type": "code",
   "execution_count": 33,
   "metadata": {},
   "outputs": [
    {
     "data": {
      "text/plain": [
       "{193: 'Woodland, CA',\n",
       " 192: 'Jennings, LA',\n",
       " 69: 'Hay Lakes, AB',\n",
       " 84: 'Turtle Lake, ND',\n",
       " 167: 'Billerica, MA',\n",
       " 55: 'Mirabel, QC',\n",
       " 153: 'Coaldale, AB',\n",
       " 51: 'Naches, WA',\n",
       " 207: 'Myakka, FL',\n",
       " 161: 'Saint-Sylvestre, QC',\n",
       " 194: 'Worland, WY',\n",
       " 87: 'Peace River, AB',\n",
       " 208: 'Arbuckle, CA',\n",
       " 210: 'Saint-Stanislas-de-Kostka, QC',\n",
       " 160: 'Stewiacke, NS',\n",
       " 195: 'Palo Cedro, CA',\n",
       " 199: 'Hillsboro, KS',\n",
       " 205: 'Fort Vermilion, AB',\n",
       " 212: 'Chateaugay, NY',\n",
       " 36: 'Spokane, WA',\n",
       " 218: 'Youngsville, LA',\n",
       " 45: 'Newcastle, CA',\n",
       " 177: 'Jamestown, ND',\n",
       " 159: 'Sherbrooke, QC',\n",
       " 83: 'Montreal, QC'}"
      ]
     },
     "execution_count": 33,
     "metadata": {},
     "output_type": "execute_result"
    }
   ],
   "source": [
    "regions"
   ]
  },
  {
   "cell_type": "code",
   "execution_count": 34,
   "metadata": {},
   "outputs": [],
   "source": [
    "def try_region(x):\n",
    "    try:\n",
    "        return regions[int(x)].split(\",\")[1]\n",
    "    except:\n",
    "        return 'Unknown'"
   ]
  },
  {
   "cell_type": "code",
   "execution_count": 35,
   "metadata": {},
   "outputs": [],
   "source": [
    "if RUN_PREPROCESS:\n",
    "    data['region'] = data['operation_id'].apply(lambda x: try_region(x))\n",
    "    data.groupby(['region', 'season']).count()"
   ]
  },
  {
   "cell_type": "markdown",
   "metadata": {},
   "source": [
    "### Saving preprocess data"
   ]
  },
  {
   "cell_type": "code",
   "execution_count": null,
   "metadata": {},
   "outputs": [],
   "source": [
    "if RUN_PREPROCESS:\n",
    "    data.to_csv(os.path.join(ROOT_PATH, \"preprocess.csv\"), index=False)\n",
    "else:\n",
    "    data = pd.read_csv(os.path.join(ROOT_PATH, \"preprocess.csv\"))"
   ]
  }
 ],
 "metadata": {
  "kernelspec": {
   "display_name": "aqi-PLczhCOw-py3.10",
   "language": "python",
   "name": "python3"
  },
  "language_info": {
   "codemirror_mode": {
    "name": "ipython",
    "version": 3
   },
   "file_extension": ".py",
   "mimetype": "text/x-python",
   "name": "python",
   "nbconvert_exporter": "python",
   "pygments_lexer": "ipython3",
   "version": "3.10.1"
  }
 },
 "nbformat": 4,
 "nbformat_minor": 2
}
