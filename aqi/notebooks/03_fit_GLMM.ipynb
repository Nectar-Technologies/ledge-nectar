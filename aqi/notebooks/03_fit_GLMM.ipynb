{
 "cells": [
  {
   "cell_type": "markdown",
   "metadata": {},
   "source": [
    "\n",
    "## DESCRIPTION\n",
    "\n",
    "This notebook fits a series of generalized linear mixed models"
   ]
  },
  {
   "cell_type": "markdown",
   "metadata": {
    "vscode": {
     "languageId": "plaintext"
    }
   },
   "source": [
    "***\n",
    "### SETUP"
   ]
  },
  {
   "cell_type": "markdown",
   "metadata": {},
   "source": [
    "Load the setup script"
   ]
  },
  {
   "cell_type": "code",
   "execution_count": 20,
   "metadata": {},
   "outputs": [],
   "source": [
    "from utils.common_setup import *"
   ]
  },
  {
   "cell_type": "markdown",
   "metadata": {},
   "source": [
    "Load the functions to :\n",
    "\n",
    "- Fit the models\n",
    "- Save the models\n",
    "- Load the models"
   ]
  },
  {
   "cell_type": "code",
   "execution_count": 3,
   "metadata": {},
   "outputs": [],
   "source": [
    "from utils.functions import fit_models, save_fitted_models, load_fitted_models"
   ]
  },
  {
   "cell_type": "markdown",
   "metadata": {},
   "source": [
    "Import the cleaned dataset"
   ]
  },
  {
   "cell_type": "code",
   "execution_count": 4,
   "metadata": {},
   "outputs": [],
   "source": [
    "data_folder = os.path.join(os.getcwd(), '..', 'data')\n",
    "data = pd.read_csv(os.path.join(data_folder, 'clean_data.csv'))"
   ]
  },
  {
   "cell_type": "markdown",
   "metadata": {},
   "source": [
    "### IF PackageNotInstalledError: The R package \"lme4\" is not installed. \n",
    "\n",
    "\n",
    "See README for instruction\n",
    "\n",
    "\n",
    "```\n",
    "from rpy2.robjects.packages import importr\n",
    "\n",
    "\n",
    "utils = importr('utils')\n",
    "utils.chooseCRANmirror(ind=12)\n",
    "utils.install_packages('lme4')\n",
    "```"
   ]
  },
  {
   "cell_type": "markdown",
   "metadata": {},
   "source": [
    "### FIT GLMM"
   ]
  },
  {
   "cell_type": "markdown",
   "metadata": {},
   "source": [
    "### Define model formulas"
   ]
  },
  {
   "cell_type": "code",
   "execution_count": 5,
   "metadata": {},
   "outputs": [],
   "source": [
    "model_formulas = [\n",
    "    # model0\n",
    "    \"death_next_season ~ 1 + (1|region)\",\n",
    "\n",
    "    # model\n",
    "    \"death_next_season ~ aqhi_average * ndvi_average + (aqhi_average|region)\",\n",
    "\n",
    "    # model2\n",
    "    \"death_next_season ~ aqhi_average + ndvi_average + (aqhi_average|region)\",\n",
    "\n",
    "    # model4\n",
    "    \"death_next_season ~ aqhi_average + ndvi_average + tavg_average + prcp_average + wspd_average + (aqhi_average|region)\",\n",
    "\n",
    "    # model5\n",
    "    \"death_next_season ~ aqhi_average * wspd_average + ndvi_average + tavg_average + prcp_average + (aqhi_average|region)\",\n",
    "\n",
    "    # model6\n",
    "    \"death_next_season ~ aqhi_average * wspd_average * tavg_average + (aqhi_average|region)\",\n",
    "\n",
    "    # model7a\n",
    "    \"death_next_season ~ aqhi_average * wspd_average * ndvi_average + (ndvi_average|region)\",\n",
    "\n",
    "    # model7\n",
    "    \"death_next_season ~ aqhi_average * ndvi_average + wspd_average + (ndvi_average|region)\",\n",
    "\n",
    "    # model9\n",
    "    \"death_next_season ~ aqhi_skew * ndvi_average * wspd_average + (aqhi_skew|region)\",\n",
    "\n",
    "    # model10\n",
    "    \"death_next_season ~ aqhi_skew * ndvi_skew + (aqhi_skew|region)\",\n",
    "\n",
    "    # model11\n",
    "    \"death_next_season ~ aqhi_skew * ndvi_average + wspd_average + (aqhi_skew|region)\",\n",
    "\n",
    "    # model12\n",
    "    \"death_next_season ~ aqhi_max * ndvi_average + wspd_average + (ndvi_average|region)\",\n",
    "\n",
    "    # model14\n",
    "    \"death_next_season ~ aqhi_max * ndvi_average * wspd_average + (ndvi_average|region)\",\n",
    "\n",
    "    # model15\n",
    "    \"death_next_season ~ aqhi_average * ndvi_skew * wspd_average + (aqhi_average|region)\",\n",
    "\n",
    "    # model16\n",
    "    \"death_next_season ~ aqhi_average * ndvi_skew + wspd_average + (aqhi_average|region)\",\n",
    "\n",
    "    # model17\n",
    "    \"death_next_season ~ aqhi_average * ndvi_skew * wspd_average + (aqhi_average|operation_id)\",\n",
    "\n",
    "    # model18\n",
    "    \"death_next_season ~ aqhi_max * ndvi_average + aqhi_average * wspd_average + (aqhi_average|operation_id)\",\n",
    "\n",
    "    # model19\n",
    "    \"death_next_season ~ ndvi_average * aqhi_average + (aqhi_average|operation_id)\",\n",
    "\n",
    "    # model20\n",
    "    \"death_next_season ~ ndvi_average * aqhi_average * wspd_average + (aqhi_average|operation_id)\",\n",
    "\n",
    "    # model21\n",
    "    \"death_next_season ~ ndvi_average * aqhi_average + (1|operation_id)\",\n",
    "\n",
    "    # model22\n",
    "    \"death_next_season ~ ndvi_average * aqhi_average * wspd_average + (1|operation_id)\",\n",
    "\n",
    "    # model23\n",
    "    \"death_next_season ~ ndvi_average * aqhi_average + wspd_average + (1|operation_id)\",\n",
    "\n",
    "    # model24\n",
    "    \"death_next_season ~ ndvi_average + aqhi_average + wspd_average + (1|operation_id)\",\n",
    "\n",
    "    # model25\n",
    "    \"death_next_season ~ ndvi_average + aqhi_average + wspd_average + (aqhi_average|operation_id)\",\n",
    "\n",
    "    # model26\n",
    "    \"death_next_season ~ ndvi_average + aqhi_average * wspd_average + (aqhi_average|operation_id)\",\n",
    "\n",
    "    # model27\n",
    "    \"death_next_season ~ ndvi_average + o3_average + (o3_average|operation_id)\",\n",
    "\n",
    "    # model28\n",
    "    \"death_next_season ~ ndvi_average * o3_average + (o3_average|operation_id)\",\n",
    "\n",
    "    # model29 (best model)\n",
    "    \"death_next_season ~ ndvi_average * o3_average + wspd_average + (o3_average|operation_id)\",\n",
    "\n",
    "    # model30\n",
    "    \"death_next_season ~ ndvi_average * o3_average * wspd_average + (o3_average|operation_id)\",\n",
    "\n",
    "    # model31\n",
    "    \"death_next_season ~ ndvi_average + aqhi_average + wspd_average + tavg_average + prcp_average + (aqhi_average|operation_id)\",\n",
    "\n",
    "    # model33\n",
    "    \"death_next_season ~ ndvi_average * aqhi_average + aqhi_max * wspd_average + tavg_average * prcp_average + (aqhi_average|operation_id)\"\n",
    "]"
   ]
  },
  {
   "cell_type": "markdown",
   "metadata": {},
   "source": [
    "Inspect how many models"
   ]
  },
  {
   "cell_type": "code",
   "execution_count": 13,
   "metadata": {},
   "outputs": [
    {
     "data": {
      "text/plain": [
       "31"
      ]
     },
     "execution_count": 13,
     "metadata": {},
     "output_type": "execute_result"
    }
   ],
   "source": [
    "len(model_formulas)"
   ]
  },
  {
   "cell_type": "code",
   "execution_count": 15,
   "metadata": {},
   "outputs": [
    {
     "data": {
      "text/plain": [
       "Index(['hid', 'creation_date', 'operation_id', 'death_date', 'season',\n",
       "       'season_start_month', 'season_start_day', 'death_next_season',\n",
       "       'hive_age_next_season', 'aqhi_average', 'prcp_average', 'wspd_average',\n",
       "       'ndvi_average', 'tavg_average', 'o3_average', 'aqhi_skew', 'prcp_skew',\n",
       "       'wspd_skew', 'ndvi_skew', 'tavg_skew', 'o3_skew', 'aqhi_max',\n",
       "       'prcp_max', 'wspd_max', 'ndvi_max', 'tavg_max', 'o3_max', 'region',\n",
       "       'wspd_average_og', 'tavg_average_og', 'prcp_average_og',\n",
       "       'aqhi_average_og'],\n",
       "      dtype='object')"
      ]
     },
     "execution_count": 15,
     "metadata": {},
     "output_type": "execute_result"
    }
   ],
   "source": [
    "data.columns"
   ]
  },
  {
   "cell_type": "markdown",
   "metadata": {},
   "source": [
    "### Fit the models and save (**run once**)\n",
    "\n",
    "Fitting all models takes **approximately 3 hours.**\n",
    "\n",
    "Run once and save in ```aqi/outputs``` folder so you can reimport in session.\n",
    "\n",
    "File is called ```fitted_GLMMs.pkl```"
   ]
  },
  {
   "cell_type": "code",
   "execution_count": 11,
   "metadata": {},
   "outputs": [],
   "source": [
    "#fitted_models, model_summaries = fit_models(\n",
    "#    data=data,\n",
    "#    formulas=model_formulas\n",
    "#)\n",
    "\n",
    "#save_fitted_models(\n",
    "#    fitted_models=fitted_models,\n",
    "#    filename=\"fitted_GLMMs.pkl\"\n",
    "#)\n",
    "\n",
    "#save_fitted_models(\n",
    "#    fitted_models=model_summaries,\n",
    "#    filename=\"summaries_GLMMs.pkl\"\n",
    "#)"
   ]
  },
  {
   "cell_type": "markdown",
   "metadata": {},
   "source": [
    "### Load models in session"
   ]
  },
  {
   "cell_type": "code",
   "execution_count": 10,
   "metadata": {},
   "outputs": [
    {
     "name": "stdout",
     "output_type": "stream",
     "text": [
      "Models loaded from /Users/maximeff-nectar/Documents/ledge-nectar/aqi/outputs/fitted_GLMMs.pkl.\n"
     ]
    }
   ],
   "source": [
    "fitted_models = load_fitted_models(\"fitted_GLMMs.pkl\")"
   ]
  },
  {
   "cell_type": "code",
   "execution_count": 12,
   "metadata": {},
   "outputs": [
    {
     "name": "stdout",
     "output_type": "stream",
     "text": [
      "Current best model is model0 with an AIC of 142319.23490165427\n",
      "Current best model is model1 with an AIC of 138707.492368243\n",
      "Current best model is model3 with an AIC of 136911.57493729456\n",
      "Current best model is model4 with an AIC of 136899.15826005692\n",
      "Model model5 did not converge due to warnings: ['Model failed to converge with max|grad| = 0.0033073 (tol = 0.002, component 1)']\n",
      "Model model6 did not converge due to warnings: ['Model failed to converge with max|grad| = 0.00205578 (tol = 0.002, component 1)']\n",
      "Model model12 did not converge due to warnings: [array(['Model failed to converge with max|grad| = 0.0152815 (tol = 0.002, component 1)'],\n",
      "      dtype='<U78'), array(['Model is nearly unidentifiable: very large eigenvalue\\n - Rescale variables?'],\n",
      "      dtype='<U75'), array(['Model is nearly unidentifiable: large eigenvalue ratio\\n - Rescale variables?'],\n",
      "      dtype='<U76')]\n",
      "Model model13 did not converge due to warnings: ['Model failed to converge with max|grad| = 0.00692553 (tol = 0.002, component 1)']\n",
      "Model model15 did not converge due to warnings: ['Model failed to converge with max|grad| = 0.00304883 (tol = 0.002, component 1)']\n",
      "Model model16 did not converge due to warnings: ['Model failed to converge with max|grad| = 0.00256152 (tol = 0.002, component 1)']\n",
      "Current best model is model17 with an AIC of 131480.5015211164\n",
      "Current best model is model18 with an AIC of 131428.72709803734\n",
      "Current best model is model25 with an AIC of 129405.29656590715\n",
      "Current best model is model26 with an AIC of 129319.57525936147\n",
      "Current best model is model27 with an AIC of 129242.13863848915\n",
      "Model model28 did not converge due to warnings: [array(['Model failed to converge with max|grad| = 0.0273736 (tol = 0.002, component 1)'],\n",
      "      dtype='<U78'), array(['Model is nearly unidentifiable: very large eigenvalue\\n - Rescale variables?'],\n",
      "      dtype='<U75'), array(['Model is nearly unidentifiable: large eigenvalue ratio\\n - Rescale variables?'],\n",
      "      dtype='<U76')]\n",
      "Model model30 did not converge due to warnings: ['Model failed to converge with max|grad| = 0.00621074 (tol = 0.002, component 1)']\n"
     ]
    }
   ],
   "source": [
    "# Initialize variables\n",
    "best_aic = float('inf')\n",
    "best_model = None\n",
    "best_model_name = None\n",
    "\n",
    "# Loop over the fitted models dict\n",
    "for model_name, model in fitted_models.items():\n",
    "    \n",
    "    # Check if the model has warnings\n",
    "    if len(model.warnings) == 0:\n",
    "        # Get the AIC for the current model\n",
    "        current_aic = model.AIC\n",
    "        \n",
    "        # Compare with the best AIC found so far\n",
    "        if current_aic < best_aic:\n",
    "            print(f\"Current best model is {model_name} with an AIC of {current_aic}\")\n",
    "            best_aic = current_aic\n",
    "            best_model = model\n",
    "            best_model_name = model_name\n",
    "    else:\n",
    "        print(f\"Model {model_name} did not converge due to warnings: {model.warnings}\")"
   ]
  },
  {
   "cell_type": "code",
   "execution_count": 16,
   "metadata": {},
   "outputs": [
    {
     "name": "stdout",
     "output_type": "stream",
     "text": [
      "Linear mixed model fit by maximum likelihood  ['lmerMod']\n",
      "Formula: death_next_season~ndvi_average*o3_average+wspd_average+(o3_average|operation_id)\n",
      "\n",
      "Family: binomial\t Inference: parametric\n",
      "\n",
      "Number of observations: 112626\t Groups: {'operation_id': 17.0}\n",
      "\n",
      "Log-likelihood: -64613.069 \t AIC: 129242.139\n",
      "\n",
      "Random effects:\n",
      "\n",
      "                     Name     Var   Std\n",
      "operation_id  (Intercept)  53.876  7.34\n",
      "operation_id   o3_average   0.022  0.15\n",
      "\n",
      "                      IV1         IV2   Corr\n",
      "operation_id  (Intercept)  o3_average -0.983\n",
      "\n",
      "Fixed effects:\n",
      "\n",
      "                         Estimate  2.5_ci  97.5_ci     SE     OR  OR_2.5_ci  \\\n",
      "(Intercept)                -4.549  -7.755   -1.342  1.636  0.011      0.000   \n",
      "ndvi_average               -2.675  -5.552    0.202  1.468  0.069      0.004   \n",
      "o3_average                  0.150   0.084    0.215  0.034  1.162      1.088   \n",
      "wspd_average               -0.192  -0.233   -0.151  0.021  0.826      0.792   \n",
      "ndvi_average:o3_average    -0.294  -0.348   -0.240  0.027  0.745      0.706   \n",
      "\n",
      "                         OR_97.5_ci   Prob  Prob_2.5_ci  Prob_97.5_ci  Z-stat  \\\n",
      "(Intercept)                   0.261  0.010        0.000         0.207  -2.780   \n",
      "ndvi_average                  1.223  0.064        0.004         0.550  -1.823   \n",
      "o3_average                    1.240  0.537        0.521         0.554   4.468   \n",
      "wspd_average                  0.860  0.452        0.442         0.462  -9.144   \n",
      "ndvi_average:o3_average       0.786  0.427        0.414         0.440 -10.761   \n",
      "\n",
      "                         P-val  Sig  \n",
      "(Intercept)              0.005   **  \n",
      "ndvi_average             0.068    .  \n",
      "o3_average               0.000  ***  \n",
      "wspd_average             0.000  ***  \n",
      "ndvi_average:o3_average  0.000  ***  \n"
     ]
    }
   ],
   "source": [
    "print(best_model.fit())"
   ]
  },
  {
   "cell_type": "markdown",
   "metadata": {},
   "source": [
    "Save the best model output"
   ]
  },
  {
   "cell_type": "code",
   "execution_count": 23,
   "metadata": {},
   "outputs": [],
   "source": [
    "project_root = os.path.dirname(os.getcwd())\n",
    "output_dir = os.path.join(project_root, 'outputs')    \n",
    "filepath = os.path.join(output_dir, \"GLMM_best_model.joblib\")\n",
    "\n",
    "save_model(best_model, filepath = filepath)"
   ]
  }
 ],
 "metadata": {
  "kernelspec": {
   "display_name": "aqi-PLczhCOw-py3.10",
   "language": "python",
   "name": "python3"
  },
  "language_info": {
   "codemirror_mode": {
    "name": "ipython",
    "version": 3
   },
   "file_extension": ".py",
   "mimetype": "text/x-python",
   "name": "python",
   "nbconvert_exporter": "python",
   "pygments_lexer": "ipython3",
   "version": "3.10.1"
  }
 },
 "nbformat": 4,
 "nbformat_minor": 2
}
