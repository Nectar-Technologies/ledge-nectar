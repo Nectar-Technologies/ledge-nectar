{
 "cells": [
  {
   "cell_type": "markdown",
   "metadata": {},
   "source": [
    "\n",
    "## DESCRIPTION\n",
    "\n",
    "This notebook fits a series of generalized linear mixed models"
   ]
  },
  {
   "cell_type": "markdown",
   "metadata": {
    "vscode": {
     "languageId": "plaintext"
    }
   },
   "source": [
    "***\n",
    "### SETUP"
   ]
  },
  {
   "cell_type": "markdown",
   "metadata": {},
   "source": [
    "Load the setup script"
   ]
  },
  {
   "cell_type": "code",
   "execution_count": 3,
   "metadata": {},
   "outputs": [],
   "source": [
    "from aqi.utils.common_setup import *"
   ]
  },
  {
   "cell_type": "markdown",
   "metadata": {},
   "source": [
    "Load the functions to :\n",
    "\n",
    "- Fit the models\n",
    "- Save the models\n",
    "- Load the models"
   ]
  },
  {
   "cell_type": "code",
   "execution_count": 4,
   "metadata": {},
   "outputs": [],
   "source": [
    "from aqi.utils.functions import fit_models, save_fitted_models, load_fitted_models"
   ]
  },
  {
   "cell_type": "markdown",
   "metadata": {},
   "source": [
    "Import the cleaned dataset"
   ]
  },
  {
   "cell_type": "code",
   "execution_count": 5,
   "metadata": {},
   "outputs": [],
   "source": [
    "data_folder = os.path.join(os.getcwd(), '..', 'data')\n",
    "data = pd.read_csv(os.path.join(data_folder, 'clean_data.csv'))"
   ]
  },
  {
   "cell_type": "code",
   "execution_count": 6,
   "metadata": {},
   "outputs": [
    {
     "name": "stdout",
     "output_type": "stream",
     "text": [
      "Number of unique hives: 103477\n",
      "Number of unique operations: 17\n"
     ]
    }
   ],
   "source": [
    "# Count the number of unique hive_id values\n",
    "print(f\"Number of unique hives: {data['hid'].nunique()}\")\n",
    "print(f\"Number of unique operations: {data['operation_id'].nunique()}\")"
   ]
  },
  {
   "cell_type": "code",
   "execution_count": 5,
   "metadata": {},
   "outputs": [
    {
     "data": {
      "text/plain": [
       "112626"
      ]
     },
     "execution_count": 5,
     "metadata": {},
     "output_type": "execute_result"
    }
   ],
   "source": [
    "len(data)"
   ]
  },
  {
   "cell_type": "code",
   "execution_count": 5,
   "metadata": {},
   "outputs": [
    {
     "data": {
      "text/plain": [
       "Index(['hid', 'creation_date', 'operation_id', 'death_date', 'season',\n",
       "       'season_start_month', 'season_start_day', 'death_next_season',\n",
       "       'hive_age_next_season', 'aqhi_average', 'prcp_average', 'wspd_average',\n",
       "       'ndvi_average', 'tavg_average', 'o3_average', 'aqhi_skew', 'prcp_skew',\n",
       "       'wspd_skew', 'ndvi_skew', 'tavg_skew', 'o3_skew', 'aqhi_max',\n",
       "       'prcp_max', 'wspd_max', 'ndvi_max', 'tavg_max', 'o3_max', 'region',\n",
       "       'wspd_average_og', 'tavg_average_og', 'prcp_average_og',\n",
       "       'aqhi_average_og'],\n",
       "      dtype='object')"
      ]
     },
     "execution_count": 5,
     "metadata": {},
     "output_type": "execute_result"
    }
   ],
   "source": [
    "data.columns"
   ]
  },
  {
   "cell_type": "markdown",
   "metadata": {},
   "source": [
    "### IF PackageNotInstalledError: The R package \"lme4\" is not installed. \n",
    "\n",
    "\n",
    "See README for instruction\n",
    "\n",
    "\n",
    "```\n",
    "from rpy2.robjects.packages import importr\n",
    "\n",
    "\n",
    "utils = importr('utils')\n",
    "utils.chooseCRANmirror(ind=12)\n",
    "utils.install_packages('lme4')\n",
    "```"
   ]
  },
  {
   "cell_type": "markdown",
   "metadata": {},
   "source": [
    "### FIT GLMM"
   ]
  },
  {
   "cell_type": "markdown",
   "metadata": {},
   "source": [
    "### Define model formulas"
   ]
  },
  {
   "cell_type": "markdown",
   "metadata": {},
   "source": [
    "There are 33 models starting from model 0\n",
    "\n",
    "For features, I use the log of precipitation --> prcp_average\n",
    "\n",
    "The rest is original data --> anything og\n",
    "\n",
    "See 02_CleanData.ipynb for details"
   ]
  },
  {
   "cell_type": "code",
   "execution_count": 36,
   "metadata": {},
   "outputs": [],
   "source": [
    "model_formulas = [\n",
    "    \n",
    "    # Null model ------------------------------------------------\n",
    "\n",
    "    # model0\n",
    "    \"death_next_season ~ 1 + (1|region)\",\n",
    "\n",
    "    # Models with aqhi average and region -----------------------\n",
    "\n",
    "    # model1\n",
    "    \"death_next_season ~ aqhi_average_og + ndvi_average + (aqhi_average|region)\",\n",
    "\n",
    "    # model2\n",
    "    \"death_next_season ~ aqhi_average_og * ndvi_average + (aqhi_average_og|region)\",\n",
    "\n",
    "    # model3\n",
    "    \"death_next_season ~ aqhi_average_og + ndvi_average + tavg_average_og + prcp_average + wspd_average_og + (aqhi_average_og|region)\",\n",
    "\n",
    "    # model4\n",
    "    \"death_next_season ~ aqhi_average_og * wspd_average_og + ndvi_average + prcp_average + tavg_average_og + (aqhi_average_og|region)\",\n",
    "\n",
    "    # model5\n",
    "    \"death_next_season ~ aqhi_average_og * ndvi_average + wspd_average_og + (ndvi_average|region)\",\n",
    "\n",
    "    # model6\n",
    "    \"death_next_season ~ aqhi_average_og * wspd_average_og * tavg_average_og + (aqhi_average_og|region)\",\n",
    "\n",
    "    # model7\n",
    "    \"death_next_season ~ aqhi_average_og * wspd_average_og * ndvi_average + (ndvi_average|region)\",\n",
    "\n",
    "    # Models with aqhi average and operation id -----------------\n",
    "\n",
    "    # model8\n",
    "    \"death_next_season ~ aqhi_average_og * ndvi_average + (1|operation_id)\",\n",
    "\n",
    "    # model9\n",
    "    \"death_next_season ~ aqhi_average_og * ndvi_average + (aqhi_average_og|operation_id)\",\n",
    "\n",
    "    # model10\n",
    "    \"death_next_season ~ aqhi_average_og + ndvi_average + wspd_average_og + (1|operation_id)\",\n",
    "\n",
    "    # model11\n",
    "    \"death_next_season ~ aqhi_average_og + ndvi_average + wspd_average_og + (aqhi_average_og|operation_id)\",\n",
    "\n",
    "    # model12\n",
    "    \"death_next_season ~ aqhi_average_og * wspd_average_og + ndvi_average + (aqhi_average_og|operation_id)\",\n",
    "\n",
    "    # model13\n",
    "    \"death_next_season ~ aqhi_average_og * ndvi_average + wspd_average_og + (1|operation_id)\",\n",
    "\n",
    "    # model14\n",
    "    \"death_next_season ~ aqhi_average_og * ndvi_average * wspd_average_og + (1|operation_id)\",\n",
    "\n",
    "    # model15\n",
    "    \"death_next_season ~ aqhi_average_og * ndvi_average * wspd_average_og + (aqhi_average_og|operation_id)\",\n",
    "\n",
    "    # model16\n",
    "    \"death_next_season ~ aqhi_average_og + ndvi_average + wspd_average_og + tavg_average_og + prcp_average + (aqhi_average_og|operation_id)\",\n",
    "\n",
    "    # model17\n",
    "    \"death_next_season ~ aqhi_average_og * ndvi_average + tavg_average_og * prcp_average + wspd_average_og + (aqhi_average_og|operation_id)\",\n",
    "\n",
    "    # Models with aqhi skew and region --------------------------\n",
    "    \n",
    "    # model18\n",
    "    \"death_next_season ~ aqhi_skew + ndvi_skew + (aqhi_skew|region)\",\n",
    "\n",
    "    # model19\n",
    "    \"death_next_season ~ aqhi_skew * ndvi_skew + (aqhi_skew|region)\",\n",
    "\n",
    "    # model20\n",
    "    \"death_next_season ~ aqhi_skew * ndvi_average + wspd_average_og + (aqhi_skew|region)\",\n",
    "\n",
    "    # model21\n",
    "    \"death_next_season ~ aqhi_skew * ndvi_average * wspd_average_og + (aqhi_skew|region)\",\n",
    "\n",
    "    # Models with aqhi max ---------------------------\n",
    "\n",
    "    # model22\n",
    "    \"death_next_season ~ aqhi_max * ndvi_average + wspd_average_og + (ndvi_average|region)\",\n",
    "\n",
    "    # model23\n",
    "    \"death_next_season ~ aqhi_max * ndvi_average * wspd_average_og + (ndvi_average|region)\",\n",
    "\n",
    "    # model24\n",
    "    \"death_next_season ~ aqhi_max * ndvi_average + wspd_average_og + (aqhi_average_og|operation_id)\",\n",
    "\n",
    "    # model25\n",
    "    \"death_next_season ~ aqhi_max * ndvi_average * wspd_average_og + (aqhi_average_og|operation_id)\",\n",
    "\n",
    "    # Models with ndvi skew --------------------------\n",
    "\n",
    "    # model26\n",
    "    \"death_next_season ~ aqhi_average_og * ndvi_skew + wspd_average_og + (aqhi_average_og|region)\",\n",
    "\n",
    "    # model27\n",
    "    \"death_next_season ~ aqhi_average_og * ndvi_skew * wspd_average_og + (aqhi_average_og|region)\",\n",
    "\n",
    "    # model28\n",
    "    \"death_next_season ~ aqhi_average_og * ndvi_skew * wspd_average_og + (aqhi_average_og|operation_id)\",\n",
    "\n",
    "    # Models with O3 and operation id ---------------------------\n",
    "\n",
    "    # model29\n",
    "    \"death_next_season ~ ndvi_average + o3_average + (o3_average|operation_id)\",\n",
    "\n",
    "    # model30\n",
    "    \"death_next_season ~ ndvi_average * o3_average + (o3_average|operation_id)\",\n",
    "\n",
    "    # model31\n",
    "    \"death_next_season ~ ndvi_average * o3_average + wspd_average_og + (o3_average|operation_id)\",\n",
    "\n",
    "    # model32\n",
    "    \"death_next_season ~ ndvi_average * o3_average * wspd_average_og + (o3_average|operation_id)\"\n",
    "\n",
    "]"
   ]
  },
  {
   "cell_type": "markdown",
   "metadata": {},
   "source": [
    "### Standardize all variables"
   ]
  },
  {
   "cell_type": "code",
   "execution_count": 33,
   "metadata": {},
   "outputs": [],
   "source": [
    "from sklearn.preprocessing import StandardScaler\n",
    "\n",
    "# Variables\n",
    "variables_to_scale = [\n",
    "    'aqhi_average_og', 'ndvi_average', 'wspd_average_og', \n",
    "    'tavg_average_og', 'prcp_average', 'o3_average',\n",
    "    'aqhi_skew', 'aqhi_max', 'ndvi_skew'\n",
    "]\n",
    "\n",
    "# Initialize the scaler\n",
    "scaler = StandardScaler()\n",
    "\n",
    "# Overwrite original variables names with scaled variables\n",
    "data[variables_to_scale] = scaler.fit_transform(data[variables_to_scale])"
   ]
  },
  {
   "cell_type": "code",
   "execution_count": 34,
   "metadata": {},
   "outputs": [
    {
     "name": "stdout",
     "output_type": "stream",
     "text": [
      "       aqhi_average_og  ndvi_average  wspd_average_og  tavg_average_og  \\\n",
      "count     1.126260e+05  1.126260e+05     1.126260e+05     1.126260e+05   \n",
      "mean     -1.615071e-16 -1.736201e-16     6.056515e-17     3.633909e-17   \n",
      "std       1.000004e+00  1.000004e+00     1.000004e+00     1.000004e+00   \n",
      "min      -2.656698e+00 -8.433916e+00    -5.001226e+00    -5.900251e+00   \n",
      "25%      -7.633126e-01 -4.662709e-01    -5.466750e-01    -7.052172e-01   \n",
      "50%      -3.487361e-01 -1.513841e-01     1.065399e-02    -1.949752e-01   \n",
      "75%       9.614525e-01  3.347263e-01     5.835905e-01     6.022519e-01   \n",
      "max       2.967133e+00  1.472707e+01     8.448379e+00     3.778067e+00   \n",
      "\n",
      "       prcp_average    o3_average     aqhi_skew      aqhi_max     ndvi_skew  \n",
      "count  1.126260e+05  1.126260e+05  1.121070e+05  1.126260e+05  1.121570e+05  \n",
      "mean   4.037676e-17  4.602951e-16 -5.678916e-17  1.049796e-16  3.745400e-16  \n",
      "std    1.000004e+00  1.000004e+00  1.000004e+00  1.000004e+00  1.000004e+00  \n",
      "min   -5.548384e+00 -3.246371e+01 -4.412670e+00 -2.852275e+00 -9.957763e+00  \n",
      "25%   -9.297429e-01 -7.921677e-01 -6.376871e-01 -8.604206e-01 -5.348564e-01  \n",
      "50%    4.509853e-01 -2.264179e-01 -3.305619e-01  1.355068e-01  2.405283e-02  \n",
      "75%    7.345448e-01  9.296833e-01  3.227346e-01  1.355068e-01  5.262758e-01  \n",
      "max    2.473830e+00  3.393889e+00  3.706183e+00  2.127362e+00  1.055175e+01  \n"
     ]
    }
   ],
   "source": [
    "print(data[variables_to_scale].describe())"
   ]
  },
  {
   "cell_type": "markdown",
   "metadata": {},
   "source": [
    "Inspect how many models"
   ]
  },
  {
   "cell_type": "code",
   "execution_count": 39,
   "metadata": {},
   "outputs": [
    {
     "data": {
      "text/plain": [
       "33"
      ]
     },
     "execution_count": 39,
     "metadata": {},
     "output_type": "execute_result"
    }
   ],
   "source": [
    "len(model_formulas)"
   ]
  },
  {
   "cell_type": "code",
   "execution_count": 40,
   "metadata": {},
   "outputs": [
    {
     "data": {
      "text/plain": [
       "Index(['hid', 'creation_date', 'operation_id', 'death_date', 'season',\n",
       "       'season_start_month', 'season_start_day', 'death_next_season',\n",
       "       'hive_age_next_season', 'aqhi_average', 'prcp_average', 'wspd_average',\n",
       "       'ndvi_average', 'tavg_average', 'o3_average', 'aqhi_skew', 'prcp_skew',\n",
       "       'wspd_skew', 'ndvi_skew', 'tavg_skew', 'o3_skew', 'aqhi_max',\n",
       "       'prcp_max', 'wspd_max', 'ndvi_max', 'tavg_max', 'o3_max', 'region',\n",
       "       'wspd_average_og', 'tavg_average_og', 'prcp_average_og',\n",
       "       'aqhi_average_og'],\n",
       "      dtype='object')"
      ]
     },
     "execution_count": 40,
     "metadata": {},
     "output_type": "execute_result"
    }
   ],
   "source": [
    "data.columns"
   ]
  },
  {
   "cell_type": "markdown",
   "metadata": {},
   "source": [
    "### Fit the models and save (**run once**)\n",
    "\n",
    "Fitting all models takes **approximately 1.2 hours.**\n",
    "\n",
    "Run once and save in ```aqi/outputs``` folder so you can reimport in session.\n",
    "\n",
    "File is called ```fitted_GLMMs.pkl```"
   ]
  },
  {
   "cell_type": "code",
   "execution_count": 41,
   "metadata": {},
   "outputs": [
    {
     "name": "stderr",
     "output_type": "stream",
     "text": [
      "Fitting Models:   0%|          | 0/33 [00:00<?, ?it/s]"
     ]
    },
    {
     "name": "stdout",
     "output_type": "stream",
     "text": [
      "Fitting model0 with formula: death_next_season ~ 1 + (1|region)\n"
     ]
    },
    {
     "name": "stderr",
     "output_type": "stream",
     "text": [
      "Fitting Models:   3%|▎         | 1/33 [00:17<09:33, 17.93s/it]"
     ]
    },
    {
     "name": "stdout",
     "output_type": "stream",
     "text": [
      "Linear mixed model fit by maximum likelihood  ['lmerMod']\n",
      "Formula: death_next_season~1+(1|region)\n",
      "\n",
      "Family: binomial\t Inference: parametric\n",
      "\n",
      "Number of observations: 112626\t Groups: {'region': 9.0}\n",
      "\n",
      "Log-likelihood: -71157.617 \t AIC: 142319.235\n",
      "\n",
      "Random effects:\n",
      "\n",
      "               Name    Var    Std\n",
      "region  (Intercept)  0.979  0.989\n",
      "\n",
      "No random effect correlations specified\n",
      "\n",
      "Fixed effects:\n",
      "\n",
      "Fitting model1 with formula: death_next_season ~ aqhi_average_og + ndvi_average + (aqhi_average|region)\n"
     ]
    },
    {
     "name": "stderr",
     "output_type": "stream",
     "text": [
      "Fitting Models:   6%|▌         | 2/33 [01:12<20:26, 39.56s/it]"
     ]
    },
    {
     "name": "stdout",
     "output_type": "stream",
     "text": [
      "Linear mixed model fit by maximum likelihood  ['lmerMod']\n",
      "Formula: death_next_season~aqhi_average_og+ndvi_average+(aqhi_average|region)\n",
      "\n",
      "Family: binomial\t Inference: parametric\n",
      "\n",
      "Number of observations: 112626\t Groups: {'region': 9.0}\n",
      "\n",
      "Log-likelihood: -69467.480 \t AIC: 138946.959\n",
      "\n",
      "Random effects:\n",
      "\n",
      "                Name    Var    Std\n",
      "region   (Intercept)  5.705  2.388\n",
      "region  aqhi_average  3.938  1.985\n",
      "\n",
      "                IV1           IV2   Corr\n",
      "region  (Intercept)  aqhi_average -0.844\n",
      "\n",
      "Fixed effects:\n",
      "\n",
      "Fitting model2 with formula: death_next_season ~ aqhi_average_og * ndvi_average + (aqhi_average_og|region)\n"
     ]
    },
    {
     "name": "stderr",
     "output_type": "stream",
     "text": [
      "Fitting Models:   9%|▉         | 3/33 [02:12<24:31, 49.04s/it]"
     ]
    },
    {
     "name": "stdout",
     "output_type": "stream",
     "text": [
      "Linear mixed model fit by maximum likelihood  ['lmerMod']\n",
      "Formula: death_next_season~aqhi_average_og*ndvi_average+(aqhi_average_og|region)\n",
      "\n",
      "Family: binomial\t Inference: parametric\n",
      "\n",
      "Number of observations: 112626\t Groups: {'region': 9.0}\n",
      "\n",
      "Log-likelihood: -69334.636 \t AIC: 138683.273\n",
      "\n",
      "Random effects:\n",
      "\n",
      "                   Name    Var    Std\n",
      "region      (Intercept)  1.778  1.333\n",
      "region  aqhi_average_og  0.184  0.429\n",
      "\n",
      "                IV1              IV2   Corr\n",
      "region  (Intercept)  aqhi_average_og  0.383\n",
      "\n",
      "Fixed effects:\n",
      "\n",
      "Fitting model3 with formula: death_next_season ~ aqhi_average_og + ndvi_average + tavg_average_og + prcp_average + wspd_average_og + (aqhi_average_og|region)\n"
     ]
    },
    {
     "name": "stderr",
     "output_type": "stream",
     "text": [
      "Fitting Models:  12%|█▏        | 4/33 [03:12<25:47, 53.35s/it]"
     ]
    },
    {
     "name": "stdout",
     "output_type": "stream",
     "text": [
      "Linear mixed model fit by maximum likelihood  ['lmerMod']\n",
      "Formula: death_next_season~aqhi_average_og+ndvi_average+tavg_average_og+prcp_average+wspd_average_og+(aqhi_average_og|region)\n",
      "\n",
      "Family: binomial\t Inference: parametric\n",
      "\n",
      "Number of observations: 112626\t Groups: {'region': 9.0}\n",
      "\n",
      "Log-likelihood: -68408.350 \t AIC: 136834.701\n",
      "\n",
      "Random effects:\n",
      "\n",
      "                   Name    Var    Std\n",
      "region      (Intercept)  2.050  1.432\n",
      "region  aqhi_average_og  0.181  0.426\n",
      "\n",
      "                IV1              IV2   Corr\n",
      "region  (Intercept)  aqhi_average_og -0.208\n",
      "\n",
      "Fixed effects:\n",
      "\n",
      "Fitting model4 with formula: death_next_season ~ aqhi_average_og * wspd_average_og + ndvi_average + prcp_average + tavg_average_og + (aqhi_average_og|region)\n"
     ]
    },
    {
     "name": "stderr",
     "output_type": "stream",
     "text": [
      "Fitting Models:  15%|█▌        | 5/33 [04:20<27:20, 58.57s/it]"
     ]
    },
    {
     "name": "stdout",
     "output_type": "stream",
     "text": [
      "Linear mixed model fit by maximum likelihood  ['lmerMod']\n",
      "Formula: death_next_season~aqhi_average_og*wspd_average_og+ndvi_average+prcp_average+tavg_average_og+(aqhi_average_og|region)\n",
      "\n",
      "Family: binomial\t Inference: parametric\n",
      "\n",
      "Number of observations: 112626\t Groups: {'region': 9.0}\n",
      "\n",
      "Log-likelihood: -68406.866 \t AIC: 136833.732\n",
      "\n",
      "Random effects:\n",
      "\n",
      "                   Name    Var    Std\n",
      "region      (Intercept)  2.046  1.430\n",
      "region  aqhi_average_og  0.180  0.425\n",
      "\n",
      "                IV1              IV2   Corr\n",
      "region  (Intercept)  aqhi_average_og -0.213\n",
      "\n",
      "Fixed effects:\n",
      "\n",
      "Fitting model5 with formula: death_next_season ~ aqhi_average_og * ndvi_average + wspd_average_og + (ndvi_average|region)\n"
     ]
    },
    {
     "name": "stderr",
     "output_type": "stream",
     "text": [
      "Fitting Models:  18%|█▊        | 6/33 [05:30<28:00, 62.22s/it]"
     ]
    },
    {
     "name": "stdout",
     "output_type": "stream",
     "text": [
      "Linear mixed model fit by maximum likelihood  ['lmerMod']\n",
      "Formula: death_next_season~aqhi_average_og*ndvi_average+wspd_average_og+(ndvi_average|region)\n",
      "\n",
      "Family: binomial\t Inference: parametric\n",
      "\n",
      "Number of observations: 112626\t Groups: {'region': 9.0}\n",
      "\n",
      "Log-likelihood: -69546.453 \t AIC: 139108.905\n",
      "\n",
      "Random effects:\n",
      "\n",
      "                Name    Var    Std\n",
      "region   (Intercept)  1.946  1.395\n",
      "region  ndvi_average  0.333  0.577\n",
      "\n",
      "                IV1           IV2  Corr\n",
      "region  (Intercept)  ndvi_average  0.56\n",
      "\n",
      "Fixed effects:\n",
      "\n",
      "Fitting model6 with formula: death_next_season ~ aqhi_average_og * wspd_average_og * tavg_average_og + (aqhi_average_og|region)\n"
     ]
    },
    {
     "name": "stderr",
     "output_type": "stream",
     "text": [
      "Fitting Models:  21%|██        | 7/33 [07:04<31:32, 72.78s/it]"
     ]
    },
    {
     "name": "stdout",
     "output_type": "stream",
     "text": [
      "Linear mixed model fit by maximum likelihood  ['lmerMod']\n",
      "Formula: death_next_season~aqhi_average_og*wspd_average_og*tavg_average_og+(aqhi_average_og|region)\n",
      "\n",
      "Family: binomial\t Inference: parametric\n",
      "\n",
      "Number of observations: 112626\t Groups: {'region': 9.0}\n",
      "\n",
      "Log-likelihood: -68431.613 \t AIC: 136885.226\n",
      "\n",
      "Random effects:\n",
      "\n",
      "                   Name    Var    Std\n",
      "region      (Intercept)  1.926  1.388\n",
      "region  aqhi_average_og  0.155  0.394\n",
      "\n",
      "                IV1              IV2   Corr\n",
      "region  (Intercept)  aqhi_average_og -0.051\n",
      "\n",
      "Fixed effects:\n",
      "\n",
      "Fitting model7 with formula: death_next_season ~ aqhi_average_og * wspd_average_og * ndvi_average + (ndvi_average|region)\n"
     ]
    },
    {
     "name": "stderr",
     "output_type": "stream",
     "text": [
      "Fitting Models:  24%|██▍       | 8/33 [08:42<33:39, 80.78s/it]"
     ]
    },
    {
     "name": "stdout",
     "output_type": "stream",
     "text": [
      "Linear mixed model fit by maximum likelihood  ['lmerMod']\n",
      "Formula: death_next_season~aqhi_average_og*wspd_average_og*ndvi_average+(ndvi_average|region)\n",
      "\n",
      "Family: binomial\t Inference: parametric\n",
      "\n",
      "Number of observations: 112626\t Groups: {'region': 9.0}\n",
      "\n",
      "Log-likelihood: -69533.058 \t AIC: 139088.117\n",
      "\n",
      "Random effects:\n",
      "\n",
      "                Name    Var    Std\n",
      "region   (Intercept)  1.943  1.394\n",
      "region  ndvi_average  0.345  0.588\n",
      "\n",
      "                IV1           IV2   Corr\n",
      "region  (Intercept)  ndvi_average  0.564\n",
      "\n",
      "Fixed effects:\n",
      "\n",
      "Fitting model8 with formula: death_next_season ~ aqhi_average_og * ndvi_average + (1|operation_id)\n"
     ]
    },
    {
     "name": "stderr",
     "output_type": "stream",
     "text": [
      "Fitting Models:  27%|██▋       | 9/33 [09:14<26:16, 65.68s/it]"
     ]
    },
    {
     "name": "stdout",
     "output_type": "stream",
     "text": [
      "Linear mixed model fit by maximum likelihood  ['lmerMod']\n",
      "Formula: death_next_season~aqhi_average_og*ndvi_average+(1|operation_id)\n",
      "\n",
      "Family: binomial\t Inference: parametric\n",
      "\n",
      "Number of observations: 112626\t Groups: {'operation_id': 17.0}\n",
      "\n",
      "Log-likelihood: -66457.161 \t AIC: 132924.321\n",
      "\n",
      "Random effects:\n",
      "\n",
      "                     Name    Var   Std\n",
      "operation_id  (Intercept)  2.279  1.51\n",
      "\n",
      "No random effect correlations specified\n",
      "\n",
      "Fixed effects:\n",
      "\n",
      "Fitting model9 with formula: death_next_season ~ aqhi_average_og * ndvi_average + (aqhi_average_og|operation_id)\n"
     ]
    },
    {
     "name": "stderr",
     "output_type": "stream",
     "text": [
      "Fitting Models:  30%|███       | 10/33 [10:06<23:32, 61.43s/it]"
     ]
    },
    {
     "name": "stdout",
     "output_type": "stream",
     "text": [
      "Linear mixed model fit by maximum likelihood  ['lmerMod']\n",
      "Formula: death_next_season~aqhi_average_og*ndvi_average+(aqhi_average_og|operation_id)\n",
      "\n",
      "Family: binomial\t Inference: parametric\n",
      "\n",
      "Number of observations: 112626\t Groups: {'operation_id': 17.0}\n",
      "\n",
      "Log-likelihood: -65665.016 \t AIC: 131344.033\n",
      "\n",
      "Random effects:\n",
      "\n",
      "                         Name    Var    Std\n",
      "operation_id      (Intercept)  2.213  1.488\n",
      "operation_id  aqhi_average_og  2.287  1.512\n",
      "\n",
      "                      IV1              IV2   Corr\n",
      "operation_id  (Intercept)  aqhi_average_og  0.323\n",
      "\n",
      "Fixed effects:\n",
      "\n",
      "Fitting model10 with formula: death_next_season ~ aqhi_average_og + ndvi_average + wspd_average_og + (1|operation_id)\n"
     ]
    },
    {
     "name": "stderr",
     "output_type": "stream",
     "text": [
      "Fitting Models:  33%|███▎      | 11/33 [10:39<19:20, 52.76s/it]"
     ]
    },
    {
     "name": "stdout",
     "output_type": "stream",
     "text": [
      "Linear mixed model fit by maximum likelihood  ['lmerMod']\n",
      "Formula: death_next_season~aqhi_average_og+ndvi_average+wspd_average_og+(1|operation_id)\n",
      "\n",
      "Family: binomial\t Inference: parametric\n",
      "\n",
      "Number of observations: 112626\t Groups: {'operation_id': 17.0}\n",
      "\n",
      "Log-likelihood: -66477.666 \t AIC: 132965.333\n",
      "\n",
      "Random effects:\n",
      "\n",
      "                     Name    Var   Std\n",
      "operation_id  (Intercept)  2.309  1.52\n",
      "\n",
      "No random effect correlations specified\n",
      "\n",
      "Fixed effects:\n",
      "\n",
      "Fitting model11 with formula: death_next_season ~ aqhi_average_og + ndvi_average + wspd_average_og + (aqhi_average_og|operation_id)\n"
     ]
    },
    {
     "name": "stderr",
     "output_type": "stream",
     "text": [
      "Fitting Models:  36%|███▋      | 12/33 [11:32<18:24, 52.58s/it]"
     ]
    },
    {
     "name": "stdout",
     "output_type": "stream",
     "text": [
      "Linear mixed model fit by maximum likelihood  ['lmerMod']\n",
      "Formula: death_next_season~aqhi_average_og+ndvi_average+wspd_average_og+(aqhi_average_og|operation_id)\n",
      "\n",
      "Family: binomial\t Inference: parametric\n",
      "\n",
      "Number of observations: 112626\t Groups: {'operation_id': 17.0}\n",
      "\n",
      "Log-likelihood: -65676.662 \t AIC: 131367.324\n",
      "\n",
      "Random effects:\n",
      "\n",
      "                         Name    Var    Std\n",
      "operation_id      (Intercept)  2.225  1.492\n",
      "operation_id  aqhi_average_og  2.185  1.478\n",
      "\n",
      "                      IV1              IV2   Corr\n",
      "operation_id  (Intercept)  aqhi_average_og  0.277\n",
      "\n",
      "Fixed effects:\n",
      "\n",
      "Fitting model12 with formula: death_next_season ~ aqhi_average_og * wspd_average_og + ndvi_average + (aqhi_average_og|operation_id)\n"
     ]
    },
    {
     "name": "stderr",
     "output_type": "stream",
     "text": [
      "Fitting Models:  39%|███▉      | 13/33 [12:44<19:31, 58.59s/it]"
     ]
    },
    {
     "name": "stdout",
     "output_type": "stream",
     "text": [
      "Linear mixed model fit by maximum likelihood  ['lmerMod']\n",
      "Formula: death_next_season~aqhi_average_og*wspd_average_og+ndvi_average+(aqhi_average_og|operation_id)\n",
      "\n",
      "Family: binomial\t Inference: parametric\n",
      "\n",
      "Number of observations: 112626\t Groups: {'operation_id': 17.0}\n",
      "\n",
      "Log-likelihood: -65674.469 \t AIC: 131364.939\n",
      "\n",
      "Random effects:\n",
      "\n",
      "                         Name    Var    Std\n",
      "operation_id      (Intercept)  2.228  1.493\n",
      "operation_id  aqhi_average_og  2.180  1.476\n",
      "\n",
      "                      IV1              IV2   Corr\n",
      "operation_id  (Intercept)  aqhi_average_og  0.272\n",
      "\n",
      "Fixed effects:\n",
      "\n",
      "Fitting model13 with formula: death_next_season ~ aqhi_average_og * ndvi_average + wspd_average_og + (1|operation_id)\n"
     ]
    },
    {
     "name": "stderr",
     "output_type": "stream",
     "text": [
      "Fitting Models:  42%|████▏     | 14/33 [13:25<16:50, 53.20s/it]"
     ]
    },
    {
     "name": "stdout",
     "output_type": "stream",
     "text": [
      "Linear mixed model fit by maximum likelihood  ['lmerMod']\n",
      "Formula: death_next_season~aqhi_average_og*ndvi_average+wspd_average_og+(1|operation_id)\n",
      "\n",
      "Family: binomial\t Inference: parametric\n",
      "\n",
      "Number of observations: 112626\t Groups: {'operation_id': 17.0}\n",
      "\n",
      "Log-likelihood: -66381.713 \t AIC: 132775.426\n",
      "\n",
      "Random effects:\n",
      "\n",
      "                     Name    Var    Std\n",
      "operation_id  (Intercept)  2.393  1.547\n",
      "\n",
      "No random effect correlations specified\n",
      "\n",
      "Fixed effects:\n",
      "\n",
      "Fitting model14 with formula: death_next_season ~ aqhi_average_og * ndvi_average * wspd_average_og + (1|operation_id)\n"
     ]
    },
    {
     "name": "stderr",
     "output_type": "stream",
     "text": [
      "Fitting Models:  45%|████▌     | 15/33 [14:21<16:15, 54.21s/it]"
     ]
    },
    {
     "name": "stdout",
     "output_type": "stream",
     "text": [
      "Linear mixed model fit by maximum likelihood  ['lmerMod']\n",
      "Formula: death_next_season~aqhi_average_og*ndvi_average*wspd_average_og+(1|operation_id)\n",
      "\n",
      "Family: binomial\t Inference: parametric\n",
      "\n",
      "Number of observations: 112626\t Groups: {'operation_id': 17.0}\n",
      "\n",
      "Log-likelihood: -66372.323 \t AIC: 132762.646\n",
      "\n",
      "Random effects:\n",
      "\n",
      "                     Name    Var    Std\n",
      "operation_id  (Intercept)  2.395  1.548\n",
      "\n",
      "No random effect correlations specified\n",
      "\n",
      "Fixed effects:\n",
      "\n",
      "Fitting model15 with formula: death_next_season ~ aqhi_average_og * ndvi_average * wspd_average_og + (aqhi_average_og|operation_id)\n"
     ]
    },
    {
     "name": "stderr",
     "output_type": "stream",
     "text": [
      "Fitting Models:  48%|████▊     | 16/33 [16:04<19:30, 68.83s/it]"
     ]
    },
    {
     "name": "stdout",
     "output_type": "stream",
     "text": [
      "Linear mixed model fit by maximum likelihood  ['lmerMod']\n",
      "Formula: death_next_season~aqhi_average_og*ndvi_average*wspd_average_og+(aqhi_average_og|operation_id)\n",
      "\n",
      "Family: binomial\t Inference: parametric\n",
      "\n",
      "Number of observations: 112626\t Groups: {'operation_id': 17.0}\n",
      "\n",
      "Log-likelihood: -65623.299 \t AIC: 131268.598\n",
      "\n",
      "Random effects:\n",
      "\n",
      "                         Name    Var    Std\n",
      "operation_id      (Intercept)  2.226  1.492\n",
      "operation_id  aqhi_average_og  2.260  1.503\n",
      "\n",
      "                      IV1              IV2  Corr\n",
      "operation_id  (Intercept)  aqhi_average_og   0.3\n",
      "\n",
      "Fixed effects:\n",
      "\n",
      "Fitting model16 with formula: death_next_season ~ aqhi_average_og + ndvi_average + wspd_average_og + tavg_average_og + prcp_average + (aqhi_average_og|operation_id)\n"
     ]
    },
    {
     "name": "stderr",
     "output_type": "stream",
     "text": [
      "Fitting Models:  52%|█████▏    | 17/33 [17:19<18:52, 70.77s/it]"
     ]
    },
    {
     "name": "stdout",
     "output_type": "stream",
     "text": [
      "Linear mixed model fit by maximum likelihood  ['lmerMod']\n",
      "Formula: death_next_season~aqhi_average_og+ndvi_average+wspd_average_og+tavg_average_og+prcp_average+(aqhi_average_og|operation_id)\n",
      "\n",
      "Family: binomial\t Inference: parametric\n",
      "\n",
      "Number of observations: 112626\t Groups: {'operation_id': 17.0}\n",
      "\n",
      "Log-likelihood: -64749.028 \t AIC: 129516.056\n",
      "\n",
      "Random effects:\n",
      "\n",
      "                         Name    Var    Std\n",
      "operation_id      (Intercept)  3.119  1.766\n",
      "operation_id  aqhi_average_og  2.475  1.573\n",
      "\n",
      "                      IV1              IV2   Corr\n",
      "operation_id  (Intercept)  aqhi_average_og  0.285\n",
      "\n",
      "Fixed effects:\n",
      "\n",
      "Fitting model17 with formula: death_next_season ~ aqhi_average_og * ndvi_average + tavg_average_og * prcp_average + wspd_average_og + (aqhi_average_og|operation_id)\n"
     ]
    },
    {
     "name": "stderr",
     "output_type": "stream",
     "text": [
      "Fitting Models:  55%|█████▍    | 18/33 [19:25<21:49, 87.30s/it]"
     ]
    },
    {
     "name": "stdout",
     "output_type": "stream",
     "text": [
      "Linear mixed model fit by maximum likelihood  ['lmerMod']\n",
      "Formula: death_next_season~aqhi_average_og*ndvi_average+tavg_average_og*prcp_average+wspd_average_og+(aqhi_average_og|operation_id)\n",
      "\n",
      "Family: binomial\t Inference: parametric\n",
      "\n",
      "Number of observations: 112626\t Groups: {'operation_id': 17.0}\n",
      "\n",
      "Log-likelihood: -64744.864 \t AIC: 129511.727\n",
      "\n",
      "Random effects:\n",
      "\n",
      "                         Name    Var    Std\n",
      "operation_id      (Intercept)  3.114  1.765\n",
      "operation_id  aqhi_average_og  2.445  1.564\n",
      "\n",
      "                      IV1              IV2   Corr\n",
      "operation_id  (Intercept)  aqhi_average_og  0.297\n",
      "\n",
      "Fixed effects:\n",
      "\n",
      "Fitting model18 with formula: death_next_season ~ aqhi_skew + ndvi_skew + (aqhi_skew|region)\n"
     ]
    },
    {
     "name": "stderr",
     "output_type": "stream",
     "text": [
      "Fitting Models:  58%|█████▊    | 19/33 [20:00<16:43, 71.66s/it]"
     ]
    },
    {
     "name": "stdout",
     "output_type": "stream",
     "text": [
      "**NOTE**: Column for 'residuals' not created in model.data, but saved in model.resid only. This is because you have rows with NaNs in your data.\n",
      "\n",
      "**NOTE** Column for 'fits' not created in model.data, but saved in model.fits only. This is because you have rows with NaNs in your data.\n",
      "\n",
      "Linear mixed model fit by maximum likelihood  ['lmerMod']\n",
      "Formula: death_next_season~aqhi_skew+ndvi_skew+(aqhi_skew|region)\n",
      "\n",
      "Family: binomial\t Inference: parametric\n",
      "\n",
      "Number of observations: 112626\t Groups: {'region': 9.0}\n",
      "\n",
      "Log-likelihood: -69909.878 \t AIC: 139831.757\n",
      "\n",
      "Random effects:\n",
      "\n",
      "               Name    Var    Std\n",
      "region  (Intercept)  0.938  0.969\n",
      "region    aqhi_skew  0.303  0.550\n",
      "\n",
      "                IV1        IV2   Corr\n",
      "region  (Intercept)  aqhi_skew -0.309\n",
      "\n",
      "Fixed effects:\n",
      "\n",
      "Fitting model19 with formula: death_next_season ~ aqhi_skew * ndvi_skew + (aqhi_skew|region)\n"
     ]
    },
    {
     "name": "stderr",
     "output_type": "stream",
     "text": [
      "Fitting Models:  61%|██████    | 20/33 [20:46<13:48, 63.71s/it]"
     ]
    },
    {
     "name": "stdout",
     "output_type": "stream",
     "text": [
      "**NOTE**: Column for 'residuals' not created in model.data, but saved in model.resid only. This is because you have rows with NaNs in your data.\n",
      "\n",
      "**NOTE** Column for 'fits' not created in model.data, but saved in model.fits only. This is because you have rows with NaNs in your data.\n",
      "\n",
      "Linear mixed model fit by maximum likelihood  ['lmerMod']\n",
      "Formula: death_next_season~aqhi_skew*ndvi_skew+(aqhi_skew|region)\n",
      "\n",
      "Family: binomial\t Inference: parametric\n",
      "\n",
      "Number of observations: 112626\t Groups: {'region': 9.0}\n",
      "\n",
      "Log-likelihood: -69549.952 \t AIC: 139113.904\n",
      "\n",
      "Random effects:\n",
      "\n",
      "               Name    Var    Std\n",
      "region  (Intercept)  0.929  0.964\n",
      "region    aqhi_skew  0.317  0.563\n",
      "\n",
      "                IV1        IV2   Corr\n",
      "region  (Intercept)  aqhi_skew -0.327\n",
      "\n",
      "Fixed effects:\n",
      "\n",
      "Fitting model20 with formula: death_next_season ~ aqhi_skew * ndvi_average + wspd_average_og + (aqhi_skew|region)\n"
     ]
    },
    {
     "name": "stderr",
     "output_type": "stream",
     "text": [
      "Fitting Models:  64%|██████▎   | 21/33 [21:42<12:17, 61.43s/it]"
     ]
    },
    {
     "name": "stdout",
     "output_type": "stream",
     "text": [
      "**NOTE**: Column for 'residuals' not created in model.data, but saved in model.resid only. This is because you have rows with NaNs in your data.\n",
      "\n",
      "**NOTE** Column for 'fits' not created in model.data, but saved in model.fits only. This is because you have rows with NaNs in your data.\n",
      "\n",
      "Linear mixed model fit by maximum likelihood  ['lmerMod']\n",
      "Formula: death_next_season~aqhi_skew*ndvi_average+wspd_average_og+(aqhi_skew|region)\n",
      "\n",
      "Family: binomial\t Inference: parametric\n",
      "\n",
      "Number of observations: 112626\t Groups: {'region': 9.0}\n",
      "\n",
      "Log-likelihood: -69008.256 \t AIC: 138032.512\n",
      "\n",
      "Random effects:\n",
      "\n",
      "               Name    Var    Std\n",
      "region  (Intercept)  1.064  1.031\n",
      "region    aqhi_skew  0.288  0.537\n",
      "\n",
      "                IV1        IV2   Corr\n",
      "region  (Intercept)  aqhi_skew -0.372\n",
      "\n",
      "Fixed effects:\n",
      "\n",
      "Fitting model21 with formula: death_next_season ~ aqhi_skew * ndvi_average * wspd_average_og + (aqhi_skew|region)\n"
     ]
    },
    {
     "name": "stderr",
     "output_type": "stream",
     "text": [
      "Fitting Models:  67%|██████▋   | 22/33 [22:53<11:49, 64.51s/it]"
     ]
    },
    {
     "name": "stdout",
     "output_type": "stream",
     "text": [
      "**NOTE**: Column for 'residuals' not created in model.data, but saved in model.resid only. This is because you have rows with NaNs in your data.\n",
      "\n",
      "**NOTE** Column for 'fits' not created in model.data, but saved in model.fits only. This is because you have rows with NaNs in your data.\n",
      "\n",
      "Linear mixed model fit by maximum likelihood  ['lmerMod']\n",
      "Formula: death_next_season~aqhi_skew*ndvi_average*wspd_average_og+(aqhi_skew|region)\n",
      "\n",
      "Family: binomial\t Inference: parametric\n",
      "\n",
      "Number of observations: 112626\t Groups: {'region': 9.0}\n",
      "\n",
      "Log-likelihood: -68988.392 \t AIC: 137998.783\n",
      "\n",
      "Random effects:\n",
      "\n",
      "               Name    Var    Std\n",
      "region  (Intercept)  1.069  1.034\n",
      "region    aqhi_skew  0.267  0.517\n",
      "\n",
      "                IV1        IV2   Corr\n",
      "region  (Intercept)  aqhi_skew -0.391\n",
      "\n",
      "Fixed effects:\n",
      "\n",
      "Fitting model22 with formula: death_next_season ~ aqhi_max * ndvi_average + wspd_average_og + (ndvi_average|region)\n"
     ]
    },
    {
     "name": "stderr",
     "output_type": "stream",
     "text": [
      "Fitting Models:  70%|██████▉   | 23/33 [23:42<09:56, 59.66s/it]"
     ]
    },
    {
     "name": "stdout",
     "output_type": "stream",
     "text": [
      "Linear mixed model fit by maximum likelihood  ['lmerMod']\n",
      "Formula: death_next_season~aqhi_max*ndvi_average+wspd_average_og+(ndvi_average|region)\n",
      "\n",
      "Family: binomial\t Inference: parametric\n",
      "\n",
      "Number of observations: 112626\t Groups: {'region': 9.0}\n",
      "\n",
      "Log-likelihood: -69971.489 \t AIC: 139958.979\n",
      "\n",
      "Random effects:\n",
      "\n",
      "                Name    Var    Std\n",
      "region   (Intercept)  1.571  1.253\n",
      "region  ndvi_average  0.410  0.640\n",
      "\n",
      "                IV1           IV2   Corr\n",
      "region  (Intercept)  ndvi_average  0.778\n",
      "\n",
      "Fixed effects:\n",
      "\n",
      "Fitting model23 with formula: death_next_season ~ aqhi_max * ndvi_average * wspd_average_og + (ndvi_average|region)\n"
     ]
    },
    {
     "name": "stderr",
     "output_type": "stream",
     "text": [
      "Fitting Models:  73%|███████▎  | 24/33 [25:11<10:15, 68.40s/it]"
     ]
    },
    {
     "name": "stdout",
     "output_type": "stream",
     "text": [
      "Linear mixed model fit by maximum likelihood  ['lmerMod']\n",
      "Formula: death_next_season~aqhi_max*ndvi_average*wspd_average_og+(ndvi_average|region)\n",
      "\n",
      "Family: binomial\t Inference: parametric\n",
      "\n",
      "Number of observations: 112626\t Groups: {'region': 9.0}\n",
      "\n",
      "Log-likelihood: -69921.390 \t AIC: 139864.781\n",
      "\n",
      "Random effects:\n",
      "\n",
      "                Name    Var    Std\n",
      "region   (Intercept)  1.600  1.265\n",
      "region  ndvi_average  0.445  0.667\n",
      "\n",
      "                IV1           IV2   Corr\n",
      "region  (Intercept)  ndvi_average  0.779\n",
      "\n",
      "Fixed effects:\n",
      "\n",
      "Fitting model24 with formula: death_next_season ~ aqhi_max * ndvi_average + wspd_average_og + (aqhi_average_og|operation_id)\n"
     ]
    },
    {
     "name": "stderr",
     "output_type": "stream",
     "text": [
      "Fitting Models:  76%|███████▌  | 25/33 [26:34<09:42, 72.83s/it]"
     ]
    },
    {
     "name": "stdout",
     "output_type": "stream",
     "text": [
      "Linear mixed model fit by maximum likelihood  ['lmerMod']\n",
      "Formula: death_next_season~aqhi_max*ndvi_average+wspd_average_og+(aqhi_average_og|operation_id)\n",
      "\n",
      "Family: binomial\t Inference: parametric\n",
      "\n",
      "Number of observations: 112626\t Groups: {'operation_id': 17.0}\n",
      "\n",
      "Log-likelihood: -65310.212 \t AIC: 130636.424\n",
      "\n",
      "Random effects:\n",
      "\n",
      "                         Name    Var    Std\n",
      "operation_id      (Intercept)  2.773  1.665\n",
      "operation_id  aqhi_average_og  3.428  1.851\n",
      "\n",
      "                      IV1              IV2   Corr\n",
      "operation_id  (Intercept)  aqhi_average_og  0.534\n",
      "\n",
      "Fixed effects:\n",
      "\n",
      "Fitting model25 with formula: death_next_season ~ aqhi_max * ndvi_average * wspd_average_og + (aqhi_average_og|operation_id)\n"
     ]
    },
    {
     "name": "stderr",
     "output_type": "stream",
     "text": [
      "Fitting Models:  79%|███████▉  | 26/33 [28:12<09:22, 80.36s/it]"
     ]
    },
    {
     "name": "stdout",
     "output_type": "stream",
     "text": [
      "Linear mixed model fit by maximum likelihood  ['lmerMod']\n",
      "Formula: death_next_season~aqhi_max*ndvi_average*wspd_average_og+(aqhi_average_og|operation_id)\n",
      "\n",
      "Family: binomial\t Inference: parametric\n",
      "\n",
      "Number of observations: 112626\t Groups: {'operation_id': 17.0}\n",
      "\n",
      "Log-likelihood: -65256.332 \t AIC: 130534.664\n",
      "\n",
      "Random effects:\n",
      "\n",
      "                         Name    Var    Std\n",
      "operation_id      (Intercept)  2.801  1.674\n",
      "operation_id  aqhi_average_og  3.585  1.894\n",
      "\n",
      "                      IV1              IV2   Corr\n",
      "operation_id  (Intercept)  aqhi_average_og  0.503\n",
      "\n",
      "Fixed effects:\n",
      "\n",
      "Fitting model26 with formula: death_next_season ~ aqhi_average_og * ndvi_skew + wspd_average_og + (aqhi_average_og|region)\n"
     ]
    },
    {
     "name": "stderr",
     "output_type": "stream",
     "text": [
      "Fitting Models:  82%|████████▏ | 27/33 [29:27<07:53, 78.93s/it]"
     ]
    },
    {
     "name": "stdout",
     "output_type": "stream",
     "text": [
      "**NOTE**: Column for 'residuals' not created in model.data, but saved in model.resid only. This is because you have rows with NaNs in your data.\n",
      "\n",
      "**NOTE** Column for 'fits' not created in model.data, but saved in model.fits only. This is because you have rows with NaNs in your data.\n",
      "\n",
      "Linear mixed model fit by maximum likelihood  ['lmerMod']\n",
      "Formula: death_next_season~aqhi_average_og*ndvi_skew+wspd_average_og+(aqhi_average_og|region)\n",
      "\n",
      "Family: binomial\t Inference: parametric\n",
      "\n",
      "Number of observations: 112626\t Groups: {'region': 9.0}\n",
      "\n",
      "Log-likelihood: -69690.056 \t AIC: 139396.112\n",
      "\n",
      "Random effects:\n",
      "\n",
      "                   Name    Var    Std\n",
      "region      (Intercept)  1.890  1.375\n",
      "region  aqhi_average_og  0.173  0.416\n",
      "\n",
      "                IV1              IV2   Corr\n",
      "region  (Intercept)  aqhi_average_og  0.521\n",
      "\n",
      "Fixed effects:\n",
      "\n",
      "Fitting model27 with formula: death_next_season ~ aqhi_average_og * ndvi_skew * wspd_average_og + (aqhi_average_og|region)\n"
     ]
    },
    {
     "name": "stderr",
     "output_type": "stream",
     "text": [
      "Fitting Models:  85%|████████▍ | 28/33 [31:12<07:12, 86.54s/it]"
     ]
    },
    {
     "name": "stdout",
     "output_type": "stream",
     "text": [
      "**NOTE**: Column for 'residuals' not created in model.data, but saved in model.resid only. This is because you have rows with NaNs in your data.\n",
      "\n",
      "**NOTE** Column for 'fits' not created in model.data, but saved in model.fits only. This is because you have rows with NaNs in your data.\n",
      "\n",
      "Linear mixed model fit by maximum likelihood  ['lmerMod']\n",
      "Formula: death_next_season~aqhi_average_og*ndvi_skew*wspd_average_og+(aqhi_average_og|region)\n",
      "\n",
      "Family: binomial\t Inference: parametric\n",
      "\n",
      "Number of observations: 112626\t Groups: {'region': 9.0}\n",
      "\n",
      "Log-likelihood: -69650.795 \t AIC: 139323.590\n",
      "\n",
      "Random effects:\n",
      "\n",
      "                   Name    Var    Std\n",
      "region      (Intercept)  1.883  1.372\n",
      "region  aqhi_average_og  0.164  0.405\n",
      "\n",
      "                IV1              IV2   Corr\n",
      "region  (Intercept)  aqhi_average_og  0.519\n",
      "\n",
      "Fixed effects:\n",
      "\n",
      "Fitting model28 with formula: death_next_season ~ aqhi_average_og * ndvi_skew * wspd_average_og + (aqhi_average_og|operation_id)\n"
     ]
    },
    {
     "name": "stderr",
     "output_type": "stream",
     "text": [
      "Fitting Models:  88%|████████▊ | 29/33 [33:07<06:21, 95.35s/it]"
     ]
    },
    {
     "name": "stdout",
     "output_type": "stream",
     "text": [
      "**NOTE**: Column for 'residuals' not created in model.data, but saved in model.resid only. This is because you have rows with NaNs in your data.\n",
      "\n",
      "**NOTE** Column for 'fits' not created in model.data, but saved in model.fits only. This is because you have rows with NaNs in your data.\n",
      "\n",
      "Linear mixed model fit by maximum likelihood  ['lmerMod']\n",
      "Formula: death_next_season~aqhi_average_og*ndvi_skew*wspd_average_og+(aqhi_average_og|operation_id)\n",
      "\n",
      "Family: binomial\t Inference: parametric\n",
      "\n",
      "Number of observations: 112626\t Groups: {'operation_id': 17.0}\n",
      "\n",
      "Log-likelihood: -66063.215 \t AIC: 132148.430\n",
      "\n",
      "Random effects:\n",
      "\n",
      "                         Name    Var    Std\n",
      "operation_id      (Intercept)  2.248  1.499\n",
      "operation_id  aqhi_average_og  2.254  1.501\n",
      "\n",
      "                      IV1              IV2   Corr\n",
      "operation_id  (Intercept)  aqhi_average_og  0.314\n",
      "\n",
      "Fixed effects:\n",
      "\n",
      "Fitting model29 with formula: death_next_season ~ ndvi_average + o3_average + (o3_average|operation_id)\n"
     ]
    },
    {
     "name": "stderr",
     "output_type": "stream",
     "text": [
      "Fitting Models:  91%|█████████ | 30/33 [33:56<04:04, 81.41s/it]"
     ]
    },
    {
     "name": "stdout",
     "output_type": "stream",
     "text": [
      "Linear mixed model fit by maximum likelihood  ['lmerMod']\n",
      "Formula: death_next_season~ndvi_average+o3_average+(o3_average|operation_id)\n",
      "\n",
      "Family: binomial\t Inference: parametric\n",
      "\n",
      "Number of observations: 112626\t Groups: {'operation_id': 17.0}\n",
      "\n",
      "Log-likelihood: -64696.648 \t AIC: 129405.296\n",
      "\n",
      "Random effects:\n",
      "\n",
      "                     Name    Var    Std\n",
      "operation_id  (Intercept)  3.519  1.876\n",
      "operation_id   o3_average  3.953  1.988\n",
      "\n",
      "                      IV1         IV2   Corr\n",
      "operation_id  (Intercept)  o3_average  0.682\n",
      "\n",
      "Fixed effects:\n",
      "\n",
      "Fitting model30 with formula: death_next_season ~ ndvi_average * o3_average + (o3_average|operation_id)\n"
     ]
    },
    {
     "name": "stderr",
     "output_type": "stream",
     "text": [
      "Fitting Models:  94%|█████████▍| 31/33 [34:42<02:21, 70.75s/it]"
     ]
    },
    {
     "name": "stdout",
     "output_type": "stream",
     "text": [
      "Linear mixed model fit by maximum likelihood  ['lmerMod']\n",
      "Formula: death_next_season~ndvi_average*o3_average+(o3_average|operation_id)\n",
      "\n",
      "Family: binomial\t Inference: parametric\n",
      "\n",
      "Number of observations: 112626\t Groups: {'operation_id': 17.0}\n",
      "\n",
      "Log-likelihood: -64652.788 \t AIC: 129319.575\n",
      "\n",
      "Random effects:\n",
      "\n",
      "                     Name    Var    Std\n",
      "operation_id  (Intercept)  3.477  1.865\n",
      "operation_id   o3_average  3.947  1.987\n",
      "\n",
      "                      IV1         IV2   Corr\n",
      "operation_id  (Intercept)  o3_average  0.691\n",
      "\n",
      "Fixed effects:\n",
      "\n",
      "Fitting model31 with formula: death_next_season ~ ndvi_average * o3_average + wspd_average_og + (o3_average|operation_id)\n"
     ]
    },
    {
     "name": "stderr",
     "output_type": "stream",
     "text": [
      "Fitting Models:  97%|█████████▋| 32/33 [35:39<01:06, 66.58s/it]"
     ]
    },
    {
     "name": "stdout",
     "output_type": "stream",
     "text": [
      "Linear mixed model fit by maximum likelihood  ['lmerMod']\n",
      "Formula: death_next_season~ndvi_average*o3_average+wspd_average_og+(o3_average|operation_id)\n",
      "\n",
      "Family: binomial\t Inference: parametric\n",
      "\n",
      "Number of observations: 112626\t Groups: {'operation_id': 17.0}\n",
      "\n",
      "Log-likelihood: -64589.811 \t AIC: 129195.623\n",
      "\n",
      "Random effects:\n",
      "\n",
      "                     Name    Var    Std\n",
      "operation_id  (Intercept)  3.482  1.866\n",
      "operation_id   o3_average  3.883  1.970\n",
      "\n",
      "                      IV1         IV2   Corr\n",
      "operation_id  (Intercept)  o3_average  0.685\n",
      "\n",
      "Fixed effects:\n",
      "\n",
      "Fitting model32 with formula: death_next_season ~ ndvi_average * o3_average * wspd_average_og + (o3_average|operation_id)\n"
     ]
    },
    {
     "name": "stderr",
     "output_type": "stream",
     "text": [
      "Fitting Models: 100%|██████████| 33/33 [37:32<00:00, 68.27s/it]"
     ]
    },
    {
     "name": "stdout",
     "output_type": "stream",
     "text": [
      "Linear mixed model fit by maximum likelihood  ['lmerMod']\n",
      "Formula: death_next_season~ndvi_average*o3_average*wspd_average_og+(o3_average|operation_id)\n",
      "\n",
      "Family: binomial\t Inference: parametric\n",
      "\n",
      "Number of observations: 112626\t Groups: {'operation_id': 17.0}\n",
      "\n",
      "Log-likelihood: -64516.287 \t AIC: 129054.575\n",
      "\n",
      "Random effects:\n",
      "\n",
      "                     Name    Var    Std\n",
      "operation_id  (Intercept)  3.464  1.861\n",
      "operation_id   o3_average  4.042  2.011\n",
      "\n",
      "                      IV1         IV2  Corr\n",
      "operation_id  (Intercept)  o3_average  0.69\n",
      "\n",
      "Fixed effects:\n",
      "\n"
     ]
    },
    {
     "name": "stderr",
     "output_type": "stream",
     "text": [
      "\n"
     ]
    },
    {
     "name": "stdout",
     "output_type": "stream",
     "text": [
      "Models saved to /Users/maximeff-nectar/Documents/ledge-nectar/aqi/outputs/fitted_GLMMs.pkl.\n",
      "Models saved to /Users/maximeff-nectar/Documents/ledge-nectar/aqi/outputs/summaries_GLMMs.pkl.\n"
     ]
    }
   ],
   "source": [
    "fitted_models, model_summaries = fit_models(\n",
    "    data=data,\n",
    "    formulas=model_formulas\n",
    ")\n",
    "\n",
    "save_fitted_models(\n",
    "    fitted_models=fitted_models,\n",
    "    filename=\"fitted_GLMMs.pkl\"\n",
    ")\n",
    "\n",
    "save_fitted_models(\n",
    "    fitted_models=model_summaries,\n",
    "    filename=\"summaries_GLMMs.pkl\"\n",
    ")"
   ]
  },
  {
   "cell_type": "markdown",
   "metadata": {},
   "source": [
    "### Load models in session"
   ]
  },
  {
   "cell_type": "code",
   "execution_count": 10,
   "metadata": {},
   "outputs": [
    {
     "name": "stdout",
     "output_type": "stream",
     "text": [
      "Models loaded from /Users/maximeff-nectar/Documents/ledge-nectar/aqi/outputs/fitted_GLMMs.pkl.\n"
     ]
    }
   ],
   "source": [
    "fitted_models = load_fitted_models(\"fitted_GLMMs.pkl\")"
   ]
  },
  {
   "cell_type": "code",
   "execution_count": 42,
   "metadata": {},
   "outputs": [
    {
     "name": "stdout",
     "output_type": "stream",
     "text": [
      "Current best model is model0 with an AIC of 142319.23490165427\n",
      "Current best model is model1 with an AIC of 138946.95945308142\n",
      "Current best model is model2 with an AIC of 138683.27267033744\n",
      "Current best model is model3 with an AIC of 136834.70097385795\n",
      "Current best model is model4 with an AIC of 136833.73152819887\n",
      "Current best model is model8 with an AIC of 132924.32125198081\n",
      "Current best model is model9 with an AIC of 131344.03276013533\n",
      "Current best model is model15 with an AIC of 131268.5978089567\n",
      "Current best model is model16 with an AIC of 129516.05600307278\n",
      "Current best model is model17 with an AIC of 129511.72722862924\n",
      "Current best model is model29 with an AIC of 129405.29649029924\n",
      "Current best model is model30 with an AIC of 129319.57520043233\n",
      "Current best model is model31 with an AIC of 129195.6229296742\n",
      "Current best model is model32 with an AIC of 129054.57482102417\n"
     ]
    }
   ],
   "source": [
    "# Initialize variables\n",
    "best_aic = float('inf')\n",
    "best_model = None\n",
    "best_model_name = None\n",
    "\n",
    "# Loop over the fitted models dict\n",
    "for model_name, model in fitted_models.items():\n",
    "    \n",
    "    # Check if the model has warnings\n",
    "    if len(model.warnings) == 0:\n",
    "        # Get the AIC for the current model\n",
    "        current_aic = model.AIC\n",
    "        \n",
    "        # Compare with the best AIC found so far\n",
    "        if current_aic < best_aic:\n",
    "            print(f\"Current best model is {model_name} with an AIC of {current_aic}\")\n",
    "            best_aic = current_aic\n",
    "            best_model = model\n",
    "            best_model_name = model_name\n",
    "    else:\n",
    "        print(f\"Model {model_name} did not converge due to warnings: {model.warnings}\")"
   ]
  },
  {
   "cell_type": "code",
   "execution_count": 43,
   "metadata": {},
   "outputs": [
    {
     "name": "stdout",
     "output_type": "stream",
     "text": [
      "Linear mixed model fit by maximum likelihood  ['lmerMod']\n",
      "Formula: death_next_season~ndvi_average*o3_average*wspd_average_og+(o3_average|operation_id)\n",
      "\n",
      "Family: binomial\t Inference: parametric\n",
      "\n",
      "Number of observations: 112626\t Groups: {'operation_id': 17.0}\n",
      "\n",
      "Log-likelihood: -64516.287 \t AIC: 129054.575\n",
      "\n",
      "Random effects:\n",
      "\n",
      "                     Name    Var    Std\n",
      "operation_id  (Intercept)  3.464  1.861\n",
      "operation_id   o3_average  4.042  2.011\n",
      "\n",
      "                      IV1         IV2  Corr\n",
      "operation_id  (Intercept)  o3_average  0.69\n",
      "\n",
      "Fixed effects:\n",
      "\n",
      "                                         Estimate  2.5_ci  97.5_ci     SE  \\\n",
      "(Intercept)                                -0.149  -1.040    0.743  0.455   \n",
      "ndvi_average                               -0.413  -0.432   -0.393  0.010   \n",
      "o3_average                                  1.243   0.287    2.200  0.488   \n",
      "wspd_average_og                            -0.126  -0.142   -0.109  0.009   \n",
      "ndvi_average:o3_average                    -0.106  -0.126   -0.085  0.010   \n",
      "ndvi_average:wspd_average_og               -0.026  -0.041   -0.012  0.008   \n",
      "o3_average:wspd_average_og                  0.039   0.021    0.058  0.009   \n",
      "ndvi_average:o3_average:wspd_average_og    -0.068  -0.082   -0.054  0.007   \n",
      "\n",
      "                                            OR  OR_2.5_ci  OR_97.5_ci   Prob  \\\n",
      "(Intercept)                              0.862      0.353       2.102  0.463   \n",
      "ndvi_average                             0.662      0.649       0.675  0.398   \n",
      "o3_average                               3.467      1.332       9.022  0.776   \n",
      "wspd_average_og                          0.882      0.867       0.897  0.469   \n",
      "ndvi_average:o3_average                  0.900      0.882       0.918  0.474   \n",
      "ndvi_average:wspd_average_og             0.974      0.960       0.988  0.493   \n",
      "o3_average:wspd_average_og               1.040      1.021       1.059  0.510   \n",
      "ndvi_average:o3_average:wspd_average_og  0.934      0.921       0.947  0.483   \n",
      "\n",
      "                                         Prob_2.5_ci  Prob_97.5_ci  Z-stat  \\\n",
      "(Intercept)                                    0.261         0.678  -0.327   \n",
      "ndvi_average                                   0.394         0.403 -41.907   \n",
      "o3_average                                     0.571         0.900   2.548   \n",
      "wspd_average_og                                0.464         0.473 -14.552   \n",
      "ndvi_average:o3_average                        0.469         0.479 -10.328   \n",
      "ndvi_average:wspd_average_og                   0.490         0.497  -3.509   \n",
      "o3_average:wspd_average_og                     0.505         0.514   4.202   \n",
      "ndvi_average:o3_average:wspd_average_og        0.480         0.486  -9.611   \n",
      "\n",
      "                                         P-val  Sig  \n",
      "(Intercept)                              0.744       \n",
      "ndvi_average                             0.000  ***  \n",
      "o3_average                               0.011    *  \n",
      "wspd_average_og                          0.000  ***  \n",
      "ndvi_average:o3_average                  0.000  ***  \n",
      "ndvi_average:wspd_average_og             0.000  ***  \n",
      "o3_average:wspd_average_og               0.000  ***  \n",
      "ndvi_average:o3_average:wspd_average_og  0.000  ***  \n"
     ]
    }
   ],
   "source": [
    "print(best_model.fit())"
   ]
  },
  {
   "cell_type": "markdown",
   "metadata": {},
   "source": [
    "Save the best model output"
   ]
  },
  {
   "cell_type": "code",
   "execution_count": 44,
   "metadata": {},
   "outputs": [],
   "source": [
    "project_root = os.path.dirname(os.getcwd())\n",
    "output_dir = os.path.join(project_root, 'outputs')    \n",
    "filepath = os.path.join(output_dir, \"GLMM_best_model.joblib\")\n",
    "\n",
    "save_model(best_model, filepath = filepath)"
   ]
  }
 ],
 "metadata": {
  "kernelspec": {
   "display_name": "aqi-PLczhCOw-py3.10",
   "language": "python",
   "name": "python3"
  },
  "language_info": {
   "codemirror_mode": {
    "name": "ipython",
    "version": 3
   },
   "file_extension": ".py",
   "mimetype": "text/x-python",
   "name": "python",
   "nbconvert_exporter": "python",
   "pygments_lexer": "ipython3",
   "version": "3.10.1"
  }
 },
 "nbformat": 4,
 "nbformat_minor": 2
}
