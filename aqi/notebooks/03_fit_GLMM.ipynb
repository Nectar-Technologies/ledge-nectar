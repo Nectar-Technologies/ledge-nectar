{
 "cells": [
  {
   "cell_type": "markdown",
   "metadata": {},
   "source": [
    "\n",
    "## DESCRIPTION\n",
    "\n",
    "This notebook fits a series of generalized linear mixed models"
   ]
  },
  {
   "cell_type": "markdown",
   "metadata": {
    "vscode": {
     "languageId": "plaintext"
    }
   },
   "source": [
    "***\n",
    "### SETUP"
   ]
  },
  {
   "cell_type": "markdown",
   "metadata": {},
   "source": [
    "Load the setup script"
   ]
  },
  {
   "cell_type": "code",
   "execution_count": 1,
   "metadata": {},
   "outputs": [],
   "source": [
    "from utils.common_setup import *"
   ]
  },
  {
   "cell_type": "markdown",
   "metadata": {},
   "source": [
    "Load the functions to :\n",
    "\n",
    "- Fit the models\n",
    "- Save the models\n",
    "- Load the models"
   ]
  },
  {
   "cell_type": "code",
   "execution_count": 2,
   "metadata": {},
   "outputs": [],
   "source": [
    "from utils.functions import fit_models, save_fitted_models, load_fitted_models"
   ]
  },
  {
   "cell_type": "markdown",
   "metadata": {},
   "source": [
    "Import the cleaned dataset"
   ]
  },
  {
   "cell_type": "code",
   "execution_count": 3,
   "metadata": {},
   "outputs": [],
   "source": [
    "data_folder = os.path.join(os.getcwd(), '..', 'data')\n",
    "data = pd.read_csv(os.path.join(data_folder, 'clean_data.csv'))"
   ]
  },
  {
   "cell_type": "markdown",
   "metadata": {},
   "source": [
    "### IF PackageNotInstalledError: The R package \"lme4\" is not installed. \n",
    "\n",
    "\n",
    "See README for instruction\n",
    "\n",
    "\n",
    "```\n",
    "from rpy2.robjects.packages import importr\n",
    "\n",
    "\n",
    "utils = importr('utils')\n",
    "utils.chooseCRANmirror(ind=12)\n",
    "utils.install_packages('lme4')\n",
    "```"
   ]
  },
  {
   "cell_type": "markdown",
   "metadata": {},
   "source": [
    "### FIT GLMM"
   ]
  },
  {
   "cell_type": "markdown",
   "metadata": {},
   "source": [
    "### Define model formulas"
   ]
  },
  {
   "cell_type": "code",
   "execution_count": 4,
   "metadata": {},
   "outputs": [],
   "source": [
    "model_formulas = [\n",
    "    # model0\n",
    "    \"death_next_season ~ 1 + (1|region)\",\n",
    "\n",
    "    # model\n",
    "    \"death_next_season ~ aqhi_average * ndvi_average + (aqhi_average|region)\",\n",
    "\n",
    "    # model2\n",
    "    \"death_next_season ~ aqhi_average + ndvi_average + (aqhi_average|region)\",\n",
    "\n",
    "    # model4\n",
    "    \"death_next_season ~ aqhi_average + ndvi_average + tavg_average + prcp_average + wspd_average + (aqhi_average|region)\",\n",
    "\n",
    "    # model5\n",
    "    \"death_next_season ~ aqhi_average * wspd_average + ndvi_average + tavg_average + prcp_average + (aqhi_average|region)\",\n",
    "\n",
    "    # model6\n",
    "    \"death_next_season ~ aqhi_average * wspd_average * tavg_average + (aqhi_average|region)\",\n",
    "\n",
    "    # model7a\n",
    "    \"death_next_season ~ aqhi_average * wspd_average * ndvi_average + (ndvi_average|region)\",\n",
    "\n",
    "    # model7\n",
    "    \"death_next_season ~ aqhi_average * ndvi_average + wspd_average + (ndvi_average|region)\",\n",
    "\n",
    "    # model9\n",
    "    \"death_next_season ~ aqhi_skew * ndvi_average * wspd_average + (aqhi_skew|region)\",\n",
    "\n",
    "    # model10\n",
    "    \"death_next_season ~ aqhi_skew * ndvi_skew + (aqhi_skew|region)\",\n",
    "\n",
    "    # model11\n",
    "    \"death_next_season ~ aqhi_skew * ndvi_average + wspd_average + (aqhi_skew|region)\",\n",
    "\n",
    "    # model12\n",
    "    \"death_next_season ~ aqhi_max * ndvi_average + wspd_average + (ndvi_average|region)\",\n",
    "\n",
    "    # model14\n",
    "    \"death_next_season ~ aqhi_max * ndvi_average * wspd_average + (ndvi_average|region)\",\n",
    "\n",
    "    # model15\n",
    "    \"death_next_season ~ aqhi_average * ndvi_skew * wspd_average + (aqhi_average|region)\",\n",
    "\n",
    "    # model16\n",
    "    \"death_next_season ~ aqhi_average * ndvi_skew + wspd_average + (aqhi_average|region)\",\n",
    "\n",
    "    # model17\n",
    "    \"death_next_season ~ aqhi_average * ndvi_skew * wspd_average + (aqhi_average|operation_id)\",\n",
    "\n",
    "    # model18\n",
    "    \"death_next_season ~ aqhi_max * ndvi_average + aqhi_average * wspd_average + (aqhi_average|operation_id)\",\n",
    "\n",
    "    # model19\n",
    "    \"death_next_season ~ ndvi_average * aqhi_average + (aqhi_average|operation_id)\",\n",
    "\n",
    "    # model20\n",
    "    \"death_next_season ~ ndvi_average * aqhi_average * wspd_average + (aqhi_average|operation_id)\",\n",
    "\n",
    "    # model21\n",
    "    \"death_next_season ~ ndvi_average * aqhi_average + (1|operation_id)\",\n",
    "\n",
    "    # model22\n",
    "    \"death_next_season ~ ndvi_average * aqhi_average * wspd_average + (1|operation_id)\",\n",
    "\n",
    "    # model23\n",
    "    \"death_next_season ~ ndvi_average * aqhi_average + wspd_average + (1|operation_id)\",\n",
    "\n",
    "    # model24\n",
    "    \"death_next_season ~ ndvi_average + aqhi_average + wspd_average + (1|operation_id)\",\n",
    "\n",
    "    # model25\n",
    "    \"death_next_season ~ ndvi_average + aqhi_average + wspd_average + (aqhi_average|operation_id)\",\n",
    "\n",
    "    # model26\n",
    "    \"death_next_season ~ ndvi_average + aqhi_average * wspd_average + (aqhi_average|operation_id)\",\n",
    "\n",
    "    # model27\n",
    "    \"death_next_season ~ ndvi_average + o3_average + (o3_average|operation_id)\",\n",
    "\n",
    "    # model28\n",
    "    \"death_next_season ~ ndvi_average * o3_average + (o3_average|operation_id)\",\n",
    "\n",
    "    # model29\n",
    "    \"death_next_season ~ ndvi_average * o3_average + wspd_average + (o3_average|operation_id)\",\n",
    "\n",
    "    # model30\n",
    "    \"death_next_season ~ ndvi_average * o3_average * wspd_average + (o3_average|operation_id)\",\n",
    "\n",
    "    # model31\n",
    "    \"death_next_season ~ ndvi_average + aqhi_average + wspd_average + tavg_average + prcp_average + (aqhi_average|operation_id)\",\n",
    "\n",
    "    # model33\n",
    "    \"death_next_season ~ ndvi_average * aqhi_average + aqhi_max * wspd_average + tavg_average * prcp_average + (aqhi_average|operation_id)\"\n",
    "]"
   ]
  },
  {
   "cell_type": "markdown",
   "metadata": {},
   "source": [
    "### Fit the models and save (**run once**)\n",
    "\n",
    "Fitting all models takes **approximately 3 hours.**\n",
    "\n",
    "Run once and save in ```aqi/outputs``` folder so you can reimport in session.\n",
    "\n",
    "File is called ```fitted_GLMMs.pkl```"
   ]
  },
  {
   "cell_type": "code",
   "execution_count": 95,
   "metadata": {},
   "outputs": [
    {
     "name": "stderr",
     "output_type": "stream",
     "text": [
      "Fitting Models:   0%|          | 0/31 [00:00<?, ?it/s]"
     ]
    },
    {
     "name": "stdout",
     "output_type": "stream",
     "text": [
      "Fitting model0 with formula: death_next_season ~ 1 + (1|region)\n"
     ]
    },
    {
     "name": "stderr",
     "output_type": "stream",
     "text": [
      "Fitting Models:   3%|▎         | 1/31 [00:13<06:40, 13.35s/it]"
     ]
    },
    {
     "name": "stdout",
     "output_type": "stream",
     "text": [
      "Linear mixed model fit by maximum likelihood  ['lmerMod']\n",
      "Formula: death_next_season~1+(1|region)\n",
      "\n",
      "Family: binomial\t Inference: parametric\n",
      "\n",
      "Number of observations: 112626\t Groups: {'region': 9.0}\n",
      "\n",
      "Log-likelihood: -71157.617 \t AIC: 142319.235\n",
      "\n",
      "Random effects:\n",
      "\n",
      "               Name    Var    Std\n",
      "region  (Intercept)  0.979  0.989\n",
      "\n",
      "No random effect correlations specified\n",
      "\n",
      "Fixed effects:\n",
      "\n",
      "Fitting model1 with formula: death_next_season ~ aqhi_average * ndvi_average + (aqhi_average|region)\n"
     ]
    },
    {
     "name": "stderr",
     "output_type": "stream",
     "text": [
      "Fitting Models:   6%|▋         | 2/31 [01:10<19:00, 39.32s/it]"
     ]
    },
    {
     "name": "stdout",
     "output_type": "stream",
     "text": [
      "Linear mixed model fit by maximum likelihood  ['lmerMod']\n",
      "Formula: death_next_season~aqhi_average*ndvi_average+(aqhi_average|region)\n",
      "\n",
      "Family: binomial\t Inference: parametric\n",
      "\n",
      "Number of observations: 112626\t Groups: {'region': 9.0}\n",
      "\n",
      "Log-likelihood: -69346.746 \t AIC: 138707.492\n",
      "\n",
      "Random effects:\n",
      "\n",
      "                Name    Var    Std\n",
      "region   (Intercept)  5.019  2.240\n",
      "region  aqhi_average  2.563  1.601\n",
      "\n",
      "                IV1           IV2   Corr\n",
      "region  (Intercept)  aqhi_average -0.814\n",
      "\n",
      "Fixed effects:\n",
      "\n",
      "Fitting model2 with formula: death_next_season ~ aqhi_average + ndvi_average + (aqhi_average|region)\n"
     ]
    },
    {
     "name": "stderr",
     "output_type": "stream",
     "text": [
      "Fitting Models:  10%|▉         | 3/31 [01:53<19:04, 40.86s/it]"
     ]
    },
    {
     "name": "stdout",
     "output_type": "stream",
     "text": [
      "Linear mixed model fit by maximum likelihood  ['lmerMod']\n",
      "Formula: death_next_season~aqhi_average+ndvi_average+(aqhi_average|region)\n",
      "\n",
      "Family: binomial\t Inference: parametric\n",
      "\n",
      "Number of observations: 112626\t Groups: {'region': 9.0}\n",
      "\n",
      "Log-likelihood: -69483.983 \t AIC: 138979.966\n",
      "\n",
      "Random effects:\n",
      "\n",
      "                Name    Var    Std\n",
      "region   (Intercept)  6.045  2.459\n",
      "region  aqhi_average  2.888  1.699\n",
      "\n",
      "                IV1           IV2   Corr\n",
      "region  (Intercept)  aqhi_average -0.859\n",
      "\n",
      "Fixed effects:\n",
      "\n",
      "Fitting model3 with formula: death_next_season ~ aqhi_average + ndvi_average + tavg_average + prcp_average + wspd_average + (aqhi_average|region)\n"
     ]
    },
    {
     "name": "stderr",
     "output_type": "stream",
     "text": [
      "Fitting Models:  13%|█▎        | 4/31 [02:59<22:49, 50.71s/it]"
     ]
    },
    {
     "name": "stdout",
     "output_type": "stream",
     "text": [
      "Linear mixed model fit by maximum likelihood  ['lmerMod']\n",
      "Formula: death_next_season~aqhi_average+ndvi_average+tavg_average+prcp_average+wspd_average+(aqhi_average|region)\n",
      "\n",
      "Family: binomial\t Inference: parametric\n",
      "\n",
      "Number of observations: 112626\t Groups: {'region': 9.0}\n",
      "\n",
      "Log-likelihood: -68446.787 \t AIC: 136911.575\n",
      "\n",
      "Random effects:\n",
      "\n",
      "                Name    Var    Std\n",
      "region   (Intercept)  7.763  2.786\n",
      "region  aqhi_average  2.953  1.718\n",
      "\n",
      "                IV1           IV2   Corr\n",
      "region  (Intercept)  aqhi_average -0.882\n",
      "\n",
      "Fixed effects:\n",
      "\n",
      "Fitting model4 with formula: death_next_season ~ aqhi_average * wspd_average + ndvi_average + tavg_average + prcp_average + (aqhi_average|region)\n"
     ]
    },
    {
     "name": "stderr",
     "output_type": "stream",
     "text": [
      "Fitting Models:  16%|█▌        | 5/31 [04:52<31:43, 73.21s/it]"
     ]
    },
    {
     "name": "stdout",
     "output_type": "stream",
     "text": [
      "Linear mixed model fit by maximum likelihood  ['lmerMod']\n",
      "Formula: death_next_season~aqhi_average*wspd_average+ndvi_average+tavg_average+prcp_average+(aqhi_average|region)\n",
      "\n",
      "Family: binomial\t Inference: parametric\n",
      "\n",
      "Number of observations: 112626\t Groups: {'region': 9.0}\n",
      "\n",
      "Log-likelihood: -68439.579 \t AIC: 136899.158\n",
      "\n",
      "Random effects:\n",
      "\n",
      "                Name    Var    Std\n",
      "region   (Intercept)  7.759  2.785\n",
      "region  aqhi_average  2.897  1.702\n",
      "\n",
      "                IV1           IV2   Corr\n",
      "region  (Intercept)  aqhi_average -0.884\n",
      "\n",
      "Fixed effects:\n",
      "\n",
      "Fitting model5 with formula: death_next_season ~ aqhi_average * wspd_average * tavg_average + (aqhi_average|region)\n"
     ]
    },
    {
     "name": "stderr",
     "output_type": "stream",
     "text": [
      "Fitting Models:  19%|█▉        | 6/31 [06:33<34:25, 82.60s/it]"
     ]
    },
    {
     "name": "stdout",
     "output_type": "stream",
     "text": [
      "Model failed to converge with max|grad| = 0.0033073 (tol = 0.002, component 1) \n",
      "\n",
      "Linear mixed model fit by maximum likelihood  ['lmerMod']\n",
      "Formula: death_next_season~aqhi_average*wspd_average*tavg_average+(aqhi_average|region)\n",
      "\n",
      "Family: binomial\t Inference: parametric\n",
      "\n",
      "Number of observations: 112626\t Groups: {'region': 9.0}\n",
      "\n",
      "Log-likelihood: -68338.861 \t AIC: 136699.722\n",
      "\n",
      "Random effects:\n",
      "\n",
      "                Name     Var   Std\n",
      "region   (Intercept)  10.174  3.19\n",
      "region  aqhi_average   5.106  2.26\n",
      "\n",
      "                IV1           IV2   Corr\n",
      "region  (Intercept)  aqhi_average -0.909\n",
      "\n",
      "Fixed effects:\n",
      "\n",
      "Fitting model6 with formula: death_next_season ~ aqhi_average * wspd_average * ndvi_average + (ndvi_average|region)\n"
     ]
    },
    {
     "name": "stderr",
     "output_type": "stream",
     "text": [
      "Fitting Models:  23%|██▎       | 7/31 [09:18<43:51, 109.65s/it]"
     ]
    },
    {
     "name": "stdout",
     "output_type": "stream",
     "text": [
      "Model failed to converge with max|grad| = 0.00205578 (tol = 0.002, component 1) \n",
      "\n",
      "Linear mixed model fit by maximum likelihood  ['lmerMod']\n",
      "Formula: death_next_season~aqhi_average*wspd_average*ndvi_average+(ndvi_average|region)\n",
      "\n",
      "Family: binomial\t Inference: parametric\n",
      "\n",
      "Number of observations: 112626\t Groups: {'region': 9.0}\n",
      "\n",
      "Log-likelihood: -69439.475 \t AIC: 138900.951\n",
      "\n",
      "Random effects:\n",
      "\n",
      "                Name      Var     Std\n",
      "region   (Intercept)   21.492   4.636\n",
      "region  ndvi_average  791.786  28.139\n",
      "\n",
      "                IV1           IV2   Corr\n",
      "region  (Intercept)  ndvi_average -0.968\n",
      "\n",
      "Fixed effects:\n",
      "\n",
      "Fitting model7 with formula: death_next_season ~ aqhi_average * ndvi_average + wspd_average + (ndvi_average|region)\n"
     ]
    },
    {
     "name": "stderr",
     "output_type": "stream",
     "text": [
      "Fitting Models:  26%|██▌       | 8/31 [11:15<42:51, 111.79s/it]"
     ]
    },
    {
     "name": "stdout",
     "output_type": "stream",
     "text": [
      "Linear mixed model fit by maximum likelihood  ['lmerMod']\n",
      "Formula: death_next_season~aqhi_average*ndvi_average+wspd_average+(ndvi_average|region)\n",
      "\n",
      "Family: binomial\t Inference: parametric\n",
      "\n",
      "Number of observations: 112626\t Groups: {'region': 9.0}\n",
      "\n",
      "Log-likelihood: -69466.084 \t AIC: 138948.167\n",
      "\n",
      "Random effects:\n",
      "\n",
      "                Name      Var     Std\n",
      "region   (Intercept)   20.091   4.482\n",
      "region  ndvi_average  747.709  27.344\n",
      "\n",
      "                IV1           IV2   Corr\n",
      "region  (Intercept)  ndvi_average -0.966\n",
      "\n",
      "Fixed effects:\n",
      "\n",
      "Fitting model8 with formula: death_next_season ~ aqhi_skew * ndvi_average * wspd_average + (aqhi_skew|region)\n"
     ]
    },
    {
     "name": "stderr",
     "output_type": "stream",
     "text": [
      "Fitting Models:  29%|██▉       | 9/31 [12:43<38:21, 104.64s/it]"
     ]
    },
    {
     "name": "stdout",
     "output_type": "stream",
     "text": [
      "**NOTE**: Column for 'residuals' not created in model.data, but saved in model.resid only. This is because you have rows with NaNs in your data.\n",
      "\n",
      "**NOTE** Column for 'fits' not created in model.data, but saved in model.fits only. This is because you have rows with NaNs in your data.\n",
      "\n",
      "Linear mixed model fit by maximum likelihood  ['lmerMod']\n",
      "Formula: death_next_season~aqhi_skew*ndvi_average*wspd_average+(aqhi_skew|region)\n",
      "\n",
      "Family: binomial\t Inference: parametric\n",
      "\n",
      "Number of observations: 112626\t Groups: {'region': 9.0}\n",
      "\n",
      "Log-likelihood: -68988.409 \t AIC: 137998.817\n",
      "\n",
      "Random effects:\n",
      "\n",
      "               Name    Var    Std\n",
      "region  (Intercept)  1.707  1.306\n",
      "region    aqhi_skew  0.600  0.774\n",
      "\n",
      "                IV1        IV2   Corr\n",
      "region  (Intercept)  aqhi_skew -0.689\n",
      "\n",
      "Fixed effects:\n",
      "\n",
      "Fitting model9 with formula: death_next_season ~ aqhi_skew * ndvi_skew + (aqhi_skew|region)\n"
     ]
    },
    {
     "name": "stderr",
     "output_type": "stream",
     "text": [
      "Fitting Models:  32%|███▏      | 10/31 [13:23<29:37, 84.63s/it]"
     ]
    },
    {
     "name": "stdout",
     "output_type": "stream",
     "text": [
      "**NOTE**: Column for 'residuals' not created in model.data, but saved in model.resid only. This is because you have rows with NaNs in your data.\n",
      "\n",
      "**NOTE** Column for 'fits' not created in model.data, but saved in model.fits only. This is because you have rows with NaNs in your data.\n",
      "\n",
      "Linear mixed model fit by maximum likelihood  ['lmerMod']\n",
      "Formula: death_next_season~aqhi_skew*ndvi_skew+(aqhi_skew|region)\n",
      "\n",
      "Family: binomial\t Inference: parametric\n",
      "\n",
      "Number of observations: 112626\t Groups: {'region': 9.0}\n",
      "\n",
      "Log-likelihood: -69549.952 \t AIC: 139113.904\n",
      "\n",
      "Random effects:\n",
      "\n",
      "               Name    Var    Std\n",
      "region  (Intercept)  1.537  1.240\n",
      "region    aqhi_skew  0.747  0.864\n",
      "\n",
      "                IV1        IV2   Corr\n",
      "region  (Intercept)  aqhi_skew -0.679\n",
      "\n",
      "Fixed effects:\n",
      "\n",
      "Fitting model10 with formula: death_next_season ~ aqhi_skew * ndvi_average + wspd_average + (aqhi_skew|region)\n"
     ]
    },
    {
     "name": "stderr",
     "output_type": "stream",
     "text": [
      "Fitting Models:  35%|███▌      | 11/31 [14:08<24:07, 72.38s/it]"
     ]
    },
    {
     "name": "stdout",
     "output_type": "stream",
     "text": [
      "**NOTE**: Column for 'residuals' not created in model.data, but saved in model.resid only. This is because you have rows with NaNs in your data.\n",
      "\n",
      "**NOTE** Column for 'fits' not created in model.data, but saved in model.fits only. This is because you have rows with NaNs in your data.\n",
      "\n",
      "Linear mixed model fit by maximum likelihood  ['lmerMod']\n",
      "Formula: death_next_season~aqhi_skew*ndvi_average+wspd_average+(aqhi_skew|region)\n",
      "\n",
      "Family: binomial\t Inference: parametric\n",
      "\n",
      "Number of observations: 112626\t Groups: {'region': 9.0}\n",
      "\n",
      "Log-likelihood: -69010.985 \t AIC: 138037.969\n",
      "\n",
      "Random effects:\n",
      "\n",
      "               Name    Var    Std\n",
      "region  (Intercept)  1.719  1.311\n",
      "region    aqhi_skew  0.663  0.815\n",
      "\n",
      "                IV1        IV2   Corr\n",
      "region  (Intercept)  aqhi_skew -0.687\n",
      "\n",
      "Fixed effects:\n",
      "\n",
      "Fitting model11 with formula: death_next_season ~ aqhi_max * ndvi_average + wspd_average + (ndvi_average|region)\n"
     ]
    },
    {
     "name": "stderr",
     "output_type": "stream",
     "text": [
      "Fitting Models:  39%|███▊      | 12/31 [1:17:19<6:21:11, 1203.77s/it]"
     ]
    },
    {
     "name": "stdout",
     "output_type": "stream",
     "text": [
      "Linear mixed model fit by maximum likelihood  ['lmerMod']\n",
      "Formula: death_next_season~aqhi_max*ndvi_average+wspd_average+(ndvi_average|region)\n",
      "\n",
      "Family: binomial\t Inference: parametric\n",
      "\n",
      "Number of observations: 112626\t Groups: {'region': 9.0}\n",
      "\n",
      "Log-likelihood: -69955.917 \t AIC: 139927.834\n",
      "\n",
      "Random effects:\n",
      "\n",
      "                Name      Var     Std\n",
      "region   (Intercept)   23.625   4.861\n",
      "region  ndvi_average  955.171  30.906\n",
      "\n",
      "                IV1           IV2   Corr\n",
      "region  (Intercept)  ndvi_average -0.988\n",
      "\n",
      "Fixed effects:\n",
      "\n",
      "Fitting model12 with formula: death_next_season ~ aqhi_max * ndvi_average * wspd_average + (ndvi_average|region)\n"
     ]
    },
    {
     "name": "stderr",
     "output_type": "stream",
     "text": [
      "Fitting Models:  42%|████▏     | 13/31 [2:32:31<11:01:44, 2205.79s/it]"
     ]
    },
    {
     "name": "stdout",
     "output_type": "stream",
     "text": [
      "Model failed to converge with max|grad| = 0.0152815 (tol = 0.002, component 1) \n",
      "\n",
      "Model is nearly unidentifiable: very large eigenvalue\n",
      " - Rescale variables? \n",
      "\n",
      "Model is nearly unidentifiable: large eigenvalue ratio\n",
      " - Rescale variables? \n",
      "\n",
      "Linear mixed model fit by maximum likelihood  ['lmerMod']\n",
      "Formula: death_next_season~aqhi_max*ndvi_average*wspd_average+(ndvi_average|region)\n",
      "\n",
      "Family: binomial\t Inference: parametric\n",
      "\n",
      "Number of observations: 112626\t Groups: {'region': 9.0}\n",
      "\n",
      "Log-likelihood: -69912.271 \t AIC: 139846.541\n",
      "\n",
      "Random effects:\n",
      "\n",
      "                Name       Var     Std\n",
      "region   (Intercept)    24.973   4.997\n",
      "region  ndvi_average  1005.980  31.717\n",
      "\n",
      "                IV1           IV2   Corr\n",
      "region  (Intercept)  ndvi_average -0.988\n",
      "\n",
      "Fixed effects:\n",
      "\n",
      "Fitting model13 with formula: death_next_season ~ aqhi_average * ndvi_skew * wspd_average + (aqhi_average|region)\n"
     ]
    },
    {
     "name": "stderr",
     "output_type": "stream",
     "text": [
      "Fitting Models:  45%|████▌     | 14/31 [2:40:39<7:57:57, 1686.88s/it] "
     ]
    },
    {
     "name": "stdout",
     "output_type": "stream",
     "text": [
      "Model failed to converge with max|grad| = 0.00692553 (tol = 0.002, component 1) \n",
      "\n",
      "**NOTE**: Column for 'residuals' not created in model.data, but saved in model.resid only. This is because you have rows with NaNs in your data.\n",
      "\n",
      "**NOTE** Column for 'fits' not created in model.data, but saved in model.fits only. This is because you have rows with NaNs in your data.\n",
      "\n",
      "Linear mixed model fit by maximum likelihood  ['lmerMod']\n",
      "Formula: death_next_season~aqhi_average*ndvi_skew*wspd_average+(aqhi_average|region)\n",
      "\n",
      "Family: binomial\t Inference: parametric\n",
      "\n",
      "Number of observations: 112626\t Groups: {'region': 9.0}\n",
      "\n",
      "Log-likelihood: -69691.481 \t AIC: 139404.962\n",
      "\n",
      "Random effects:\n",
      "\n",
      "                Name    Var    Std\n",
      "region   (Intercept)  4.513  2.124\n",
      "region  aqhi_average  2.223  1.491\n",
      "\n",
      "                IV1           IV2   Corr\n",
      "region  (Intercept)  aqhi_average -0.785\n",
      "\n",
      "Fixed effects:\n",
      "\n",
      "Fitting model14 with formula: death_next_season ~ aqhi_average * ndvi_skew + wspd_average + (aqhi_average|region)\n"
     ]
    },
    {
     "name": "stderr",
     "output_type": "stream",
     "text": [
      "Fitting Models:  48%|████▊     | 15/31 [2:41:27<5:18:07, 1192.97s/it]"
     ]
    },
    {
     "name": "stdout",
     "output_type": "stream",
     "text": [
      "**NOTE**: Column for 'residuals' not created in model.data, but saved in model.resid only. This is because you have rows with NaNs in your data.\n",
      "\n",
      "**NOTE** Column for 'fits' not created in model.data, but saved in model.fits only. This is because you have rows with NaNs in your data.\n",
      "\n",
      "Linear mixed model fit by maximum likelihood  ['lmerMod']\n",
      "Formula: death_next_season~aqhi_average*ndvi_skew+wspd_average+(aqhi_average|region)\n",
      "\n",
      "Family: binomial\t Inference: parametric\n",
      "\n",
      "Number of observations: 112626\t Groups: {'region': 9.0}\n",
      "\n",
      "Log-likelihood: -69708.179 \t AIC: 139432.359\n",
      "\n",
      "Random effects:\n",
      "\n",
      "                Name    Var    Std\n",
      "region   (Intercept)  4.728  2.174\n",
      "region  aqhi_average  2.401  1.549\n",
      "\n",
      "                IV1           IV2   Corr\n",
      "region  (Intercept)  aqhi_average -0.796\n",
      "\n",
      "Fixed effects:\n",
      "\n",
      "Fitting model15 with formula: death_next_season ~ aqhi_average * ndvi_skew * wspd_average + (aqhi_average|operation_id)\n"
     ]
    },
    {
     "name": "stderr",
     "output_type": "stream",
     "text": [
      "Fitting Models:  52%|█████▏    | 16/31 [2:43:26<3:37:27, 869.86s/it] "
     ]
    },
    {
     "name": "stdout",
     "output_type": "stream",
     "text": [
      "Model failed to converge with max|grad| = 0.00304883 (tol = 0.002, component 1) \n",
      "\n",
      "**NOTE**: Column for 'residuals' not created in model.data, but saved in model.resid only. This is because you have rows with NaNs in your data.\n",
      "\n",
      "**NOTE** Column for 'fits' not created in model.data, but saved in model.fits only. This is because you have rows with NaNs in your data.\n",
      "\n",
      "Linear mixed model fit by maximum likelihood  ['lmerMod']\n",
      "Formula: death_next_season~aqhi_average*ndvi_skew*wspd_average+(aqhi_average|operation_id)\n",
      "\n",
      "Family: binomial\t Inference: parametric\n",
      "\n",
      "Number of observations: 112626\t Groups: {'operation_id': 17.0}\n",
      "\n",
      "Log-likelihood: -66149.218 \t AIC: 132320.435\n",
      "\n",
      "Random effects:\n",
      "\n",
      "                      Name     Var    Std\n",
      "operation_id   (Intercept)  36.502  6.042\n",
      "operation_id  aqhi_average  26.081  5.107\n",
      "\n",
      "                      IV1           IV2   Corr\n",
      "operation_id  (Intercept)  aqhi_average -0.973\n",
      "\n",
      "Fixed effects:\n",
      "\n",
      "Fitting model16 with formula: death_next_season ~ aqhi_max * ndvi_average + aqhi_average * wspd_average + (aqhi_average|operation_id)\n"
     ]
    },
    {
     "name": "stderr",
     "output_type": "stream",
     "text": [
      "Fitting Models:  55%|█████▍    | 17/31 [2:46:12<2:33:33, 658.11s/it]"
     ]
    },
    {
     "name": "stdout",
     "output_type": "stream",
     "text": [
      "Model failed to converge with max|grad| = 0.00256152 (tol = 0.002, component 1) \n",
      "\n",
      "Linear mixed model fit by maximum likelihood  ['lmerMod']\n",
      "Formula: death_next_season~aqhi_max*ndvi_average+aqhi_average*wspd_average+(aqhi_average|operation_id)\n",
      "\n",
      "Family: binomial\t Inference: parametric\n",
      "\n",
      "Number of observations: 112626\t Groups: {'operation_id': 17.0}\n",
      "\n",
      "Log-likelihood: -65339.892 \t AIC: 130699.785\n",
      "\n",
      "Random effects:\n",
      "\n",
      "                      Name     Var    Std\n",
      "operation_id   (Intercept)  30.248  5.500\n",
      "operation_id  aqhi_average  23.366  4.834\n",
      "\n",
      "                      IV1           IV2   Corr\n",
      "operation_id  (Intercept)  aqhi_average -0.966\n",
      "\n",
      "Fixed effects:\n",
      "\n",
      "Fitting model17 with formula: death_next_season ~ ndvi_average * aqhi_average + (aqhi_average|operation_id)\n"
     ]
    },
    {
     "name": "stderr",
     "output_type": "stream",
     "text": [
      "Fitting Models:  58%|█████▊    | 18/31 [2:47:43<1:45:37, 487.51s/it]"
     ]
    },
    {
     "name": "stdout",
     "output_type": "stream",
     "text": [
      "Linear mixed model fit by maximum likelihood  ['lmerMod']\n",
      "Formula: death_next_season~ndvi_average*aqhi_average+(aqhi_average|operation_id)\n",
      "\n",
      "Family: binomial\t Inference: parametric\n",
      "\n",
      "Number of observations: 112626\t Groups: {'operation_id': 17.0}\n",
      "\n",
      "Log-likelihood: -65733.251 \t AIC: 131480.502\n",
      "\n",
      "Random effects:\n",
      "\n",
      "                      Name     Var    Std\n",
      "operation_id   (Intercept)  37.674  6.138\n",
      "operation_id  aqhi_average  27.394  5.234\n",
      "\n",
      "                      IV1           IV2   Corr\n",
      "operation_id  (Intercept)  aqhi_average -0.974\n",
      "\n",
      "Fixed effects:\n",
      "\n",
      "Fitting model18 with formula: death_next_season ~ ndvi_average * aqhi_average * wspd_average + (aqhi_average|operation_id)\n"
     ]
    },
    {
     "name": "stderr",
     "output_type": "stream",
     "text": [
      "Fitting Models:  61%|██████▏   | 19/31 [2:50:46<1:19:13, 396.09s/it]"
     ]
    },
    {
     "name": "stdout",
     "output_type": "stream",
     "text": [
      "Linear mixed model fit by maximum likelihood  ['lmerMod']\n",
      "Formula: death_next_season~ndvi_average*aqhi_average*wspd_average+(aqhi_average|operation_id)\n",
      "\n",
      "Family: binomial\t Inference: parametric\n",
      "\n",
      "Number of observations: 112626\t Groups: {'operation_id': 17.0}\n",
      "\n",
      "Log-likelihood: -65703.364 \t AIC: 131428.727\n",
      "\n",
      "Random effects:\n",
      "\n",
      "                      Name     Var    Std\n",
      "operation_id   (Intercept)  37.361  6.112\n",
      "operation_id  aqhi_average  26.945  5.191\n",
      "\n",
      "                      IV1           IV2   Corr\n",
      "operation_id  (Intercept)  aqhi_average -0.973\n",
      "\n",
      "Fixed effects:\n",
      "\n",
      "Fitting model19 with formula: death_next_season ~ ndvi_average * aqhi_average + (1|operation_id)\n"
     ]
    },
    {
     "name": "stderr",
     "output_type": "stream",
     "text": [
      "Fitting Models:  65%|██████▍   | 20/31 [2:51:11<52:14, 284.92s/it]  "
     ]
    },
    {
     "name": "stdout",
     "output_type": "stream",
     "text": [
      "Linear mixed model fit by maximum likelihood  ['lmerMod']\n",
      "Formula: death_next_season~ndvi_average*aqhi_average+(1|operation_id)\n",
      "\n",
      "Family: binomial\t Inference: parametric\n",
      "\n",
      "Number of observations: 112626\t Groups: {'operation_id': 17.0}\n",
      "\n",
      "Log-likelihood: -66436.358 \t AIC: 132882.716\n",
      "\n",
      "Random effects:\n",
      "\n",
      "                     Name    Var    Std\n",
      "operation_id  (Intercept)  2.286  1.512\n",
      "\n",
      "No random effect correlations specified\n",
      "\n",
      "Fixed effects:\n",
      "\n",
      "Fitting model20 with formula: death_next_season ~ ndvi_average * aqhi_average * wspd_average + (1|operation_id)\n"
     ]
    },
    {
     "name": "stderr",
     "output_type": "stream",
     "text": [
      "Fitting Models:  68%|██████▊   | 21/31 [2:52:17<36:30, 219.06s/it]"
     ]
    },
    {
     "name": "stdout",
     "output_type": "stream",
     "text": [
      "Linear mixed model fit by maximum likelihood  ['lmerMod']\n",
      "Formula: death_next_season~ndvi_average*aqhi_average*wspd_average+(1|operation_id)\n",
      "\n",
      "Family: binomial\t Inference: parametric\n",
      "\n",
      "Number of observations: 112626\t Groups: {'operation_id': 17.0}\n",
      "\n",
      "Log-likelihood: -66377.312 \t AIC: 132772.625\n",
      "\n",
      "Random effects:\n",
      "\n",
      "                     Name    Var    Std\n",
      "operation_id  (Intercept)  2.352  1.534\n",
      "\n",
      "No random effect correlations specified\n",
      "\n",
      "Fixed effects:\n",
      "\n",
      "Fitting model21 with formula: death_next_season ~ ndvi_average * aqhi_average + wspd_average + (1|operation_id)\n"
     ]
    },
    {
     "name": "stderr",
     "output_type": "stream",
     "text": [
      "Fitting Models:  71%|███████   | 22/31 [2:52:46<24:18, 162.03s/it]"
     ]
    },
    {
     "name": "stdout",
     "output_type": "stream",
     "text": [
      "Linear mixed model fit by maximum likelihood  ['lmerMod']\n",
      "Formula: death_next_season~ndvi_average*aqhi_average+wspd_average+(1|operation_id)\n",
      "\n",
      "Family: binomial\t Inference: parametric\n",
      "\n",
      "Number of observations: 112626\t Groups: {'operation_id': 17.0}\n",
      "\n",
      "Log-likelihood: -66387.695 \t AIC: 132787.390\n",
      "\n",
      "Random effects:\n",
      "\n",
      "                     Name    Var    Std\n",
      "operation_id  (Intercept)  2.346  1.532\n",
      "\n",
      "No random effect correlations specified\n",
      "\n",
      "Fixed effects:\n",
      "\n",
      "Fitting model22 with formula: death_next_season ~ ndvi_average + aqhi_average + wspd_average + (1|operation_id)\n"
     ]
    },
    {
     "name": "stderr",
     "output_type": "stream",
     "text": [
      "Fitting Models:  74%|███████▍  | 23/31 [2:53:10<16:05, 120.65s/it]"
     ]
    },
    {
     "name": "stdout",
     "output_type": "stream",
     "text": [
      "Linear mixed model fit by maximum likelihood  ['lmerMod']\n",
      "Formula: death_next_season~ndvi_average+aqhi_average+wspd_average+(1|operation_id)\n",
      "\n",
      "Family: binomial\t Inference: parametric\n",
      "\n",
      "Number of observations: 112626\t Groups: {'operation_id': 17.0}\n",
      "\n",
      "Log-likelihood: -66515.599 \t AIC: 133041.198\n",
      "\n",
      "Random effects:\n",
      "\n",
      "                     Name    Var  Std\n",
      "operation_id  (Intercept)  2.249  1.5\n",
      "\n",
      "No random effect correlations specified\n",
      "\n",
      "Fixed effects:\n",
      "\n",
      "Fitting model23 with formula: death_next_season ~ ndvi_average + aqhi_average + wspd_average + (aqhi_average|operation_id)\n"
     ]
    },
    {
     "name": "stderr",
     "output_type": "stream",
     "text": [
      "Fitting Models:  77%|███████▋  | 24/31 [2:54:59<13:40, 117.19s/it]"
     ]
    },
    {
     "name": "stdout",
     "output_type": "stream",
     "text": [
      "Linear mixed model fit by maximum likelihood  ['lmerMod']\n",
      "Formula: death_next_season~ndvi_average+aqhi_average+wspd_average+(aqhi_average|operation_id)\n",
      "\n",
      "Family: binomial\t Inference: parametric\n",
      "\n",
      "Number of observations: 112626\t Groups: {'operation_id': 17.0}\n",
      "\n",
      "Log-likelihood: -65762.770 \t AIC: 131539.540\n",
      "\n",
      "Random effects:\n",
      "\n",
      "                      Name     Var    Std\n",
      "operation_id   (Intercept)  37.052  6.087\n",
      "operation_id  aqhi_average  26.350  5.133\n",
      "\n",
      "                      IV1           IV2   Corr\n",
      "operation_id  (Intercept)  aqhi_average -0.973\n",
      "\n",
      "Fixed effects:\n",
      "\n",
      "Fitting model24 with formula: death_next_season ~ ndvi_average + aqhi_average * wspd_average + (aqhi_average|operation_id)\n"
     ]
    },
    {
     "name": "stderr",
     "output_type": "stream",
     "text": [
      "Fitting Models:  81%|████████  | 25/31 [2:56:35<11:03, 110.62s/it]"
     ]
    },
    {
     "name": "stdout",
     "output_type": "stream",
     "text": [
      "Linear mixed model fit by maximum likelihood  ['lmerMod']\n",
      "Formula: death_next_season~ndvi_average+aqhi_average*wspd_average+(aqhi_average|operation_id)\n",
      "\n",
      "Family: binomial\t Inference: parametric\n",
      "\n",
      "Number of observations: 112626\t Groups: {'operation_id': 17.0}\n",
      "\n",
      "Log-likelihood: -65762.762 \t AIC: 131541.524\n",
      "\n",
      "Random effects:\n",
      "\n",
      "                      Name     Var    Std\n",
      "operation_id   (Intercept)  37.063  6.088\n",
      "operation_id  aqhi_average  26.358  5.134\n",
      "\n",
      "                      IV1           IV2   Corr\n",
      "operation_id  (Intercept)  aqhi_average -0.974\n",
      "\n",
      "Fixed effects:\n",
      "\n",
      "Fitting model25 with formula: death_next_season ~ ndvi_average + o3_average + (o3_average|operation_id)\n"
     ]
    },
    {
     "name": "stderr",
     "output_type": "stream",
     "text": [
      "Fitting Models:  84%|████████▍ | 26/31 [3:00:20<12:04, 144.99s/it]"
     ]
    },
    {
     "name": "stdout",
     "output_type": "stream",
     "text": [
      "Linear mixed model fit by maximum likelihood  ['lmerMod']\n",
      "Formula: death_next_season~ndvi_average+o3_average+(o3_average|operation_id)\n",
      "\n",
      "Family: binomial\t Inference: parametric\n",
      "\n",
      "Number of observations: 112626\t Groups: {'operation_id': 17.0}\n",
      "\n",
      "Log-likelihood: -64696.648 \t AIC: 129405.297\n",
      "\n",
      "Random effects:\n",
      "\n",
      "                     Name     Var    Std\n",
      "operation_id  (Intercept)  55.101  7.423\n",
      "operation_id   o3_average   0.023  0.151\n",
      "\n",
      "                      IV1         IV2   Corr\n",
      "operation_id  (Intercept)  o3_average -0.983\n",
      "\n",
      "Fixed effects:\n",
      "\n",
      "Fitting model26 with formula: death_next_season ~ ndvi_average * o3_average + (o3_average|operation_id)\n"
     ]
    },
    {
     "name": "stderr",
     "output_type": "stream",
     "text": [
      "Fitting Models:  87%|████████▋ | 27/31 [3:07:24<15:15, 228.83s/it]"
     ]
    },
    {
     "name": "stdout",
     "output_type": "stream",
     "text": [
      "Linear mixed model fit by maximum likelihood  ['lmerMod']\n",
      "Formula: death_next_season~ndvi_average*o3_average+(o3_average|operation_id)\n",
      "\n",
      "Family: binomial\t Inference: parametric\n",
      "\n",
      "Number of observations: 112626\t Groups: {'operation_id': 17.0}\n",
      "\n",
      "Log-likelihood: -64652.788 \t AIC: 129319.575\n",
      "\n",
      "Random effects:\n",
      "\n",
      "                     Name     Var    Std\n",
      "operation_id  (Intercept)  54.805  7.403\n",
      "operation_id   o3_average   0.023  0.151\n",
      "\n",
      "                      IV1         IV2   Corr\n",
      "operation_id  (Intercept)  o3_average -0.983\n",
      "\n",
      "Fixed effects:\n",
      "\n",
      "Fitting model27 with formula: death_next_season ~ ndvi_average * o3_average + wspd_average + (o3_average|operation_id)\n"
     ]
    },
    {
     "name": "stderr",
     "output_type": "stream",
     "text": [
      "Fitting Models:  90%|█████████ | 28/31 [3:13:05<13:07, 262.34s/it]"
     ]
    },
    {
     "name": "stdout",
     "output_type": "stream",
     "text": [
      "Linear mixed model fit by maximum likelihood  ['lmerMod']\n",
      "Formula: death_next_season~ndvi_average*o3_average+wspd_average+(o3_average|operation_id)\n",
      "\n",
      "Family: binomial\t Inference: parametric\n",
      "\n",
      "Number of observations: 112626\t Groups: {'operation_id': 17.0}\n",
      "\n",
      "Log-likelihood: -64613.069 \t AIC: 129242.139\n",
      "\n",
      "Random effects:\n",
      "\n",
      "                     Name     Var   Std\n",
      "operation_id  (Intercept)  53.876  7.34\n",
      "operation_id   o3_average   0.022  0.15\n",
      "\n",
      "                      IV1         IV2   Corr\n",
      "operation_id  (Intercept)  o3_average -0.983\n",
      "\n",
      "Fixed effects:\n",
      "\n",
      "Fitting model28 with formula: death_next_season ~ ndvi_average * o3_average * wspd_average + (o3_average|operation_id)\n"
     ]
    },
    {
     "name": "stderr",
     "output_type": "stream",
     "text": [
      "Fitting Models:  94%|█████████▎| 29/31 [3:21:21<11:05, 332.59s/it]"
     ]
    },
    {
     "name": "stdout",
     "output_type": "stream",
     "text": [
      "Model failed to converge with max|grad| = 0.0273736 (tol = 0.002, component 1) \n",
      "\n",
      "Model is nearly unidentifiable: very large eigenvalue\n",
      " - Rescale variables? \n",
      "\n",
      "Model is nearly unidentifiable: large eigenvalue ratio\n",
      " - Rescale variables? \n",
      "\n",
      "Linear mixed model fit by maximum likelihood  ['lmerMod']\n",
      "Formula: death_next_season~ndvi_average*o3_average*wspd_average+(o3_average|operation_id)\n",
      "\n",
      "Family: binomial\t Inference: parametric\n",
      "\n",
      "Number of observations: 112626\t Groups: {'operation_id': 17.0}\n",
      "\n",
      "Log-likelihood: -64579.417 \t AIC: 129180.833\n",
      "\n",
      "Random effects:\n",
      "\n",
      "                     Name     Var    Std\n",
      "operation_id  (Intercept)  54.632  7.391\n",
      "operation_id   o3_average   0.023  0.151\n",
      "\n",
      "                      IV1         IV2   Corr\n",
      "operation_id  (Intercept)  o3_average -0.983\n",
      "\n",
      "Fixed effects:\n",
      "\n",
      "Fitting model29 with formula: death_next_season ~ ndvi_average + aqhi_average + wspd_average + tavg_average + prcp_average + (aqhi_average|operation_id)\n"
     ]
    },
    {
     "name": "stderr",
     "output_type": "stream",
     "text": [
      "Fitting Models:  97%|█████████▋| 30/31 [3:23:35<04:32, 272.97s/it]"
     ]
    },
    {
     "name": "stdout",
     "output_type": "stream",
     "text": [
      "Linear mixed model fit by maximum likelihood  ['lmerMod']\n",
      "Formula: death_next_season~ndvi_average+aqhi_average+wspd_average+tavg_average+prcp_average+(aqhi_average|operation_id)\n",
      "\n",
      "Family: binomial\t Inference: parametric\n",
      "\n",
      "Number of observations: 112626\t Groups: {'operation_id': 17.0}\n",
      "\n",
      "Log-likelihood: -64778.182 \t AIC: 129574.364\n",
      "\n",
      "Random effects:\n",
      "\n",
      "                      Name     Var    Std\n",
      "operation_id   (Intercept)  40.710  6.380\n",
      "operation_id  aqhi_average  29.944  5.472\n",
      "\n",
      "                      IV1           IV2   Corr\n",
      "operation_id  (Intercept)  aqhi_average -0.967\n",
      "\n",
      "Fixed effects:\n",
      "\n",
      "Fitting model30 with formula: death_next_season ~ ndvi_average * aqhi_average + aqhi_max * wspd_average + tavg_average * prcp_average + (aqhi_average|operation_id)\n"
     ]
    },
    {
     "name": "stderr",
     "output_type": "stream",
     "text": [
      "Fitting Models: 100%|██████████| 31/31 [3:28:41<00:00, 403.92s/it]"
     ]
    },
    {
     "name": "stdout",
     "output_type": "stream",
     "text": [
      "Model failed to converge with max|grad| = 0.00621074 (tol = 0.002, component 1) \n",
      "\n",
      "Linear mixed model fit by maximum likelihood  ['lmerMod']\n",
      "Formula: death_next_season~ndvi_average*aqhi_average+aqhi_max*wspd_average+tavg_average*prcp_average+(aqhi_average|operation_id)\n",
      "\n",
      "Family: binomial\t Inference: parametric\n",
      "\n",
      "Number of observations: 112626\t Groups: {'operation_id': 17.0}\n",
      "\n",
      "Log-likelihood: -64460.009 \t AIC: 128946.019\n",
      "\n",
      "Random effects:\n",
      "\n",
      "                      Name     Var    Std\n",
      "operation_id   (Intercept)  36.624  6.052\n",
      "operation_id  aqhi_average  27.973  5.289\n",
      "\n",
      "                      IV1           IV2   Corr\n",
      "operation_id  (Intercept)  aqhi_average -0.963\n",
      "\n",
      "Fixed effects:\n",
      "\n"
     ]
    },
    {
     "name": "stderr",
     "output_type": "stream",
     "text": [
      "\n"
     ]
    },
    {
     "name": "stdout",
     "output_type": "stream",
     "text": [
      "Models saved to /Users/maximeff-nectar/Documents/ledge-nectar/aqi/outputs/fitted_GLMMs.pkl.\n",
      "Models saved to /Users/maximeff-nectar/Documents/ledge-nectar/aqi/outputs/summaries_GLMMs.pkl.\n"
     ]
    }
   ],
   "source": [
    "#fitted_models, model_summaries = fit_models(\n",
    "#    data=data,\n",
    "#    formulas=model_formulas\n",
    "#)\n",
    "\n",
    "#save_fitted_models(\n",
    "#    fitted_models=fitted_models,\n",
    "#    filename=\"fitted_GLMMs.pkl\"\n",
    "#)\n",
    "\n",
    "#save_fitted_models(\n",
    "#    fitted_models=model_summaries,\n",
    "#    filename=\"summaries_GLMMs.pkl\"\n",
    "#)"
   ]
  },
  {
   "cell_type": "markdown",
   "metadata": {},
   "source": [
    "### Load models in session"
   ]
  },
  {
   "cell_type": "code",
   "execution_count": 3,
   "metadata": {},
   "outputs": [
    {
     "name": "stdout",
     "output_type": "stream",
     "text": [
      "Models loaded from /Users/maximeff-nectar/Documents/ledge-nectar/aqi/outputs/fitted_GLMMs.pkl.\n"
     ]
    }
   ],
   "source": [
    "fitted_models = load_fitted_models(\"fitted_GLMMs.pkl\")"
   ]
  },
  {
   "cell_type": "code",
   "execution_count": 97,
   "metadata": {},
   "outputs": [
    {
     "name": "stdout",
     "output_type": "stream",
     "text": [
      "Current best model is model0 with an AIC of 142319.23490165427\n",
      "Current best model is model1 with an AIC of 138707.492368243\n",
      "Current best model is model3 with an AIC of 136911.57493729456\n",
      "Current best model is model4 with an AIC of 136899.15826005692\n",
      "Current best model is model5 with an AIC of 136699.7219204206\n",
      "Current best model is model15 with an AIC of 132320.43501243123\n",
      "Current best model is model16 with an AIC of 130699.78492657414\n",
      "Current best model is model25 with an AIC of 129405.29656590715\n",
      "Current best model is model26 with an AIC of 129319.57525936147\n",
      "Current best model is model27 with an AIC of 129242.13863848915\n",
      "Current best model is model28 with an AIC of 129180.83328092081\n",
      "Current best model is model30 with an AIC of 128946.01892276586\n"
     ]
    }
   ],
   "source": [
    "# Initialize variables to track the best model and lowest AIC\n",
    "best_aic = float('inf')\n",
    "best_model = None\n",
    "best_model_name = None\n",
    "\n",
    "# Loop over the fitted models dictionary\n",
    "for model_name, model in fitted_models.items():\n",
    "    \n",
    "    # Check if model converged (i.e., no warnings or no boundary warnings)\n",
    "    try:\n",
    "        logs = model.warnings[0]\n",
    "    except IndexError:\n",
    "        logs = \"\"\n",
    "    \n",
    "    if (len(model.warnings) == 0) or (logs != \"boundary (singular) fit: see help('isSingular')\"):\n",
    "        # Get the AIC for the current model\n",
    "        current_aic = model.AIC\n",
    "        \n",
    "        # Compare with the best AIC found so far\n",
    "        if current_aic < best_aic:\n",
    "            print(f\"Current best model is {model_name} with an AIC of {current_aic}\")\n",
    "            best_aic = current_aic\n",
    "            best_model = model\n",
    "            best_model_name = model_name\n",
    "    else:\n",
    "        print(f\"Model {model_name} did not converge\")"
   ]
  },
  {
   "cell_type": "code",
   "execution_count": 103,
   "metadata": {},
   "outputs": [
    {
     "name": "stdout",
     "output_type": "stream",
     "text": [
      "Model failed to converge with max|grad| = 0.00621074 (tol = 0.002, component 1) \n",
      "\n",
      "Model failed to converge with max|grad| = 0.00621074 (tol = 0.002, component 1) \n",
      "\n",
      "Linear mixed model fit by maximum likelihood  ['lmerMod']\n",
      "Formula: death_next_season~ndvi_average*aqhi_average+aqhi_max*wspd_average+tavg_average*prcp_average+(aqhi_average|operation_id)\n",
      "\n",
      "Family: binomial\t Inference: parametric\n",
      "\n",
      "Number of observations: 112626\t Groups: {'operation_id': 17.0}\n",
      "\n",
      "Log-likelihood: -64460.009 \t AIC: 128946.019\n",
      "\n",
      "Random effects:\n",
      "\n",
      "                      Name     Var    Std\n",
      "operation_id   (Intercept)  36.624  6.052\n",
      "operation_id  aqhi_average  27.973  5.289\n",
      "\n",
      "                      IV1           IV2   Corr\n",
      "operation_id  (Intercept)  aqhi_average -0.963\n",
      "\n",
      "Fixed effects:\n",
      "\n",
      "                           Estimate  2.5_ci  97.5_ci     SE        OR  \\\n",
      "(Intercept)                   7.035   4.821    9.249  1.130  1136.067   \n",
      "ndvi_average                 -9.728 -12.518   -6.939  1.423     0.000   \n",
      "aqhi_average                  4.261   2.353    6.168  0.973    70.847   \n",
      "aqhi_max                      0.400   0.287    0.513  0.058     1.492   \n",
      "wspd_average                  1.039   0.799    1.279  0.122     2.828   \n",
      "tavg_average                 -4.075  -4.281   -3.869  0.105     0.017   \n",
      "prcp_average                 -0.584  -0.850   -0.317  0.136     0.558   \n",
      "ndvi_average:aqhi_average    -2.262  -4.766    0.241  1.277     0.104   \n",
      "aqhi_max:wspd_average        -0.226  -0.271   -0.181  0.023     0.798   \n",
      "tavg_average:prcp_average     0.173   0.085    0.260  0.044     1.188   \n",
      "\n",
      "                           OR_2.5_ci  OR_97.5_ci   Prob  Prob_2.5_ci  \\\n",
      "(Intercept)                  124.119   10398.493  0.999        0.992   \n",
      "ndvi_average                   0.000       0.001  0.000        0.000   \n",
      "aqhi_average                  10.517     477.250  0.986        0.913   \n",
      "aqhi_max                       1.332       1.670  0.599        0.571   \n",
      "wspd_average                   2.224       3.594  0.739        0.690   \n",
      "tavg_average                   0.014       0.021  0.017        0.014   \n",
      "prcp_average                   0.427       0.729  0.358        0.299   \n",
      "ndvi_average:aqhi_average      0.009       1.273  0.094        0.008   \n",
      "aqhi_max:wspd_average          0.762       0.835  0.444        0.433   \n",
      "tavg_average:prcp_average      1.089       1.296  0.543        0.521   \n",
      "\n",
      "                           Prob_97.5_ci  Z-stat  P-val  Sig  \n",
      "(Intercept)                       1.000   6.228  0.000  ***  \n",
      "ndvi_average                      0.001  -6.835  0.000  ***  \n",
      "aqhi_average                      0.998   4.378  0.000  ***  \n",
      "aqhi_max                          0.625   6.944  0.000  ***  \n",
      "wspd_average                      0.782   8.490  0.000  ***  \n",
      "tavg_average                      0.020 -38.761  0.000  ***  \n",
      "prcp_average                      0.421  -4.286  0.000  ***  \n",
      "ndvi_average:aqhi_average         0.560  -1.771  0.077    .  \n",
      "aqhi_max:wspd_average             0.455  -9.798  0.000  ***  \n",
      "tavg_average:prcp_average         0.565   3.884  0.000  ***  \n"
     ]
    }
   ],
   "source": [
    "print(best_model.fit())"
   ]
  }
 ],
 "metadata": {
  "kernelspec": {
   "display_name": "aqi-PLczhCOw-py3.10",
   "language": "python",
   "name": "python3"
  },
  "language_info": {
   "codemirror_mode": {
    "name": "ipython",
    "version": 3
   },
   "file_extension": ".py",
   "mimetype": "text/x-python",
   "name": "python",
   "nbconvert_exporter": "python",
   "pygments_lexer": "ipython3",
   "version": "3.10.1"
  }
 },
 "nbformat": 4,
 "nbformat_minor": 2
}
