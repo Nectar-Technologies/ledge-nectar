{
 "cells": [
  {
   "cell_type": "markdown",
   "metadata": {},
   "source": [
    "\n",
    "## DESCRIPTION\n",
    "\n",
    "This notebook fits a series of generalized linear mixed models"
   ]
  },
  {
   "cell_type": "markdown",
   "metadata": {
    "vscode": {
     "languageId": "plaintext"
    }
   },
   "source": [
    "***\n",
    "### SETUP"
   ]
  },
  {
   "cell_type": "markdown",
   "metadata": {},
   "source": [
    "Load the setup script"
   ]
  },
  {
   "cell_type": "code",
   "execution_count": 1,
   "metadata": {},
   "outputs": [],
   "source": [
    "from utils.common_setup import *"
   ]
  },
  {
   "cell_type": "markdown",
   "metadata": {},
   "source": [
    "Load the functions to :\n",
    "\n",
    "- Fit the models\n",
    "- Save the models\n",
    "- Load the models"
   ]
  },
  {
   "cell_type": "code",
   "execution_count": 2,
   "metadata": {},
   "outputs": [],
   "source": [
    "from utils.functions import fit_models, save_fitted_models, load_fitted_models"
   ]
  },
  {
   "cell_type": "markdown",
   "metadata": {},
   "source": [
    "Import the cleaned dataset"
   ]
  },
  {
   "cell_type": "code",
   "execution_count": 3,
   "metadata": {},
   "outputs": [],
   "source": [
    "data_folder = os.path.join(os.getcwd(), '..', 'data')\n",
    "data = pd.read_csv(os.path.join(data_folder, 'clean_data.csv'))"
   ]
  },
  {
   "cell_type": "markdown",
   "metadata": {},
   "source": [
    "### IF PackageNotInstalledError: The R package \"lme4\" is not installed. \n",
    "\n",
    "\n",
    "See README for instruction\n",
    "\n",
    "\n",
    "```\n",
    "from rpy2.robjects.packages import importr\n",
    "\n",
    "\n",
    "utils = importr('utils')\n",
    "utils.chooseCRANmirror(ind=12)\n",
    "utils.install_packages('lme4')\n",
    "```"
   ]
  },
  {
   "cell_type": "markdown",
   "metadata": {},
   "source": [
    "### FIT GLMM"
   ]
  },
  {
   "cell_type": "markdown",
   "metadata": {},
   "source": [
    "### Define model formulas"
   ]
  },
  {
   "cell_type": "markdown",
   "metadata": {},
   "source": [
    "There are 33 models starting from model 0"
   ]
  },
  {
   "cell_type": "code",
   "execution_count": 21,
   "metadata": {},
   "outputs": [],
   "source": [
    "model_formulas = [\n",
    "    \n",
    "    # Null model ------------------------------------------------\n",
    "\n",
    "    # model0\n",
    "    \"death_next_season ~ 1 + (1|region)\",\n",
    "\n",
    "    # Models with aqhi average and region -----------------------\n",
    "\n",
    "    # model1\n",
    "    \"death_next_season ~ aqhi_average + ndvi_average + (aqhi_average|region)\",\n",
    "\n",
    "    # model2\n",
    "    \"death_next_season ~ aqhi_average * ndvi_average + (aqhi_average|region)\",\n",
    "\n",
    "    # model3\n",
    "    \"death_next_season ~ aqhi_average + ndvi_average + tavg_average + prcp_average + wspd_average + (aqhi_average|region)\",\n",
    "\n",
    "    # model4\n",
    "    \"death_next_season ~ aqhi_average * wspd_average + ndvi_average + prcp_average + tavg_average + (aqhi_average|region)\",\n",
    "\n",
    "    # model5\n",
    "    \"death_next_season ~ aqhi_average * ndvi_average + wspd_average + (ndvi_average|region)\",\n",
    "\n",
    "    # model6\n",
    "    \"death_next_season ~ aqhi_average * wspd_average * tavg_average + (aqhi_average|region)\",\n",
    "\n",
    "    # model7\n",
    "    \"death_next_season ~ aqhi_average * wspd_average * ndvi_average + (ndvi_average|region)\",\n",
    "\n",
    "    # Models with aqhi average and operation id -----------------\n",
    "\n",
    "    # model8\n",
    "    \"death_next_season ~ aqhi_average * ndvi_average + (1|operation_id)\",\n",
    "\n",
    "    # model9\n",
    "    \"death_next_season ~ aqhi_average * ndvi_average + (aqhi_average|operation_id)\",\n",
    "\n",
    "    # model10\n",
    "    \"death_next_season ~ aqhi_average + ndvi_average + wspd_average + (1|operation_id)\",\n",
    "\n",
    "    # model11\n",
    "    \"death_next_season ~ aqhi_average + ndvi_average + wspd_average + (aqhi_average|operation_id)\",\n",
    "\n",
    "    # model12\n",
    "    \"death_next_season ~ aqhi_average * wspd_average + ndvi_average + (aqhi_average|operation_id)\",\n",
    "\n",
    "    # model13\n",
    "    \"death_next_season ~ aqhi_average * ndvi_average + wspd_average + (1|operation_id)\",\n",
    "\n",
    "    # model14\n",
    "    \"death_next_season ~ aqhi_average * ndvi_average * wspd_average + (1|operation_id)\",\n",
    "\n",
    "    # model15\n",
    "    \"death_next_season ~ aqhi_average * ndvi_average * wspd_average + (aqhi_average|operation_id)\",\n",
    "\n",
    "    # model16\n",
    "    \"death_next_season ~ aqhi_average + ndvi_average + wspd_average + tavg_average + prcp_average + (aqhi_average|operation_id)\",\n",
    "\n",
    "    # model17\n",
    "    \"death_next_season ~ aqhi_average * ndvi_average + tavg_average * prcp_average + wspd_average + (aqhi_average|operation_id)\",\n",
    "\n",
    "    # Models with aqhi skew and region --------------------------\n",
    "    \n",
    "    # model18\n",
    "    \"death_next_season ~ aqhi_skew + ndvi_skew + (aqhi_skew|region)\",\n",
    "\n",
    "    # model19\n",
    "    \"death_next_season ~ aqhi_skew * ndvi_skew + (aqhi_skew|region)\",\n",
    "\n",
    "    # model20\n",
    "    \"death_next_season ~ aqhi_skew * ndvi_average + wspd_average + (aqhi_skew|region)\",\n",
    "\n",
    "    # model21\n",
    "    \"death_next_season ~ aqhi_skew * ndvi_average * wspd_average + (aqhi_skew|region)\",\n",
    "\n",
    "    # Models with aqhi max ---------------------------\n",
    "\n",
    "    # model22\n",
    "    \"death_next_season ~ aqhi_max * ndvi_average + wspd_average + (ndvi_average|region)\",\n",
    "\n",
    "    # model23\n",
    "    \"death_next_season ~ aqhi_max * ndvi_average * wspd_average + (ndvi_average|region)\",\n",
    "\n",
    "    # model24\n",
    "    \"death_next_season ~ aqhi_max * ndvi_average + wspd_average + (aqhi_average|operation_id)\",\n",
    "\n",
    "    # model25\n",
    "    \"death_next_season ~ aqhi_max * ndvi_average * wspd_average + (aqhi_average|operation_id)\",\n",
    "\n",
    "    # Models with ndvi skew --------------------------\n",
    "\n",
    "    # model26\n",
    "    \"death_next_season ~ aqhi_average * ndvi_skew + wspd_average + (aqhi_average|region)\",\n",
    "\n",
    "    # model27\n",
    "    \"death_next_season ~ aqhi_average * ndvi_skew * wspd_average + (aqhi_average|region)\",\n",
    "\n",
    "    # model28\n",
    "    \"death_next_season ~ aqhi_average * ndvi_skew * wspd_average + (aqhi_average|operation_id)\",\n",
    "\n",
    "    # Models with O3 and operation id ---------------------------\n",
    "\n",
    "    # model29\n",
    "    \"death_next_season ~ ndvi_average + o3_average + (o3_average|operation_id)\",\n",
    "\n",
    "    # model30\n",
    "    \"death_next_season ~ ndvi_average * o3_average + (o3_average|operation_id)\",\n",
    "\n",
    "    # model31\n",
    "    \"death_next_season ~ ndvi_average * o3_average + wspd_average + (o3_average|operation_id)\",\n",
    "\n",
    "    # model32\n",
    "    \"death_next_season ~ ndvi_average * o3_average * wspd_average + (o3_average|operation_id)\"\n",
    "\n",
    "]"
   ]
  },
  {
   "cell_type": "markdown",
   "metadata": {},
   "source": [
    "### Standardize all variables"
   ]
  },
  {
   "cell_type": "code",
   "execution_count": 5,
   "metadata": {},
   "outputs": [],
   "source": [
    "from sklearn.preprocessing import StandardScaler\n",
    "\n",
    "# Variables\n",
    "variables_to_scale = [\n",
    "    'aqhi_average', 'ndvi_average', 'wspd_average', \n",
    "    'tavg_average', 'prcp_average', 'o3_average',\n",
    "    'aqhi_skew', 'aqhi_max', 'ndvi_skew'\n",
    "]\n",
    "\n",
    "# Initialize the scaler\n",
    "scaler = StandardScaler()\n",
    "\n",
    "# Overwrite original variables names with scaled variables\n",
    "data[variables_to_scale] = scaler.fit_transform(data[variables_to_scale])"
   ]
  },
  {
   "cell_type": "code",
   "execution_count": 15,
   "metadata": {},
   "outputs": [
    {
     "name": "stdout",
     "output_type": "stream",
     "text": [
      "       aqhi_average  ndvi_average  wspd_average  tavg_average  prcp_average  \\\n",
      "count  1.126260e+05  1.126260e+05  1.126260e+05  1.126260e+05  1.126260e+05   \n",
      "mean  -2.099592e-16 -1.736201e-16 -3.391648e-16 -3.109011e-15  4.037676e-17   \n",
      "std    1.000004e+00  1.000004e+00  1.000004e+00  1.000004e+00  1.000004e+00   \n",
      "min   -4.424029e+00 -8.433916e+00 -3.346216e+01 -1.436220e+01 -5.548384e+00   \n",
      "25%   -7.151574e-01 -4.662709e-01 -2.370080e-01 -6.814093e-01 -9.297429e-01   \n",
      "50%   -2.315185e-01 -1.513841e-01  1.031090e-01 -1.269333e-01  4.509853e-01   \n",
      "75%    9.832993e-01  3.347263e-01  4.154009e-01  6.577897e-01  7.345448e-01   \n",
      "max    2.308546e+00  1.472707e+01  2.951177e+00  3.108767e+00  2.473830e+00   \n",
      "\n",
      "         o3_average     aqhi_skew      aqhi_max     ndvi_skew  \n",
      "count  1.126260e+05  1.121070e+05  1.126260e+05  1.121570e+05  \n",
      "mean   4.602951e-16 -5.678916e-17  1.049796e-16  3.745400e-16  \n",
      "std    1.000004e+00  1.000004e+00  1.000004e+00  1.000004e+00  \n",
      "min   -3.246371e+01 -4.412670e+00 -2.852275e+00 -9.957763e+00  \n",
      "25%   -7.921677e-01 -6.376871e-01 -8.604206e-01 -5.348564e-01  \n",
      "50%   -2.264179e-01 -3.305619e-01  1.355068e-01  2.405283e-02  \n",
      "75%    9.296833e-01  3.227346e-01  1.355068e-01  5.262758e-01  \n",
      "max    3.393889e+00  3.706183e+00  2.127362e+00  1.055175e+01  \n"
     ]
    }
   ],
   "source": [
    "print(data[variables_to_scale].describe())"
   ]
  },
  {
   "cell_type": "markdown",
   "metadata": {},
   "source": [
    "Inspect how many models"
   ]
  },
  {
   "cell_type": "code",
   "execution_count": 19,
   "metadata": {},
   "outputs": [
    {
     "data": {
      "text/plain": [
       "32"
      ]
     },
     "execution_count": 19,
     "metadata": {},
     "output_type": "execute_result"
    }
   ],
   "source": [
    "len(model_formulas)"
   ]
  },
  {
   "cell_type": "code",
   "execution_count": 7,
   "metadata": {},
   "outputs": [
    {
     "data": {
      "text/plain": [
       "Index(['hid', 'creation_date', 'operation_id', 'death_date', 'season',\n",
       "       'season_start_month', 'season_start_day', 'death_next_season',\n",
       "       'hive_age_next_season', 'aqhi_average', 'prcp_average', 'wspd_average',\n",
       "       'ndvi_average', 'tavg_average', 'o3_average', 'aqhi_skew', 'prcp_skew',\n",
       "       'wspd_skew', 'ndvi_skew', 'tavg_skew', 'o3_skew', 'aqhi_max',\n",
       "       'prcp_max', 'wspd_max', 'ndvi_max', 'tavg_max', 'o3_max', 'region',\n",
       "       'wspd_average_og', 'tavg_average_og', 'prcp_average_og',\n",
       "       'aqhi_average_og'],\n",
       "      dtype='object')"
      ]
     },
     "execution_count": 7,
     "metadata": {},
     "output_type": "execute_result"
    }
   ],
   "source": [
    "data.columns"
   ]
  },
  {
   "cell_type": "markdown",
   "metadata": {},
   "source": [
    "### Fit the models and save (**run once**)\n",
    "\n",
    "Fitting all models takes **approximately 1.2 hours.**\n",
    "\n",
    "Run once and save in ```aqi/outputs``` folder so you can reimport in session.\n",
    "\n",
    "File is called ```fitted_GLMMs.pkl```"
   ]
  },
  {
   "cell_type": "code",
   "execution_count": 22,
   "metadata": {},
   "outputs": [
    {
     "name": "stderr",
     "output_type": "stream",
     "text": [
      "Fitting Models:   0%|          | 0/33 [00:00<?, ?it/s]"
     ]
    },
    {
     "name": "stdout",
     "output_type": "stream",
     "text": [
      "Fitting model0 with formula: death_next_season ~ 1 + (1|region)\n"
     ]
    },
    {
     "name": "stderr",
     "output_type": "stream",
     "text": [
      "Fitting Models:   3%|▎         | 1/33 [00:14<07:37, 14.30s/it]"
     ]
    },
    {
     "name": "stdout",
     "output_type": "stream",
     "text": [
      "Linear mixed model fit by maximum likelihood  ['lmerMod']\n",
      "Formula: death_next_season~1+(1|region)\n",
      "\n",
      "Family: binomial\t Inference: parametric\n",
      "\n",
      "Number of observations: 112626\t Groups: {'region': 9.0}\n",
      "\n",
      "Log-likelihood: -71157.617 \t AIC: 142319.235\n",
      "\n",
      "Random effects:\n",
      "\n",
      "               Name    Var    Std\n",
      "region  (Intercept)  0.979  0.989\n",
      "\n",
      "No random effect correlations specified\n",
      "\n",
      "Fixed effects:\n",
      "\n",
      "Fitting model1 with formula: death_next_season ~ aqhi_average + ndvi_average + (aqhi_average|region)\n"
     ]
    },
    {
     "name": "stderr",
     "output_type": "stream",
     "text": [
      "Fitting Models:   6%|▌         | 2/33 [00:49<13:38, 26.39s/it]"
     ]
    },
    {
     "name": "stdout",
     "output_type": "stream",
     "text": [
      "Linear mixed model fit by maximum likelihood  ['lmerMod']\n",
      "Formula: death_next_season~aqhi_average+ndvi_average+(aqhi_average|region)\n",
      "\n",
      "Family: binomial\t Inference: parametric\n",
      "\n",
      "Number of observations: 112626\t Groups: {'region': 9.0}\n",
      "\n",
      "Log-likelihood: -69483.983 \t AIC: 138979.966\n",
      "\n",
      "Random effects:\n",
      "\n",
      "                Name    Var    Std\n",
      "region   (Intercept)  1.598  1.264\n",
      "region  aqhi_average  0.205  0.452\n",
      "\n",
      "                IV1           IV2   Corr\n",
      "region  (Intercept)  aqhi_average -0.088\n",
      "\n",
      "Fixed effects:\n",
      "\n",
      "Fitting model2 with formula: death_next_season ~ aqhi_average * ndvi_average + (aqhi_average|region)\n"
     ]
    },
    {
     "name": "stderr",
     "output_type": "stream",
     "text": [
      "Fitting Models:   9%|▉         | 3/33 [01:40<18:58, 37.95s/it]"
     ]
    },
    {
     "name": "stdout",
     "output_type": "stream",
     "text": [
      "Linear mixed model fit by maximum likelihood  ['lmerMod']\n",
      "Formula: death_next_season~aqhi_average*ndvi_average+(aqhi_average|region)\n",
      "\n",
      "Family: binomial\t Inference: parametric\n",
      "\n",
      "Number of observations: 112626\t Groups: {'region': 9.0}\n",
      "\n",
      "Log-likelihood: -69346.746 \t AIC: 138707.492\n",
      "\n",
      "Random effects:\n",
      "\n",
      "                Name    Var    Std\n",
      "region   (Intercept)  1.694  1.302\n",
      "region  aqhi_average  0.182  0.426\n",
      "\n",
      "                IV1           IV2   Corr\n",
      "region  (Intercept)  aqhi_average  0.047\n",
      "\n",
      "Fixed effects:\n",
      "\n",
      "Fitting model3 with formula: death_next_season ~ aqhi_average + ndvi_average + tavg_average + prcp_average + wspd_average + (aqhi_average|region)\n"
     ]
    },
    {
     "name": "stderr",
     "output_type": "stream",
     "text": [
      "Fitting Models:  12%|█▏        | 4/33 [02:32<20:53, 43.24s/it]"
     ]
    },
    {
     "name": "stdout",
     "output_type": "stream",
     "text": [
      "Linear mixed model fit by maximum likelihood  ['lmerMod']\n",
      "Formula: death_next_season~aqhi_average+ndvi_average+tavg_average+prcp_average+wspd_average+(aqhi_average|region)\n",
      "\n",
      "Family: binomial\t Inference: parametric\n",
      "\n",
      "Number of observations: 112626\t Groups: {'region': 9.0}\n",
      "\n",
      "Log-likelihood: -68446.787 \t AIC: 136911.575\n",
      "\n",
      "Random effects:\n",
      "\n",
      "                Name    Var    Std\n",
      "region   (Intercept)  1.916  1.384\n",
      "region  aqhi_average  0.209  0.457\n",
      "\n",
      "                IV1           IV2   Corr\n",
      "region  (Intercept)  aqhi_average -0.313\n",
      "\n",
      "Fixed effects:\n",
      "\n",
      "Fitting model4 with formula: death_next_season ~ aqhi_average * wspd_average + ndvi_average + prcp_average + tavg_average + (aqhi_average|region)\n"
     ]
    },
    {
     "name": "stderr",
     "output_type": "stream",
     "text": [
      "Fitting Models:  15%|█▌        | 5/33 [03:33<23:15, 49.84s/it]"
     ]
    },
    {
     "name": "stdout",
     "output_type": "stream",
     "text": [
      "Linear mixed model fit by maximum likelihood  ['lmerMod']\n",
      "Formula: death_next_season~aqhi_average*wspd_average+ndvi_average+prcp_average+tavg_average+(aqhi_average|region)\n",
      "\n",
      "Family: binomial\t Inference: parametric\n",
      "\n",
      "Number of observations: 112626\t Groups: {'region': 9.0}\n",
      "\n",
      "Log-likelihood: -68439.579 \t AIC: 136899.158\n",
      "\n",
      "Random effects:\n",
      "\n",
      "                Name    Var    Std\n",
      "region   (Intercept)  1.908  1.381\n",
      "region  aqhi_average  0.205  0.453\n",
      "\n",
      "                IV1           IV2   Corr\n",
      "region  (Intercept)  aqhi_average -0.331\n",
      "\n",
      "Fixed effects:\n",
      "\n",
      "Fitting model5 with formula: death_next_season ~ aqhi_average * ndvi_average + wspd_average + (ndvi_average|region)\n"
     ]
    },
    {
     "name": "stderr",
     "output_type": "stream",
     "text": [
      "Fitting Models:  18%|█▊        | 6/33 [04:26<22:48, 50.68s/it]"
     ]
    },
    {
     "name": "stdout",
     "output_type": "stream",
     "text": [
      "Linear mixed model fit by maximum likelihood  ['lmerMod']\n",
      "Formula: death_next_season~aqhi_average*ndvi_average+wspd_average+(ndvi_average|region)\n",
      "\n",
      "Family: binomial\t Inference: parametric\n",
      "\n",
      "Number of observations: 112626\t Groups: {'region': 9.0}\n",
      "\n",
      "Log-likelihood: -69466.084 \t AIC: 138948.167\n",
      "\n",
      "Random effects:\n",
      "\n",
      "                Name    Var    Std\n",
      "region   (Intercept)  1.979  1.407\n",
      "region  ndvi_average  0.316  0.562\n",
      "\n",
      "                IV1           IV2   Corr\n",
      "region  (Intercept)  ndvi_average  0.568\n",
      "\n",
      "Fixed effects:\n",
      "\n",
      "Fitting model6 with formula: death_next_season ~ aqhi_average * wspd_average * tavg_average + (aqhi_average|region)\n"
     ]
    },
    {
     "name": "stderr",
     "output_type": "stream",
     "text": [
      "Fitting Models:  21%|██        | 7/33 [05:41<25:28, 58.78s/it]"
     ]
    },
    {
     "name": "stdout",
     "output_type": "stream",
     "text": [
      "Linear mixed model fit by maximum likelihood  ['lmerMod']\n",
      "Formula: death_next_season~aqhi_average*wspd_average*tavg_average+(aqhi_average|region)\n",
      "\n",
      "Family: binomial\t Inference: parametric\n",
      "\n",
      "Number of observations: 112626\t Groups: {'region': 9.0}\n",
      "\n",
      "Log-likelihood: -68338.861 \t AIC: 136699.722\n",
      "\n",
      "Random effects:\n",
      "\n",
      "                Name    Var    Std\n",
      "region   (Intercept)  1.821  1.350\n",
      "region  aqhi_average  0.362  0.601\n",
      "\n",
      "                IV1           IV2   Corr\n",
      "region  (Intercept)  aqhi_average -0.177\n",
      "\n",
      "Fixed effects:\n",
      "\n",
      "Fitting model7 with formula: death_next_season ~ aqhi_average * wspd_average * ndvi_average + (ndvi_average|region)\n"
     ]
    },
    {
     "name": "stderr",
     "output_type": "stream",
     "text": [
      "Fitting Models:  24%|██▍       | 8/33 [07:09<28:19, 67.97s/it]"
     ]
    },
    {
     "name": "stdout",
     "output_type": "stream",
     "text": [
      "Linear mixed model fit by maximum likelihood  ['lmerMod']\n",
      "Formula: death_next_season~aqhi_average*wspd_average*ndvi_average+(ndvi_average|region)\n",
      "\n",
      "Family: binomial\t Inference: parametric\n",
      "\n",
      "Number of observations: 112626\t Groups: {'region': 9.0}\n",
      "\n",
      "Log-likelihood: -69439.475 \t AIC: 138900.951\n",
      "\n",
      "Random effects:\n",
      "\n",
      "                Name    Var    Std\n",
      "region   (Intercept)  1.980  1.407\n",
      "region  ndvi_average  0.335  0.579\n",
      "\n",
      "                IV1           IV2   Corr\n",
      "region  (Intercept)  ndvi_average  0.562\n",
      "\n",
      "Fixed effects:\n",
      "\n",
      "Fitting model8 with formula: death_next_season ~ aqhi_average * ndvi_average + (1|operation_id)\n"
     ]
    },
    {
     "name": "stderr",
     "output_type": "stream",
     "text": [
      "Fitting Models:  27%|██▋       | 9/33 [07:31<21:28, 53.69s/it]"
     ]
    },
    {
     "name": "stdout",
     "output_type": "stream",
     "text": [
      "Linear mixed model fit by maximum likelihood  ['lmerMod']\n",
      "Formula: death_next_season~aqhi_average*ndvi_average+(1|operation_id)\n",
      "\n",
      "Family: binomial\t Inference: parametric\n",
      "\n",
      "Number of observations: 112626\t Groups: {'operation_id': 17.0}\n",
      "\n",
      "Log-likelihood: -66436.358 \t AIC: 132882.716\n",
      "\n",
      "Random effects:\n",
      "\n",
      "                     Name    Var    Std\n",
      "operation_id  (Intercept)  2.286  1.512\n",
      "\n",
      "No random effect correlations specified\n",
      "\n",
      "Fixed effects:\n",
      "\n",
      "Fitting model9 with formula: death_next_season ~ aqhi_average * ndvi_average + (aqhi_average|operation_id)\n"
     ]
    },
    {
     "name": "stderr",
     "output_type": "stream",
     "text": [
      "Fitting Models:  30%|███       | 10/33 [08:23<20:23, 53.21s/it]"
     ]
    },
    {
     "name": "stdout",
     "output_type": "stream",
     "text": [
      "Linear mixed model fit by maximum likelihood  ['lmerMod']\n",
      "Formula: death_next_season~aqhi_average*ndvi_average+(aqhi_average|operation_id)\n",
      "\n",
      "Family: binomial\t Inference: parametric\n",
      "\n",
      "Number of observations: 112626\t Groups: {'operation_id': 17.0}\n",
      "\n",
      "Log-likelihood: -65733.251 \t AIC: 131480.502\n",
      "\n",
      "Random effects:\n",
      "\n",
      "                      Name    Var    Std\n",
      "operation_id   (Intercept)  1.962  1.401\n",
      "operation_id  aqhi_average  1.942  1.394\n",
      "\n",
      "                      IV1           IV2  Corr\n",
      "operation_id  (Intercept)  aqhi_average  0.13\n",
      "\n",
      "Fixed effects:\n",
      "\n",
      "Fitting model10 with formula: death_next_season ~ aqhi_average + ndvi_average + wspd_average + (1|operation_id)\n"
     ]
    },
    {
     "name": "stderr",
     "output_type": "stream",
     "text": [
      "Fitting Models:  33%|███▎      | 11/33 [08:46<16:05, 43.87s/it]"
     ]
    },
    {
     "name": "stdout",
     "output_type": "stream",
     "text": [
      "Linear mixed model fit by maximum likelihood  ['lmerMod']\n",
      "Formula: death_next_season~aqhi_average+ndvi_average+wspd_average+(1|operation_id)\n",
      "\n",
      "Family: binomial\t Inference: parametric\n",
      "\n",
      "Number of observations: 112626\t Groups: {'operation_id': 17.0}\n",
      "\n",
      "Log-likelihood: -66515.599 \t AIC: 133041.198\n",
      "\n",
      "Random effects:\n",
      "\n",
      "                     Name    Var  Std\n",
      "operation_id  (Intercept)  2.249  1.5\n",
      "\n",
      "No random effect correlations specified\n",
      "\n",
      "Fixed effects:\n",
      "\n",
      "Fitting model11 with formula: death_next_season ~ aqhi_average + ndvi_average + wspd_average + (aqhi_average|operation_id)\n"
     ]
    },
    {
     "name": "stderr",
     "output_type": "stream",
     "text": [
      "Fitting Models:  36%|███▋      | 12/33 [09:35<15:55, 45.51s/it]"
     ]
    },
    {
     "name": "stdout",
     "output_type": "stream",
     "text": [
      "Linear mixed model fit by maximum likelihood  ['lmerMod']\n",
      "Formula: death_next_season~aqhi_average+ndvi_average+wspd_average+(aqhi_average|operation_id)\n",
      "\n",
      "Family: binomial\t Inference: parametric\n",
      "\n",
      "Number of observations: 112626\t Groups: {'operation_id': 17.0}\n",
      "\n",
      "Log-likelihood: -65762.770 \t AIC: 131539.541\n",
      "\n",
      "Random effects:\n",
      "\n",
      "                      Name    Var    Std\n",
      "operation_id   (Intercept)  1.952  1.397\n",
      "operation_id  aqhi_average  1.868  1.367\n",
      "\n",
      "                      IV1           IV2   Corr\n",
      "operation_id  (Intercept)  aqhi_average  0.084\n",
      "\n",
      "Fixed effects:\n",
      "\n",
      "Fitting model12 with formula: death_next_season ~ aqhi_average * wspd_average + ndvi_average + (aqhi_average|operation_id)\n"
     ]
    },
    {
     "name": "stderr",
     "output_type": "stream",
     "text": [
      "Fitting Models:  39%|███▉      | 13/33 [10:31<16:13, 48.66s/it]"
     ]
    },
    {
     "name": "stdout",
     "output_type": "stream",
     "text": [
      "Linear mixed model fit by maximum likelihood  ['lmerMod']\n",
      "Formula: death_next_season~aqhi_average*wspd_average+ndvi_average+(aqhi_average|operation_id)\n",
      "\n",
      "Family: binomial\t Inference: parametric\n",
      "\n",
      "Number of observations: 112626\t Groups: {'operation_id': 17.0}\n",
      "\n",
      "Log-likelihood: -65762.762 \t AIC: 131541.524\n",
      "\n",
      "Random effects:\n",
      "\n",
      "                      Name    Var    Std\n",
      "operation_id   (Intercept)  1.953  1.397\n",
      "operation_id  aqhi_average  1.868  1.367\n",
      "\n",
      "                      IV1           IV2   Corr\n",
      "operation_id  (Intercept)  aqhi_average  0.084\n",
      "\n",
      "Fixed effects:\n",
      "\n",
      "Fitting model13 with formula: death_next_season ~ aqhi_average * ndvi_average + wspd_average + (1|operation_id)\n"
     ]
    },
    {
     "name": "stderr",
     "output_type": "stream",
     "text": [
      "Fitting Models:  42%|████▏     | 14/33 [10:58<13:18, 42.01s/it]"
     ]
    },
    {
     "name": "stdout",
     "output_type": "stream",
     "text": [
      "Linear mixed model fit by maximum likelihood  ['lmerMod']\n",
      "Formula: death_next_season~aqhi_average*ndvi_average+wspd_average+(1|operation_id)\n",
      "\n",
      "Family: binomial\t Inference: parametric\n",
      "\n",
      "Number of observations: 112626\t Groups: {'operation_id': 17.0}\n",
      "\n",
      "Log-likelihood: -66387.695 \t AIC: 132787.390\n",
      "\n",
      "Random effects:\n",
      "\n",
      "                     Name    Var    Std\n",
      "operation_id  (Intercept)  2.346  1.532\n",
      "\n",
      "No random effect correlations specified\n",
      "\n",
      "Fixed effects:\n",
      "\n",
      "Fitting model14 with formula: death_next_season ~ aqhi_average * ndvi_average * wspd_average + (1|operation_id)\n"
     ]
    },
    {
     "name": "stderr",
     "output_type": "stream",
     "text": [
      "Fitting Models:  45%|████▌     | 15/33 [11:41<12:41, 42.32s/it]"
     ]
    },
    {
     "name": "stdout",
     "output_type": "stream",
     "text": [
      "Linear mixed model fit by maximum likelihood  ['lmerMod']\n",
      "Formula: death_next_season~aqhi_average*ndvi_average*wspd_average+(1|operation_id)\n",
      "\n",
      "Family: binomial\t Inference: parametric\n",
      "\n",
      "Number of observations: 112626\t Groups: {'operation_id': 17.0}\n",
      "\n",
      "Log-likelihood: -66377.312 \t AIC: 132772.625\n",
      "\n",
      "Random effects:\n",
      "\n",
      "                     Name    Var    Std\n",
      "operation_id  (Intercept)  2.352  1.534\n",
      "\n",
      "No random effect correlations specified\n",
      "\n",
      "Fixed effects:\n",
      "\n",
      "Fitting model15 with formula: death_next_season ~ aqhi_average * ndvi_average * wspd_average + (aqhi_average|operation_id)\n"
     ]
    },
    {
     "name": "stderr",
     "output_type": "stream",
     "text": [
      "Fitting Models:  48%|████▊     | 16/33 [12:42<13:35, 47.97s/it]"
     ]
    },
    {
     "name": "stdout",
     "output_type": "stream",
     "text": [
      "Linear mixed model fit by maximum likelihood  ['lmerMod']\n",
      "Formula: death_next_season~aqhi_average*ndvi_average*wspd_average+(aqhi_average|operation_id)\n",
      "\n",
      "Family: binomial\t Inference: parametric\n",
      "\n",
      "Number of observations: 112626\t Groups: {'operation_id': 17.0}\n",
      "\n",
      "Log-likelihood: -65703.364 \t AIC: 131428.727\n",
      "\n",
      "Random effects:\n",
      "\n",
      "                      Name    Var    Std\n",
      "operation_id   (Intercept)  1.981  1.407\n",
      "operation_id  aqhi_average  1.907  1.381\n",
      "\n",
      "                      IV1           IV2   Corr\n",
      "operation_id  (Intercept)  aqhi_average  0.115\n",
      "\n",
      "Fixed effects:\n",
      "\n",
      "Fitting model16 with formula: death_next_season ~ aqhi_average + ndvi_average + wspd_average + tavg_average + prcp_average + (aqhi_average|operation_id)\n"
     ]
    },
    {
     "name": "stderr",
     "output_type": "stream",
     "text": [
      "Fitting Models:  52%|█████▏    | 17/33 [13:47<14:11, 53.20s/it]"
     ]
    },
    {
     "name": "stdout",
     "output_type": "stream",
     "text": [
      "Linear mixed model fit by maximum likelihood  ['lmerMod']\n",
      "Formula: death_next_season~aqhi_average+ndvi_average+wspd_average+tavg_average+prcp_average+(aqhi_average|operation_id)\n",
      "\n",
      "Family: binomial\t Inference: parametric\n",
      "\n",
      "Number of observations: 112626\t Groups: {'operation_id': 17.0}\n",
      "\n",
      "Log-likelihood: -64778.182 \t AIC: 129574.364\n",
      "\n",
      "Random effects:\n",
      "\n",
      "                      Name    Var    Std\n",
      "operation_id   (Intercept)  2.690  1.640\n",
      "operation_id  aqhi_average  2.121  1.456\n",
      "\n",
      "                      IV1           IV2   Corr\n",
      "operation_id  (Intercept)  aqhi_average  0.165\n",
      "\n",
      "Fixed effects:\n",
      "\n",
      "Fitting model17 with formula: death_next_season ~ aqhi_average * ndvi_average + tavg_average * prcp_average + wspd_average + (aqhi_average|operation_id)\n"
     ]
    },
    {
     "name": "stderr",
     "output_type": "stream",
     "text": [
      "Fitting Models:  55%|█████▍    | 18/33 [15:13<15:44, 62.98s/it]"
     ]
    },
    {
     "name": "stdout",
     "output_type": "stream",
     "text": [
      "Linear mixed model fit by maximum likelihood  ['lmerMod']\n",
      "Formula: death_next_season~aqhi_average*ndvi_average+tavg_average*prcp_average+wspd_average+(aqhi_average|operation_id)\n",
      "\n",
      "Family: binomial\t Inference: parametric\n",
      "\n",
      "Number of observations: 112626\t Groups: {'operation_id': 17.0}\n",
      "\n",
      "Log-likelihood: -64757.014 \t AIC: 129536.028\n",
      "\n",
      "Random effects:\n",
      "\n",
      "                      Name    Var    Std\n",
      "operation_id   (Intercept)  2.688  1.639\n",
      "operation_id  aqhi_average  2.076  1.441\n",
      "\n",
      "                      IV1           IV2   Corr\n",
      "operation_id  (Intercept)  aqhi_average  0.182\n",
      "\n",
      "Fixed effects:\n",
      "\n",
      "Fitting model18 with formula: death_next_season ~ aqhi_skew + ndvi_skew + (aqhi_skew|region)\n"
     ]
    },
    {
     "name": "stderr",
     "output_type": "stream",
     "text": [
      "Fitting Models:  58%|█████▊    | 19/33 [15:41<12:14, 52.44s/it]"
     ]
    },
    {
     "name": "stdout",
     "output_type": "stream",
     "text": [
      "**NOTE**: Column for 'residuals' not created in model.data, but saved in model.resid only. This is because you have rows with NaNs in your data.\n",
      "\n",
      "**NOTE** Column for 'fits' not created in model.data, but saved in model.fits only. This is because you have rows with NaNs in your data.\n",
      "\n",
      "Linear mixed model fit by maximum likelihood  ['lmerMod']\n",
      "Formula: death_next_season~aqhi_skew+ndvi_skew+(aqhi_skew|region)\n",
      "\n",
      "Family: binomial\t Inference: parametric\n",
      "\n",
      "Number of observations: 112626\t Groups: {'region': 9.0}\n",
      "\n",
      "Log-likelihood: -69909.878 \t AIC: 139831.757\n",
      "\n",
      "Random effects:\n",
      "\n",
      "               Name    Var    Std\n",
      "region  (Intercept)  0.938  0.969\n",
      "region    aqhi_skew  0.303  0.550\n",
      "\n",
      "                IV1        IV2   Corr\n",
      "region  (Intercept)  aqhi_skew -0.309\n",
      "\n",
      "Fixed effects:\n",
      "\n",
      "Fitting model19 with formula: death_next_season ~ aqhi_skew * ndvi_skew + (aqhi_skew|region)\n"
     ]
    },
    {
     "name": "stderr",
     "output_type": "stream",
     "text": [
      "Fitting Models:  61%|██████    | 20/33 [16:15<10:11, 47.06s/it]"
     ]
    },
    {
     "name": "stdout",
     "output_type": "stream",
     "text": [
      "**NOTE**: Column for 'residuals' not created in model.data, but saved in model.resid only. This is because you have rows with NaNs in your data.\n",
      "\n",
      "**NOTE** Column for 'fits' not created in model.data, but saved in model.fits only. This is because you have rows with NaNs in your data.\n",
      "\n",
      "Linear mixed model fit by maximum likelihood  ['lmerMod']\n",
      "Formula: death_next_season~aqhi_skew*ndvi_skew+(aqhi_skew|region)\n",
      "\n",
      "Family: binomial\t Inference: parametric\n",
      "\n",
      "Number of observations: 112626\t Groups: {'region': 9.0}\n",
      "\n",
      "Log-likelihood: -69549.952 \t AIC: 139113.904\n",
      "\n",
      "Random effects:\n",
      "\n",
      "               Name    Var    Std\n",
      "region  (Intercept)  0.929  0.964\n",
      "region    aqhi_skew  0.317  0.563\n",
      "\n",
      "                IV1        IV2   Corr\n",
      "region  (Intercept)  aqhi_skew -0.327\n",
      "\n",
      "Fixed effects:\n",
      "\n",
      "Fitting model20 with formula: death_next_season ~ aqhi_skew * ndvi_average + wspd_average + (aqhi_skew|region)\n"
     ]
    },
    {
     "name": "stderr",
     "output_type": "stream",
     "text": [
      "Fitting Models:  64%|██████▎   | 21/33 [46:51<1:56:46, 583.88s/it]"
     ]
    },
    {
     "name": "stdout",
     "output_type": "stream",
     "text": [
      "**NOTE**: Column for 'residuals' not created in model.data, but saved in model.resid only. This is because you have rows with NaNs in your data.\n",
      "\n",
      "**NOTE** Column for 'fits' not created in model.data, but saved in model.fits only. This is because you have rows with NaNs in your data.\n",
      "\n",
      "Linear mixed model fit by maximum likelihood  ['lmerMod']\n",
      "Formula: death_next_season~aqhi_skew*ndvi_average+wspd_average+(aqhi_skew|region)\n",
      "\n",
      "Family: binomial\t Inference: parametric\n",
      "\n",
      "Number of observations: 112626\t Groups: {'region': 9.0}\n",
      "\n",
      "Log-likelihood: -69010.985 \t AIC: 138037.969\n",
      "\n",
      "Random effects:\n",
      "\n",
      "               Name    Var    Std\n",
      "region  (Intercept)  1.072  1.035\n",
      "region    aqhi_skew  0.282  0.531\n",
      "\n",
      "                IV1        IV2   Corr\n",
      "region  (Intercept)  aqhi_skew -0.391\n",
      "\n",
      "Fixed effects:\n",
      "\n",
      "Fitting model21 with formula: death_next_season ~ aqhi_skew * ndvi_average * wspd_average + (aqhi_skew|region)\n"
     ]
    },
    {
     "name": "stderr",
     "output_type": "stream",
     "text": [
      "Fitting Models:  67%|██████▋   | 22/33 [1:00:39<2:00:31, 657.38s/it]"
     ]
    },
    {
     "name": "stdout",
     "output_type": "stream",
     "text": [
      "**NOTE**: Column for 'residuals' not created in model.data, but saved in model.resid only. This is because you have rows with NaNs in your data.\n",
      "\n",
      "**NOTE** Column for 'fits' not created in model.data, but saved in model.fits only. This is because you have rows with NaNs in your data.\n",
      "\n",
      "Linear mixed model fit by maximum likelihood  ['lmerMod']\n",
      "Formula: death_next_season~aqhi_skew*ndvi_average*wspd_average+(aqhi_skew|region)\n",
      "\n",
      "Family: binomial\t Inference: parametric\n",
      "\n",
      "Number of observations: 112626\t Groups: {'region': 9.0}\n",
      "\n",
      "Log-likelihood: -68988.409 \t AIC: 137998.817\n",
      "\n",
      "Random effects:\n",
      "\n",
      "               Name    Var    Std\n",
      "region  (Intercept)  1.080  1.039\n",
      "region    aqhi_skew  0.255  0.505\n",
      "\n",
      "                IV1        IV2   Corr\n",
      "region  (Intercept)  aqhi_skew -0.413\n",
      "\n",
      "Fixed effects:\n",
      "\n",
      "Fitting model22 with formula: death_next_season ~ aqhi_max * ndvi_average + wspd_average + (ndvi_average|region)\n"
     ]
    },
    {
     "name": "stderr",
     "output_type": "stream",
     "text": [
      "Fitting Models:  70%|██████▉   | 23/33 [1:01:40<1:19:41, 478.12s/it]"
     ]
    },
    {
     "name": "stdout",
     "output_type": "stream",
     "text": [
      "Linear mixed model fit by maximum likelihood  ['lmerMod']\n",
      "Formula: death_next_season~aqhi_max*ndvi_average+wspd_average+(ndvi_average|region)\n",
      "\n",
      "Family: binomial\t Inference: parametric\n",
      "\n",
      "Number of observations: 112626\t Groups: {'region': 9.0}\n",
      "\n",
      "Log-likelihood: -69955.917 \t AIC: 139927.834\n",
      "\n",
      "Random effects:\n",
      "\n",
      "                Name    Var    Std\n",
      "region   (Intercept)  1.577  1.256\n",
      "region  ndvi_average  0.404  0.635\n",
      "\n",
      "                IV1           IV2   Corr\n",
      "region  (Intercept)  ndvi_average  0.794\n",
      "\n",
      "Fixed effects:\n",
      "\n",
      "Fitting model23 with formula: death_next_season ~ aqhi_max * ndvi_average * wspd_average + (ndvi_average|region)\n"
     ]
    },
    {
     "name": "stderr",
     "output_type": "stream",
     "text": [
      "Fitting Models:  73%|███████▎  | 24/33 [1:03:42<55:42, 371.37s/it]  "
     ]
    },
    {
     "name": "stdout",
     "output_type": "stream",
     "text": [
      "Linear mixed model fit by maximum likelihood  ['lmerMod']\n",
      "Formula: death_next_season~aqhi_max*ndvi_average*wspd_average+(ndvi_average|region)\n",
      "\n",
      "Family: binomial\t Inference: parametric\n",
      "\n",
      "Number of observations: 112626\t Groups: {'region': 9.0}\n",
      "\n",
      "Log-likelihood: -69912.271 \t AIC: 139846.541\n",
      "\n",
      "Random effects:\n",
      "\n",
      "                Name    Var    Std\n",
      "region   (Intercept)  1.601  1.265\n",
      "region  ndvi_average  0.425  0.652\n",
      "\n",
      "                IV1           IV2   Corr\n",
      "region  (Intercept)  ndvi_average  0.798\n",
      "\n",
      "Fixed effects:\n",
      "\n",
      "Fitting model24 with formula: death_next_season ~ aqhi_max * ndvi_average + wspd_average + (aqhi_average|operation_id)\n"
     ]
    },
    {
     "name": "stderr",
     "output_type": "stream",
     "text": [
      "Fitting Models:  76%|███████▌  | 25/33 [1:04:57<37:39, 282.43s/it]"
     ]
    },
    {
     "name": "stdout",
     "output_type": "stream",
     "text": [
      "Linear mixed model fit by maximum likelihood  ['lmerMod']\n",
      "Formula: death_next_season~aqhi_max*ndvi_average+wspd_average+(aqhi_average|operation_id)\n",
      "\n",
      "Family: binomial\t Inference: parametric\n",
      "\n",
      "Number of observations: 112626\t Groups: {'operation_id': 17.0}\n",
      "\n",
      "Log-likelihood: -65344.031 \t AIC: 130704.061\n",
      "\n",
      "Random effects:\n",
      "\n",
      "                      Name    Var    Std\n",
      "operation_id   (Intercept)  2.204  1.485\n",
      "operation_id  aqhi_average  2.780  1.667\n",
      "\n",
      "                      IV1           IV2   Corr\n",
      "operation_id  (Intercept)  aqhi_average  0.329\n",
      "\n",
      "Fixed effects:\n",
      "\n",
      "Fitting model25 with formula: death_next_season ~ aqhi_max * ndvi_average * wspd_average + (aqhi_average|operation_id)\n"
     ]
    },
    {
     "name": "stderr",
     "output_type": "stream",
     "text": [
      "Fitting Models:  79%|███████▉  | 26/33 [1:06:31<26:21, 225.98s/it]"
     ]
    },
    {
     "name": "stdout",
     "output_type": "stream",
     "text": [
      "Linear mixed model fit by maximum likelihood  ['lmerMod']\n",
      "Formula: death_next_season~aqhi_max*ndvi_average*wspd_average+(aqhi_average|operation_id)\n",
      "\n",
      "Family: binomial\t Inference: parametric\n",
      "\n",
      "Number of observations: 112626\t Groups: {'operation_id': 17.0}\n",
      "\n",
      "Log-likelihood: -65325.250 \t AIC: 130672.499\n",
      "\n",
      "Random effects:\n",
      "\n",
      "                      Name    Var    Std\n",
      "operation_id   (Intercept)  2.260  1.503\n",
      "operation_id  aqhi_average  2.811  1.677\n",
      "\n",
      "                      IV1           IV2   Corr\n",
      "operation_id  (Intercept)  aqhi_average  0.296\n",
      "\n",
      "Fixed effects:\n",
      "\n",
      "Fitting model26 with formula: death_next_season ~ aqhi_average * ndvi_skew + wspd_average + (aqhi_average|region)\n"
     ]
    },
    {
     "name": "stderr",
     "output_type": "stream",
     "text": [
      "Fitting Models:  82%|████████▏ | 27/33 [1:07:24<17:25, 174.19s/it]"
     ]
    },
    {
     "name": "stdout",
     "output_type": "stream",
     "text": [
      "**NOTE**: Column for 'residuals' not created in model.data, but saved in model.resid only. This is because you have rows with NaNs in your data.\n",
      "\n",
      "**NOTE** Column for 'fits' not created in model.data, but saved in model.fits only. This is because you have rows with NaNs in your data.\n",
      "\n",
      "Linear mixed model fit by maximum likelihood  ['lmerMod']\n",
      "Formula: death_next_season~aqhi_average*ndvi_skew+wspd_average+(aqhi_average|region)\n",
      "\n",
      "Family: binomial\t Inference: parametric\n",
      "\n",
      "Number of observations: 112626\t Groups: {'region': 9.0}\n",
      "\n",
      "Log-likelihood: -69708.179 \t AIC: 139432.359\n",
      "\n",
      "Random effects:\n",
      "\n",
      "                Name    Var    Std\n",
      "region   (Intercept)  1.739  1.319\n",
      "region  aqhi_average  0.170  0.412\n",
      "\n",
      "                IV1           IV2   Corr\n",
      "region  (Intercept)  aqhi_average  0.071\n",
      "\n",
      "Fixed effects:\n",
      "\n",
      "Fitting model27 with formula: death_next_season ~ aqhi_average * ndvi_skew * wspd_average + (aqhi_average|region)\n"
     ]
    },
    {
     "name": "stderr",
     "output_type": "stream",
     "text": [
      "Fitting Models:  85%|████████▍ | 28/33 [1:08:48<12:14, 146.96s/it]"
     ]
    },
    {
     "name": "stdout",
     "output_type": "stream",
     "text": [
      "**NOTE**: Column for 'residuals' not created in model.data, but saved in model.resid only. This is because you have rows with NaNs in your data.\n",
      "\n",
      "**NOTE** Column for 'fits' not created in model.data, but saved in model.fits only. This is because you have rows with NaNs in your data.\n",
      "\n",
      "Linear mixed model fit by maximum likelihood  ['lmerMod']\n",
      "Formula: death_next_season~aqhi_average*ndvi_skew*wspd_average+(aqhi_average|region)\n",
      "\n",
      "Family: binomial\t Inference: parametric\n",
      "\n",
      "Number of observations: 112626\t Groups: {'region': 9.0}\n",
      "\n",
      "Log-likelihood: -69691.481 \t AIC: 139404.962\n",
      "\n",
      "Random effects:\n",
      "\n",
      "                Name    Var    Std\n",
      "region   (Intercept)  1.738  1.318\n",
      "region  aqhi_average  0.157  0.397\n",
      "\n",
      "                IV1           IV2   Corr\n",
      "region  (Intercept)  aqhi_average  0.066\n",
      "\n",
      "Fixed effects:\n",
      "\n",
      "Fitting model28 with formula: death_next_season ~ aqhi_average * ndvi_skew * wspd_average + (aqhi_average|operation_id)\n"
     ]
    },
    {
     "name": "stderr",
     "output_type": "stream",
     "text": [
      "Fitting Models:  88%|████████▊ | 29/33 [1:10:11<08:31, 127.87s/it]"
     ]
    },
    {
     "name": "stdout",
     "output_type": "stream",
     "text": [
      "**NOTE**: Column for 'residuals' not created in model.data, but saved in model.resid only. This is because you have rows with NaNs in your data.\n",
      "\n",
      "**NOTE** Column for 'fits' not created in model.data, but saved in model.fits only. This is because you have rows with NaNs in your data.\n",
      "\n",
      "Linear mixed model fit by maximum likelihood  ['lmerMod']\n",
      "Formula: death_next_season~aqhi_average*ndvi_skew*wspd_average+(aqhi_average|operation_id)\n",
      "\n",
      "Family: binomial\t Inference: parametric\n",
      "\n",
      "Number of observations: 112626\t Groups: {'operation_id': 17.0}\n",
      "\n",
      "Log-likelihood: -66149.218 \t AIC: 132320.436\n",
      "\n",
      "Random effects:\n",
      "\n",
      "                      Name    Var    Std\n",
      "operation_id   (Intercept)  1.982  1.408\n",
      "operation_id  aqhi_average  1.850  1.360\n",
      "\n",
      "                      IV1           IV2   Corr\n",
      "operation_id  (Intercept)  aqhi_average  0.096\n",
      "\n",
      "Fixed effects:\n",
      "\n",
      "Fitting model29 with formula: death_next_season ~ ndvi_average + o3_average + (o3_average|operation_id)\n"
     ]
    },
    {
     "name": "stderr",
     "output_type": "stream",
     "text": [
      "Fitting Models:  91%|█████████ | 30/33 [1:11:04<05:15, 105.22s/it]"
     ]
    },
    {
     "name": "stdout",
     "output_type": "stream",
     "text": [
      "Linear mixed model fit by maximum likelihood  ['lmerMod']\n",
      "Formula: death_next_season~ndvi_average+o3_average+(o3_average|operation_id)\n",
      "\n",
      "Family: binomial\t Inference: parametric\n",
      "\n",
      "Number of observations: 112626\t Groups: {'operation_id': 17.0}\n",
      "\n",
      "Log-likelihood: -64696.648 \t AIC: 129405.296\n",
      "\n",
      "Random effects:\n",
      "\n",
      "                     Name    Var    Std\n",
      "operation_id  (Intercept)  3.519  1.876\n",
      "operation_id   o3_average  3.953  1.988\n",
      "\n",
      "                      IV1         IV2   Corr\n",
      "operation_id  (Intercept)  o3_average  0.682\n",
      "\n",
      "Fixed effects:\n",
      "\n",
      "Fitting model30 with formula: death_next_season ~ ndvi_average * o3_average + (o3_average|operation_id)\n"
     ]
    },
    {
     "name": "stderr",
     "output_type": "stream",
     "text": [
      "Fitting Models:  94%|█████████▍| 31/33 [1:11:55<02:58, 89.19s/it] "
     ]
    },
    {
     "name": "stdout",
     "output_type": "stream",
     "text": [
      "Linear mixed model fit by maximum likelihood  ['lmerMod']\n",
      "Formula: death_next_season~ndvi_average*o3_average+(o3_average|operation_id)\n",
      "\n",
      "Family: binomial\t Inference: parametric\n",
      "\n",
      "Number of observations: 112626\t Groups: {'operation_id': 17.0}\n",
      "\n",
      "Log-likelihood: -64652.788 \t AIC: 129319.575\n",
      "\n",
      "Random effects:\n",
      "\n",
      "                     Name    Var    Std\n",
      "operation_id  (Intercept)  3.477  1.865\n",
      "operation_id   o3_average  3.947  1.987\n",
      "\n",
      "                      IV1         IV2   Corr\n",
      "operation_id  (Intercept)  o3_average  0.691\n",
      "\n",
      "Fixed effects:\n",
      "\n",
      "Fitting model31 with formula: death_next_season ~ ndvi_average * o3_average + wspd_average + (o3_average|operation_id)\n"
     ]
    },
    {
     "name": "stderr",
     "output_type": "stream",
     "text": [
      "Fitting Models:  97%|█████████▋| 32/33 [1:13:01<01:22, 82.18s/it]"
     ]
    },
    {
     "name": "stdout",
     "output_type": "stream",
     "text": [
      "Linear mixed model fit by maximum likelihood  ['lmerMod']\n",
      "Formula: death_next_season~ndvi_average*o3_average+wspd_average+(o3_average|operation_id)\n",
      "\n",
      "Family: binomial\t Inference: parametric\n",
      "\n",
      "Number of observations: 112626\t Groups: {'operation_id': 17.0}\n",
      "\n",
      "Log-likelihood: -64613.069 \t AIC: 129242.139\n",
      "\n",
      "Random effects:\n",
      "\n",
      "                     Name    Var    Std\n",
      "operation_id  (Intercept)  3.479  1.865\n",
      "operation_id   o3_average  3.880  1.970\n",
      "\n",
      "                      IV1         IV2   Corr\n",
      "operation_id  (Intercept)  o3_average  0.688\n",
      "\n",
      "Fixed effects:\n",
      "\n",
      "Fitting model32 with formula: death_next_season ~ ndvi_average * o3_average * wspd_average + (o3_average|operation_id)\n"
     ]
    },
    {
     "name": "stderr",
     "output_type": "stream",
     "text": [
      "Fitting Models: 100%|██████████| 33/33 [1:14:40<00:00, 135.77s/it]"
     ]
    },
    {
     "name": "stdout",
     "output_type": "stream",
     "text": [
      "Linear mixed model fit by maximum likelihood  ['lmerMod']\n",
      "Formula: death_next_season~ndvi_average*o3_average*wspd_average+(o3_average|operation_id)\n",
      "\n",
      "Family: binomial\t Inference: parametric\n",
      "\n",
      "Number of observations: 112626\t Groups: {'operation_id': 17.0}\n",
      "\n",
      "Log-likelihood: -64579.417 \t AIC: 129180.833\n",
      "\n",
      "Random effects:\n",
      "\n",
      "                     Name    Var    Std\n",
      "operation_id  (Intercept)  3.432  1.853\n",
      "operation_id   o3_average  3.920  1.980\n",
      "\n",
      "                      IV1         IV2   Corr\n",
      "operation_id  (Intercept)  o3_average  0.687\n",
      "\n",
      "Fixed effects:\n",
      "\n"
     ]
    },
    {
     "name": "stderr",
     "output_type": "stream",
     "text": [
      "\n"
     ]
    },
    {
     "name": "stdout",
     "output_type": "stream",
     "text": [
      "Models saved to /Users/maximeff-nectar/Documents/ledge-nectar/aqi/outputs/fitted_GLMMs.pkl.\n",
      "Models saved to /Users/maximeff-nectar/Documents/ledge-nectar/aqi/outputs/summaries_GLMMs.pkl.\n"
     ]
    }
   ],
   "source": [
    "fitted_models, model_summaries = fit_models(\n",
    "    data=data,\n",
    "    formulas=model_formulas\n",
    ")\n",
    "\n",
    "save_fitted_models(\n",
    "    fitted_models=fitted_models,\n",
    "    filename=\"fitted_GLMMs.pkl\"\n",
    ")\n",
    "\n",
    "save_fitted_models(\n",
    "    fitted_models=model_summaries,\n",
    "    filename=\"summaries_GLMMs.pkl\"\n",
    ")"
   ]
  },
  {
   "cell_type": "markdown",
   "metadata": {},
   "source": [
    "### Load models in session"
   ]
  },
  {
   "cell_type": "code",
   "execution_count": 10,
   "metadata": {},
   "outputs": [
    {
     "name": "stdout",
     "output_type": "stream",
     "text": [
      "Models loaded from /Users/maximeff-nectar/Documents/ledge-nectar/aqi/outputs/fitted_GLMMs.pkl.\n"
     ]
    }
   ],
   "source": [
    "fitted_models = load_fitted_models(\"fitted_GLMMs.pkl\")"
   ]
  },
  {
   "cell_type": "code",
   "execution_count": 23,
   "metadata": {},
   "outputs": [
    {
     "name": "stdout",
     "output_type": "stream",
     "text": [
      "Current best model is model0 with an AIC of 142319.23490165427\n",
      "Current best model is model1 with an AIC of 138979.96571818696\n",
      "Current best model is model2 with an AIC of 138707.4923684611\n",
      "Current best model is model3 with an AIC of 136911.5749373824\n",
      "Current best model is model4 with an AIC of 136899.1582601408\n",
      "Current best model is model6 with an AIC of 136699.7219109801\n",
      "Current best model is model8 with an AIC of 132882.71574743759\n",
      "Current best model is model9 with an AIC of 131480.50204320857\n",
      "Current best model is model15 with an AIC of 131428.72718470442\n",
      "Current best model is model16 with an AIC of 129574.36442449133\n",
      "Current best model is model17 with an AIC of 129536.02753766163\n",
      "Current best model is model29 with an AIC of 129405.29649029924\n",
      "Current best model is model30 with an AIC of 129319.57520043233\n",
      "Current best model is model31 with an AIC of 129242.13857908593\n",
      "Current best model is model32 with an AIC of 129180.83310119298\n"
     ]
    }
   ],
   "source": [
    "# Initialize variables\n",
    "best_aic = float('inf')\n",
    "best_model = None\n",
    "best_model_name = None\n",
    "\n",
    "# Loop over the fitted models dict\n",
    "for model_name, model in fitted_models.items():\n",
    "    \n",
    "    # Check if the model has warnings\n",
    "    if len(model.warnings) == 0:\n",
    "        # Get the AIC for the current model\n",
    "        current_aic = model.AIC\n",
    "        \n",
    "        # Compare with the best AIC found so far\n",
    "        if current_aic < best_aic:\n",
    "            print(f\"Current best model is {model_name} with an AIC of {current_aic}\")\n",
    "            best_aic = current_aic\n",
    "            best_model = model\n",
    "            best_model_name = model_name\n",
    "    else:\n",
    "        print(f\"Model {model_name} did not converge due to warnings: {model.warnings}\")"
   ]
  },
  {
   "cell_type": "code",
   "execution_count": 24,
   "metadata": {},
   "outputs": [
    {
     "name": "stdout",
     "output_type": "stream",
     "text": [
      "Linear mixed model fit by maximum likelihood  ['lmerMod']\n",
      "Formula: death_next_season~ndvi_average*o3_average*wspd_average+(o3_average|operation_id)\n",
      "\n",
      "Family: binomial\t Inference: parametric\n",
      "\n",
      "Number of observations: 112626\t Groups: {'operation_id': 17.0}\n",
      "\n",
      "Log-likelihood: -64579.417 \t AIC: 129180.833\n",
      "\n",
      "Random effects:\n",
      "\n",
      "                     Name    Var    Std\n",
      "operation_id  (Intercept)  3.432  1.853\n",
      "operation_id   o3_average  3.920  1.980\n",
      "\n",
      "                      IV1         IV2   Corr\n",
      "operation_id  (Intercept)  o3_average  0.687\n",
      "\n",
      "Fixed effects:\n",
      "\n",
      "                                      Estimate  2.5_ci  97.5_ci     SE     OR  \\\n",
      "(Intercept)                             -0.149  -1.033    0.735  0.451  0.862   \n",
      "ndvi_average                            -0.403  -0.422   -0.384  0.010  0.668   \n",
      "o3_average                               1.229   0.291    2.166  0.478  3.417   \n",
      "wspd_average                            -0.078  -0.093   -0.064  0.007  0.925   \n",
      "ndvi_average:o3_average                 -0.098  -0.114   -0.081  0.009  0.907   \n",
      "ndvi_average:wspd_average               -0.005  -0.018    0.009  0.007  0.995   \n",
      "o3_average:wspd_average                  0.025  -0.004    0.054  0.015  1.026   \n",
      "ndvi_average:o3_average:wspd_average    -0.071  -0.088   -0.054  0.009  0.932   \n",
      "\n",
      "                                      OR_2.5_ci  OR_97.5_ci   Prob  \\\n",
      "(Intercept)                               0.356       2.086  0.463   \n",
      "ndvi_average                              0.656       0.681  0.401   \n",
      "o3_average                                1.338       8.724  0.774   \n",
      "wspd_average                              0.911       0.938  0.480   \n",
      "ndvi_average:o3_average                   0.892       0.922  0.476   \n",
      "ndvi_average:wspd_average                 0.982       1.009  0.499   \n",
      "o3_average:wspd_average                   0.996       1.055  0.506   \n",
      "ndvi_average:o3_average:wspd_average      0.916       0.948  0.482   \n",
      "\n",
      "                                      Prob_2.5_ci  Prob_97.5_ci  Z-stat  \\\n",
      "(Intercept)                                 0.263         0.676  -0.330   \n",
      "ndvi_average                                0.396         0.405 -41.436   \n",
      "o3_average                                  0.572         0.897   2.569   \n",
      "wspd_average                                0.477         0.484 -10.533   \n",
      "ndvi_average:o3_average                     0.471         0.480 -11.311   \n",
      "ndvi_average:wspd_average                   0.495         0.502  -0.671   \n",
      "o3_average:wspd_average                     0.499         0.513   1.719   \n",
      "ndvi_average:o3_average:wspd_average        0.478         0.487  -8.142   \n",
      "\n",
      "                                      P-val  Sig  \n",
      "(Intercept)                           0.741       \n",
      "ndvi_average                          0.000  ***  \n",
      "o3_average                            0.010    *  \n",
      "wspd_average                          0.000  ***  \n",
      "ndvi_average:o3_average               0.000  ***  \n",
      "ndvi_average:wspd_average             0.502       \n",
      "o3_average:wspd_average               0.086    .  \n",
      "ndvi_average:o3_average:wspd_average  0.000  ***  \n"
     ]
    }
   ],
   "source": [
    "print(best_model.fit())"
   ]
  },
  {
   "cell_type": "markdown",
   "metadata": {},
   "source": [
    "Save the best model output"
   ]
  },
  {
   "cell_type": "code",
   "execution_count": 25,
   "metadata": {},
   "outputs": [],
   "source": [
    "project_root = os.path.dirname(os.getcwd())\n",
    "output_dir = os.path.join(project_root, 'outputs')    \n",
    "filepath = os.path.join(output_dir, \"GLMM_best_model.joblib\")\n",
    "\n",
    "save_model(best_model, filepath = filepath)"
   ]
  }
 ],
 "metadata": {
  "kernelspec": {
   "display_name": "aqi-PLczhCOw-py3.10",
   "language": "python",
   "name": "python3"
  },
  "language_info": {
   "codemirror_mode": {
    "name": "ipython",
    "version": 3
   },
   "file_extension": ".py",
   "mimetype": "text/x-python",
   "name": "python",
   "nbconvert_exporter": "python",
   "pygments_lexer": "ipython3",
   "version": "3.10.1"
  }
 },
 "nbformat": 4,
 "nbformat_minor": 2
}
