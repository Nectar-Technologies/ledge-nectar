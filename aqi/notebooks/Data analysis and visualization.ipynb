{
 "cells": [
  {
   "cell_type": "markdown",
   "id": "4bf50976-64dd-47ae-b2a7-9dc7afe7cea3",
   "metadata": {},
   "source": [
    "# Air quality impact on hives survival \n",
    "\n",
    "The dataset is from Nectar 1.19 and cover hives from 2020 to 2023. The 2023 season is currently censored in terms of winter mortality but you can analyse the acute effect (which I didn't include in the blog post but I did have a look at the effect on the summer mortality and the effect are even stronger). I also shared the complete daily history for all the yards in the dataset for air quality , ndvi and weather that was scrapped from Airpyllution package, meteostats package and earth engine. Finally, you will find a file called 'ops_meta.csv' which contains the region of the given operations. \n",
    "\n",
    "The file are found on this google drive: [here](https://drive.google.com/drive/u/0/folders/1UZ3_jzMRdaQEaIR1TzPqEWTb0azECStB)\n"
   ]
  },
  {
   "cell_type": "markdown",
   "id": "2f66cf91-dbde-4789-8f06-dd8dd11469fb",
   "metadata": {},
   "source": [
    "***\n",
    "### SETUP"
   ]
  },
  {
   "cell_type": "code",
   "execution_count": 1,
   "id": "9e121c82-5805-43d0-96eb-2cfe2f8fff0e",
   "metadata": {},
   "outputs": [],
   "source": [
    "import os \n",
    "import ast\n",
    "from datetime import datetime, date,timezone, timedelta\n",
    "\n",
    "import pandas as pd \n",
    "import numpy as np\n",
    "from collections import Counter\n",
    "\n",
    "import seaborn as sns \n",
    "import matplotlib.pyplot as plt \n",
    "import matplotlib.ticker as mtick\n",
    "%matplotlib inline \n",
    "\n",
    "from sklearn.preprocessing import MinMaxScaler\n",
    "from scipy.stats import skew, kurtosis\n",
    "from pymer4.models import Lmer\n",
    "from lifelines import KaplanMeierFitter, CoxPHFitter\n",
    "from sklearn.model_selection import train_test_split\n",
    "from sksurv.preprocessing import OneHotEncoder\n",
    "from sklearn.preprocessing import StandardScaler\n",
    "from sksurv.ensemble import RandomSurvivalForest\n",
    "from sklearn.model_selection import RandomizedSearchCV\n",
    "\n",
    "from sksurv.metrics import (\n",
    "    concordance_index_censored,\n",
    "    concordance_index_ipcw,\n",
    "    cumulative_dynamic_auc,\n",
    "    integrated_brier_score,\n",
    ")\n",
    "\n",
    "from tqdm.notebook import tqdm\n",
    "\n",
    "import warnings\n",
    "warnings.filterwarnings(\"ignore\")\n",
    "\n",
    "NECTAR_PALETTE = \"blend:#D8A348,#1D1D1D\"\n",
    "sns.set_palette(NECTAR_PALETTE)\n",
    "\n",
    "ROOT_PATH = \"../data\"\n",
    "SEASONS_INCLUDED = [2021, 2022, 2023]\n",
    "FEATURES_MONTH = [5,6,7,8]\n",
    "RUN_PREPROCESS = True\n",
    "\n",
    "# Don't change these values \n",
    "START_SEASON_MONTH = 6\n",
    "START_SEASON_DAY = 15\n",
    "END_SEASON_MONTH = 11\n",
    "END_SEASON_DAY = 15\n",
    "\n",
    "# OPS USED \n",
    "OPS = (36, 51, 55, 69, 83, 87, 89, 153, 159, 160, 161, 167, 192, 193, 194, 195, 199, 205, 207, 208, 210, 212, 218, 219, 220, 221)"
   ]
  },
  {
   "cell_type": "code",
   "execution_count": 2,
   "id": "fcfaade7-a430-45c5-b327-351181a2b793",
   "metadata": {},
   "outputs": [],
   "source": [
    "from aqi.data.utils import timestamp_to_date, try_check_month\n",
    "from aqi.vizualisation.utils import plot_survival_bar_per_state"
   ]
  },
  {
   "cell_type": "code",
   "execution_count": 3,
   "id": "39839e8d-702a-47b0-a66a-d3bb7d6ccacc",
   "metadata": {},
   "outputs": [],
   "source": [
    "\n",
    "if RUN_PREPROCESS:\n",
    "    d = pd.read_csv(os.path.join(ROOT_PATH,\"raw_dev.csv\"))\n",
    "    d['death_date'] = pd.to_datetime(d['death_date'],format=\"mixed\")\n",
    "    d['creation_date'] = pd.to_datetime(d['creation_date'],format=\"mixed\")\n",
    "\n",
    "    for season in SEASONS_INCLUDED:\n",
    "    \n",
    "        season_end = date(season,END_SEASON_MONTH,END_SEASON_DAY)\n",
    "        last_season_end = date(season-1,END_SEASON_MONTH,END_SEASON_DAY)\n",
    "        season_start = date(season,START_SEASON_MONTH,START_SEASON_DAY)\n",
    "    \n",
    "        next_season_start = date(season+1,START_SEASON_MONTH,START_SEASON_DAY)\n",
    "    \n",
    "        state_logs = d.copy()\n",
    "        state_logs[\"death_date\"]= state_logs[\"death_date\"].fillna(next_season_start)\n",
    "        state_logs[\"death_date\"] = pd.to_datetime(state_logs[\"death_date\"]).dt.tz_localize(None)\n",
    "        state_logs[\"creation_date\"] = pd.to_datetime(state_logs[\"creation_date\"]).dt.tz_localize(\n",
    "            None\n",
    "        )\n",
    "       \n",
    "        created_during_season = (state_logs[\"creation_date\"].dt.date < season_end) \n",
    "        # Died after the season start but was alive before\n",
    "        died_after_season_start = state_logs[\"death_date\"].dt.date > season_start\n",
    "        # Died before the next season \n",
    "        died_before_next_season_start = state_logs[\"death_date\"].dt.date <= next_season_start #+ timedelta(days=BUFFER)\n",
    "        # Exclude hive created betwween season start and that die before also \n",
    "        didnt_see_summer = ~((state_logs.apply(lambda x: x[\"death_date\"].month in [1,2,3,4,5] ,axis=1)) & (state_logs[\"creation_date\"].dt.date > season_end))\n",
    "    \n",
    "        \n",
    "        subset_state = state_logs.loc[created_during_season & died_after_season_start & died_before_next_season_start & didnt_see_summer]\n",
    "        subset_state['season'] = season\n",
    "        # Also replace death date > then end_of_exp because otherwise bias model (age)\n",
    "        subset_state.loc[pd.to_datetime(subset_state['death_date']).dt.date > next_season_start, 'death_date'] = next_season_start\n",
    "        \n",
    "        if season == SEASONS_INCLUDED[0]:\n",
    "            data = subset_state \n",
    "        else:\n",
    "            data = pd.concat([data,subset_state],axis=0)\n",
    "    data.reset_index(drop=True,inplace=True)\n",
    "    data.to_csv(os.path.join(ROOT_PATH,\"merged_dev.csv\"),index=False)"
   ]
  },
  {
   "cell_type": "markdown",
   "id": "4158ca5a-791f-419b-a236-c0d50034e29c",
   "metadata": {},
   "source": [
    "***\n",
    "### LOADING DATA"
   ]
  },
  {
   "cell_type": "code",
   "execution_count": 4,
   "id": "385d3846-8e4e-45c7-8bfd-a609fc4a0e30",
   "metadata": {},
   "outputs": [],
   "source": [
    "if RUN_PREPROCESS:\n",
    "    operation_meta = pd.read_csv(os.path.join(ROOT_PATH,\"ops_meta.csv\"))\n",
    "    aqi = pd.read_csv(os.path.join(ROOT_PATH,\"aqi_dev.csv\"))\n",
    "    weather = pd.read_csv(os.path.join(ROOT_PATH,\"weather_dev.csv\"))\n",
    "    ee = pd.read_csv(os.path.join(ROOT_PATH,\"ee_dev.csv\"))\n",
    "    ee.drop(\"ee-image\",axis=1,inplace=True)\n",
    "    ee.dropna(subset=[\"ndvi\"],inplace=True)\n",
    "    \n",
    "    mov = pd.read_csv(os.path.join(ROOT_PATH,\"mouvements.csv\"))\n",
    "\n",
    "    data = pd.read_csv(os.path.join(ROOT_PATH,\"merged_dev.csv\"))\n",
    "else:\n",
    "    data = pd.read_csv(os.path.join(ROOT_PATH,\"preprocess.csv\"))\n",
    "data['death_date'] = pd.to_datetime(data['death_date'], format='mixed')\n",
    "data = data.loc[data['season'].isin(SEASONS_INCLUDED)]"
   ]
  },
  {
   "cell_type": "code",
   "execution_count": 5,
   "id": "a1556768-53ff-4d83-a2ed-a209dd579533",
   "metadata": {},
   "outputs": [],
   "source": [
    "# sns.set_palette(\"tab10\")\n",
    "# for ops in d.operation_id.unique():\n",
    "#     if ops in [55,161,69]:\n",
    "#         sub = d.loc[d['operation_id']==ops]\n",
    "#         sns.histplot(sub.death_date.dt.month, label=str(ops))\n",
    "# plt.legend()"
   ]
  },
  {
   "cell_type": "code",
   "execution_count": 6,
   "id": "95826be8-b2e1-41b0-a41d-747a953316e1",
   "metadata": {},
   "outputs": [],
   "source": [
    "sns.set_palette(NECTAR_PALETTE)"
   ]
  },
  {
   "cell_type": "code",
   "execution_count": 7,
   "id": "17e1ca23-4285-4597-a179-cbec25456506",
   "metadata": {},
   "outputs": [
    {
     "name": "stdout",
     "output_type": "stream",
     "text": [
      "time       0.000000\n",
      "yard_id    0.000000\n",
      "tavg       0.001348\n",
      "prcp       0.001059\n",
      "wspd       0.002166\n",
      "pres       0.002496\n",
      "tsun       1.000000\n",
      "wdir       0.698620\n",
      "dtype: float64\n"
     ]
    }
   ],
   "source": [
    "if RUN_PREPROCESS:\n",
    "    print(weather.isnull().mean()) # For some reason atmost pressure is not getting scrapped "
   ]
  },
  {
   "cell_type": "code",
   "execution_count": 8,
   "id": "31d22900-13d0-4128-aba6-66e3f4440043",
   "metadata": {},
   "outputs": [
    {
     "name": "stdout",
     "output_type": "stream",
     "text": [
      "time       0.0\n",
      "yard_id    0.0\n",
      "pm2_5      0.0\n",
      "pm10       0.0\n",
      "o3         0.0\n",
      "co         0.0\n",
      "no         0.0\n",
      "no2        0.0\n",
      "so2        0.0\n",
      "nh3        0.0\n",
      "aqhi       0.0\n",
      "dtype: float64\n"
     ]
    }
   ],
   "source": [
    "if RUN_PREPROCESS:\n",
    "    print(aqi.isnull().mean())"
   ]
  },
  {
   "cell_type": "code",
   "execution_count": 9,
   "id": "61a16635-63be-4b3a-8ad1-41b83b27fd2c",
   "metadata": {},
   "outputs": [
    {
     "name": "stdout",
     "output_type": "stream",
     "text": [
      "time       0.0\n",
      "yard_id    0.0\n",
      "ndvi       0.0\n",
      "dtype: float64\n"
     ]
    }
   ],
   "source": [
    "if RUN_PREPROCESS:\n",
    "    print(ee.isnull().mean()) # 2023 is null , need to update for simulations later..."
   ]
  },
  {
   "cell_type": "code",
   "execution_count": 10,
   "id": "c2d92f66-72e9-4145-9e63-de1f7d48fce4",
   "metadata": {},
   "outputs": [
    {
     "name": "stdout",
     "output_type": "stream",
     "text": [
      "                  time  yard_id      ndvi\n",
      "0  2021-04-01 00:00:00      534 -0.192196\n",
      "1  2021-05-01 00:00:00      534  0.034725\n",
      "2  2021-06-01 00:00:00      534  0.256440\n",
      "3  2021-07-01 00:00:00      534  0.159358\n",
      "4  2021-08-01 00:00:00      534  0.230404\n"
     ]
    }
   ],
   "source": [
    "if RUN_PREPROCESS:\n",
    "    print(ee.head())"
   ]
  },
  {
   "cell_type": "code",
   "execution_count": 11,
   "id": "1dd835e5-dc41-486b-ac76-ffdbe3fb584c",
   "metadata": {},
   "outputs": [],
   "source": [
    "if RUN_PREPROCESS:\n",
    "    data['creation_date'] = pd.to_datetime(data['creation_date'],format='mixed').dt.date\n",
    "    data['death_date']= pd.to_datetime(data['death_date']).dt.date"
   ]
  },
  {
   "cell_type": "code",
   "execution_count": 12,
   "id": "aa609157-7da0-4a6c-b353-ee372897fb8d",
   "metadata": {},
   "outputs": [
    {
     "name": "stdout",
     "output_type": "stream",
     "text": [
      "Counter({1: 106967, 2: 16466, 3: 3127})\n"
     ]
    }
   ],
   "source": [
    "if RUN_PREPROCESS:\n",
    "    print(Counter(data.hid.value_counts())) # Meaning that 16 632 hives are present in two season while 38405 are only in one season "
   ]
  },
  {
   "cell_type": "code",
   "execution_count": 13,
   "id": "4d99f664-9147-4871-8b40-b3606e236a8c",
   "metadata": {},
   "outputs": [],
   "source": [
    "if RUN_PREPROCESS:\n",
    "    ### Label creation (based on season start end)\n",
    "    \n",
    "    def get_state_for_season(state_log):\n",
    "        \n",
    "        return state_log.apply(lambda x: x['death_date'] < date(x['season']+1, START_SEASON_MONTH,START_SEASON_DAY), axis=1)\n",
    "    \n",
    "    def get_age_for_season(state_log):\n",
    "        return state_log.apply(lambda x : abs((x['death_date'] - x['creation_date']).days), axis=1)\n",
    "    \n",
    "    \n",
    "    data['death_next_season'] = get_state_for_season(data)\n",
    "    data['hive_age_next_season'] = get_age_for_season(data)"
   ]
  },
  {
   "cell_type": "code",
   "execution_count": 14,
   "id": "2d04813a-0667-4a37-bf05-829e57cacbd4",
   "metadata": {},
   "outputs": [
    {
     "data": {
      "text/plain": [
       "0.20989415862808145"
      ]
     },
     "execution_count": 14,
     "metadata": {},
     "output_type": "execute_result"
    }
   ],
   "source": [
    "data['death_next_season'].mean()"
   ]
  },
  {
   "cell_type": "code",
   "execution_count": 15,
   "id": "6f30602e-31ca-49c8-826a-75b5d2d2cbf1",
   "metadata": {},
   "outputs": [
    {
     "data": {
      "text/plain": [
       "hid                      int64\n",
       "creation_date           object\n",
       "operation_id             int64\n",
       "death_date              object\n",
       "season                   int64\n",
       "death_next_season         bool\n",
       "hive_age_next_season     int64\n",
       "dtype: object"
      ]
     },
     "execution_count": 15,
     "metadata": {},
     "output_type": "execute_result"
    }
   ],
   "source": [
    "data.dtypes"
   ]
  },
  {
   "cell_type": "code",
   "execution_count": 16,
   "id": "a9abe41a-e1f2-4b7f-846c-1dad22e1f364",
   "metadata": {},
   "outputs": [
    {
     "data": {
      "text/plain": [
       "operation_id\n",
       "193    44495\n",
       "69     32987\n",
       "153    18268\n",
       "55     14613\n",
       "167    10650\n",
       "161     8070\n",
       "87      5845\n",
       "207     5822\n",
       "210     1828\n",
       "195     1591\n",
       "36      1084\n",
       "194      973\n",
       "212      758\n",
       "220      631\n",
       "160      407\n",
       "219      397\n",
       "224      251\n",
       "159      227\n",
       "205      193\n",
       "83       188\n",
       "199        2\n",
       "Name: count, dtype: int64"
      ]
     },
     "execution_count": 16,
     "metadata": {},
     "output_type": "execute_result"
    }
   ],
   "source": [
    "data.operation_id.value_counts()"
   ]
  },
  {
   "cell_type": "code",
   "execution_count": 17,
   "id": "34a2ab75-2b7a-4084-b069-c01e59ffda8d",
   "metadata": {},
   "outputs": [
    {
     "data": {
      "text/plain": [
       "season\n",
       "2023    107999\n",
       "2022     32037\n",
       "2021      9244\n",
       "Name: count, dtype: int64"
      ]
     },
     "execution_count": 17,
     "metadata": {},
     "output_type": "execute_result"
    }
   ],
   "source": [
    "data.season.value_counts()"
   ]
  },
  {
   "cell_type": "code",
   "execution_count": 18,
   "id": "fb54b7c1-502b-49c6-a165-d48461e166ac",
   "metadata": {},
   "outputs": [],
   "source": [
    "if RUN_PREPROCESS:\n",
    "    # BAD OPS in 2021-2022\n",
    "    data = data.loc[~((data['operation_id'] == 51) & (data['season']==2021))]\n",
    "    data = data.loc[~((data['operation_id'] == 87) & (data['season']==2021))]\n",
    "    data = data.loc[~((data['operation_id']==167) & (data['season']==2022))]"
   ]
  },
  {
   "cell_type": "code",
   "execution_count": 19,
   "id": "30d98d5c-1e8d-4ef0-b14e-fe2c068b1cbc",
   "metadata": {},
   "outputs": [
    {
     "data": {
      "text/html": [
       "<div>\n",
       "<style scoped>\n",
       "    .dataframe tbody tr th:only-of-type {\n",
       "        vertical-align: middle;\n",
       "    }\n",
       "\n",
       "    .dataframe tbody tr th {\n",
       "        vertical-align: top;\n",
       "    }\n",
       "\n",
       "    .dataframe thead th {\n",
       "        text-align: right;\n",
       "    }\n",
       "</style>\n",
       "<table border=\"1\" class=\"dataframe\">\n",
       "  <thead>\n",
       "    <tr style=\"text-align: right;\">\n",
       "      <th></th>\n",
       "      <th></th>\n",
       "      <th>death_next_season</th>\n",
       "      <th>hive_age_next_season</th>\n",
       "    </tr>\n",
       "    <tr>\n",
       "      <th>season</th>\n",
       "      <th>operation_id</th>\n",
       "      <th></th>\n",
       "      <th></th>\n",
       "    </tr>\n",
       "  </thead>\n",
       "  <tbody>\n",
       "    <tr>\n",
       "      <th rowspan=\"4\" valign=\"top\">2021</th>\n",
       "      <th>36</th>\n",
       "      <td>0.492355</td>\n",
       "      <td>411.103976</td>\n",
       "    </tr>\n",
       "    <tr>\n",
       "      <th>55</th>\n",
       "      <td>0.623086</td>\n",
       "      <td>321.406164</td>\n",
       "    </tr>\n",
       "    <tr>\n",
       "      <th>69</th>\n",
       "      <td>0.661955</td>\n",
       "      <td>350.359246</td>\n",
       "    </tr>\n",
       "    <tr>\n",
       "      <th>83</th>\n",
       "      <td>0.000000</td>\n",
       "      <td>322.000000</td>\n",
       "    </tr>\n",
       "    <tr>\n",
       "      <th rowspan=\"9\" valign=\"top\">2022</th>\n",
       "      <th>36</th>\n",
       "      <td>0.028646</td>\n",
       "      <td>552.833333</td>\n",
       "    </tr>\n",
       "    <tr>\n",
       "      <th>55</th>\n",
       "      <td>0.315020</td>\n",
       "      <td>559.845148</td>\n",
       "    </tr>\n",
       "    <tr>\n",
       "      <th>69</th>\n",
       "      <td>0.337974</td>\n",
       "      <td>366.455468</td>\n",
       "    </tr>\n",
       "    <tr>\n",
       "      <th>83</th>\n",
       "      <td>0.552632</td>\n",
       "      <td>399.657895</td>\n",
       "    </tr>\n",
       "    <tr>\n",
       "      <th>87</th>\n",
       "      <td>0.647992</td>\n",
       "      <td>412.726216</td>\n",
       "    </tr>\n",
       "    <tr>\n",
       "      <th>153</th>\n",
       "      <td>0.416810</td>\n",
       "      <td>389.562950</td>\n",
       "    </tr>\n",
       "    <tr>\n",
       "      <th>159</th>\n",
       "      <td>0.704348</td>\n",
       "      <td>298.669565</td>\n",
       "    </tr>\n",
       "    <tr>\n",
       "      <th>160</th>\n",
       "      <td>0.248276</td>\n",
       "      <td>325.255172</td>\n",
       "    </tr>\n",
       "    <tr>\n",
       "      <th>161</th>\n",
       "      <td>0.283731</td>\n",
       "      <td>289.159781</td>\n",
       "    </tr>\n",
       "    <tr>\n",
       "      <th rowspan=\"21\" valign=\"top\">2023</th>\n",
       "      <th>36</th>\n",
       "      <td>0.000000</td>\n",
       "      <td>927.525469</td>\n",
       "    </tr>\n",
       "    <tr>\n",
       "      <th>55</th>\n",
       "      <td>0.046553</td>\n",
       "      <td>724.146454</td>\n",
       "    </tr>\n",
       "    <tr>\n",
       "      <th>69</th>\n",
       "      <td>0.128808</td>\n",
       "      <td>527.610175</td>\n",
       "    </tr>\n",
       "    <tr>\n",
       "      <th>83</th>\n",
       "      <td>0.055556</td>\n",
       "      <td>835.666667</td>\n",
       "    </tr>\n",
       "    <tr>\n",
       "      <th>87</th>\n",
       "      <td>0.151279</td>\n",
       "      <td>459.447534</td>\n",
       "    </tr>\n",
       "    <tr>\n",
       "      <th>153</th>\n",
       "      <td>0.036438</td>\n",
       "      <td>588.966082</td>\n",
       "    </tr>\n",
       "    <tr>\n",
       "      <th>159</th>\n",
       "      <td>0.062500</td>\n",
       "      <td>468.455357</td>\n",
       "    </tr>\n",
       "    <tr>\n",
       "      <th>160</th>\n",
       "      <td>0.064885</td>\n",
       "      <td>498.583969</td>\n",
       "    </tr>\n",
       "    <tr>\n",
       "      <th>161</th>\n",
       "      <td>0.029163</td>\n",
       "      <td>514.239139</td>\n",
       "    </tr>\n",
       "    <tr>\n",
       "      <th>167</th>\n",
       "      <td>0.132754</td>\n",
       "      <td>350.405909</td>\n",
       "    </tr>\n",
       "    <tr>\n",
       "      <th>193</th>\n",
       "      <td>0.139117</td>\n",
       "      <td>436.991190</td>\n",
       "    </tr>\n",
       "    <tr>\n",
       "      <th>194</th>\n",
       "      <td>0.038027</td>\n",
       "      <td>314.704008</td>\n",
       "    </tr>\n",
       "    <tr>\n",
       "      <th>195</th>\n",
       "      <td>0.037712</td>\n",
       "      <td>327.542426</td>\n",
       "    </tr>\n",
       "    <tr>\n",
       "      <th>199</th>\n",
       "      <td>0.000000</td>\n",
       "      <td>437.500000</td>\n",
       "    </tr>\n",
       "    <tr>\n",
       "      <th>205</th>\n",
       "      <td>0.000000</td>\n",
       "      <td>370.248705</td>\n",
       "    </tr>\n",
       "    <tr>\n",
       "      <th>207</th>\n",
       "      <td>0.219684</td>\n",
       "      <td>280.761079</td>\n",
       "    </tr>\n",
       "    <tr>\n",
       "      <th>210</th>\n",
       "      <td>0.066193</td>\n",
       "      <td>321.088074</td>\n",
       "    </tr>\n",
       "    <tr>\n",
       "      <th>212</th>\n",
       "      <td>0.325858</td>\n",
       "      <td>234.492084</td>\n",
       "    </tr>\n",
       "    <tr>\n",
       "      <th>219</th>\n",
       "      <td>0.032746</td>\n",
       "      <td>259.450882</td>\n",
       "    </tr>\n",
       "    <tr>\n",
       "      <th>220</th>\n",
       "      <td>0.020602</td>\n",
       "      <td>247.294770</td>\n",
       "    </tr>\n",
       "    <tr>\n",
       "      <th>224</th>\n",
       "      <td>0.000000</td>\n",
       "      <td>240.972112</td>\n",
       "    </tr>\n",
       "  </tbody>\n",
       "</table>\n",
       "</div>"
      ],
      "text/plain": [
       "                     death_next_season  hive_age_next_season\n",
       "season operation_id                                         \n",
       "2021   36                     0.492355            411.103976\n",
       "       55                     0.623086            321.406164\n",
       "       69                     0.661955            350.359246\n",
       "       83                     0.000000            322.000000\n",
       "2022   36                     0.028646            552.833333\n",
       "       55                     0.315020            559.845148\n",
       "       69                     0.337974            366.455468\n",
       "       83                     0.552632            399.657895\n",
       "       87                     0.647992            412.726216\n",
       "       153                    0.416810            389.562950\n",
       "       159                    0.704348            298.669565\n",
       "       160                    0.248276            325.255172\n",
       "       161                    0.283731            289.159781\n",
       "2023   36                     0.000000            927.525469\n",
       "       55                     0.046553            724.146454\n",
       "       69                     0.128808            527.610175\n",
       "       83                     0.055556            835.666667\n",
       "       87                     0.151279            459.447534\n",
       "       153                    0.036438            588.966082\n",
       "       159                    0.062500            468.455357\n",
       "       160                    0.064885            498.583969\n",
       "       161                    0.029163            514.239139\n",
       "       167                    0.132754            350.405909\n",
       "       193                    0.139117            436.991190\n",
       "       194                    0.038027            314.704008\n",
       "       195                    0.037712            327.542426\n",
       "       199                    0.000000            437.500000\n",
       "       205                    0.000000            370.248705\n",
       "       207                    0.219684            280.761079\n",
       "       210                    0.066193            321.088074\n",
       "       212                    0.325858            234.492084\n",
       "       219                    0.032746            259.450882\n",
       "       220                    0.020602            247.294770\n",
       "       224                    0.000000            240.972112"
      ]
     },
     "execution_count": 19,
     "metadata": {},
     "output_type": "execute_result"
    }
   ],
   "source": [
    "data.drop(['death_date','creation_date'],axis=1).groupby(['season','operation_id']).mean(numeric_only=True)[['death_next_season','hive_age_next_season']]"
   ]
  },
  {
   "cell_type": "code",
   "execution_count": 20,
   "id": "706b4c58-f023-4c46-bd2e-339fc296a789",
   "metadata": {},
   "outputs": [
    {
     "data": {
      "text/plain": [
       "146918"
      ]
     },
     "execution_count": 20,
     "metadata": {},
     "output_type": "execute_result"
    }
   ],
   "source": [
    "len(data)"
   ]
  },
  {
   "cell_type": "code",
   "execution_count": 21,
   "id": "45ef04be-155f-444a-8c21-625d56d22730",
   "metadata": {},
   "outputs": [
    {
     "data": {
      "text/plain": [
       "hid                     0.0\n",
       "creation_date           0.0\n",
       "operation_id            0.0\n",
       "death_date              0.0\n",
       "season                  0.0\n",
       "death_next_season       0.0\n",
       "hive_age_next_season    0.0\n",
       "dtype: float64"
      ]
     },
     "execution_count": 21,
     "metadata": {},
     "output_type": "execute_result"
    }
   ],
   "source": [
    "data.isnull().mean()"
   ]
  },
  {
   "cell_type": "markdown",
   "id": "0c15d8b6-8b91-4979-a302-09c97423cd75",
   "metadata": {},
   "source": [
    "### Feature eng for predictive models\n"
   ]
  },
  {
   "cell_type": "markdown",
   "id": "9c65e797-9d81-4ced-af60-57714e1cbd37",
   "metadata": {},
   "source": [
    "### From mouvements to sensors data \n",
    "\n",
    "- Idea is to get the location of the hive at time X between june 1st and August 31 \n",
    "- Once we have that info we simply do statistic on the sequence \n"
   ]
  },
  {
   "cell_type": "markdown",
   "id": "550621e1-adc0-4011-92dc-af87aa2362dc",
   "metadata": {},
   "source": [
    "***\n",
    "### One hive example"
   ]
  },
  {
   "cell_type": "code",
   "execution_count": 22,
   "id": "b9db8eef-b77b-48cd-a819-f65d45003b5c",
   "metadata": {},
   "outputs": [],
   "source": [
    "if RUN_PREPROCESS:\n",
    "    mov['to_when'].fillna(date.today(),inplace=True) # When null still didn't moved\n",
    "    mov['from_when'] = pd.to_datetime(mov['from_when'],format='mixed').dt.date\n",
    "    mov['to_when'] = pd.to_datetime(mov['to_when'],format='mixed').dt.date\n",
    "    \n",
    "    aqi['time'] = pd.to_datetime(aqi['time'],format='mixed').dt.date\n",
    "    weather['time'] = pd.to_datetime(weather['time'],format='mixed').dt.date\n",
    "    ee['time'] = pd.to_datetime(ee['time'],format='mixed').dt.date"
   ]
  },
  {
   "cell_type": "code",
   "execution_count": 23,
   "id": "372843c0-77ba-46c3-a9a5-6a60f3d8f4e4",
   "metadata": {},
   "outputs": [],
   "source": [
    "if RUN_PREPROCESS:\n",
    "    # Only keep aqi, weather and ee for summer month \n",
    "    \n",
    "    aqi = aqi.loc[pd.to_datetime(aqi['time']).dt.month.isin(FEATURES_MONTH)].reset_index(drop=True)\n",
    "    weather = weather.loc[pd.to_datetime(weather['time']).dt.month.isin(FEATURES_MONTH)].reset_index(drop=True)\n",
    "    ee = ee.loc[pd.to_datetime(ee['time']).dt.month.isin(FEATURES_MONTH)].reset_index(drop=True)"
   ]
  },
  {
   "cell_type": "code",
   "execution_count": 24,
   "id": "1564f07e-4c4c-47b5-adbf-ae247ba4770e",
   "metadata": {},
   "outputs": [
    {
     "name": "stdout",
     "output_type": "stream",
     "text": [
      "14\n"
     ]
    }
   ],
   "source": [
    "if RUN_PREPROCESS:\n",
    "    one = mov.loc[mov['hive_identity_id']==21199]\n",
    "    print(len(one))"
   ]
  },
  {
   "cell_type": "code",
   "execution_count": 25,
   "id": "6a06c7bf-daa6-4767-b27f-377747b4da24",
   "metadata": {},
   "outputs": [],
   "source": [
    "if RUN_PREPROCESS:\n",
    "    one = (one.assign(time = [pd.date_range(start, end) \n",
    "                       for start, end \n",
    "                       in zip(one['from_when'], one['to_when'])]\n",
    "              )\n",
    "       .explode('time', ignore_index = True)\n",
    "    )"
   ]
  },
  {
   "cell_type": "code",
   "execution_count": 26,
   "id": "71554947-4344-42b8-95ba-88ee14f3f01f",
   "metadata": {},
   "outputs": [],
   "source": [
    "if RUN_PREPROCESS:\n",
    "    one['time'] = pd.to_datetime(one['time']).dt.date"
   ]
  },
  {
   "cell_type": "code",
   "execution_count": 27,
   "id": "2258126e-41fc-4599-af00-9265432ba85d",
   "metadata": {},
   "outputs": [],
   "source": [
    "if RUN_PREPROCESS:\n",
    "    one.head()"
   ]
  },
  {
   "cell_type": "code",
   "execution_count": 28,
   "id": "5afed2e9-8599-4dde-b706-0797765edadb",
   "metadata": {},
   "outputs": [],
   "source": [
    "if RUN_PREPROCESS:\n",
    "    one = pd.merge(one,aqi, on=[\"yard_id\",\"time\"])"
   ]
  },
  {
   "cell_type": "code",
   "execution_count": 29,
   "id": "2a5495c0-f414-4c1d-aa89-e548355e469e",
   "metadata": {},
   "outputs": [],
   "source": [
    "if RUN_PREPROCESS:\n",
    "    one['season'] = pd.to_datetime(one['time']).dt.year\n",
    "    one['month'] = pd.to_datetime(one['time']).dt.month"
   ]
  },
  {
   "cell_type": "code",
   "execution_count": 30,
   "id": "e4163665-104b-4133-8b97-03d1fcad511e",
   "metadata": {},
   "outputs": [],
   "source": [
    "if RUN_PREPROCESS:\n",
    "    one[['season','month','aqhi']].groupby([\"season\",\"month\"]).mean()"
   ]
  },
  {
   "cell_type": "code",
   "execution_count": 31,
   "id": "9f977f32-5775-43ee-bdd4-f7bb37e57399",
   "metadata": {},
   "outputs": [
    {
     "name": "stdout",
     "output_type": "stream",
     "text": [
      "   hive_identity_id  report_id   from_when     to_when  user_id  yard_id  \\\n",
      "0             21199       5415  2021-06-23  2022-03-02      121     1034   \n",
      "1             21199       5415  2021-06-23  2022-03-02      121     1034   \n",
      "2             21199       5415  2021-06-23  2022-03-02      121     1034   \n",
      "3             21199       5415  2021-06-23  2022-03-02      121     1034   \n",
      "4             21199       5415  2021-06-23  2022-03-02      121     1034   \n",
      "\n",
      "                submitted_at  operation_id        time      pm2_5       pm10  \\\n",
      "0  2021-06-23 12:37:14+00:00            55  2021-06-23   0.520500   0.916000   \n",
      "1  2021-06-23 12:37:14+00:00            55  2021-06-24   3.545417   4.876667   \n",
      "2  2021-06-23 12:37:14+00:00            55  2021-06-25  10.084583  10.956667   \n",
      "3  2021-06-23 12:37:14+00:00            55  2021-06-26  11.185417  11.919583   \n",
      "4  2021-06-23 12:37:14+00:00            55  2021-06-27   4.947083   5.618333   \n",
      "\n",
      "          o3          co        no       no2       so2       nh3      aqhi  \\\n",
      "0  38.893500  155.211000  0.145000  0.978500  0.244500  1.322500  2.050000   \n",
      "1  56.065833  209.173333  1.203333  9.275417  4.381667  2.233333  4.041667   \n",
      "2  98.319167  213.066667  0.214167  7.938333  6.035833  1.690417  6.666667   \n",
      "3  72.985417  230.382083  0.063750  8.944583  3.940417  1.452500  5.458333   \n",
      "4  50.083333  227.739167  0.097083  6.160000  2.602917  0.757917  3.458333   \n",
      "\n",
      "   season  month  \n",
      "0    2021      6  \n",
      "1    2021      6  \n",
      "2    2021      6  \n",
      "3    2021      6  \n",
      "4    2021      6  \n"
     ]
    }
   ],
   "source": [
    "if RUN_PREPROCESS:\n",
    "    print(one.head())"
   ]
  },
  {
   "cell_type": "markdown",
   "id": "530e9fb0-c91b-490d-8aa1-f8aa885441ac",
   "metadata": {},
   "source": [
    "### ALL hives and sensors"
   ]
  },
  {
   "cell_type": "code",
   "execution_count": 32,
   "id": "1c2be193-92db-4945-aec7-5506a57cd499",
   "metadata": {},
   "outputs": [],
   "source": [
    "if RUN_PREPROCESS:\n",
    "    mov = mov[mov['hive_identity_id'].isin(list(data.hid.unique()))].reset_index(drop=True)"
   ]
  },
  {
   "cell_type": "code",
   "execution_count": null,
   "id": "ae5312a8-f4c3-4787-b238-4b97ad261936",
   "metadata": {},
   "outputs": [],
   "source": [
    "if RUN_PREPROCESS:\n",
    "    # WARNING THIS TAKES A WHILE (5 minutes...or so)\n",
    "    mov = (mov.assign(time = [pd.date_range(start,end) \n",
    "                       for start, end \n",
    "                       in zip(mov['from_when'], mov['to_when'])]\n",
    "              )\n",
    "       .explode('time', ignore_index = True)\n",
    "    )"
   ]
  },
  {
   "cell_type": "code",
   "execution_count": null,
   "id": "a38564e6-0435-49db-b30b-65001c1bf026",
   "metadata": {},
   "outputs": [],
   "source": [
    "if RUN_PREPROCESS:\n",
    "    mov['time'] = pd.to_datetime(mov['time']).dt.date\n",
    "    \n",
    "    mov = mov.loc[pd.to_datetime(mov['time']).dt.month.isin(FEATURES_MONTH)].reset_index(drop=True)"
   ]
  },
  {
   "cell_type": "code",
   "execution_count": null,
   "id": "24e7cf3e-e3f0-474f-9c27-a421a31abe60",
   "metadata": {},
   "outputs": [],
   "source": [
    "if RUN_PREPROCESS:\n",
    "    merged = pd.merge(mov,aqi, on=[\"yard_id\",\"time\"], how=\"left\")\n",
    "    merged = pd.merge(merged,weather, on=[\"yard_id\",\"time\"], how=\"left\")\n",
    "    merged = pd.merge(merged,ee, on=[\"yard_id\",\"time\"], how=\"left\")\n",
    "    merged.sort_values(\"time\",ascending=True,inplace=True)\n",
    "    # Keep value constant if no change \n",
    "    merged.fillna(method=\"bfill\",inplace=True)\n",
    "    \n",
    "    merged.head()"
   ]
  },
  {
   "cell_type": "code",
   "execution_count": null,
   "id": "0eb50387-692a-4dd9-9959-1b21c8af1c6d",
   "metadata": {},
   "outputs": [],
   "source": [
    "if RUN_PREPROCESS:\n",
    "    merged.isnull().mean()"
   ]
  },
  {
   "cell_type": "markdown",
   "id": "8e12717e-9947-48b8-b891-fae164e6f746",
   "metadata": {},
   "source": [
    "### TSun and Wdir high null, just ignore them "
   ]
  },
  {
   "cell_type": "code",
   "execution_count": null,
   "id": "c02d0b93-7e84-4c79-8f96-29537789a84b",
   "metadata": {},
   "outputs": [],
   "source": [
    "if RUN_PREPROCESS:\n",
    "    merged.drop(['tsun','wdir'],axis=1,inplace=True)"
   ]
  },
  {
   "cell_type": "markdown",
   "id": "2228b568-52b8-4843-9397-8f2705a91284",
   "metadata": {},
   "source": [
    "### Compute stats for each hid"
   ]
  },
  {
   "cell_type": "code",
   "execution_count": null,
   "id": "b5b8ba8e-4423-4126-aace-ec1519b4b0a9",
   "metadata": {},
   "outputs": [],
   "source": [
    "if RUN_PREPROCESS:\n",
    "    merged['season'] = pd.to_datetime(merged['time']).dt.year"
   ]
  },
  {
   "cell_type": "code",
   "execution_count": null,
   "id": "9a8ad47f-81c2-4b65-adf1-901c746b6a44",
   "metadata": {},
   "outputs": [],
   "source": [
    "if RUN_PREPROCESS:\n",
    "    # THis takes 10 min or so locally\n",
    "    # merged['month'] = pd.to_datetime(merged['time']).dt.month\n",
    "    averages = merged.drop(['from_when','to_when','time','submitted_at'],axis=1).groupby([\"hive_identity_id\",\"season\"]).mean().reset_index()\n",
    "    skewed = merged.drop(['from_when','to_when','time','submitted_at'],axis=1).groupby([\"hive_identity_id\",\"season\"]).agg(lambda x : skew(x)).reset_index()\n",
    "    maxed = merged.drop(['from_when','to_when','time','submitted_at'],axis=1).groupby([\"hive_identity_id\",\"season\"]).max().reset_index()"
   ]
  },
  {
   "cell_type": "code",
   "execution_count": null,
   "id": "6dae0bb4-17fe-4dd1-bc09-b1e433fc6ed3",
   "metadata": {},
   "outputs": [],
   "source": [
    "if RUN_PREPROCESS:\n",
    "    averages.rename(columns={\"aqhi\":\"aqhi_average\",\"prcp\":\"prcp_average\",\"wspd\":\"wspd_average\",\"ndvi\":\"ndvi_average\"\n",
    "                             ,\"tavg\":\"tavg_average\",\"o3\":\"o3_average\",\"hive_identity_id\":\"hid\"},inplace=True)\n",
    "    skewed.rename(columns={\"aqhi\":\"aqhi_skew\",\"prcp\":\"prcp_skew\",\"wspd\":\"wspd_skew\",\"ndvi\":\"ndvi_skew\"\n",
    "                           ,\"tavg\":\"tavg_skew\",\"o3\":\"o3_skew\",\"hive_identity_id\":\"hid\"},inplace=True)\n",
    "    maxed.rename(columns={\"aqhi\":\"aqhi_max\",\"prcp\":\"prcp_max\",\"wspd\":\"wspd_max\",\"ndvi\":\"ndvi_max\"\n",
    "                          ,\"tavg\":\"tavg_max\",\"o3\":\"o3_max\",\"hive_identity_id\":\"hid\"},inplace=True)\n"
   ]
  },
  {
   "cell_type": "markdown",
   "id": "356ccf12-2435-49af-ac5d-1cb657999f51",
   "metadata": {},
   "source": [
    "### Bring remote sensors with season state (merge)"
   ]
  },
  {
   "cell_type": "code",
   "execution_count": null,
   "id": "eaa6c079-08d7-4b89-9943-5cff2469dec6",
   "metadata": {},
   "outputs": [],
   "source": [
    "if RUN_PREPROCESS:\n",
    "    print(len(data))\n",
    "    data = pd.merge(data, averages[['season','hid','aqhi_average','prcp_average','wspd_average'\n",
    "                                    ,'ndvi_average','tavg_average','o3_average']], on=[\"season\",\"hid\"], how=\"left\")\n",
    "    print(len(data))\n",
    "    data = pd.merge(data, skewed[['season','hid','aqhi_skew','prcp_skew','wspd_skew'\n",
    "                                  ,'ndvi_skew','tavg_skew','o3_skew']], on=[\"season\",\"hid\"], how=\"left\")\n",
    "    print(len(data))\n",
    "    data = pd.merge(data, maxed[['season','hid','aqhi_max','prcp_max','wspd_max'\n",
    "                                 ,'ndvi_max','tavg_max','o3_max']], on=[\"season\",\"hid\"], how=\"left\")\n",
    "    print(len(data))"
   ]
  },
  {
   "cell_type": "code",
   "execution_count": null,
   "id": "c4f24213-75f5-4d65-8f20-7876efd4da47",
   "metadata": {},
   "outputs": [],
   "source": [
    "data.head()"
   ]
  },
  {
   "cell_type": "code",
   "execution_count": null,
   "id": "c13d1dc9-497e-489b-9a1b-11a75a2b9889",
   "metadata": {},
   "outputs": [],
   "source": [
    "len(data)"
   ]
  },
  {
   "cell_type": "markdown",
   "id": "ad97dcf6-d24d-466e-ae98-bfd13a72430e",
   "metadata": {},
   "source": [
    "### Add region"
   ]
  },
  {
   "cell_type": "code",
   "execution_count": null,
   "id": "b925f043-087c-4018-aa0f-c754f7156d95",
   "metadata": {},
   "outputs": [],
   "source": [
    "if RUN_PREPROCESS:\n",
    "    operation_meta.index = operation_meta['Operation ID']\n",
    "    regions = operation_meta.to_dict(orient=\"dict\")['Location']"
   ]
  },
  {
   "cell_type": "code",
   "execution_count": null,
   "id": "6202e9df-9b8e-4ad0-bb9f-dfcbc8395303",
   "metadata": {},
   "outputs": [],
   "source": [
    "def try_region(x):\n",
    "    try:\n",
    "        return regions[str(x)].split(\",\")[1]\n",
    "    except:\n",
    "        return 'Unknown'"
   ]
  },
  {
   "cell_type": "code",
   "execution_count": null,
   "id": "86d1a636-a93e-4b4b-9f12-22b86d5b43cd",
   "metadata": {},
   "outputs": [],
   "source": [
    "if RUN_PREPROCESS:\n",
    "    data['region'] = data['operation_id'].apply(lambda x: try_region(x))\n",
    "data.groupby(['operation_id','season']).count()"
   ]
  },
  {
   "cell_type": "markdown",
   "id": "f5aa3e19-b99a-4bd5-96e0-1e8748c2d085",
   "metadata": {},
   "source": [
    "### Saving preprocess so we don't need to run every time"
   ]
  },
  {
   "cell_type": "code",
   "execution_count": null,
   "id": "d11e0063-a879-40a2-9e20-8a7e330f032b",
   "metadata": {},
   "outputs": [],
   "source": [
    "if RUN_PREPROCESS:\n",
    "    data.to_csv(os.path.join(ROOT_PATH,\"preprocess.csv\"),index=False)\n",
    "else:\n",
    "    data = pd.read_csv(os.path.join(ROOT_PATH,\"preprocess.csv\"))"
   ]
  },
  {
   "cell_type": "code",
   "execution_count": null,
   "id": "ea13d159-0e8d-479e-8e41-fb562de33081",
   "metadata": {},
   "outputs": [],
   "source": [
    "len(data)"
   ]
  },
  {
   "cell_type": "code",
   "execution_count": null,
   "id": "921e9f7d-82d3-4afa-8dab-202af40021e2",
   "metadata": {},
   "outputs": [],
   "source": [
    "ONLY_WINTER = False\n",
    "ONLY_INSEASON = False \n",
    "ACTIVE_ALL_AND_WINTER = True  # Blog post hypothesis \n",
    "if ONLY_WINTER or ONLY_INSEASON:\n",
    "    assert ONLY_WINTER != ONLY_INSEASON, \"choose one! or both False\"\n",
    "if ONLY_INSEASON or ACTIVE_ALL_AND_WINTER:\n",
    "    assert ACTIVE_ALL_AND_WINTER != ONLY_INSEASON, \"choose one! or both False\"\n",
    "\n",
    "# Reload and apply\n",
    "data = pd.read_csv(os.path.join(ROOT_PATH,\"preprocess.csv\"))"
   ]
  },
  {
   "cell_type": "code",
   "execution_count": null,
   "id": "55c5342e-a130-44b3-a454-6db214eee802",
   "metadata": {},
   "outputs": [],
   "source": [
    "len(data)"
   ]
  },
  {
   "cell_type": "code",
   "execution_count": null,
   "id": "54c42e6c-6b76-45b2-b6ff-d6cfc57b37e2",
   "metadata": {},
   "outputs": [],
   "source": [
    "if ONLY_WINTER:\n",
    "    # Exclude in-season deadout , we are just looking at winter morta \n",
    "    data['death_date'] = pd.to_datetime(data['death_date']).dt.date\n",
    "    data['winter_deadout'] = data.apply(lambda x: x['death_date'] > date(int(x['season']),END_SEASON_MONTH,END_SEASON_DAY),axis=1)\n",
    "    data = data.loc[data['winter_deadout']].reset_index(drop=True)\n",
    "\n",
    "if ONLY_INSEASON:\n",
    "    data['death_date'] = pd.to_datetime(data['death_date']).dt.date\n",
    "    data['winter_deadout'] = data.apply(lambda x: x['death_date'].month in [6,7,8],axis=1)\n",
    "    data = data.loc[~data['winter_deadout'] | ~data['death_next_season']].reset_index(drop=True)\n",
    "\n",
    "if ACTIVE_ALL_AND_WINTER:\n",
    "    data['death_date'] = pd.to_datetime(data['death_date']).dt.date\n",
    "    data['creation_date'] = pd.to_datetime(data['creation_date']).dt.date\n",
    "    # This ensure the exposition rate is the full season (makes them comparable with the current approach)\n",
    "    data = data.loc[(data['creation_date'] <= data['season'].apply(lambda x: date(int(x),START_SEASON_MONTH+1,START_SEASON_DAY))) \\\n",
    "            & (data['death_date'] > data['season'].apply(lambda x : date(int(x),END_SEASON_MONTH,END_SEASON_DAY)))]\n",
    "    data = data.reset_index(drop=True)\n"
   ]
  },
  {
   "cell_type": "markdown",
   "id": "6d454af4-1b3c-4bad-9e20-4852a591e208",
   "metadata": {},
   "source": [
    "### Keep next year aside and exclude some abnormal data"
   ]
  },
  {
   "cell_type": "code",
   "execution_count": null,
   "id": "d3c8b97c-6d0b-4a97-bbbb-0561bfb0c62c",
   "metadata": {},
   "outputs": [],
   "source": [
    "next_year = data.loc[data['season']==2023].reset_index(drop=True)\n",
    "if not ONLY_INSEASON:\n",
    "    data = data.loc[data['season']!=2023].reset_index(drop=True)"
   ]
  },
  {
   "cell_type": "code",
   "execution_count": null,
   "id": "65fa19ab-3c2b-4e4f-b067-ad4e7e08603a",
   "metadata": {},
   "outputs": [],
   "source": [
    "len(data)"
   ]
  },
  {
   "cell_type": "code",
   "execution_count": null,
   "id": "870b37e6-02b3-4ac2-b468-35c7c326e7d8",
   "metadata": {},
   "outputs": [],
   "source": [
    "data.groupby([\"death_next_season\",\"season\"]).mean(numeric_only=True)"
   ]
  },
  {
   "cell_type": "code",
   "execution_count": null,
   "id": "4ee48186-7218-4e98-acbf-a4b82741ae41",
   "metadata": {},
   "outputs": [],
   "source": [
    "data.season.value_counts()"
   ]
  },
  {
   "cell_type": "code",
   "execution_count": null,
   "id": "4ec7a44e-1665-4ab1-aeba-c79a2e87decf",
   "metadata": {},
   "outputs": [],
   "source": [
    "data.isnull().mean()"
   ]
  },
  {
   "cell_type": "markdown",
   "id": "32c60037-50f2-4006-9181-a6a41cdfd393",
   "metadata": {},
   "source": [
    "*** \n",
    "### Quick viz \n",
    "\n",
    "Just checking a bit the data for intuition"
   ]
  },
  {
   "cell_type": "markdown",
   "id": "9acd7d96-89ae-45ca-a077-e78ecd4402b0",
   "metadata": {},
   "source": [
    "### Check different sensors bar chart"
   ]
  },
  {
   "cell_type": "code",
   "execution_count": null,
   "id": "4e63b0f6-da11-4a86-a410-b39684060ecf",
   "metadata": {},
   "outputs": [],
   "source": [
    "plot_survival_bar_per_state(data, \"aqhi_average\") # Bias by region for sure"
   ]
  },
  {
   "cell_type": "markdown",
   "id": "b776403a-e345-468f-bb68-f1c190e9f20d",
   "metadata": {},
   "source": [
    "### Check relation NDVI ~ AQHI\n",
    "\n",
    "\n",
    "Idea is that increased vegetation should lead to less extreme AQHI value"
   ]
  },
  {
   "cell_type": "code",
   "execution_count": null,
   "id": "0cf7d866-925f-41ed-a4b0-72ac85d9360b",
   "metadata": {},
   "outputs": [],
   "source": [
    "sns.set_palette('colorblind') # Otherwise very confusing \n",
    "sns.set_style(\"whitegrid\")\n",
    "_, ax = plt.subplots(nrows=1, ncols=1, figsize=(14,6))\n",
    "for s in data['region'].unique():\n",
    "    sub = data.loc[data['region']==s]\n",
    "    if len(sub) > 10:\n",
    "        sns.regplot(x=sub[\"ndvi_average\"], y=sub[\"o3_max\"], label=s, ax=ax)\n",
    "plt.ylabel(\"AQHI Maximum value\")\n",
    "plt.xlabel(\"NDVI Average value\")\n",
    "plt.title(\"Relation between AQHI and NDVI per region\")\n",
    "plt.legend()\n",
    "plt.show()"
   ]
  },
  {
   "cell_type": "code",
   "execution_count": null,
   "id": "281664bb-41e7-45e6-a4ca-6f29a5185056",
   "metadata": {},
   "outputs": [],
   "source": [
    "sns.set_palette('colorblind') # Otherwise very confusing \n",
    "sns.set_style(\"whitegrid\")\n",
    "_, ax = plt.subplots(nrows=1, ncols=1, figsize=(14,6))\n",
    "for s in data['region'].unique():\n",
    "    sub = data.loc[data['region']==s]\n",
    "    if len(sub) > 10:\n",
    "        sns.regplot(x=sub[\"ndvi_average\"], y=sub[\"aqhi_max\"], label=s, ax=ax)\n",
    "plt.ylabel(\"AQHI Maximum value\")\n",
    "plt.xlabel(\"NDVI Average value\")\n",
    "plt.title(\"Relation between AQHI and NDVI per region\")\n",
    "plt.legend()\n",
    "plt.show()"
   ]
  },
  {
   "cell_type": "markdown",
   "id": "84a5f497-3fb5-422a-af41-8879be481fb0",
   "metadata": {},
   "source": [
    "### Check raw AQHI ~ mortality\n",
    "\n",
    "Pattern for Quebec are different from the rest of the dataset"
   ]
  },
  {
   "cell_type": "code",
   "execution_count": null,
   "id": "20c2dd44-7ffb-41b1-8709-f9eb72ba8a35",
   "metadata": {},
   "outputs": [],
   "source": [
    "sns.set_palette(NECTAR_PALETTE)\n",
    "sns.set_style(\"whitegrid\")\n",
    "_, ax = plt.subplots(nrows=1, ncols=1, figsize=(14,6))\n",
    "sns.regplot(x=\"aqhi_average\",y=\"death_next_season\",data=data,logistic=True, truncate=False, ax=ax)\n",
    "plt.show()\n",
    "\n",
    "# This is starnge and may be due to hive located norther have faced more heavy aqhi ?"
   ]
  },
  {
   "cell_type": "code",
   "execution_count": null,
   "id": "a4d16e20-f359-4329-beb8-b8227d592d01",
   "metadata": {},
   "outputs": [],
   "source": [
    "sns.set_palette(NECTAR_PALETTE)\n",
    "sns.set_style(\"whitegrid\")\n",
    "_, ax = plt.subplots(nrows=1, ncols=1, figsize=(14,6))\n",
    "sns.regplot(x=\"aqhi_average\",y=\"death_next_season\",data=data.loc[data['region']==\" QC\"],logistic=True, truncate=False, ax=ax)\n",
    "plt.show()\n",
    "\n",
    "# This is starnge and may be due to hive located norther have faced more heavy aqhi ?"
   ]
  },
  {
   "cell_type": "code",
   "execution_count": null,
   "id": "a696584b-bfb6-4be3-9b47-a626e00d30cc",
   "metadata": {},
   "outputs": [],
   "source": [
    "sns.set_palette(NECTAR_PALETTE)\n",
    "sns.set_style(\"whitegrid\")\n",
    "_, ax = plt.subplots(nrows=1, ncols=1, figsize=(14,6))\n",
    "sns.regplot(x=\"aqhi_average\",y=\"death_next_season\",data=data.loc[data['region']!=\" QC\"],logistic=True, truncate=False, ax=ax)\n",
    "plt.show()"
   ]
  },
  {
   "cell_type": "markdown",
   "id": "a80def3a-bda6-4cec-af16-8d345c073059",
   "metadata": {},
   "source": [
    "*** \n",
    "### Check per region"
   ]
  },
  {
   "cell_type": "code",
   "execution_count": null,
   "id": "0fe5cda2-bc9c-4e1b-accd-5b44ae4d0807",
   "metadata": {},
   "outputs": [],
   "source": [
    "data.region.value_counts()"
   ]
  },
  {
   "cell_type": "code",
   "execution_count": null,
   "id": "fe3c3f00-cdf6-4244-90f3-dcf7861025ff",
   "metadata": {},
   "outputs": [],
   "source": [
    "data.groupby(\"region\").mean(numeric_only=True)"
   ]
  },
  {
   "cell_type": "code",
   "execution_count": null,
   "id": "2cf8f094-f412-4b7b-a829-78d6b123ef25",
   "metadata": {},
   "outputs": [],
   "source": [
    "# data = data.loc[data['region']!=' CA']\n",
    "data.region.value_counts()"
   ]
  },
  {
   "cell_type": "code",
   "execution_count": null,
   "id": "563ebb1f-5898-4a8d-ab51-2bf15e0e670c",
   "metadata": {},
   "outputs": [],
   "source": [
    "sns.set_style(\"whitegrid\")\n",
    "_, axes = plt.subplots(nrows=1, ncols=1, figsize=(14,6))\n",
    "ax = sns.barplot(\n",
    "    y=data['aqhi_skew'],x=data[\"death_next_season\"].apply(lambda x : \"Death\" if x == 1 else \"Survived\"), ax=axes,\n",
    "    palette=\"blend:#D8A348,#1D1D1D\"#, errcolor=\"darkred\"\n",
    ")\n",
    "#  \n",
    "ax.set_ylabel(\"Skewness AQHI\")\n",
    "ax.set_xlabel(\"Did not survived until next season\")\n",
    "ax.tick_params(labelrotation=90)\n",
    "plt.title(\"Skewness AQHI \\n for hives that survived or not\")\n",
    "plt.show()"
   ]
  },
  {
   "cell_type": "markdown",
   "id": "3c1d82bd-c036-4a27-b01d-5fd480195b6a",
   "metadata": {},
   "source": [
    "***\n",
    "### DESCRIPTIVE STATS"
   ]
  },
  {
   "cell_type": "code",
   "execution_count": null,
   "id": "530475c7-72b4-49c2-81f6-e5cc8f426e8b",
   "metadata": {},
   "outputs": [],
   "source": [
    "data[['aqhi_average','ndvi_average']].isnull().mean()"
   ]
  },
  {
   "cell_type": "code",
   "execution_count": null,
   "id": "0b63e0d5-ae60-4a60-ad5d-6db73a7bb956",
   "metadata": {},
   "outputs": [],
   "source": [
    "data.dropna(subset=['aqhi_average','ndvi_average'],axis=0,inplace=True) # Filling null value with zero\n",
    "\n",
    "data['operation_id'] = data['operation_id'].astype(str)\n",
    "data['season'] = data['season'].astype(str)"
   ]
  },
  {
   "cell_type": "code",
   "execution_count": null,
   "id": "e9f6f62b-e3bd-419a-8b2a-157484b67004",
   "metadata": {},
   "outputs": [],
   "source": [
    "len(data)"
   ]
  },
  {
   "cell_type": "markdown",
   "id": "986df10b-def1-4c0a-9a05-7a096ebbc5f5",
   "metadata": {},
   "source": [
    "### Models "
   ]
  },
  {
   "cell_type": "code",
   "execution_count": null,
   "id": "f111300f-a359-4945-8e2c-21cd66bb68e3",
   "metadata": {},
   "outputs": [],
   "source": [
    "data['wspd_average_og'] = data['wspd_average']\n",
    "data['tavg_average_og'] = data['tavg_average']\n",
    "data['prcp_average_og'] = data['prcp_average']\n",
    "data['aqhi_average_og'] = data['aqhi_average']\n",
    "\n",
    "data['wspd_average'] = np.log(data['wspd_average']+10e-5)\n",
    "data['tavg_average'] = np.log(data['tavg_average']+10e-5)\n",
    "data['prcp_average'] = np.log(data['prcp_average']+10e-5)\n",
    "data['aqhi_average'] = np.log(data['aqhi_average']+10e-5)"
   ]
  },
  {
   "cell_type": "code",
   "execution_count": null,
   "id": "96e79247-ec44-4e7b-8ec0-45a26f9bc3d7",
   "metadata": {},
   "outputs": [],
   "source": [
    "sns.histplot(data['aqhi_max'])"
   ]
  },
  {
   "cell_type": "code",
   "execution_count": null,
   "id": "924dd627-671d-4d0a-a4ce-74a6e9e0f855",
   "metadata": {},
   "outputs": [],
   "source": [
    "sns.histplot(data['aqhi_average'])"
   ]
  },
  {
   "cell_type": "code",
   "execution_count": null,
   "id": "b0bc223a-fb06-43a2-8d0c-44d7460f9d55",
   "metadata": {},
   "outputs": [],
   "source": [
    "sns.histplot(data['ndvi_average'])"
   ]
  },
  {
   "cell_type": "code",
   "execution_count": null,
   "id": "e63fec25-43e5-473c-86c2-36b9cf801752",
   "metadata": {},
   "outputs": [],
   "source": [
    "sns.histplot(data['wspd_average'])"
   ]
  },
  {
   "cell_type": "code",
   "execution_count": null,
   "id": "126272f1-063f-4dd7-baa9-35663f1265dd",
   "metadata": {},
   "outputs": [],
   "source": [
    "data.death_next_season.mean()"
   ]
  },
  {
   "cell_type": "code",
   "execution_count": null,
   "id": "bc47eb96-c3ef-4697-8bf5-f1863d608a2b",
   "metadata": {},
   "outputs": [],
   "source": [
    "data.isnull().mean()"
   ]
  },
  {
   "cell_type": "code",
   "execution_count": null,
   "id": "37deb123-2621-4c07-b1bc-843bae54d6eb",
   "metadata": {},
   "outputs": [],
   "source": [
    "model0 = Lmer(\"death_next_season  ~ 1 + (1|region)\",\n",
    "             data=data, family = 'binomial')\n",
    "\n",
    "print(model0.fit())"
   ]
  },
  {
   "cell_type": "code",
   "execution_count": null,
   "id": "0f794227-1fab-48c2-9454-c95686793484",
   "metadata": {},
   "outputs": [],
   "source": [
    "model = Lmer(\"death_next_season  ~  aqhi_average*ndvi_average  + (aqhi_average|region)\",\n",
    "             data=data, family = 'binomial')\n",
    "\n",
    "print(model.fit())"
   ]
  },
  {
   "cell_type": "code",
   "execution_count": null,
   "id": "c3821bc9-14e3-4b22-911d-8f869421bde7",
   "metadata": {},
   "outputs": [],
   "source": [
    "model2 = Lmer(\"death_next_season  ~ aqhi_average + ndvi_average  + (aqhi_average|region)\",\n",
    "             data=data, family = 'binomial')\n",
    "\n",
    "print(model2.fit())"
   ]
  },
  {
   "cell_type": "code",
   "execution_count": null,
   "id": "6728d062-433f-43e3-9480-2dbf25c1d90c",
   "metadata": {},
   "outputs": [],
   "source": [
    "model3 = Lmer(\"death_next_season  ~ aqhi_average*ndvi_average  + (aqhi_average|region)\",\n",
    "             data=data, family = 'binomial')\n",
    "\n",
    "print(model3.fit())"
   ]
  },
  {
   "cell_type": "code",
   "execution_count": null,
   "id": "1f34ee3f-4e21-4e5b-beec-0c25193ea219",
   "metadata": {},
   "outputs": [],
   "source": [
    "model4 = Lmer(\"death_next_season  ~ aqhi_average + ndvi_average + tavg_average + prcp_average + wspd_average  + (aqhi_average|region)\",\n",
    "             data=data, family = 'binomial')\n",
    "\n",
    "print(model4.fit())"
   ]
  },
  {
   "cell_type": "code",
   "execution_count": null,
   "id": "4c6a0781-e469-47ec-8020-0b21811f2832",
   "metadata": {},
   "outputs": [],
   "source": [
    "model5 = Lmer(\"death_next_season  ~ aqhi_average*wspd_average + ndvi_average + tavg_average + prcp_average   + (aqhi_average|region)\",\n",
    "             data=data, family = 'binomial')\n",
    "\n",
    "print(model5.fit())"
   ]
  },
  {
   "cell_type": "code",
   "execution_count": null,
   "id": "6128b704-76c0-4b96-86ab-704696fa927f",
   "metadata": {},
   "outputs": [],
   "source": [
    "model6 = Lmer(\"death_next_season  ~ aqhi_average*wspd_average*tavg_average + (aqhi_average|region)\",\n",
    "             data=data, family = 'binomial')\n",
    "\n",
    "print(model6.fit())"
   ]
  },
  {
   "cell_type": "code",
   "execution_count": null,
   "id": "6f2d3b0b-1383-4b71-a519-8f0b1de05956",
   "metadata": {},
   "outputs": [],
   "source": [
    "model7a = Lmer(\"death_next_season  ~ aqhi_average*ndvi_average*wspd_average  + (ndvi_average|region) \",\n",
    "             data=data, family = 'binomial')\n",
    "\n",
    "print(model7a.fit())"
   ]
  },
  {
   "cell_type": "code",
   "execution_count": null,
   "id": "e0801eea-9593-44fe-a1a8-09a8abd01308",
   "metadata": {},
   "outputs": [],
   "source": [
    "model7 = Lmer(\"death_next_season  ~ aqhi_average*ndvi_average + wspd_average + (ndvi_average|region)\",\n",
    "             data=data, family = 'binomial')\n",
    "\n",
    "print(model7.fit())"
   ]
  },
  {
   "cell_type": "code",
   "execution_count": null,
   "id": "db493a07-850d-4c87-a6cf-dcbcd8fdad51",
   "metadata": {},
   "outputs": [],
   "source": [
    "model8 = Lmer(\"death_next_season  ~ aqhi_average*ndvi_average*wspd_average + (aqhi_average|region) \",\n",
    "             data=data, family = 'binomial')\n",
    "\n",
    "print(model8.fit())"
   ]
  },
  {
   "cell_type": "code",
   "execution_count": null,
   "id": "e8494883-6e3d-49a2-b64f-3d1ebc56650d",
   "metadata": {},
   "outputs": [],
   "source": [
    "model9 = Lmer(\"death_next_season  ~ aqhi_skew*ndvi_average*wspd_average + (aqhi_skew|region) \",\n",
    "             data=data, family = 'binomial')\n",
    "print(model9.fit())"
   ]
  },
  {
   "cell_type": "code",
   "execution_count": null,
   "id": "0009de8e-5600-4fa7-9132-d76b40e87528",
   "metadata": {},
   "outputs": [],
   "source": [
    "model10 = Lmer(\"death_next_season  ~ aqhi_skew*ndvi_skew  + (aqhi_skew|region) \",\n",
    "             data=data, family = 'binomial')\n",
    "\n",
    "print(model10.fit())"
   ]
  },
  {
   "cell_type": "code",
   "execution_count": null,
   "id": "2de4b34e-6056-4a74-bc0e-ea0fc1a81f11",
   "metadata": {},
   "outputs": [],
   "source": [
    "model11 = Lmer(\"death_next_season  ~ aqhi_skew*ndvi_average + wspd_average  + (aqhi_skew|region) \",\n",
    "             data=data, family = 'binomial')\n",
    "\n",
    "print(model11.fit())"
   ]
  },
  {
   "cell_type": "code",
   "execution_count": null,
   "id": "dc184750-39c5-4778-a8b5-6f7c5554a9a0",
   "metadata": {},
   "outputs": [],
   "source": [
    "model12 = Lmer(\"death_next_season  ~ aqhi_max*ndvi_average + wspd_average  + (ndvi_average|region)\",\n",
    "             data=data, family = 'binomial')\n",
    "\n",
    "print(model12.fit())"
   ]
  },
  {
   "cell_type": "code",
   "execution_count": null,
   "id": "63d6cd09-39c4-4400-ad2f-a36da86a62d8",
   "metadata": {},
   "outputs": [],
   "source": [
    "model13 = Lmer(\"death_next_season  ~ aqhi_average*wspd_average + ndvi_average  + (ndvi_average|region)\",\n",
    "             data=data, family = 'binomial')\n",
    "\n",
    "print(model13.fit())"
   ]
  },
  {
   "cell_type": "code",
   "execution_count": null,
   "id": "f7497365-4521-4162-979d-aa10e0088c03",
   "metadata": {},
   "outputs": [],
   "source": [
    "model14 = Lmer(\"death_next_season  ~ aqhi_max*ndvi_average*wspd_average  + (ndvi_average|region) \",\n",
    "             data=data, family = 'binomial')\n",
    "\n",
    "print(model14.fit())"
   ]
  },
  {
   "cell_type": "code",
   "execution_count": null,
   "id": "071d544d-c614-409c-a881-27c6b0fdae21",
   "metadata": {},
   "outputs": [],
   "source": [
    "model15 = Lmer(\"death_next_season  ~ aqhi_average*ndvi_skew*wspd_average + (aqhi_average|region)\",\n",
    "             data=data, family = 'binomial')\n",
    "\n",
    "print(model15.fit())"
   ]
  },
  {
   "cell_type": "code",
   "execution_count": null,
   "id": "92418366-8bbb-4983-854c-63043b364b02",
   "metadata": {},
   "outputs": [],
   "source": [
    "model16 = Lmer(\"death_next_season  ~ aqhi_average*ndvi_skew + wspd_average  + (aqhi_average|region)\",\n",
    "             data=data, family = 'binomial')\n",
    "\n",
    "print(model16.fit())"
   ]
  },
  {
   "cell_type": "code",
   "execution_count": null,
   "id": "d5e2d03f-0803-44b7-bf83-13f09d4874fe",
   "metadata": {},
   "outputs": [],
   "source": [
    "model17 = Lmer(\"death_next_season  ~ aqhi_average*ndvi_skew*wspd_average  + (aqhi_average|operation_id)\",\n",
    "             data=data, family = 'binomial')\n",
    "\n",
    "print(model17.fit())"
   ]
  },
  {
   "cell_type": "code",
   "execution_count": null,
   "id": "d59cc74e-fbdf-4ace-b761-e637335e2efd",
   "metadata": {},
   "outputs": [],
   "source": [
    "model18 = Lmer(\"death_next_season  ~ aqhi_max*ndvi_average + aqhi_average*wspd_average  + (aqhi_average|operation_id)\",\n",
    "             data=data, family = 'binomial')\n",
    "\n",
    "print(model18.fit())"
   ]
  },
  {
   "cell_type": "code",
   "execution_count": null,
   "id": "99e8f9c7-c86a-4c12-ac72-3bbfe04696d1",
   "metadata": {},
   "outputs": [],
   "source": [
    "model19 = Lmer(\"death_next_season  ~ ndvi_average*aqhi_average  + (aqhi_average|operation_id)\",\n",
    "             data=data, family = 'binomial')\n",
    "\n",
    "print(model19.fit())"
   ]
  },
  {
   "cell_type": "code",
   "execution_count": null,
   "id": "04f117f7-dd69-4977-941f-dd94d918445f",
   "metadata": {},
   "outputs": [],
   "source": [
    "model20 = Lmer(\"death_next_season  ~ ndvi_average*aqhi_average*wspd_average  + (aqhi_average|operation_id)\",\n",
    "             data=data, family = 'binomial')\n",
    "\n",
    "print(model20.fit())"
   ]
  },
  {
   "cell_type": "code",
   "execution_count": null,
   "id": "30304e6a-f0c1-47f6-b316-7b48b08f6088",
   "metadata": {},
   "outputs": [],
   "source": [
    "model21 = Lmer(\"death_next_season  ~ ndvi_average*aqhi_average  + (1|operation_id)\",\n",
    "             data=data, family = 'binomial')\n",
    "\n",
    "print(model21.fit())"
   ]
  },
  {
   "cell_type": "code",
   "execution_count": null,
   "id": "a5c75f14-bf3a-45a9-8180-98442cf3f2f5",
   "metadata": {},
   "outputs": [],
   "source": [
    "model22 = Lmer(\"death_next_season  ~ ndvi_average*aqhi_average*wspd_average + (1|operation_id)\",\n",
    "             data=data, family = 'binomial')\n",
    "\n",
    "print(model22.fit())"
   ]
  },
  {
   "cell_type": "code",
   "execution_count": null,
   "id": "85fbd0f6-ce0f-4413-a12f-98d59d17c627",
   "metadata": {},
   "outputs": [],
   "source": [
    "model23 = Lmer(\"death_next_season  ~ ndvi_average*aqhi_average + wspd_average + (1|operation_id)\",\n",
    "             data=data, family = 'binomial')\n",
    "\n",
    "print(model23.fit())"
   ]
  },
  {
   "cell_type": "code",
   "execution_count": null,
   "id": "af41405e-6510-48f9-8333-a85d2af0747e",
   "metadata": {},
   "outputs": [],
   "source": [
    "model24 = Lmer(\"death_next_season  ~ ndvi_average + aqhi_average + wspd_average  + (1|operation_id)\",\n",
    "             data=data, family = 'binomial')\n",
    "\n",
    "print(model24.fit())"
   ]
  },
  {
   "cell_type": "code",
   "execution_count": null,
   "id": "e857e3d3-21ed-4b26-b64c-a3d8ca640c3a",
   "metadata": {},
   "outputs": [],
   "source": [
    "model25 = Lmer(\"death_next_season  ~ ndvi_average + aqhi_average + wspd_average  + (aqhi_average|operation_id)\",\n",
    "             data=data, family = 'binomial')\n",
    "\n",
    "print(model25.fit())"
   ]
  },
  {
   "cell_type": "code",
   "execution_count": null,
   "id": "5e0e259a-6904-4eab-8d9e-4d4004a4799c",
   "metadata": {},
   "outputs": [],
   "source": [
    "model26 = Lmer(\"death_next_season  ~ ndvi_average + aqhi_average*wspd_average  + (aqhi_average|operation_id)\",\n",
    "             data=data, family = 'binomial')\n",
    "\n",
    "print(model26.fit())"
   ]
  },
  {
   "cell_type": "code",
   "execution_count": null,
   "id": "6fd1b1de-1128-4c23-951a-2dc545432d03",
   "metadata": {},
   "outputs": [],
   "source": [
    "model27 = Lmer(\"death_next_season  ~ ndvi_average + o3_average  + (o3_average|operation_id)\",\n",
    "             data=data, family = 'binomial')\n",
    "\n",
    "print(model27.fit())"
   ]
  },
  {
   "cell_type": "code",
   "execution_count": null,
   "id": "602c593f-7acb-4465-b017-006b7421af3e",
   "metadata": {},
   "outputs": [],
   "source": [
    "model28 = Lmer(\"death_next_season  ~ ndvi_average*o3_average  + (o3_average|operation_id)\",\n",
    "             data=data, family = 'binomial')\n",
    "\n",
    "print(model28.fit())"
   ]
  },
  {
   "cell_type": "code",
   "execution_count": null,
   "id": "7d9e7be6-0f8c-4d47-9f06-ac399998a600",
   "metadata": {},
   "outputs": [],
   "source": [
    "model29 = Lmer(\"death_next_season  ~ ndvi_average*o3_average + wspd_average  + (o3_average|operation_id)\",\n",
    "             data=data, family = 'binomial')\n",
    "\n",
    "print(model29.fit())"
   ]
  },
  {
   "cell_type": "code",
   "execution_count": null,
   "id": "cae2e563-97a9-47e7-b82a-167105c34a3b",
   "metadata": {},
   "outputs": [],
   "source": [
    "model30 = Lmer(\"death_next_season  ~ ndvi_average*o3_average*wspd_average  + (o3_average|operation_id)\",\n",
    "             data=data, family = 'binomial')\n",
    "\n",
    "print(model30.fit())"
   ]
  },
  {
   "cell_type": "code",
   "execution_count": null,
   "id": "cc8a7cb3-e3a2-4a73-b261-400760940298",
   "metadata": {},
   "outputs": [],
   "source": [
    "model31 = Lmer(\"death_next_season  ~ ndvi_average + aqhi_average + wspd_average + tavg_average + prcp_average  + (aqhi_average|operation_id)\",\n",
    "             data=data, family = 'binomial')\n",
    "\n",
    "print(model31.fit())"
   ]
  },
  {
   "cell_type": "code",
   "execution_count": null,
   "id": "a822772e-d876-4fe2-8611-393fb28c669b",
   "metadata": {},
   "outputs": [],
   "source": [
    "model32 = Lmer(\"death_next_season  ~ aqhi_skew*ndvi_average*wspd_average  + (aqhi_skew|region) \",\n",
    "             data=data, family = 'binomial')\n",
    "\n",
    "print(model32.fit())"
   ]
  },
  {
   "cell_type": "markdown",
   "id": "239bdd1e-530c-4e51-958e-6c4d0b27ac04",
   "metadata": {},
   "source": [
    "### Pick best model based on AIC"
   ]
  },
  {
   "cell_type": "code",
   "execution_count": null,
   "id": "9e001d44-ba3b-46e5-9c14-93523a6e7512",
   "metadata": {},
   "outputs": [],
   "source": [
    "i = 0\n",
    "best_aic = model0.AIC\n",
    "best_model = model0\n",
    "for i,m in enumerate([model,model2,model3,model4,model5,model6,model7,model7a,model8,model9,model10\n",
    "                      ,model11,model12,model13,model14,model15,model16,model17,model18, model19,model20, \n",
    "                      model21,model22,model23,model24,model25,model26,model27,model28,model29,model30,\n",
    "                     model31,model32]):\n",
    "    # Check if model converged first \n",
    "    try:\n",
    "        logs = m.warnings[0]\n",
    "    except:\n",
    "        logs = \"\"\n",
    "    if (len(m.warnings) == 0) | ( logs == \"boundary (singular) fit: see help('isSingular')\"):\n",
    "        current_aic = m.AIC\n",
    "        if current_aic < best_aic:\n",
    "            print(f\"Current best model is {i} with an AIC of {current_aic}\")\n",
    "            best_aic = current_aic\n",
    "            best_model = m\n",
    "    else:\n",
    "        print(f\"Model {i} did not converged\")\n",
    "    i+=1"
   ]
  },
  {
   "cell_type": "code",
   "execution_count": null,
   "id": "e19f5f9a-38ee-4885-a1ba-0d1f4ebd2659",
   "metadata": {},
   "outputs": [],
   "source": [
    "best_model.summary()"
   ]
  },
  {
   "cell_type": "code",
   "execution_count": null,
   "id": "d8344ddb-6176-4597-95cb-fdf816267b7b",
   "metadata": {},
   "outputs": [],
   "source": [
    "best_model.plot_summary()"
   ]
  },
  {
   "cell_type": "markdown",
   "id": "5fe65de3-3ab0-4329-9171-90cd4c596234",
   "metadata": {},
   "source": [
    "### Higher skewness , means that death hive have right skewed distribution (more positive value)\n",
    "\n",
    "Let's check these distribution of average (which is an aggregate but should show similar pattern)"
   ]
  },
  {
   "cell_type": "code",
   "execution_count": null,
   "id": "6e614240-6676-4128-a06f-96b6dddfb8c2",
   "metadata": {},
   "outputs": [],
   "source": [
    "sns.distplot(data.loc[data['death_next_season']]['aqhi_average_og'], label=\"Death\", color=\"red\")\n",
    "sns.distplot(data.loc[~data['death_next_season']]['aqhi_average_og'], label=\"Alive\",color=\"green\")"
   ]
  },
  {
   "cell_type": "markdown",
   "id": "c8c41aee-8413-4a5e-927c-11b244e620f3",
   "metadata": {},
   "source": [
    "### Shallow learning approach "
   ]
  },
  {
   "cell_type": "code",
   "execution_count": null,
   "id": "dc20f2a0-8bda-4b88-b130-66f4fcd0dc10",
   "metadata": {},
   "outputs": [],
   "source": [
    "\n",
    "# Number of trees in random forest\n",
    "n_estimators = [int(x) for x in np.linspace(start = 100, stop = 1250, num = 10)]\n",
    "# Number of features to consider at every split\n",
    "max_features = ['auto', 'sqrt']\n",
    "# Maximum number of levels in tree\n",
    "max_depth = [int(x) for x in np.linspace(10, 60, num = 10)]\n",
    "max_depth.append(None)\n",
    "# Minimum number of samples required to split a node\n",
    "min_samples_split = [10, 20, 40,60]\n",
    "# Minimum number of samples required at each leaf node\n",
    "min_samples_leaf = [10, 20, 40,60]\n",
    "# Method of selecting samples for training each tree\n",
    "bootstrap = [True, False]\n",
    "# Create the random grid\n",
    "random_grid = {'n_estimators': n_estimators,\n",
    "               'max_features': max_features,\n",
    "               'max_depth': max_depth,\n",
    "               'min_samples_split': min_samples_split,\n",
    "               'min_samples_leaf': min_samples_leaf,\n",
    "               'bootstrap': bootstrap}"
   ]
  },
  {
   "cell_type": "code",
   "execution_count": null,
   "id": "d29deb25-4653-435e-8996-aae7b0cbcfdc",
   "metadata": {},
   "outputs": [],
   "source": [
    "features = ['aqhi_average_og','tavg_average_og','tavg_max','tavg_skew'\n",
    "            ,'wspd_average_og','wspd_skew','wspd_max','ndvi_skew','ndvi_max','ndvi_average'\n",
    "            ,'prcp_average_og','prcp_skew','prcp_max']\n",
    "data.season.value_counts()"
   ]
  },
  {
   "cell_type": "code",
   "execution_count": null,
   "id": "f886bfe2-1db9-4c79-ab81-ccb9d873a37c",
   "metadata": {},
   "outputs": [],
   "source": [
    "\n",
    "mx=StandardScaler()\n",
    "\n",
    "gr = pd.get_dummies(data['region'])\n",
    "X = data.dropna(subset=['death_next_season','hive_age_next_season'],axis=0)\n",
    "X.fillna(0,inplace=True)\n",
    "X = X[features]\n",
    "X = pd.concat([X,gr],axis=1)\n",
    "\n",
    "data['death_next_season'] = data['death_next_season'].astype(bool)\n",
    "\n",
    "X_train, X_test, y_train, y_test = train_test_split(\n",
    "    X,\n",
    "    np.array(data.apply(lambda x: (x[\"death_next_season\"], x[\"hive_age_next_season\"]), axis=1).tolist(),dtype=[('cens', '?'), ('time', '<f8')]),\n",
    "    test_size=0.15,\n",
    "    random_state=8,\n",
    ")\n",
    "\n",
    "X_train = mx.fit_transform(X_train)\n",
    "X_test = mx.transform(X_test)\n",
    "\n"
   ]
  },
  {
   "cell_type": "code",
   "execution_count": null,
   "id": "b36dccea-b20a-415c-9d3d-f319c10523d1",
   "metadata": {},
   "outputs": [],
   "source": [
    "\n",
    "rf = RandomSurvivalForest()\n",
    "\n",
    "rf_random = RandomizedSearchCV(\n",
    "    estimator=rf,\n",
    "    param_distributions=random_grid,\n",
    "    n_iter=5,\n",
    "    cv=3,\n",
    "    verbose=1,\n",
    "    random_state=8,\n",
    "    n_jobs=-1,\n",
    ")\n",
    "# Fit the random search model\n",
    "rf_random.fit(X_train, y_train)\n"
   ]
  },
  {
   "cell_type": "code",
   "execution_count": null,
   "id": "4e540a26-66d2-4e4b-a99b-b264abc41b1f",
   "metadata": {},
   "outputs": [],
   "source": [
    "rsf = rf_random.best_estimator_"
   ]
  },
  {
   "cell_type": "code",
   "execution_count": null,
   "id": "2497b3e8-c08a-420e-9336-e1f6dc3d9586",
   "metadata": {},
   "outputs": [],
   "source": [
    "print(\"SCORE\")\n",
    "print(rsf.score(X_test,y_test))\n",
    "\n",
    "sns.displot(rsf.predict(X_test))"
   ]
  },
  {
   "cell_type": "markdown",
   "id": "ba5bf87c-a059-40a9-afa7-d38ffb5ab204",
   "metadata": {},
   "source": [
    "### Evalutate"
   ]
  },
  {
   "cell_type": "code",
   "execution_count": null,
   "id": "536a2718-a34f-4154-9508-ef6d65fe2552",
   "metadata": {},
   "outputs": [],
   "source": [
    "va_times = np.arange(300, 550, 7)\n",
    "rsf_chf_funcs = rsf.predict_cumulative_hazard_function(\n",
    "    X_test, return_array=False)\n",
    "rsf_risk_scores = np.row_stack([chf(va_times) for chf in rsf_chf_funcs])\n",
    "\n",
    "rsf_auc, rsf_mean_auc = cumulative_dynamic_auc(\n",
    "    y_train, y_test, rsf_risk_scores, va_times\n",
    ")\n"
   ]
  },
  {
   "cell_type": "code",
   "execution_count": null,
   "id": "6b352293-34fe-4da6-a701-080ae6dd5b80",
   "metadata": {},
   "outputs": [],
   "source": [
    "plt.plot(va_times, rsf_auc, \"o-\", label=\"RSF (mean AUC = {:.3f})\".format(rsf_mean_auc))\n",
    "plt.xlabel(\"days from enrollment\")\n",
    "plt.ylabel(\"time-dependent AUC\")\n",
    "plt.legend(loc=\"lower center\")\n",
    "plt.savefig(\"ROC.png\")\n",
    "plt.grid(True)"
   ]
  },
  {
   "cell_type": "markdown",
   "id": "0ee4093a-0375-4e15-9306-379284842f6d",
   "metadata": {},
   "source": [
    "### FEature importance"
   ]
  },
  {
   "cell_type": "code",
   "execution_count": null,
   "id": "1d3d230f-71a7-494f-a753-da2c53d913c0",
   "metadata": {},
   "outputs": [],
   "source": [
    "from sklearn.inspection import permutation_importance\n",
    "result = permutation_importance(\n",
    "    rsf, X_test, y_test, n_repeats=15, random_state=8\n",
    ")\n",
    "\n",
    "pd.DataFrame(\n",
    "    {k: result[k] for k in (\"importances_mean\", \"importances_std\",)},\n",
    "    index=X.columns\n",
    ").sort_values(by=\"importances_mean\", ascending=False)"
   ]
  },
  {
   "cell_type": "markdown",
   "id": "baa5ade1-5972-4f20-8134-8e201ab6f453",
   "metadata": {},
   "source": [
    "### Basic simulation"
   ]
  },
  {
   "cell_type": "code",
   "execution_count": null,
   "id": "e9ff9229-dec5-449e-a8df-75335e78226e",
   "metadata": {},
   "outputs": [],
   "source": [
    "def process(X, factor):\n",
    "    X_copy = X.copy()\n",
    "    X_copy[['aqhi_average_og']] = X[['aqhi_average_og']] * factor\n",
    "    X_copy = mx.transform(X_copy)\n",
    "    return X_copy\n",
    "    "
   ]
  },
  {
   "cell_type": "code",
   "execution_count": null,
   "id": "e4e55ae6-fc83-4741-90dd-110b72fbb69e",
   "metadata": {},
   "outputs": [],
   "source": [
    "def avg_surv_func(feat):\n",
    "    surv = rsf.predict_survival_function(feat, return_array=True)\n",
    "    return np.mean(surv,axis=0)"
   ]
  },
  {
   "cell_type": "code",
   "execution_count": null,
   "id": "eb0a4c0a-3bb6-48ad-afe2-cd8b7e00d432",
   "metadata": {},
   "outputs": [],
   "source": [
    "X.head()"
   ]
  },
  {
   "cell_type": "code",
   "execution_count": null,
   "id": "50cd80ef-a7a6-4ff5-b99a-dd471e1f7726",
   "metadata": {},
   "outputs": [],
   "source": [
    "preds = avg_surv_func(process(X, 1))\n",
    "preds2 = avg_surv_func(process(X, 1.1))\n",
    "preds3 = avg_surv_func(process(X, 1.5))\n",
    "preds4 = avg_surv_func(process(X, 2))\n",
    "preds8 = avg_surv_func(process(X, 4))\n"
   ]
  },
  {
   "cell_type": "code",
   "execution_count": null,
   "id": "3924cc31-9533-4076-a6be-31fec36473ef",
   "metadata": {},
   "outputs": [],
   "source": [
    "predictions = np.stack([preds,preds2,preds3,preds4,preds8],axis=1,dtype=np.float32).flatten()\n",
    "predictions.shape"
   ]
  },
  {
   "cell_type": "code",
   "execution_count": null,
   "id": "9ae048e4-395b-499d-973f-0bbe2c451c00",
   "metadata": {},
   "outputs": [],
   "source": [
    "temps = []\n",
    "for _ in [1.0,1.1,1.5,2.0,4.0]:\n",
    "    temps.append([i for i in range(len(preds))])"
   ]
  },
  {
   "cell_type": "code",
   "execution_count": null,
   "id": "0cea248f-8a8d-40b8-a999-9651804d2d24",
   "metadata": {},
   "outputs": [],
   "source": [
    "temps = np.stack(temps,axis=1).flatten()\n",
    "temps.shape"
   ]
  },
  {
   "cell_type": "code",
   "execution_count": null,
   "id": "51794585-d5e1-45b9-8ba2-891f8d9ec227",
   "metadata": {},
   "outputs": [],
   "source": [
    "factor = []\n",
    "for ii in [1.0,1.1,1.5,2.0,4.0]:\n",
    "    f = []\n",
    "    for _ in range(len(preds)):\n",
    "        f.append([f\"{ii}x\"])\n",
    "    factor.append(f)\n",
    "factor = np.stack(factor,axis=1).flatten()\n",
    "factor.shape"
   ]
  },
  {
   "cell_type": "code",
   "execution_count": null,
   "id": "ed3a5799-ea2b-49c2-9bc8-0cde6843b7a1",
   "metadata": {},
   "outputs": [],
   "source": [
    "results = pd.DataFrame({\"Probabilité de survie\":predictions,\"Temps\":temps, \"Facteur\":factor})\n",
    "results.head()"
   ]
  },
  {
   "cell_type": "code",
   "execution_count": null,
   "id": "e8d3d5f7-a42c-4707-848d-5b1123971353",
   "metadata": {},
   "outputs": [],
   "source": [
    "LANG = \"EN\"\n",
    "title = {\"FR\":\"Fonction de survie attendue dans des simulations \\n d'intensification de mauvaise qualité de l'air\",\n",
    "         \"EN\":\"Expected survival function for different simulations with varying air quality\"}\n",
    "xaxe = {\"FR\": \"Temps (en jours)\",\"EN\":\"Time (days)\"}\n",
    "yaxe = {\"FR\": \"Probabilité de survie\", \"EN\":\"Probability of survival\"}\n",
    "\n",
    "\n",
    "sns.lineplot(x=results['Temps'], y=results['Probabilité de survie'], hue=results[\"Facteur\"], linewidth=3, alpha=0.85, linestyle=\"solid\")\n",
    "plt.ylabel(yaxe[LANG])\n",
    "plt.xlabel(xaxe[LANG])\n",
    "plt.title(title[LANG])\n",
    "plt.legend()\n",
    "plt.grid(True)\n",
    "plt.savefig(f\"figure-2-{LANG}.png\")"
   ]
  },
  {
   "cell_type": "markdown",
   "id": "cfeed8bc-e656-4584-b62c-be969af6c2c3",
   "metadata": {},
   "source": [
    "### Pred on 2023 true value"
   ]
  },
  {
   "cell_type": "code",
   "execution_count": null,
   "id": "74a674f3-808f-442d-b30e-b5c7b3114d52",
   "metadata": {},
   "outputs": [],
   "source": []
  },
  {
   "cell_type": "markdown",
   "id": "38863fa7-6cf8-4fbe-ae79-f1143ad37237",
   "metadata": {},
   "source": [
    "### Conclusion and next steps "
   ]
  },
  {
   "cell_type": "code",
   "execution_count": null,
   "id": "d05092e8-b776-4a1a-a8e5-fdff66b6e42c",
   "metadata": {},
   "outputs": [],
   "source": []
  }
 ],
 "metadata": {
  "kernelspec": {
   "display_name": "Python 3 (ipykernel)",
   "language": "python",
   "name": "python3"
  },
  "language_info": {
   "codemirror_mode": {
    "name": "ipython",
    "version": 3
   },
   "file_extension": ".py",
   "mimetype": "text/x-python",
   "name": "python",
   "nbconvert_exporter": "python",
   "pygments_lexer": "ipython3",
   "version": "3.11.4"
  }
 },
 "nbformat": 4,
 "nbformat_minor": 5
}
