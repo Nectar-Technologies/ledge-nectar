{
 "cells": [
  {
   "cell_type": "markdown",
   "id": "4bf50976-64dd-47ae-b2a7-9dc7afe7cea3",
   "metadata": {},
   "source": [
    "# Air quality impact on hives survival \n",
    "\n",
    "The dataset is from Nectar 1.19 and cover hives from 2020 to 2023. The 2023 season is currently censored in terms of winter mortality but you can analyse the acute effect (which I didn't include in the blog post but I did have a look at the effect on the summer mortality and the effect are even stronger). I also shared the complete daily history for all the yards in the dataset for air quality , ndvi and weather that was scrapped from Airpyllution package, meteostats package and earth engine. Finally, you will find a file called 'ops_meta.csv' which contains the region of the given operations. \n",
    "\n",
    "The file are found on this google drive: [here](https://drive.google.com/drive/u/0/folders/1UZ3_jzMRdaQEaIR1TzPqEWTb0azECStB)\n"
   ]
  },
  {
   "cell_type": "markdown",
   "id": "2f66cf91-dbde-4789-8f06-dd8dd11469fb",
   "metadata": {},
   "source": [
    "***\n",
    "### SETUP"
   ]
  },
  {
   "cell_type": "code",
   "execution_count": 1,
   "id": "9e121c82-5805-43d0-96eb-2cfe2f8fff0e",
   "metadata": {},
   "outputs": [],
   "source": [
    "import os \n",
    "import ast\n",
    "from datetime import datetime, date,timezone, timedelta\n",
    "\n",
    "import pandas as pd \n",
    "import numpy as np\n",
    "from collections import Counter\n",
    "\n",
    "import seaborn as sns \n",
    "import matplotlib.pyplot as plt \n",
    "import matplotlib.ticker as mtick\n",
    "%matplotlib inline \n",
    "\n",
    "from sklearn.preprocessing import MinMaxScaler\n",
    "from scipy.stats import skew, kurtosis\n",
    "from pymer4.models import Lmer\n",
    "from lifelines import KaplanMeierFitter, CoxPHFitter\n",
    "from sklearn.model_selection import train_test_split\n",
    "from sksurv.preprocessing import OneHotEncoder\n",
    "from sklearn.preprocessing import StandardScaler\n",
    "from sksurv.ensemble import RandomSurvivalForest\n",
    "from sklearn.model_selection import RandomizedSearchCV\n",
    "\n",
    "from sksurv.metrics import (\n",
    "    concordance_index_censored,\n",
    "    concordance_index_ipcw,\n",
    "    cumulative_dynamic_auc,\n",
    "    integrated_brier_score,\n",
    ")\n",
    "\n",
    "from tqdm.notebook import tqdm\n",
    "\n",
    "import warnings\n",
    "warnings.filterwarnings(\"ignore\")\n",
    "\n",
    "NECTAR_PALETTE = \"blend:#D8A348,#1D1D1D\"\n",
    "sns.set_palette(NECTAR_PALETTE)\n",
    "\n",
    "ROOT_PATH = \"../data\"\n",
    "SEASONS_INCLUDED = [2021, 2022, 2023]\n",
    "FEATURES_MONTH = [6,7,8,9]\n",
    "RUN_PREPROCESS = False\n",
    "\n",
    "# Don't change these values \n",
    "START_SEASON_MONTH = 6\n",
    "START_SEASON_DAY = 1\n",
    "END_SEASON_MONTH = 10\n",
    "END_SEASON_DAY = 1"
   ]
  },
  {
   "cell_type": "code",
   "execution_count": 2,
   "id": "fcfaade7-a430-45c5-b327-351181a2b793",
   "metadata": {},
   "outputs": [],
   "source": [
    "from aqi.data.utils import timestamp_to_date, try_check_month\n",
    "from aqi.vizualisation.utils import plot_survival_bar_per_state"
   ]
  },
  {
   "cell_type": "markdown",
   "id": "4158ca5a-791f-419b-a236-c0d50034e29c",
   "metadata": {},
   "source": [
    "***\n",
    "### LOADING DATA"
   ]
  },
  {
   "cell_type": "code",
   "execution_count": 3,
   "id": "385d3846-8e4e-45c7-8bfd-a609fc4a0e30",
   "metadata": {},
   "outputs": [],
   "source": [
    "if RUN_PREPROCESS:\n",
    "    operation_meta = pd.read_csv(os.path.join(ROOT_PATH,\"ops_meta.csv\"))\n",
    "    aqi = pd.read_csv(os.path.join(ROOT_PATH,\"aqi_dev.csv\"))\n",
    "    weather = pd.read_csv(os.path.join(ROOT_PATH,\"weather_dev.csv\"))\n",
    "    ee = pd.read_csv(os.path.join(ROOT_PATH,\"ee_dev.csv\"))\n",
    "    ee.drop(\"ee-image\",axis=1,inplace=True)\n",
    "    ee.dropna(subset=[\"ndvi\"],inplace=True)\n",
    "    \n",
    "    mov = pd.read_csv(os.path.join(ROOT_PATH,\"mouvements.csv\"))\n",
    "\n",
    "    data = pd.read_csv(os.path.join(ROOT_PATH,\"merged_dev.csv\"))\n",
    "else:\n",
    "    data = pd.read_csv(os.path.join(ROOT_PATH,\"preprocess.csv\"))\n",
    "data['death_date'] = pd.to_datetime(data['death_date'], format='mixed')\n",
    "data = data.loc[data['season'].isin(SEASONS_INCLUDED)]"
   ]
  },
  {
   "cell_type": "code",
   "execution_count": 4,
   "id": "66d866e7-bab7-4f5d-99f0-c0371c675bda",
   "metadata": {},
   "outputs": [
    {
     "data": {
      "text/html": [
       "<div>\n",
       "<style scoped>\n",
       "    .dataframe tbody tr th:only-of-type {\n",
       "        vertical-align: middle;\n",
       "    }\n",
       "\n",
       "    .dataframe tbody tr th {\n",
       "        vertical-align: top;\n",
       "    }\n",
       "\n",
       "    .dataframe thead th {\n",
       "        text-align: right;\n",
       "    }\n",
       "</style>\n",
       "<table border=\"1\" class=\"dataframe\">\n",
       "  <thead>\n",
       "    <tr style=\"text-align: right;\">\n",
       "      <th></th>\n",
       "      <th>time</th>\n",
       "      <th>yard_id</th>\n",
       "      <th>pm2_5</th>\n",
       "      <th>pm10</th>\n",
       "      <th>o3</th>\n",
       "      <th>co</th>\n",
       "      <th>no</th>\n",
       "      <th>no2</th>\n",
       "      <th>so2</th>\n",
       "      <th>nh3</th>\n",
       "      <th>aqhi</th>\n",
       "    </tr>\n",
       "  </thead>\n",
       "  <tbody>\n",
       "    <tr>\n",
       "      <th>0</th>\n",
       "      <td>2021-06-01</td>\n",
       "      <td>234</td>\n",
       "      <td>8.918750</td>\n",
       "      <td>11.846250</td>\n",
       "      <td>102.520833</td>\n",
       "      <td>199.229583</td>\n",
       "      <td>0.288750</td>\n",
       "      <td>5.368333</td>\n",
       "      <td>2.411667</td>\n",
       "      <td>4.642917</td>\n",
       "      <td>7</td>\n",
       "    </tr>\n",
       "    <tr>\n",
       "      <th>1</th>\n",
       "      <td>2021-06-01</td>\n",
       "      <td>270</td>\n",
       "      <td>8.918750</td>\n",
       "      <td>11.846250</td>\n",
       "      <td>102.520833</td>\n",
       "      <td>199.229583</td>\n",
       "      <td>0.288750</td>\n",
       "      <td>5.368333</td>\n",
       "      <td>2.411667</td>\n",
       "      <td>4.642917</td>\n",
       "      <td>7</td>\n",
       "    </tr>\n",
       "    <tr>\n",
       "      <th>2</th>\n",
       "      <td>2021-06-01</td>\n",
       "      <td>271</td>\n",
       "      <td>8.400417</td>\n",
       "      <td>12.664167</td>\n",
       "      <td>96.246667</td>\n",
       "      <td>195.056250</td>\n",
       "      <td>0.209167</td>\n",
       "      <td>3.560417</td>\n",
       "      <td>1.347917</td>\n",
       "      <td>4.574167</td>\n",
       "      <td>6</td>\n",
       "    </tr>\n",
       "    <tr>\n",
       "      <th>3</th>\n",
       "      <td>2021-06-01</td>\n",
       "      <td>272</td>\n",
       "      <td>8.400417</td>\n",
       "      <td>12.664167</td>\n",
       "      <td>96.246667</td>\n",
       "      <td>195.056250</td>\n",
       "      <td>0.209167</td>\n",
       "      <td>3.560417</td>\n",
       "      <td>1.347917</td>\n",
       "      <td>4.574167</td>\n",
       "      <td>6</td>\n",
       "    </tr>\n",
       "    <tr>\n",
       "      <th>4</th>\n",
       "      <td>2021-06-01</td>\n",
       "      <td>273</td>\n",
       "      <td>8.918750</td>\n",
       "      <td>11.846250</td>\n",
       "      <td>102.520833</td>\n",
       "      <td>199.229583</td>\n",
       "      <td>0.288750</td>\n",
       "      <td>5.368333</td>\n",
       "      <td>2.411667</td>\n",
       "      <td>4.642917</td>\n",
       "      <td>7</td>\n",
       "    </tr>\n",
       "  </tbody>\n",
       "</table>\n",
       "</div>"
      ],
      "text/plain": [
       "         time  yard_id     pm2_5       pm10          o3          co        no  \\\n",
       "0  2021-06-01      234  8.918750  11.846250  102.520833  199.229583  0.288750   \n",
       "1  2021-06-01      270  8.918750  11.846250  102.520833  199.229583  0.288750   \n",
       "2  2021-06-01      271  8.400417  12.664167   96.246667  195.056250  0.209167   \n",
       "3  2021-06-01      272  8.400417  12.664167   96.246667  195.056250  0.209167   \n",
       "4  2021-06-01      273  8.918750  11.846250  102.520833  199.229583  0.288750   \n",
       "\n",
       "        no2       so2       nh3  aqhi  \n",
       "0  5.368333  2.411667  4.642917     7  \n",
       "1  5.368333  2.411667  4.642917     7  \n",
       "2  3.560417  1.347917  4.574167     6  \n",
       "3  3.560417  1.347917  4.574167     6  \n",
       "4  5.368333  2.411667  4.642917     7  "
      ]
     },
     "execution_count": 4,
     "metadata": {},
     "output_type": "execute_result"
    }
   ],
   "source": [
    "aqi.head()"
   ]
  },
  {
   "cell_type": "code",
   "execution_count": 5,
   "id": "17e1ca23-4285-4597-a179-cbec25456506",
   "metadata": {},
   "outputs": [],
   "source": [
    "if RUN_PREPROCESS:\n",
    "    weather.isnull().mean() # For some reason atmost pressure is not getting scrapped "
   ]
  },
  {
   "cell_type": "code",
   "execution_count": 6,
   "id": "31d22900-13d0-4128-aba6-66e3f4440043",
   "metadata": {},
   "outputs": [],
   "source": [
    "if RUN_PREPROCESS:\n",
    "    aqi.isnull().mean()"
   ]
  },
  {
   "cell_type": "code",
   "execution_count": 7,
   "id": "61a16635-63be-4b3a-8ad1-41b83b27fd2c",
   "metadata": {},
   "outputs": [],
   "source": [
    "if RUN_PREPROCESS:\n",
    "    ee.isnull().mean() # 2023 is null , need to update for simulations later..."
   ]
  },
  {
   "cell_type": "code",
   "execution_count": 8,
   "id": "c2d92f66-72e9-4145-9e63-de1f7d48fce4",
   "metadata": {},
   "outputs": [],
   "source": [
    "if RUN_PREPROCESS:\n",
    "    ee.head()"
   ]
  },
  {
   "cell_type": "code",
   "execution_count": 9,
   "id": "1dd835e5-dc41-486b-ac76-ffdbe3fb584c",
   "metadata": {},
   "outputs": [],
   "source": [
    "if RUN_PREPROCESS:\n",
    "    data['creation_date'] = pd.to_datetime(data['creation_date'],format='mixed').dt.date\n",
    "    data['death_date']= pd.to_datetime(data['death_date']).dt.date"
   ]
  },
  {
   "cell_type": "code",
   "execution_count": 10,
   "id": "aa609157-7da0-4a6c-b353-ee372897fb8d",
   "metadata": {},
   "outputs": [],
   "source": [
    "if RUN_PREPROCESS:\n",
    "    Counter(data.hid.value_counts()) # Meaning that 16 632 hives are present in two season while 38405 are only in one season "
   ]
  },
  {
   "cell_type": "code",
   "execution_count": 11,
   "id": "4d99f664-9147-4871-8b40-b3606e236a8c",
   "metadata": {},
   "outputs": [],
   "source": [
    "if RUN_PREPROCESS:\n",
    "    ### Label creation (based on season start end)\n",
    "    \n",
    "    def get_state_for_season(state_log):\n",
    "        return state_log.apply(lambda x : x['death_date'] != date(x['season']+1,START_SEASON_MONTH,START_SEASON_DAY), axis=1)\n",
    "    \n",
    "    def get_age_for_season(state_log):\n",
    "        return state_log.apply(lambda x : abs((x['death_date'] - x['creation_date']).days), axis=1)\n",
    "    \n",
    "    \n",
    "    data['death_next_season'] = get_state_for_season(data)\n",
    "    data['hive_age_next_season'] = get_age_for_season(data)"
   ]
  },
  {
   "cell_type": "code",
   "execution_count": 12,
   "id": "2d04813a-0667-4a37-bf05-829e57cacbd4",
   "metadata": {},
   "outputs": [
    {
     "data": {
      "text/plain": [
       "0.21521898967278025"
      ]
     },
     "execution_count": 12,
     "metadata": {},
     "output_type": "execute_result"
    }
   ],
   "source": [
    "data['death_next_season'].mean()"
   ]
  },
  {
   "cell_type": "code",
   "execution_count": 13,
   "id": "6f30602e-31ca-49c8-826a-75b5d2d2cbf1",
   "metadata": {},
   "outputs": [
    {
     "data": {
      "text/plain": [
       "hid                      int64\n",
       "creation_date           object\n",
       "operation_id             int64\n",
       "death_date              object\n",
       "season                   int64\n",
       "death_next_season         bool\n",
       "hive_age_next_season     int64\n",
       "dtype: object"
      ]
     },
     "execution_count": 13,
     "metadata": {},
     "output_type": "execute_result"
    }
   ],
   "source": [
    "data.dtypes"
   ]
  },
  {
   "cell_type": "code",
   "execution_count": 14,
   "id": "a9abe41a-e1f2-4b7f-846c-1dad22e1f364",
   "metadata": {},
   "outputs": [
    {
     "data": {
      "text/plain": [
       "operation_id\n",
       "193    44996\n",
       "69     33202\n",
       "153    18265\n",
       "55     14186\n",
       "167    10597\n",
       "161     8221\n",
       "87      5841\n",
       "207     5607\n",
       "210     1720\n",
       "195     1588\n",
       "36      1084\n",
       "194      789\n",
       "212      741\n",
       "219      397\n",
       "160      322\n",
       "159      228\n",
       "205      193\n",
       "83       188\n",
       "220       82\n",
       "199        2\n",
       "Name: count, dtype: int64"
      ]
     },
     "execution_count": 14,
     "metadata": {},
     "output_type": "execute_result"
    }
   ],
   "source": [
    "data.operation_id.value_counts()"
   ]
  },
  {
   "cell_type": "code",
   "execution_count": 15,
   "id": "34a2ab75-2b7a-4084-b069-c01e59ffda8d",
   "metadata": {},
   "outputs": [
    {
     "data": {
      "text/plain": [
       "season\n",
       "2023    107172\n",
       "2022     32164\n",
       "2021      8913\n",
       "Name: count, dtype: int64"
      ]
     },
     "execution_count": 15,
     "metadata": {},
     "output_type": "execute_result"
    }
   ],
   "source": [
    "data.season.value_counts()"
   ]
  },
  {
   "cell_type": "code",
   "execution_count": 16,
   "id": "30d98d5c-1e8d-4ef0-b14e-fe2c068b1cbc",
   "metadata": {},
   "outputs": [
    {
     "data": {
      "text/html": [
       "<div>\n",
       "<style scoped>\n",
       "    .dataframe tbody tr th:only-of-type {\n",
       "        vertical-align: middle;\n",
       "    }\n",
       "\n",
       "    .dataframe tbody tr th {\n",
       "        vertical-align: top;\n",
       "    }\n",
       "\n",
       "    .dataframe thead th {\n",
       "        text-align: right;\n",
       "    }\n",
       "</style>\n",
       "<table border=\"1\" class=\"dataframe\">\n",
       "  <thead>\n",
       "    <tr style=\"text-align: right;\">\n",
       "      <th></th>\n",
       "      <th></th>\n",
       "      <th>death_next_season</th>\n",
       "      <th>hive_age_next_season</th>\n",
       "    </tr>\n",
       "    <tr>\n",
       "      <th>season</th>\n",
       "      <th>operation_id</th>\n",
       "      <th></th>\n",
       "      <th></th>\n",
       "    </tr>\n",
       "  </thead>\n",
       "  <tbody>\n",
       "    <tr>\n",
       "      <th rowspan=\"5\" valign=\"top\">2021</th>\n",
       "      <th>36</th>\n",
       "      <td>0.034884</td>\n",
       "      <td>374.296512</td>\n",
       "    </tr>\n",
       "    <tr>\n",
       "      <th>55</th>\n",
       "      <td>0.631184</td>\n",
       "      <td>319.231549</td>\n",
       "    </tr>\n",
       "    <tr>\n",
       "      <th>69</th>\n",
       "      <td>0.653664</td>\n",
       "      <td>345.589835</td>\n",
       "    </tr>\n",
       "    <tr>\n",
       "      <th>83</th>\n",
       "      <td>0.000000</td>\n",
       "      <td>308.000000</td>\n",
       "    </tr>\n",
       "    <tr>\n",
       "      <th>87</th>\n",
       "      <td>0.868106</td>\n",
       "      <td>233.582734</td>\n",
       "    </tr>\n",
       "    <tr>\n",
       "      <th rowspan=\"10\" valign=\"top\">2022</th>\n",
       "      <th>36</th>\n",
       "      <td>0.307978</td>\n",
       "      <td>509.821892</td>\n",
       "    </tr>\n",
       "    <tr>\n",
       "      <th>55</th>\n",
       "      <td>0.238085</td>\n",
       "      <td>551.987305</td>\n",
       "    </tr>\n",
       "    <tr>\n",
       "      <th>69</th>\n",
       "      <td>0.338473</td>\n",
       "      <td>357.186206</td>\n",
       "    </tr>\n",
       "    <tr>\n",
       "      <th>83</th>\n",
       "      <td>0.552632</td>\n",
       "      <td>393.394737</td>\n",
       "    </tr>\n",
       "    <tr>\n",
       "      <th>87</th>\n",
       "      <td>0.566813</td>\n",
       "      <td>404.662103</td>\n",
       "    </tr>\n",
       "    <tr>\n",
       "      <th>153</th>\n",
       "      <td>0.408203</td>\n",
       "      <td>381.321779</td>\n",
       "    </tr>\n",
       "    <tr>\n",
       "      <th>159</th>\n",
       "      <td>0.706897</td>\n",
       "      <td>292.086207</td>\n",
       "    </tr>\n",
       "    <tr>\n",
       "      <th>160</th>\n",
       "      <td>0.275862</td>\n",
       "      <td>343.672414</td>\n",
       "    </tr>\n",
       "    <tr>\n",
       "      <th>161</th>\n",
       "      <td>0.326817</td>\n",
       "      <td>263.603543</td>\n",
       "    </tr>\n",
       "    <tr>\n",
       "      <th>167</th>\n",
       "      <td>0.950954</td>\n",
       "      <td>343.819255</td>\n",
       "    </tr>\n",
       "    <tr>\n",
       "      <th rowspan=\"20\" valign=\"top\">2023</th>\n",
       "      <th>36</th>\n",
       "      <td>0.000000</td>\n",
       "      <td>913.525469</td>\n",
       "    </tr>\n",
       "    <tr>\n",
       "      <th>55</th>\n",
       "      <td>0.049328</td>\n",
       "      <td>734.802267</td>\n",
       "    </tr>\n",
       "    <tr>\n",
       "      <th>69</th>\n",
       "      <td>0.138861</td>\n",
       "      <td>509.819924</td>\n",
       "    </tr>\n",
       "    <tr>\n",
       "      <th>83</th>\n",
       "      <td>0.055556</td>\n",
       "      <td>822.444444</td>\n",
       "    </tr>\n",
       "    <tr>\n",
       "      <th>87</th>\n",
       "      <td>0.171852</td>\n",
       "      <td>448.547395</td>\n",
       "    </tr>\n",
       "    <tr>\n",
       "      <th>153</th>\n",
       "      <td>0.045369</td>\n",
       "      <td>573.771176</td>\n",
       "    </tr>\n",
       "    <tr>\n",
       "      <th>159</th>\n",
       "      <td>0.035714</td>\n",
       "      <td>461.142857</td>\n",
       "    </tr>\n",
       "    <tr>\n",
       "      <th>160</th>\n",
       "      <td>0.063107</td>\n",
       "      <td>558.873786</td>\n",
       "    </tr>\n",
       "    <tr>\n",
       "      <th>161</th>\n",
       "      <td>0.029715</td>\n",
       "      <td>501.978775</td>\n",
       "    </tr>\n",
       "    <tr>\n",
       "      <th>167</th>\n",
       "      <td>0.137848</td>\n",
       "      <td>337.949031</td>\n",
       "    </tr>\n",
       "    <tr>\n",
       "      <th>193</th>\n",
       "      <td>0.154325</td>\n",
       "      <td>421.237221</td>\n",
       "    </tr>\n",
       "    <tr>\n",
       "      <th>194</th>\n",
       "      <td>0.048162</td>\n",
       "      <td>318.356147</td>\n",
       "    </tr>\n",
       "    <tr>\n",
       "      <th>195</th>\n",
       "      <td>0.034005</td>\n",
       "      <td>315.068010</td>\n",
       "    </tr>\n",
       "    <tr>\n",
       "      <th>199</th>\n",
       "      <td>0.000000</td>\n",
       "      <td>423.500000</td>\n",
       "    </tr>\n",
       "    <tr>\n",
       "      <th>205</th>\n",
       "      <td>0.000000</td>\n",
       "      <td>356.248705</td>\n",
       "    </tr>\n",
       "    <tr>\n",
       "      <th>207</th>\n",
       "      <td>0.227751</td>\n",
       "      <td>271.232388</td>\n",
       "    </tr>\n",
       "    <tr>\n",
       "      <th>210</th>\n",
       "      <td>0.070349</td>\n",
       "      <td>313.478488</td>\n",
       "    </tr>\n",
       "    <tr>\n",
       "      <th>212</th>\n",
       "      <td>0.331984</td>\n",
       "      <td>225.112011</td>\n",
       "    </tr>\n",
       "    <tr>\n",
       "      <th>219</th>\n",
       "      <td>0.007557</td>\n",
       "      <td>251.350126</td>\n",
       "    </tr>\n",
       "    <tr>\n",
       "      <th>220</th>\n",
       "      <td>0.000000</td>\n",
       "      <td>256.000000</td>\n",
       "    </tr>\n",
       "  </tbody>\n",
       "</table>\n",
       "</div>"
      ],
      "text/plain": [
       "                     death_next_season  hive_age_next_season\n",
       "season operation_id                                         \n",
       "2021   36                     0.034884            374.296512\n",
       "       55                     0.631184            319.231549\n",
       "       69                     0.653664            345.589835\n",
       "       83                     0.000000            308.000000\n",
       "       87                     0.868106            233.582734\n",
       "2022   36                     0.307978            509.821892\n",
       "       55                     0.238085            551.987305\n",
       "       69                     0.338473            357.186206\n",
       "       83                     0.552632            393.394737\n",
       "       87                     0.566813            404.662103\n",
       "       153                    0.408203            381.321779\n",
       "       159                    0.706897            292.086207\n",
       "       160                    0.275862            343.672414\n",
       "       161                    0.326817            263.603543\n",
       "       167                    0.950954            343.819255\n",
       "2023   36                     0.000000            913.525469\n",
       "       55                     0.049328            734.802267\n",
       "       69                     0.138861            509.819924\n",
       "       83                     0.055556            822.444444\n",
       "       87                     0.171852            448.547395\n",
       "       153                    0.045369            573.771176\n",
       "       159                    0.035714            461.142857\n",
       "       160                    0.063107            558.873786\n",
       "       161                    0.029715            501.978775\n",
       "       167                    0.137848            337.949031\n",
       "       193                    0.154325            421.237221\n",
       "       194                    0.048162            318.356147\n",
       "       195                    0.034005            315.068010\n",
       "       199                    0.000000            423.500000\n",
       "       205                    0.000000            356.248705\n",
       "       207                    0.227751            271.232388\n",
       "       210                    0.070349            313.478488\n",
       "       212                    0.331984            225.112011\n",
       "       219                    0.007557            251.350126\n",
       "       220                    0.000000            256.000000"
      ]
     },
     "execution_count": 16,
     "metadata": {},
     "output_type": "execute_result"
    }
   ],
   "source": [
    "data.drop(['death_date','creation_date'],axis=1).groupby(['season','operation_id']).mean(numeric_only=True)[['death_next_season','hive_age_next_season']]"
   ]
  },
  {
   "cell_type": "code",
   "execution_count": 17,
   "id": "fb54b7c1-502b-49c6-a165-d48461e166ac",
   "metadata": {},
   "outputs": [],
   "source": [
    "if RUN_PREPROCESS:\n",
    "    # BAD OPS in 2021-2022\n",
    "    data = data.loc[~data['operation_id'].isin([51,167,84])]"
   ]
  },
  {
   "cell_type": "code",
   "execution_count": 18,
   "id": "706b4c58-f023-4c46-bd2e-339fc296a789",
   "metadata": {},
   "outputs": [
    {
     "data": {
      "text/plain": [
       "137652"
      ]
     },
     "execution_count": 18,
     "metadata": {},
     "output_type": "execute_result"
    }
   ],
   "source": [
    "len(data)"
   ]
  },
  {
   "cell_type": "code",
   "execution_count": 19,
   "id": "45ef04be-155f-444a-8c21-625d56d22730",
   "metadata": {},
   "outputs": [
    {
     "data": {
      "text/plain": [
       "hid                     0.0\n",
       "creation_date           0.0\n",
       "operation_id            0.0\n",
       "death_date              0.0\n",
       "season                  0.0\n",
       "death_next_season       0.0\n",
       "hive_age_next_season    0.0\n",
       "dtype: float64"
      ]
     },
     "execution_count": 19,
     "metadata": {},
     "output_type": "execute_result"
    }
   ],
   "source": [
    "data.isnull().mean()"
   ]
  },
  {
   "cell_type": "markdown",
   "id": "0c15d8b6-8b91-4979-a302-09c97423cd75",
   "metadata": {},
   "source": [
    "### Feature eng for predictive models\n"
   ]
  },
  {
   "cell_type": "markdown",
   "id": "9c65e797-9d81-4ced-af60-57714e1cbd37",
   "metadata": {},
   "source": [
    "### From mouvements to sensors data \n",
    "\n",
    "- Idea is to get the location of the hive at time X between june 1st and August 31 \n",
    "- Once we have that info we simply do statistic on the sequence \n"
   ]
  },
  {
   "cell_type": "markdown",
   "id": "550621e1-adc0-4011-92dc-af87aa2362dc",
   "metadata": {},
   "source": [
    "***\n",
    "### One hive example"
   ]
  },
  {
   "cell_type": "code",
   "execution_count": 20,
   "id": "b9db8eef-b77b-48cd-a819-f65d45003b5c",
   "metadata": {},
   "outputs": [],
   "source": [
    "if RUN_PREPROCESS:\n",
    "    mov['to_when'].fillna(date.today(),inplace=True) # When null still didn't moved\n",
    "    mov['from_when'] = pd.to_datetime(mov['from_when'],format='mixed').dt.date\n",
    "    mov['to_when'] = pd.to_datetime(mov['to_when'],format='mixed').dt.date\n",
    "    \n",
    "    aqi['time'] = pd.to_datetime(aqi['time'],format='mixed').dt.date\n",
    "    weather['time'] = pd.to_datetime(weather['time'],format='mixed').dt.date\n",
    "    ee['time'] = pd.to_datetime(ee['time'],format='mixed').dt.date"
   ]
  },
  {
   "cell_type": "code",
   "execution_count": 21,
   "id": "372843c0-77ba-46c3-a9a5-6a60f3d8f4e4",
   "metadata": {},
   "outputs": [],
   "source": [
    "if RUN_PREPROCESS:\n",
    "    # Only keep aqi, weather and ee for summer month \n",
    "    \n",
    "    aqi = aqi.loc[pd.to_datetime(aqi['time']).dt.month.isin(FEATURES_MONTH)].reset_index(drop=True)\n",
    "    weather = weather.loc[pd.to_datetime(weather['time']).dt.month.isin(FEATURES_MONTH)].reset_index(drop=True)\n",
    "    ee = ee.loc[pd.to_datetime(ee['time']).dt.month.isin(FEATURES_MONTH)].reset_index(drop=True)"
   ]
  },
  {
   "cell_type": "code",
   "execution_count": 22,
   "id": "1564f07e-4c4c-47b5-adbf-ae247ba4770e",
   "metadata": {},
   "outputs": [],
   "source": [
    "if RUN_PREPROCESS:\n",
    "    one = mov.loc[mov['hive_identity_id']==21199]"
   ]
  },
  {
   "cell_type": "code",
   "execution_count": 23,
   "id": "6a06c7bf-daa6-4767-b27f-377747b4da24",
   "metadata": {},
   "outputs": [],
   "source": [
    "if RUN_PREPROCESS:\n",
    "    one = (one.assign(time = [pd.date_range(start, end) \n",
    "                       for start, end \n",
    "                       in zip(one['from_when'], one['to_when'])]\n",
    "              )\n",
    "       .explode('time', ignore_index = True)\n",
    "    )"
   ]
  },
  {
   "cell_type": "code",
   "execution_count": 24,
   "id": "71554947-4344-42b8-95ba-88ee14f3f01f",
   "metadata": {},
   "outputs": [],
   "source": [
    "if RUN_PREPROCESS:\n",
    "    one['time'] = pd.to_datetime(one['time']).dt.date"
   ]
  },
  {
   "cell_type": "code",
   "execution_count": 25,
   "id": "2258126e-41fc-4599-af00-9265432ba85d",
   "metadata": {},
   "outputs": [],
   "source": [
    "if RUN_PREPROCESS:\n",
    "    one.head()"
   ]
  },
  {
   "cell_type": "code",
   "execution_count": 26,
   "id": "5afed2e9-8599-4dde-b706-0797765edadb",
   "metadata": {},
   "outputs": [],
   "source": [
    "if RUN_PREPROCESS:\n",
    "    one = pd.merge(one,aqi, on=[\"yard_id\",\"time\"])"
   ]
  },
  {
   "cell_type": "code",
   "execution_count": 27,
   "id": "2a5495c0-f414-4c1d-aa89-e548355e469e",
   "metadata": {},
   "outputs": [],
   "source": [
    "if RUN_PREPROCESS:\n",
    "    one['season'] = pd.to_datetime(one['time']).dt.year\n",
    "    one['month'] = pd.to_datetime(one['time']).dt.month"
   ]
  },
  {
   "cell_type": "code",
   "execution_count": 28,
   "id": "e4163665-104b-4133-8b97-03d1fcad511e",
   "metadata": {},
   "outputs": [],
   "source": [
    "if RUN_PREPROCESS:\n",
    "    one[['season','month','aqhi']].groupby([\"season\",\"month\"]).mean()"
   ]
  },
  {
   "cell_type": "markdown",
   "id": "530e9fb0-c91b-490d-8aa1-f8aa885441ac",
   "metadata": {},
   "source": [
    "### ALL hives and sensors"
   ]
  },
  {
   "cell_type": "code",
   "execution_count": 29,
   "id": "1c2be193-92db-4945-aec7-5506a57cd499",
   "metadata": {},
   "outputs": [],
   "source": [
    "if RUN_PREPROCESS:\n",
    "    mov = mov[mov['hive_identity_id'].isin(list(data.hid.unique()))].reset_index(drop=True)"
   ]
  },
  {
   "cell_type": "code",
   "execution_count": 30,
   "id": "ae5312a8-f4c3-4787-b238-4b97ad261936",
   "metadata": {},
   "outputs": [],
   "source": [
    "if RUN_PREPROCESS:\n",
    "    # WARNING THIS TAKES A WHILE (5 minutes...or so)\n",
    "    mov = (mov.assign(time = [pd.date_range(start,end) \n",
    "                       for start, end \n",
    "                       in zip(mov['from_when'], mov['to_when'])]\n",
    "              )\n",
    "       .explode('time', ignore_index = True)\n",
    "    )"
   ]
  },
  {
   "cell_type": "code",
   "execution_count": 31,
   "id": "a38564e6-0435-49db-b30b-65001c1bf026",
   "metadata": {},
   "outputs": [],
   "source": [
    "if RUN_PREPROCESS:\n",
    "    mov['time'] = pd.to_datetime(mov['time']).dt.date\n",
    "    \n",
    "    mov = mov.loc[pd.to_datetime(mov['time']).dt.month.isin(FEATURES_MONTH)].reset_index(drop=True)"
   ]
  },
  {
   "cell_type": "code",
   "execution_count": 32,
   "id": "24e7cf3e-e3f0-474f-9c27-a421a31abe60",
   "metadata": {},
   "outputs": [],
   "source": [
    "if RUN_PREPROCESS:\n",
    "    merged = pd.merge(mov,aqi, on=[\"yard_id\",\"time\"])\n",
    "    merged = pd.merge(merged,weather, on=[\"yard_id\",\"time\"])\n",
    "    merged = pd.merge(merged,ee, on=[\"yard_id\",\"time\"])\n",
    "    \n",
    "    merged.head()"
   ]
  },
  {
   "cell_type": "code",
   "execution_count": 33,
   "id": "0eb50387-692a-4dd9-9959-1b21c8af1c6d",
   "metadata": {},
   "outputs": [],
   "source": [
    "if RUN_PREPROCESS:\n",
    "    merged.isnull().mean()"
   ]
  },
  {
   "cell_type": "markdown",
   "id": "8e12717e-9947-48b8-b891-fae164e6f746",
   "metadata": {},
   "source": [
    "### TSun and Wdir high null, just ignore them "
   ]
  },
  {
   "cell_type": "code",
   "execution_count": 34,
   "id": "c02d0b93-7e84-4c79-8f96-29537789a84b",
   "metadata": {},
   "outputs": [],
   "source": [
    "if RUN_PREPROCESS:\n",
    "    merged.drop(['tsun','wdir'],axis=1,inplace=True)"
   ]
  },
  {
   "cell_type": "markdown",
   "id": "2228b568-52b8-4843-9397-8f2705a91284",
   "metadata": {},
   "source": [
    "### Compute stats for each hid"
   ]
  },
  {
   "cell_type": "code",
   "execution_count": 35,
   "id": "b5b8ba8e-4423-4126-aace-ec1519b4b0a9",
   "metadata": {},
   "outputs": [],
   "source": [
    "if RUN_PREPROCESS:\n",
    "    merged['season'] = pd.to_datetime(merged['time']).dt.year"
   ]
  },
  {
   "cell_type": "code",
   "execution_count": 36,
   "id": "9a8ad47f-81c2-4b65-adf1-901c746b6a44",
   "metadata": {},
   "outputs": [],
   "source": [
    "if RUN_PREPROCESS:\n",
    "    # THis takes 10 min or so locally\n",
    "    averages = merged.drop(['from_when','to_when','time','submitted_at'],axis=1).groupby([\"hive_identity_id\",\"season\"]).mean().reset_index()\n",
    "    skewed = merged.drop(['from_when','to_when','time','submitted_at'],axis=1).groupby([\"hive_identity_id\",\"season\"]).agg(lambda x : skew(x)).reset_index()\n",
    "    maxed = merged.drop(['from_when','to_when','time','submitted_at'],axis=1).groupby([\"hive_identity_id\",\"season\"]).max().reset_index()"
   ]
  },
  {
   "cell_type": "code",
   "execution_count": 37,
   "id": "6dae0bb4-17fe-4dd1-bc09-b1e433fc6ed3",
   "metadata": {},
   "outputs": [],
   "source": [
    "if RUN_PREPROCESS:\n",
    "    averages.rename(columns={\"aqhi\":\"aqhi_average\",\"prcp\":\"prcp_average\",\"wspd\":\"wspd_average\",\"ndvi\":\"ndvi_average\"\n",
    "                             ,\"tavg\":\"tavg_average\",\"o3\":\"o3_average\",\"hive_identity_id\":\"hid\"},inplace=True)\n",
    "    skewed.rename(columns={\"aqhi\":\"aqhi_skew\",\"prcp\":\"prcp_skew\",\"wspd\":\"wspd_skew\",\"ndvi\":\"ndvi_skew\"\n",
    "                           ,\"tavg\":\"tavg_skew\",\"o3\":\"o3_skew\",\"hive_identity_id\":\"hid\"},inplace=True)\n",
    "    maxed.rename(columns={\"aqhi\":\"aqhi_max\",\"prcp\":\"prcp_max\",\"wspd\":\"wspd_max\",\"ndvi\":\"ndvi_max\"\n",
    "                          ,\"tavg\":\"tavg_max\",\"o3\":\"o3_max\",\"hive_identity_id\":\"hid\"},inplace=True)\n"
   ]
  },
  {
   "cell_type": "markdown",
   "id": "356ccf12-2435-49af-ac5d-1cb657999f51",
   "metadata": {},
   "source": [
    "### Bring remote sensors with season state (merge)"
   ]
  },
  {
   "cell_type": "code",
   "execution_count": 38,
   "id": "eaa6c079-08d7-4b89-9943-5cff2469dec6",
   "metadata": {},
   "outputs": [
    {
     "name": "stdout",
     "output_type": "stream",
     "text": [
      "137652\n",
      "137652\n",
      "137652\n",
      "137652\n"
     ]
    }
   ],
   "source": [
    "if RUN_PREPROCESS:\n",
    "    print(len(data))\n",
    "    data = pd.merge(data, averages[['season','hid','aqhi_average','prcp_average','wspd_average'\n",
    "                                    ,'ndvi_average','tavg_average','o3_average']], on=[\"season\",\"hid\"], how=\"left\")\n",
    "    print(len(data))\n",
    "    data = pd.merge(data, skewed[['season','hid','aqhi_skew','prcp_skew','wspd_skew'\n",
    "                                  ,'ndvi_skew','tavg_skew','o3_skew']], on=[\"season\",\"hid\"], how=\"left\")\n",
    "    print(len(data))\n",
    "    data = pd.merge(data, maxed[['season','hid','aqhi_max','prcp_max','wspd_max'\n",
    "                                 ,'ndvi_max','tavg_max','o3_max']], on=[\"season\",\"hid\"], how=\"left\")\n",
    "    print(len(data))"
   ]
  },
  {
   "cell_type": "code",
   "execution_count": 39,
   "id": "c4f24213-75f5-4d65-8f20-7876efd4da47",
   "metadata": {},
   "outputs": [
    {
     "data": {
      "text/html": [
       "<div>\n",
       "<style scoped>\n",
       "    .dataframe tbody tr th:only-of-type {\n",
       "        vertical-align: middle;\n",
       "    }\n",
       "\n",
       "    .dataframe tbody tr th {\n",
       "        vertical-align: top;\n",
       "    }\n",
       "\n",
       "    .dataframe thead th {\n",
       "        text-align: right;\n",
       "    }\n",
       "</style>\n",
       "<table border=\"1\" class=\"dataframe\">\n",
       "  <thead>\n",
       "    <tr style=\"text-align: right;\">\n",
       "      <th></th>\n",
       "      <th>hid</th>\n",
       "      <th>creation_date</th>\n",
       "      <th>operation_id</th>\n",
       "      <th>death_date</th>\n",
       "      <th>season</th>\n",
       "      <th>death_next_season</th>\n",
       "      <th>hive_age_next_season</th>\n",
       "      <th>aqhi_average</th>\n",
       "      <th>prcp_average</th>\n",
       "      <th>wspd_average</th>\n",
       "      <th>...</th>\n",
       "      <th>wspd_skew</th>\n",
       "      <th>ndvi_skew</th>\n",
       "      <th>tavg_skew</th>\n",
       "      <th>o3_skew</th>\n",
       "      <th>aqhi_max</th>\n",
       "      <th>prcp_max</th>\n",
       "      <th>wspd_max</th>\n",
       "      <th>ndvi_max</th>\n",
       "      <th>tavg_max</th>\n",
       "      <th>o3_max</th>\n",
       "    </tr>\n",
       "  </thead>\n",
       "  <tbody>\n",
       "    <tr>\n",
       "      <th>0</th>\n",
       "      <td>21199</td>\n",
       "      <td>2021-06-23</td>\n",
       "      <td>55</td>\n",
       "      <td>2022-06-01</td>\n",
       "      <td>2021</td>\n",
       "      <td>False</td>\n",
       "      <td>343</td>\n",
       "      <td>2.0</td>\n",
       "      <td>0.1</td>\n",
       "      <td>5.20</td>\n",
       "      <td>...</td>\n",
       "      <td>3.252607e-15</td>\n",
       "      <td>0.000000e+00</td>\n",
       "      <td>0.0</td>\n",
       "      <td>-2.087878e-15</td>\n",
       "      <td>2.0</td>\n",
       "      <td>0.2</td>\n",
       "      <td>5.6</td>\n",
       "      <td>0.643625</td>\n",
       "      <td>20.4</td>\n",
       "      <td>36.463333</td>\n",
       "    </tr>\n",
       "    <tr>\n",
       "      <th>1</th>\n",
       "      <td>38198</td>\n",
       "      <td>2021-09-27</td>\n",
       "      <td>55</td>\n",
       "      <td>2022-06-01</td>\n",
       "      <td>2021</td>\n",
       "      <td>False</td>\n",
       "      <td>247</td>\n",
       "      <td>NaN</td>\n",
       "      <td>NaN</td>\n",
       "      <td>NaN</td>\n",
       "      <td>...</td>\n",
       "      <td>NaN</td>\n",
       "      <td>NaN</td>\n",
       "      <td>NaN</td>\n",
       "      <td>NaN</td>\n",
       "      <td>NaN</td>\n",
       "      <td>NaN</td>\n",
       "      <td>NaN</td>\n",
       "      <td>NaN</td>\n",
       "      <td>NaN</td>\n",
       "      <td>NaN</td>\n",
       "    </tr>\n",
       "    <tr>\n",
       "      <th>2</th>\n",
       "      <td>22571</td>\n",
       "      <td>2021-07-28</td>\n",
       "      <td>83</td>\n",
       "      <td>2022-06-01</td>\n",
       "      <td>2021</td>\n",
       "      <td>False</td>\n",
       "      <td>308</td>\n",
       "      <td>3.0</td>\n",
       "      <td>0.0</td>\n",
       "      <td>4.80</td>\n",
       "      <td>...</td>\n",
       "      <td>NaN</td>\n",
       "      <td>NaN</td>\n",
       "      <td>NaN</td>\n",
       "      <td>NaN</td>\n",
       "      <td>3.0</td>\n",
       "      <td>0.0</td>\n",
       "      <td>4.8</td>\n",
       "      <td>0.336577</td>\n",
       "      <td>16.4</td>\n",
       "      <td>29.482500</td>\n",
       "    </tr>\n",
       "    <tr>\n",
       "      <th>3</th>\n",
       "      <td>19339</td>\n",
       "      <td>2021-06-18</td>\n",
       "      <td>69</td>\n",
       "      <td>2022-06-01</td>\n",
       "      <td>2021</td>\n",
       "      <td>False</td>\n",
       "      <td>348</td>\n",
       "      <td>5.0</td>\n",
       "      <td>0.0</td>\n",
       "      <td>11.95</td>\n",
       "      <td>...</td>\n",
       "      <td>2.408966e-15</td>\n",
       "      <td>4.442735e-16</td>\n",
       "      <td>0.0</td>\n",
       "      <td>0.000000e+00</td>\n",
       "      <td>6.0</td>\n",
       "      <td>0.0</td>\n",
       "      <td>13.1</td>\n",
       "      <td>0.501838</td>\n",
       "      <td>25.5</td>\n",
       "      <td>92.327917</td>\n",
       "    </tr>\n",
       "    <tr>\n",
       "      <th>4</th>\n",
       "      <td>19340</td>\n",
       "      <td>2021-06-18</td>\n",
       "      <td>69</td>\n",
       "      <td>2022-06-01</td>\n",
       "      <td>2021</td>\n",
       "      <td>False</td>\n",
       "      <td>348</td>\n",
       "      <td>5.0</td>\n",
       "      <td>0.0</td>\n",
       "      <td>11.95</td>\n",
       "      <td>...</td>\n",
       "      <td>2.408966e-15</td>\n",
       "      <td>4.442735e-16</td>\n",
       "      <td>0.0</td>\n",
       "      <td>0.000000e+00</td>\n",
       "      <td>6.0</td>\n",
       "      <td>0.0</td>\n",
       "      <td>13.1</td>\n",
       "      <td>0.501838</td>\n",
       "      <td>25.5</td>\n",
       "      <td>92.327917</td>\n",
       "    </tr>\n",
       "  </tbody>\n",
       "</table>\n",
       "<p>5 rows × 25 columns</p>\n",
       "</div>"
      ],
      "text/plain": [
       "     hid creation_date  operation_id  death_date  season  death_next_season  \\\n",
       "0  21199    2021-06-23            55  2022-06-01    2021              False   \n",
       "1  38198    2021-09-27            55  2022-06-01    2021              False   \n",
       "2  22571    2021-07-28            83  2022-06-01    2021              False   \n",
       "3  19339    2021-06-18            69  2022-06-01    2021              False   \n",
       "4  19340    2021-06-18            69  2022-06-01    2021              False   \n",
       "\n",
       "   hive_age_next_season  aqhi_average  prcp_average  wspd_average  ...  \\\n",
       "0                   343           2.0           0.1          5.20  ...   \n",
       "1                   247           NaN           NaN           NaN  ...   \n",
       "2                   308           3.0           0.0          4.80  ...   \n",
       "3                   348           5.0           0.0         11.95  ...   \n",
       "4                   348           5.0           0.0         11.95  ...   \n",
       "\n",
       "      wspd_skew     ndvi_skew  tavg_skew       o3_skew  aqhi_max  prcp_max  \\\n",
       "0  3.252607e-15  0.000000e+00        0.0 -2.087878e-15       2.0       0.2   \n",
       "1           NaN           NaN        NaN           NaN       NaN       NaN   \n",
       "2           NaN           NaN        NaN           NaN       3.0       0.0   \n",
       "3  2.408966e-15  4.442735e-16        0.0  0.000000e+00       6.0       0.0   \n",
       "4  2.408966e-15  4.442735e-16        0.0  0.000000e+00       6.0       0.0   \n",
       "\n",
       "   wspd_max  ndvi_max  tavg_max     o3_max  \n",
       "0       5.6  0.643625      20.4  36.463333  \n",
       "1       NaN       NaN       NaN        NaN  \n",
       "2       4.8  0.336577      16.4  29.482500  \n",
       "3      13.1  0.501838      25.5  92.327917  \n",
       "4      13.1  0.501838      25.5  92.327917  \n",
       "\n",
       "[5 rows x 25 columns]"
      ]
     },
     "execution_count": 39,
     "metadata": {},
     "output_type": "execute_result"
    }
   ],
   "source": [
    "data.head()"
   ]
  },
  {
   "cell_type": "code",
   "execution_count": 40,
   "id": "c13d1dc9-497e-489b-9a1b-11a75a2b9889",
   "metadata": {},
   "outputs": [
    {
     "data": {
      "text/plain": [
       "137652"
      ]
     },
     "execution_count": 40,
     "metadata": {},
     "output_type": "execute_result"
    }
   ],
   "source": [
    "len(data)"
   ]
  },
  {
   "cell_type": "markdown",
   "id": "ad97dcf6-d24d-466e-ae98-bfd13a72430e",
   "metadata": {},
   "source": [
    "### Add region"
   ]
  },
  {
   "cell_type": "code",
   "execution_count": 41,
   "id": "b925f043-087c-4018-aa0f-c754f7156d95",
   "metadata": {},
   "outputs": [],
   "source": [
    "if RUN_PREPROCESS:\n",
    "    operation_meta.index = operation_meta['Operation ID']\n",
    "    regions = operation_meta.to_dict(orient=\"dict\")['Location']"
   ]
  },
  {
   "cell_type": "code",
   "execution_count": 42,
   "id": "6202e9df-9b8e-4ad0-bb9f-dfcbc8395303",
   "metadata": {},
   "outputs": [],
   "source": [
    "def try_region(x):\n",
    "    try:\n",
    "        return regions[str(x)].split(\",\")[1]\n",
    "    except:\n",
    "        return 'Unknown'"
   ]
  },
  {
   "cell_type": "code",
   "execution_count": 43,
   "id": "86d1a636-a93e-4b4b-9f12-22b86d5b43cd",
   "metadata": {},
   "outputs": [
    {
     "data": {
      "text/plain": [
       "region\n",
       " AB        57501\n",
       " CA        46584\n",
       " QC        24127\n",
       " FL         5607\n",
       " WA         1084\n",
       "Unknown      895\n",
       " WY          789\n",
       " NY          741\n",
       " NS          322\n",
       " KS            2\n",
       "Name: count, dtype: int64"
      ]
     },
     "execution_count": 43,
     "metadata": {},
     "output_type": "execute_result"
    }
   ],
   "source": [
    "if RUN_PREPROCESS:\n",
    "    data['region'] = data['operation_id'].apply(lambda x: try_region(x))\n",
    "data['region'].value_counts()"
   ]
  },
  {
   "cell_type": "markdown",
   "id": "f5aa3e19-b99a-4bd5-96e0-1e8748c2d085",
   "metadata": {},
   "source": [
    "### Saving preprocess so we don't need to run every time"
   ]
  },
  {
   "cell_type": "code",
   "execution_count": 44,
   "id": "d11e0063-a879-40a2-9e20-8a7e330f032b",
   "metadata": {},
   "outputs": [],
   "source": [
    "if RUN_PREPROCESS:\n",
    "    data.to_csv(os.path.join(ROOT_PATH,\"preprocess.csv\"),index=False)\n",
    "else:\n",
    "    data = pd.read_csv(os.path.join(ROOT_PATH,\"preprocess.csv\"))"
   ]
  },
  {
   "cell_type": "code",
   "execution_count": 45,
   "id": "ea13d159-0e8d-479e-8e41-fb562de33081",
   "metadata": {},
   "outputs": [
    {
     "data": {
      "text/plain": [
       "137652"
      ]
     },
     "execution_count": 45,
     "metadata": {},
     "output_type": "execute_result"
    }
   ],
   "source": [
    "len(data)"
   ]
  },
  {
   "cell_type": "code",
   "execution_count": 46,
   "id": "921e9f7d-82d3-4afa-8dab-202af40021e2",
   "metadata": {},
   "outputs": [],
   "source": [
    "ONLY_WINTER = False\n",
    "ONLY_INSEASON = False \n",
    "ACTIVE_ALL_AND_WINTER = True  # Blog post hypothesis \n",
    "if ONLY_WINTER or ONLY_INSEASON:\n",
    "    assert ONLY_WINTER != ONLY_INSEASON, \"choose one! or both False\"\n",
    "if ONLY_INSEASON or ACTIVE_ALL_AND_WINTER:\n",
    "    assert ACTIVE_ALL_AND_WINTER != ONLY_INSEASON, \"choose one! or both False\"\n",
    "\n",
    "# Reload and apply\n",
    "data = pd.read_csv(os.path.join(ROOT_PATH,\"preprocess.csv\"))"
   ]
  },
  {
   "cell_type": "code",
   "execution_count": 47,
   "id": "55c5342e-a130-44b3-a454-6db214eee802",
   "metadata": {},
   "outputs": [
    {
     "data": {
      "text/plain": [
       "137652"
      ]
     },
     "execution_count": 47,
     "metadata": {},
     "output_type": "execute_result"
    }
   ],
   "source": [
    "len(data)"
   ]
  },
  {
   "cell_type": "code",
   "execution_count": 48,
   "id": "54c42e6c-6b76-45b2-b6ff-d6cfc57b37e2",
   "metadata": {},
   "outputs": [],
   "source": [
    "if ONLY_WINTER:\n",
    "    # Exclude in-season deadout , we are just looking at winter morta \n",
    "    data['death_date'] = pd.to_datetime(data['death_date']).dt.date\n",
    "    data['winter_deadout'] = data.apply(lambda x: x['death_date'] > date(int(x['season']),END_SEASON_MONTH,END_SEASON_DAY),axis=1)\n",
    "    data = data.loc[data['winter_deadout']].reset_index(drop=True)\n",
    "\n",
    "if ONLY_INSEASON:\n",
    "    data['death_date'] = pd.to_datetime(data['death_date']).dt.date\n",
    "    data['winter_deadout'] = data.apply(lambda x: x['death_date'].month in [6,7,8],axis=1)\n",
    "    data = data.loc[~data['winter_deadout'] | ~data['death_next_season']].reset_index(drop=True)\n",
    "\n",
    "if ACTIVE_ALL_AND_WINTER:\n",
    "    data['death_date'] = pd.to_datetime(data['death_date']).dt.date\n",
    "    data['creation_date'] = pd.to_datetime(data['creation_date']).dt.date\n",
    "    # This ensure the exposition rate is the full season (makes them comparable with the current approach)\n",
    "    data = data.loc[(data['creation_date'] <= data['season'].apply(lambda x: date(int(x),START_SEASON_MONTH+1,START_SEASON_DAY))) \\\n",
    "            & (data['death_date'] > data['season'].apply(lambda x : date(int(x),END_SEASON_MONTH,END_SEASON_DAY)))]\n",
    "    data = data.reset_index(drop=True)\n"
   ]
  },
  {
   "cell_type": "markdown",
   "id": "6d454af4-1b3c-4bad-9e20-4852a591e208",
   "metadata": {},
   "source": [
    "### Keep next year aside and exclude some abnormal data"
   ]
  },
  {
   "cell_type": "code",
   "execution_count": 49,
   "id": "d3c8b97c-6d0b-4a97-bbbb-0561bfb0c62c",
   "metadata": {},
   "outputs": [],
   "source": [
    "next_year = data.loc[data['season']==2023].reset_index(drop=True)\n",
    "if not ONLY_INSEASON:\n",
    "    data = data.loc[data['season']!=2023].reset_index(drop=True)"
   ]
  },
  {
   "cell_type": "code",
   "execution_count": 50,
   "id": "65fa19ab-3c2b-4e4f-b067-ad4e7e08603a",
   "metadata": {},
   "outputs": [
    {
     "data": {
      "text/plain": [
       "30439"
      ]
     },
     "execution_count": 50,
     "metadata": {},
     "output_type": "execute_result"
    }
   ],
   "source": [
    "len(data)"
   ]
  },
  {
   "cell_type": "code",
   "execution_count": 51,
   "id": "870b37e6-02b3-4ac2-b468-35c7c326e7d8",
   "metadata": {},
   "outputs": [
    {
     "data": {
      "text/html": [
       "<div>\n",
       "<style scoped>\n",
       "    .dataframe tbody tr th:only-of-type {\n",
       "        vertical-align: middle;\n",
       "    }\n",
       "\n",
       "    .dataframe tbody tr th {\n",
       "        vertical-align: top;\n",
       "    }\n",
       "\n",
       "    .dataframe thead th {\n",
       "        text-align: right;\n",
       "    }\n",
       "</style>\n",
       "<table border=\"1\" class=\"dataframe\">\n",
       "  <thead>\n",
       "    <tr style=\"text-align: right;\">\n",
       "      <th></th>\n",
       "      <th></th>\n",
       "      <th>hid</th>\n",
       "      <th>operation_id</th>\n",
       "      <th>hive_age_next_season</th>\n",
       "      <th>aqhi_average</th>\n",
       "      <th>prcp_average</th>\n",
       "      <th>wspd_average</th>\n",
       "      <th>ndvi_average</th>\n",
       "      <th>tavg_average</th>\n",
       "      <th>o3_average</th>\n",
       "      <th>aqhi_skew</th>\n",
       "      <th>...</th>\n",
       "      <th>wspd_skew</th>\n",
       "      <th>ndvi_skew</th>\n",
       "      <th>tavg_skew</th>\n",
       "      <th>o3_skew</th>\n",
       "      <th>aqhi_max</th>\n",
       "      <th>prcp_max</th>\n",
       "      <th>wspd_max</th>\n",
       "      <th>ndvi_max</th>\n",
       "      <th>tavg_max</th>\n",
       "      <th>o3_max</th>\n",
       "    </tr>\n",
       "    <tr>\n",
       "      <th>death_next_season</th>\n",
       "      <th>season</th>\n",
       "      <th></th>\n",
       "      <th></th>\n",
       "      <th></th>\n",
       "      <th></th>\n",
       "      <th></th>\n",
       "      <th></th>\n",
       "      <th></th>\n",
       "      <th></th>\n",
       "      <th></th>\n",
       "      <th></th>\n",
       "      <th></th>\n",
       "      <th></th>\n",
       "      <th></th>\n",
       "      <th></th>\n",
       "      <th></th>\n",
       "      <th></th>\n",
       "      <th></th>\n",
       "      <th></th>\n",
       "      <th></th>\n",
       "      <th></th>\n",
       "      <th></th>\n",
       "    </tr>\n",
       "  </thead>\n",
       "  <tbody>\n",
       "    <tr>\n",
       "      <th rowspan=\"2\" valign=\"top\">False</th>\n",
       "      <th>2021</th>\n",
       "      <td>17142.420027</td>\n",
       "      <td>59.155415</td>\n",
       "      <td>367.472587</td>\n",
       "      <td>3.488521</td>\n",
       "      <td>0.380909</td>\n",
       "      <td>11.049879</td>\n",
       "      <td>0.424834</td>\n",
       "      <td>19.871530</td>\n",
       "      <td>57.067167</td>\n",
       "      <td>0.294449</td>\n",
       "      <td>...</td>\n",
       "      <td>0.198110</td>\n",
       "      <td>0.097643</td>\n",
       "      <td>0.015265</td>\n",
       "      <td>0.310174</td>\n",
       "      <td>4.651110</td>\n",
       "      <td>0.882102</td>\n",
       "      <td>13.823108</td>\n",
       "      <td>0.512187</td>\n",
       "      <td>21.364341</td>\n",
       "      <td>72.134955</td>\n",
       "    </tr>\n",
       "    <tr>\n",
       "      <th>2022</th>\n",
       "      <td>53375.674205</td>\n",
       "      <td>97.692630</td>\n",
       "      <td>445.451785</td>\n",
       "      <td>2.984821</td>\n",
       "      <td>1.038794</td>\n",
       "      <td>10.807450</td>\n",
       "      <td>0.452435</td>\n",
       "      <td>17.207498</td>\n",
       "      <td>47.831912</td>\n",
       "      <td>-0.188264</td>\n",
       "      <td>...</td>\n",
       "      <td>0.052575</td>\n",
       "      <td>-0.339672</td>\n",
       "      <td>-0.122884</td>\n",
       "      <td>-0.115858</td>\n",
       "      <td>3.463862</td>\n",
       "      <td>2.494184</td>\n",
       "      <td>13.428847</td>\n",
       "      <td>0.571514</td>\n",
       "      <td>20.980325</td>\n",
       "      <td>56.102385</td>\n",
       "    </tr>\n",
       "    <tr>\n",
       "      <th rowspan=\"2\" valign=\"top\">True</th>\n",
       "      <th>2021</th>\n",
       "      <td>17087.594645</td>\n",
       "      <td>61.198126</td>\n",
       "      <td>343.560107</td>\n",
       "      <td>3.333512</td>\n",
       "      <td>0.361834</td>\n",
       "      <td>11.488884</td>\n",
       "      <td>0.459772</td>\n",
       "      <td>19.610112</td>\n",
       "      <td>55.381465</td>\n",
       "      <td>0.268403</td>\n",
       "      <td>...</td>\n",
       "      <td>0.143533</td>\n",
       "      <td>0.068253</td>\n",
       "      <td>0.027405</td>\n",
       "      <td>0.320726</td>\n",
       "      <td>4.331459</td>\n",
       "      <td>0.888434</td>\n",
       "      <td>14.527175</td>\n",
       "      <td>0.541029</td>\n",
       "      <td>21.165114</td>\n",
       "      <td>68.785118</td>\n",
       "    </tr>\n",
       "    <tr>\n",
       "      <th>2022</th>\n",
       "      <td>52545.046219</td>\n",
       "      <td>108.259505</td>\n",
       "      <td>401.855548</td>\n",
       "      <td>2.819238</td>\n",
       "      <td>0.766829</td>\n",
       "      <td>10.386509</td>\n",
       "      <td>0.398924</td>\n",
       "      <td>16.992298</td>\n",
       "      <td>46.520495</td>\n",
       "      <td>-0.256405</td>\n",
       "      <td>...</td>\n",
       "      <td>0.108917</td>\n",
       "      <td>-0.340827</td>\n",
       "      <td>-0.081071</td>\n",
       "      <td>-0.129775</td>\n",
       "      <td>3.228815</td>\n",
       "      <td>1.852193</td>\n",
       "      <td>13.680837</td>\n",
       "      <td>0.538159</td>\n",
       "      <td>21.125238</td>\n",
       "      <td>53.919444</td>\n",
       "    </tr>\n",
       "  </tbody>\n",
       "</table>\n",
       "<p>4 rows × 21 columns</p>\n",
       "</div>"
      ],
      "text/plain": [
       "                                   hid  operation_id  hive_age_next_season  \\\n",
       "death_next_season season                                                     \n",
       "False             2021    17142.420027     59.155415            367.472587   \n",
       "                  2022    53375.674205     97.692630            445.451785   \n",
       "True              2021    17087.594645     61.198126            343.560107   \n",
       "                  2022    52545.046219    108.259505            401.855548   \n",
       "\n",
       "                          aqhi_average  prcp_average  wspd_average  \\\n",
       "death_next_season season                                             \n",
       "False             2021        3.488521      0.380909     11.049879   \n",
       "                  2022        2.984821      1.038794     10.807450   \n",
       "True              2021        3.333512      0.361834     11.488884   \n",
       "                  2022        2.819238      0.766829     10.386509   \n",
       "\n",
       "                          ndvi_average  tavg_average  o3_average  aqhi_skew  \\\n",
       "death_next_season season                                                      \n",
       "False             2021        0.424834     19.871530   57.067167   0.294449   \n",
       "                  2022        0.452435     17.207498   47.831912  -0.188264   \n",
       "True              2021        0.459772     19.610112   55.381465   0.268403   \n",
       "                  2022        0.398924     16.992298   46.520495  -0.256405   \n",
       "\n",
       "                          ...  wspd_skew  ndvi_skew  tavg_skew   o3_skew  \\\n",
       "death_next_season season  ...                                              \n",
       "False             2021    ...   0.198110   0.097643   0.015265  0.310174   \n",
       "                  2022    ...   0.052575  -0.339672  -0.122884 -0.115858   \n",
       "True              2021    ...   0.143533   0.068253   0.027405  0.320726   \n",
       "                  2022    ...   0.108917  -0.340827  -0.081071 -0.129775   \n",
       "\n",
       "                          aqhi_max  prcp_max   wspd_max  ndvi_max   tavg_max  \\\n",
       "death_next_season season                                                       \n",
       "False             2021    4.651110  0.882102  13.823108  0.512187  21.364341   \n",
       "                  2022    3.463862  2.494184  13.428847  0.571514  20.980325   \n",
       "True              2021    4.331459  0.888434  14.527175  0.541029  21.165114   \n",
       "                  2022    3.228815  1.852193  13.680837  0.538159  21.125238   \n",
       "\n",
       "                             o3_max  \n",
       "death_next_season season             \n",
       "False             2021    72.134955  \n",
       "                  2022    56.102385  \n",
       "True              2021    68.785118  \n",
       "                  2022    53.919444  \n",
       "\n",
       "[4 rows x 21 columns]"
      ]
     },
     "execution_count": 51,
     "metadata": {},
     "output_type": "execute_result"
    }
   ],
   "source": [
    "data.groupby([\"death_next_season\",\"season\"]).mean(numeric_only=True)"
   ]
  },
  {
   "cell_type": "code",
   "execution_count": 52,
   "id": "4ee48186-7218-4e98-acbf-a4b82741ae41",
   "metadata": {},
   "outputs": [
    {
     "data": {
      "text/plain": [
       "season\n",
       "2022    24497\n",
       "2021     5942\n",
       "Name: count, dtype: int64"
      ]
     },
     "execution_count": 52,
     "metadata": {},
     "output_type": "execute_result"
    }
   ],
   "source": [
    "data.season.value_counts()"
   ]
  },
  {
   "cell_type": "code",
   "execution_count": 53,
   "id": "4ec7a44e-1665-4ab1-aeba-c79a2e87decf",
   "metadata": {},
   "outputs": [
    {
     "data": {
      "text/plain": [
       "hid                     0.000000\n",
       "creation_date           0.000000\n",
       "operation_id            0.000000\n",
       "death_date              0.000000\n",
       "season                  0.000000\n",
       "death_next_season       0.000000\n",
       "hive_age_next_season    0.000000\n",
       "aqhi_average            0.005618\n",
       "prcp_average            0.005618\n",
       "wspd_average            0.005618\n",
       "ndvi_average            0.005618\n",
       "tavg_average            0.005618\n",
       "o3_average              0.005618\n",
       "aqhi_skew               0.199744\n",
       "prcp_skew               0.376294\n",
       "wspd_skew               0.015901\n",
       "ndvi_skew               0.007260\n",
       "tavg_skew               0.015572\n",
       "o3_skew                 0.007260\n",
       "aqhi_max                0.005618\n",
       "prcp_max                0.005618\n",
       "wspd_max                0.005618\n",
       "ndvi_max                0.005618\n",
       "tavg_max                0.005618\n",
       "o3_max                  0.005618\n",
       "region                  0.000000\n",
       "dtype: float64"
      ]
     },
     "execution_count": 53,
     "metadata": {},
     "output_type": "execute_result"
    }
   ],
   "source": [
    "data.isnull().mean()"
   ]
  },
  {
   "cell_type": "markdown",
   "id": "32c60037-50f2-4006-9181-a6a41cdfd393",
   "metadata": {},
   "source": [
    "*** \n",
    "### Quick viz \n",
    "\n",
    "Just checking a bit the data for intuition"
   ]
  },
  {
   "cell_type": "markdown",
   "id": "9acd7d96-89ae-45ca-a077-e78ecd4402b0",
   "metadata": {},
   "source": [
    "### Check different sensors bar chart"
   ]
  },
  {
   "cell_type": "code",
   "execution_count": 54,
   "id": "4e63b0f6-da11-4a86-a410-b39684060ecf",
   "metadata": {},
   "outputs": [
    {
     "data": {
      "image/png": "[encoded data removed]",
      "text/plain": [
       "<Figure size 1400x600 with 1 Axes>"
      ]
     },
     "metadata": {},
     "output_type": "display_data"
    }
   ],
   "source": [
    "plot_survival_bar_per_state(data, \"aqhi_average\") # Bias by region for sure"
   ]
  },
  {
   "cell_type": "markdown",
   "id": "b776403a-e345-468f-bb68-f1c190e9f20d",
   "metadata": {},
   "source": [
    "### Check relation NDVI ~ AQHI\n",
    "\n",
    "\n",
    "Idea is that increased vegetation should lead to less extreme AQHI value"
   ]
  },
  {
   "cell_type": "code",
   "execution_count": 55,
   "id": "0cf7d866-925f-41ed-a4b0-72ac85d9360b",
   "metadata": {},
   "outputs": [
    {
     "data": {
      "image/png": "[encoded data removed]",
      "text/plain": [
       "<Figure size 1400x600 with 1 Axes>"
      ]
     },
     "metadata": {},
     "output_type": "display_data"
    }
   ],
   "source": [
    "sns.set_palette('colorblind') # Otherwise very confusing \n",
    "sns.set_style(\"whitegrid\")\n",
    "_, ax = plt.subplots(nrows=1, ncols=1, figsize=(14,6))\n",
    "for s in data['region'].unique():\n",
    "    sub = data.loc[data['region']==s]\n",
    "    if len(sub) > 10:\n",
    "        sns.regplot(x=sub[\"ndvi_average\"], y=sub[\"o3_max\"], label=s, ax=ax)\n",
    "plt.ylabel(\"AQHI Maximum value\")\n",
    "plt.xlabel(\"NDVI Average value\")\n",
    "plt.title(\"Relation between AQHI and NDVI per region\")\n",
    "plt.legend()\n",
    "plt.show()"
   ]
  },
  {
   "cell_type": "code",
   "execution_count": 56,
   "id": "281664bb-41e7-45e6-a4ca-6f29a5185056",
   "metadata": {},
   "outputs": [
    {
     "data": {
      "image/png": "[encoded data removed]",
      "text/plain": [
       "<Figure size 1400x600 with 1 Axes>"
      ]
     },
     "metadata": {},
     "output_type": "display_data"
    }
   ],
   "source": [
    "sns.set_palette('colorblind') # Otherwise very confusing \n",
    "sns.set_style(\"whitegrid\")\n",
    "_, ax = plt.subplots(nrows=1, ncols=1, figsize=(14,6))\n",
    "for s in data['region'].unique():\n",
    "    sub = data.loc[data['region']==s]\n",
    "    if len(sub) > 10:\n",
    "        sns.regplot(x=sub[\"ndvi_average\"], y=sub[\"aqhi_max\"], label=s, ax=ax)\n",
    "plt.ylabel(\"AQHI Maximum value\")\n",
    "plt.xlabel(\"NDVI Average value\")\n",
    "plt.title(\"Relation between AQHI and NDVI per region\")\n",
    "plt.legend()\n",
    "plt.show()"
   ]
  },
  {
   "cell_type": "code",
   "execution_count": null,
   "id": "e2984dce-3c9b-4a8b-b0e1-a24b910df436",
   "metadata": {},
   "outputs": [],
   "source": [
    "sns.set_palette('colorblind') # Otherwise very confusing \n",
    "sns.set_style(\"whitegrid\")\n",
    "_, ax = plt.subplots(nrows=1, ncols=1, figsize=(14,6))\n",
    "for s in data['region'].unique():\n",
    "    sub = data.loc[data['region']==s]\n",
    "    if len(sub) > 10:\n",
    "        sns.regplot(x=sub[\"ndvi_average\"], y=sub[\"aqhi_skew\"], label=s, ax=ax)\n",
    "plt.ylabel(\"AQHI Skewness value\")\n",
    "plt.xlabel(\"NDVI Average value\")\n",
    "plt.title(\"Relation between AQHI and NDVI per region\")\n",
    "plt.legend()\n",
    "plt.show()"
   ]
  },
  {
   "cell_type": "markdown",
   "id": "84a5f497-3fb5-422a-af41-8879be481fb0",
   "metadata": {},
   "source": [
    "### Check raw AQHI ~ mortality\n",
    "\n",
    "Pattern for Quebec are different from the rest of the dataset"
   ]
  },
  {
   "cell_type": "code",
   "execution_count": 57,
   "id": "a4d16e20-f359-4329-beb8-b8227d592d01",
   "metadata": {},
   "outputs": [
    {
     "data": {
      "image/png": "[encoded data removed]",
      "text/plain": [
       "<Figure size 1400x600 with 1 Axes>"
      ]
     },
     "metadata": {},
     "output_type": "display_data"
    }
   ],
   "source": [
    "sns.set_palette(NECTAR_PALETTE)\n",
    "sns.set_style(\"whitegrid\")\n",
    "_, ax = plt.subplots(nrows=1, ncols=1, figsize=(14,6))\n",
    "sns.regplot(x=\"aqhi_average\",y=\"death_next_season\",data=data.loc[data['region']==\" QC\"],logistic=True, truncate=False, ax=ax)\n",
    "plt.show()\n",
    "\n",
    "# This is starnge and may be due to hive located norther have faced more heavy aqhi ?"
   ]
  },
  {
   "cell_type": "code",
   "execution_count": 58,
   "id": "a696584b-bfb6-4be3-9b47-a626e00d30cc",
   "metadata": {},
   "outputs": [
    {
     "data": {
      "image/png": "[encoded data removed]",
      "text/plain": [
       "<Figure size 1400x600 with 1 Axes>"
      ]
     },
     "metadata": {},
     "output_type": "display_data"
    }
   ],
   "source": [
    "sns.set_palette(NECTAR_PALETTE)\n",
    "sns.set_style(\"whitegrid\")\n",
    "_, ax = plt.subplots(nrows=1, ncols=1, figsize=(14,6))\n",
    "sns.regplot(x=\"aqhi_average\",y=\"death_next_season\",data=data.loc[data['region']!=\" QC\"],logistic=True, truncate=False, ax=ax)\n",
    "plt.show()"
   ]
  },
  {
   "cell_type": "markdown",
   "id": "a80def3a-bda6-4cec-af16-8d345c073059",
   "metadata": {},
   "source": [
    "*** \n",
    "### Check per region"
   ]
  },
  {
   "cell_type": "code",
   "execution_count": 59,
   "id": "0fe5cda2-bc9c-4e1b-accd-5b44ae4d0807",
   "metadata": {},
   "outputs": [
    {
     "data": {
      "text/plain": [
       "region\n",
       " AB        21661\n",
       " QC         8021\n",
       " WA          519\n",
       "Unknown      146\n",
       " NS           92\n",
       "Name: count, dtype: int64"
      ]
     },
     "execution_count": 59,
     "metadata": {},
     "output_type": "execute_result"
    }
   ],
   "source": [
    "data.region.value_counts()"
   ]
  },
  {
   "cell_type": "code",
   "execution_count": 60,
   "id": "fe3c3f00-cdf6-4244-90f3-dcf7861025ff",
   "metadata": {},
   "outputs": [
    {
     "data": {
      "text/html": [
       "<div>\n",
       "<style scoped>\n",
       "    .dataframe tbody tr th:only-of-type {\n",
       "        vertical-align: middle;\n",
       "    }\n",
       "\n",
       "    .dataframe tbody tr th {\n",
       "        vertical-align: top;\n",
       "    }\n",
       "\n",
       "    .dataframe thead th {\n",
       "        text-align: right;\n",
       "    }\n",
       "</style>\n",
       "<table border=\"1\" class=\"dataframe\">\n",
       "  <thead>\n",
       "    <tr style=\"text-align: right;\">\n",
       "      <th></th>\n",
       "      <th>hid</th>\n",
       "      <th>operation_id</th>\n",
       "      <th>season</th>\n",
       "      <th>death_next_season</th>\n",
       "      <th>hive_age_next_season</th>\n",
       "      <th>aqhi_average</th>\n",
       "      <th>prcp_average</th>\n",
       "      <th>wspd_average</th>\n",
       "      <th>ndvi_average</th>\n",
       "      <th>tavg_average</th>\n",
       "      <th>...</th>\n",
       "      <th>wspd_skew</th>\n",
       "      <th>ndvi_skew</th>\n",
       "      <th>tavg_skew</th>\n",
       "      <th>o3_skew</th>\n",
       "      <th>aqhi_max</th>\n",
       "      <th>prcp_max</th>\n",
       "      <th>wspd_max</th>\n",
       "      <th>ndvi_max</th>\n",
       "      <th>tavg_max</th>\n",
       "      <th>o3_max</th>\n",
       "    </tr>\n",
       "    <tr>\n",
       "      <th>region</th>\n",
       "      <th></th>\n",
       "      <th></th>\n",
       "      <th></th>\n",
       "      <th></th>\n",
       "      <th></th>\n",
       "      <th></th>\n",
       "      <th></th>\n",
       "      <th></th>\n",
       "      <th></th>\n",
       "      <th></th>\n",
       "      <th></th>\n",
       "      <th></th>\n",
       "      <th></th>\n",
       "      <th></th>\n",
       "      <th></th>\n",
       "      <th></th>\n",
       "      <th></th>\n",
       "      <th></th>\n",
       "      <th></th>\n",
       "      <th></th>\n",
       "      <th></th>\n",
       "    </tr>\n",
       "  </thead>\n",
       "  <tbody>\n",
       "    <tr>\n",
       "      <th>AB</th>\n",
       "      <td>52117.902590</td>\n",
       "      <td>100.687180</td>\n",
       "      <td>2021.882831</td>\n",
       "      <td>0.356909</td>\n",
       "      <td>394.927612</td>\n",
       "      <td>2.877181</td>\n",
       "      <td>0.772855</td>\n",
       "      <td>11.128865</td>\n",
       "      <td>0.390084</td>\n",
       "      <td>17.393223</td>\n",
       "      <td>...</td>\n",
       "      <td>0.085542</td>\n",
       "      <td>-0.352426</td>\n",
       "      <td>-0.049906</td>\n",
       "      <td>-0.177432</td>\n",
       "      <td>3.259440</td>\n",
       "      <td>1.856207</td>\n",
       "      <td>14.341998</td>\n",
       "      <td>0.532196</td>\n",
       "      <td>21.145575</td>\n",
       "      <td>52.720897</td>\n",
       "    </tr>\n",
       "    <tr>\n",
       "      <th>NS</th>\n",
       "      <td>57235.956522</td>\n",
       "      <td>160.000000</td>\n",
       "      <td>2022.000000</td>\n",
       "      <td>0.228261</td>\n",
       "      <td>379.467391</td>\n",
       "      <td>3.157609</td>\n",
       "      <td>5.177536</td>\n",
       "      <td>10.913225</td>\n",
       "      <td>0.717846</td>\n",
       "      <td>14.235145</td>\n",
       "      <td>...</td>\n",
       "      <td>0.611229</td>\n",
       "      <td>0.211670</td>\n",
       "      <td>-0.256701</td>\n",
       "      <td>0.438133</td>\n",
       "      <td>3.989130</td>\n",
       "      <td>14.518478</td>\n",
       "      <td>16.040217</td>\n",
       "      <td>0.733306</td>\n",
       "      <td>18.540217</td>\n",
       "      <td>67.213107</td>\n",
       "    </tr>\n",
       "    <tr>\n",
       "      <th>QC</th>\n",
       "      <td>30581.489964</td>\n",
       "      <td>73.963970</td>\n",
       "      <td>2021.596684</td>\n",
       "      <td>0.371525</td>\n",
       "      <td>472.692806</td>\n",
       "      <td>3.250004</td>\n",
       "      <td>1.010589</td>\n",
       "      <td>10.040174</td>\n",
       "      <td>0.588826</td>\n",
       "      <td>17.912207</td>\n",
       "      <td>...</td>\n",
       "      <td>0.093037</td>\n",
       "      <td>-0.048469</td>\n",
       "      <td>-0.177112</td>\n",
       "      <td>0.334437</td>\n",
       "      <td>4.283740</td>\n",
       "      <td>2.418007</td>\n",
       "      <td>11.869741</td>\n",
       "      <td>0.636046</td>\n",
       "      <td>20.459211</td>\n",
       "      <td>70.381592</td>\n",
       "    </tr>\n",
       "    <tr>\n",
       "      <th>WA</th>\n",
       "      <td>29417.398844</td>\n",
       "      <td>36.000000</td>\n",
       "      <td>2021.674374</td>\n",
       "      <td>0.007707</td>\n",
       "      <td>504.603083</td>\n",
       "      <td>5.464997</td>\n",
       "      <td>0.327778</td>\n",
       "      <td>9.770713</td>\n",
       "      <td>0.091410</td>\n",
       "      <td>24.016185</td>\n",
       "      <td>...</td>\n",
       "      <td>0.015437</td>\n",
       "      <td>0.291424</td>\n",
       "      <td>-0.091928</td>\n",
       "      <td>0.140804</td>\n",
       "      <td>7.011561</td>\n",
       "      <td>0.545472</td>\n",
       "      <td>12.650867</td>\n",
       "      <td>0.257972</td>\n",
       "      <td>26.821773</td>\n",
       "      <td>100.292501</td>\n",
       "    </tr>\n",
       "    <tr>\n",
       "      <th>Unknown</th>\n",
       "      <td>58694.027397</td>\n",
       "      <td>132.972603</td>\n",
       "      <td>2022.000000</td>\n",
       "      <td>0.506849</td>\n",
       "      <td>378.095890</td>\n",
       "      <td>4.080969</td>\n",
       "      <td>1.389243</td>\n",
       "      <td>9.530201</td>\n",
       "      <td>0.531999</td>\n",
       "      <td>20.505437</td>\n",
       "      <td>...</td>\n",
       "      <td>-0.115486</td>\n",
       "      <td>0.080857</td>\n",
       "      <td>-0.351350</td>\n",
       "      <td>0.095159</td>\n",
       "      <td>4.865248</td>\n",
       "      <td>3.818440</td>\n",
       "      <td>10.824823</td>\n",
       "      <td>0.586602</td>\n",
       "      <td>23.363121</td>\n",
       "      <td>75.126540</td>\n",
       "    </tr>\n",
       "  </tbody>\n",
       "</table>\n",
       "<p>5 rows × 23 columns</p>\n",
       "</div>"
      ],
      "text/plain": [
       "                  hid  operation_id       season  death_next_season  \\\n",
       "region                                                                \n",
       " AB      52117.902590    100.687180  2021.882831           0.356909   \n",
       " NS      57235.956522    160.000000  2022.000000           0.228261   \n",
       " QC      30581.489964     73.963970  2021.596684           0.371525   \n",
       " WA      29417.398844     36.000000  2021.674374           0.007707   \n",
       "Unknown  58694.027397    132.972603  2022.000000           0.506849   \n",
       "\n",
       "         hive_age_next_season  aqhi_average  prcp_average  wspd_average  \\\n",
       "region                                                                    \n",
       " AB                394.927612      2.877181      0.772855     11.128865   \n",
       " NS                379.467391      3.157609      5.177536     10.913225   \n",
       " QC                472.692806      3.250004      1.010589     10.040174   \n",
       " WA                504.603083      5.464997      0.327778      9.770713   \n",
       "Unknown            378.095890      4.080969      1.389243      9.530201   \n",
       "\n",
       "         ndvi_average  tavg_average  ...  wspd_skew  ndvi_skew  tavg_skew  \\\n",
       "region                               ...                                    \n",
       " AB          0.390084     17.393223  ...   0.085542  -0.352426  -0.049906   \n",
       " NS          0.717846     14.235145  ...   0.611229   0.211670  -0.256701   \n",
       " QC          0.588826     17.912207  ...   0.093037  -0.048469  -0.177112   \n",
       " WA          0.091410     24.016185  ...   0.015437   0.291424  -0.091928   \n",
       "Unknown      0.531999     20.505437  ...  -0.115486   0.080857  -0.351350   \n",
       "\n",
       "          o3_skew  aqhi_max   prcp_max   wspd_max  ndvi_max   tavg_max  \\\n",
       "region                                                                   \n",
       " AB     -0.177432  3.259440   1.856207  14.341998  0.532196  21.145575   \n",
       " NS      0.438133  3.989130  14.518478  16.040217  0.733306  18.540217   \n",
       " QC      0.334437  4.283740   2.418007  11.869741  0.636046  20.459211   \n",
       " WA      0.140804  7.011561   0.545472  12.650867  0.257972  26.821773   \n",
       "Unknown  0.095159  4.865248   3.818440  10.824823  0.586602  23.363121   \n",
       "\n",
       "             o3_max  \n",
       "region               \n",
       " AB       52.720897  \n",
       " NS       67.213107  \n",
       " QC       70.381592  \n",
       " WA      100.292501  \n",
       "Unknown   75.126540  \n",
       "\n",
       "[5 rows x 23 columns]"
      ]
     },
     "execution_count": 60,
     "metadata": {},
     "output_type": "execute_result"
    }
   ],
   "source": [
    "data.groupby(\"region\").mean(numeric_only=True)"
   ]
  },
  {
   "cell_type": "code",
   "execution_count": 61,
   "id": "2cf8f094-f412-4b7b-a829-78d6b123ef25",
   "metadata": {},
   "outputs": [
    {
     "data": {
      "text/plain": [
       "region\n",
       " AB        21661\n",
       " QC         8021\n",
       " WA          519\n",
       "Unknown      146\n",
       " NS           92\n",
       "Name: count, dtype: int64"
      ]
     },
     "execution_count": 61,
     "metadata": {},
     "output_type": "execute_result"
    }
   ],
   "source": [
    "data = data.loc[data['region']!=' CA']\n",
    "data.region.value_counts()"
   ]
  },
  {
   "cell_type": "code",
   "execution_count": 118,
   "id": "563ebb1f-5898-4a8d-ab51-2bf15e0e670c",
   "metadata": {},
   "outputs": [
    {
     "data": {
      "image/png": "[encoded data removed]",
      "text/plain": [
       "<Figure size 1400x600 with 1 Axes>"
      ]
     },
     "metadata": {},
     "output_type": "display_data"
    }
   ],
   "source": [
    "sns.set_style(\"whitegrid\")\n",
    "_, axes = plt.subplots(nrows=1, ncols=1, figsize=(14,6))\n",
    "ax = sns.barplot(\n",
    "    y=data['aqhi_skew'],x=data[\"death_next_season\"].apply(lambda x : \"Death\" if x == 1 else \"Survived\"), ax=axes,\n",
    "    palette=\"blend:#D8A348,#1D1D1D\"#, errcolor=\"darkred\"\n",
    ")\n",
    "#  \n",
    "ax.set_ylabel(\"Skewness AQHI\")\n",
    "ax.set_xlabel(\"Did not survived until next season\")\n",
    "ax.tick_params(labelrotation=90)\n",
    "plt.title(\"Skewness AQHI \\n for hives that survived or not\")\n",
    "plt.show()"
   ]
  },
  {
   "cell_type": "markdown",
   "id": "3c1d82bd-c036-4a27-b01d-5fd480195b6a",
   "metadata": {},
   "source": [
    "***\n",
    "### DESCRIPTIVE STATS"
   ]
  },
  {
   "cell_type": "code",
   "execution_count": 63,
   "id": "530475c7-72b4-49c2-81f6-e5cc8f426e8b",
   "metadata": {},
   "outputs": [
    {
     "data": {
      "text/plain": [
       "aqhi_average    0.005618\n",
       "ndvi_average    0.005618\n",
       "dtype: float64"
      ]
     },
     "execution_count": 63,
     "metadata": {},
     "output_type": "execute_result"
    }
   ],
   "source": [
    "data[['aqhi_average','ndvi_average']].isnull().mean()"
   ]
  },
  {
   "cell_type": "code",
   "execution_count": 64,
   "id": "0b63e0d5-ae60-4a60-ad5d-6db73a7bb956",
   "metadata": {},
   "outputs": [],
   "source": [
    "data.dropna(subset=['aqhi_average','ndvi_average'],axis=0,inplace=True) # Filling null value with zero\n",
    "\n",
    "data['operation_id'] = data['operation_id'].astype(str)\n",
    "data['season'] = data['season'].astype(str)"
   ]
  },
  {
   "cell_type": "code",
   "execution_count": 65,
   "id": "e9f6f62b-e3bd-419a-8b2a-157484b67004",
   "metadata": {},
   "outputs": [
    {
     "data": {
      "text/plain": [
       "30268"
      ]
     },
     "execution_count": 65,
     "metadata": {},
     "output_type": "execute_result"
    }
   ],
   "source": [
    "len(data)"
   ]
  },
  {
   "cell_type": "markdown",
   "id": "986df10b-def1-4c0a-9a05-7a096ebbc5f5",
   "metadata": {},
   "source": [
    "### Models "
   ]
  },
  {
   "cell_type": "code",
   "execution_count": null,
   "id": "0c1514c3-aa25-4a84-9acb-3d9694a51d40",
   "metadata": {},
   "outputs": [],
   "source": [
    "data.fillna(data.mean(numeric_only=True),inplace=True)"
   ]
  },
  {
   "cell_type": "code",
   "execution_count": 66,
   "id": "f111300f-a359-4945-8e2c-21cd66bb68e3",
   "metadata": {},
   "outputs": [],
   "source": [
    "data['wspd_average_og'] = data['wspd_average']\n",
    "data['tavg_average_og'] = data['tavg_average']\n",
    "data['prcp_average_og'] = data['prcp_average']\n",
    "data['aqhi_average_og'] = data['aqhi_average']\n",
    "\n",
    "data['wspd_average'] = np.log(data['wspd_average']+10e-5)\n",
    "data['tavg_average'] = np.log(data['tavg_average']+10e-5)\n",
    "data['prcp_average'] = np.log(data['prcp_average']+10e-5)\n",
    "data['aqhi_average'] = np.log(data['aqhi_average']+10e-5)"
   ]
  },
  {
   "cell_type": "code",
   "execution_count": 67,
   "id": "96e79247-ec44-4e7b-8ec0-45a26f9bc3d7",
   "metadata": {},
   "outputs": [
    {
     "data": {
      "text/plain": [
       "<Axes: xlabel='aqhi_max', ylabel='Count'>"
      ]
     },
     "execution_count": 67,
     "metadata": {},
     "output_type": "execute_result"
    },
    {
     "data": {
      "image/png": "[encoded data removed]",
      "text/plain": [
       "<Figure size 640x480 with 1 Axes>"
      ]
     },
     "metadata": {},
     "output_type": "display_data"
    }
   ],
   "source": [
    "sns.histplot(data['aqhi_max'])"
   ]
  },
  {
   "cell_type": "code",
   "execution_count": 68,
   "id": "924dd627-671d-4d0a-a4ce-74a6e9e0f855",
   "metadata": {},
   "outputs": [
    {
     "data": {
      "text/plain": [
       "<Axes: xlabel='aqhi_average', ylabel='Count'>"
      ]
     },
     "execution_count": 68,
     "metadata": {},
     "output_type": "execute_result"
    },
    {
     "data": {
      "image/png": "[encoded data removed]",
      "text/plain": [
       "<Figure size 640x480 with 1 Axes>"
      ]
     },
     "metadata": {},
     "output_type": "display_data"
    }
   ],
   "source": [
    "sns.histplot(data['aqhi_average'])"
   ]
  },
  {
   "cell_type": "code",
   "execution_count": 69,
   "id": "b0bc223a-fb06-43a2-8d0c-44d7460f9d55",
   "metadata": {},
   "outputs": [
    {
     "data": {
      "text/plain": [
       "<Axes: xlabel='ndvi_average', ylabel='Count'>"
      ]
     },
     "execution_count": 69,
     "metadata": {},
     "output_type": "execute_result"
    },
    {
     "data": {
      "image/png": "[encoded data removed]",
      "text/plain": [
       "<Figure size 640x480 with 1 Axes>"
      ]
     },
     "metadata": {},
     "output_type": "display_data"
    }
   ],
   "source": [
    "sns.histplot(data['ndvi_average'])"
   ]
  },
  {
   "cell_type": "code",
   "execution_count": 70,
   "id": "e63fec25-43e5-473c-86c2-36b9cf801752",
   "metadata": {},
   "outputs": [
    {
     "data": {
      "text/plain": [
       "<Axes: xlabel='wspd_average', ylabel='Count'>"
      ]
     },
     "execution_count": 70,
     "metadata": {},
     "output_type": "execute_result"
    },
    {
     "data": {
      "image/png": "[encoded data removed]",
      "text/plain": [
       "<Figure size 640x480 with 1 Axes>"
      ]
     },
     "metadata": {},
     "output_type": "display_data"
    }
   ],
   "source": [
    "sns.histplot(data['wspd_average'])"
   ]
  },
  {
   "cell_type": "code",
   "execution_count": 71,
   "id": "126272f1-063f-4dd7-baa9-35663f1265dd",
   "metadata": {},
   "outputs": [
    {
     "data": {
      "text/plain": [
       "0.3561517113783534"
      ]
     },
     "execution_count": 71,
     "metadata": {},
     "output_type": "execute_result"
    }
   ],
   "source": [
    "data.death_next_season.mean()"
   ]
  },
  {
   "cell_type": "code",
   "execution_count": 137,
   "id": "bc47eb96-c3ef-4697-8bf5-f1863d608a2b",
   "metadata": {},
   "outputs": [
    {
     "data": {
      "text/plain": [
       "hid                     0.0\n",
       "creation_date           0.0\n",
       "operation_id            0.0\n",
       "death_date              0.0\n",
       "season                  0.0\n",
       "death_next_season       0.0\n",
       "hive_age_next_season    0.0\n",
       "aqhi_average            0.0\n",
       "prcp_average            0.0\n",
       "wspd_average            0.0\n",
       "ndvi_average            0.0\n",
       "tavg_average            0.0\n",
       "o3_average              0.0\n",
       "aqhi_skew               0.0\n",
       "prcp_skew               0.0\n",
       "wspd_skew               0.0\n",
       "ndvi_skew               0.0\n",
       "tavg_skew               0.0\n",
       "o3_skew                 0.0\n",
       "aqhi_max                0.0\n",
       "prcp_max                0.0\n",
       "wspd_max                0.0\n",
       "ndvi_max                0.0\n",
       "tavg_max                0.0\n",
       "o3_max                  0.0\n",
       "region                  0.0\n",
       "wspd_average_og         0.0\n",
       "tavg_average_og         0.0\n",
       "prcp_average_og         0.0\n",
       "aqhi_average_og         0.0\n",
       "dtype: float64"
      ]
     },
     "execution_count": 137,
     "metadata": {},
     "output_type": "execute_result"
    }
   ],
   "source": [
    "data.isnull().mean()"
   ]
  },
  {
   "cell_type": "code",
   "execution_count": 138,
   "id": "37deb123-2621-4c07-b1bc-843bae54d6eb",
   "metadata": {},
   "outputs": [
    {
     "name": "stdout",
     "output_type": "stream",
     "text": [
      "Linear mixed model fit by maximum likelihood  ['lmerMod']\n",
      "Formula: death_next_season~1+(1|region)\n",
      "\n",
      "Family: binomial\t Inference: parametric\n",
      "\n",
      "Number of observations: 30268\t Groups: {'region': 5.0}\n",
      "\n",
      "Log-likelihood: -19505.096 \t AIC: 39014.192\n",
      "\n",
      "Random effects:\n",
      "\n",
      "               Name    Var    Std\n",
      "region  (Intercept)  2.897  1.702\n",
      "\n",
      "No random effect correlations specified\n",
      "\n",
      "Fixed effects:\n",
      "\n",
      "             Estimate  2.5_ci  97.5_ci     SE     OR  OR_2.5_ci  OR_97.5_ci  \\\n",
      "(Intercept)    -1.413  -2.313   -0.514  0.459  0.243      0.099       0.598   \n",
      "\n",
      "              Prob  Prob_2.5_ci  Prob_97.5_ci  Z-stat  P-val Sig  \n",
      "(Intercept)  0.196         0.09         0.374   -3.08  0.002  **  \n"
     ]
    }
   ],
   "source": [
    "model0 = Lmer(\"death_next_season  ~ 1 + (1|region)\",\n",
    "             data=data, family = 'binomial')\n",
    "\n",
    "print(model0.fit())"
   ]
  },
  {
   "cell_type": "code",
   "execution_count": 139,
   "id": "0f794227-1fab-48c2-9454-c95686793484",
   "metadata": {},
   "outputs": [
    {
     "name": "stdout",
     "output_type": "stream",
     "text": [
      "Linear mixed model fit by maximum likelihood  ['lmerMod']\n",
      "Formula: death_next_season~aqhi_average*ndvi_average+(aqhi_average|region)\n",
      "\n",
      "Family: binomial\t Inference: parametric\n",
      "\n",
      "Number of observations: 30268\t Groups: {'region': 5.0}\n",
      "\n",
      "Log-likelihood: -18549.058 \t AIC: 37112.116\n",
      "\n",
      "Random effects:\n",
      "\n",
      "                Name     Var    Std\n",
      "region   (Intercept)  16.677  4.084\n",
      "region  aqhi_average   3.756  1.938\n",
      "\n",
      "                IV1           IV2   Corr\n",
      "region  (Intercept)  aqhi_average -0.885\n",
      "\n",
      "Fixed effects:\n",
      "\n",
      "                           Estimate  2.5_ci  97.5_ci     SE     OR  OR_2.5_ci  \\\n",
      "(Intercept)                   0.595  -2.976    4.166  1.822  1.812      0.051   \n",
      "aqhi_average                 -0.967  -2.840    0.907  0.956  0.380      0.058   \n",
      "ndvi_average                 -2.344  -3.310   -1.378  0.493  0.096      0.037   \n",
      "aqhi_average:ndvi_average     0.483  -0.453    1.418  0.477  1.620      0.636   \n",
      "\n",
      "                           OR_97.5_ci   Prob  Prob_2.5_ci  Prob_97.5_ci  \\\n",
      "(Intercept)                    64.426  0.644        0.049         0.985   \n",
      "aqhi_average                    2.476  0.276        0.055         0.712   \n",
      "ndvi_average                    0.252  0.088        0.035         0.201   \n",
      "aqhi_average:ndvi_average       4.128  0.618        0.389         0.805   \n",
      "\n",
      "                           Z-stat  P-val  Sig  \n",
      "(Intercept)                 0.326  0.744       \n",
      "aqhi_average               -1.011  0.312       \n",
      "ndvi_average               -4.755  0.000  ***  \n",
      "aqhi_average:ndvi_average   1.011  0.312       \n"
     ]
    }
   ],
   "source": [
    "model = Lmer(\"death_next_season  ~  aqhi_average*ndvi_average  + (aqhi_average|region)\",\n",
    "             data=data, family = 'binomial')\n",
    "\n",
    "print(model.fit())"
   ]
  },
  {
   "cell_type": "code",
   "execution_count": 140,
   "id": "c3821bc9-14e3-4b22-911d-8f869421bde7",
   "metadata": {},
   "outputs": [
    {
     "name": "stdout",
     "output_type": "stream",
     "text": [
      "Linear mixed model fit by maximum likelihood  ['lmerMod']\n",
      "Formula: death_next_season~aqhi_average+ndvi_average+(aqhi_average|region)\n",
      "\n",
      "Family: binomial\t Inference: parametric\n",
      "\n",
      "Number of observations: 30268\t Groups: {'region': 5.0}\n",
      "\n",
      "Log-likelihood: -18549.536 \t AIC: 37111.072\n",
      "\n",
      "Random effects:\n",
      "\n",
      "                Name     Var    Std\n",
      "region   (Intercept)  16.508  4.063\n",
      "region  aqhi_average   3.770  1.942\n",
      "\n",
      "                IV1           IV2   Corr\n",
      "region  (Intercept)  aqhi_average -0.876\n",
      "\n",
      "Fixed effects:\n",
      "\n",
      "              Estimate  2.5_ci  97.5_ci     SE     OR  OR_2.5_ci  OR_97.5_ci  \\\n",
      "(Intercept)      0.494  -2.842    3.830  1.702  1.639      0.058      46.062   \n",
      "aqhi_average    -0.842  -2.606    0.922  0.900  0.431      0.074       2.515   \n",
      "ndvi_average    -1.856  -2.063   -1.650  0.105  0.156      0.127       0.192   \n",
      "\n",
      "               Prob  Prob_2.5_ci  Prob_97.5_ci  Z-stat  P-val  Sig  \n",
      "(Intercept)   0.621        0.055         0.979   0.290  0.772       \n",
      "aqhi_average  0.301        0.069         0.716  -0.935  0.350       \n",
      "ndvi_average  0.135        0.113         0.161 -17.603  0.000  ***  \n"
     ]
    }
   ],
   "source": [
    "model2 = Lmer(\"death_next_season  ~ aqhi_average + ndvi_average  + (aqhi_average|region)\",\n",
    "             data=data, family = 'binomial')\n",
    "\n",
    "print(model2.fit())"
   ]
  },
  {
   "cell_type": "code",
   "execution_count": 141,
   "id": "6728d062-433f-43e3-9480-2dbf25c1d90c",
   "metadata": {},
   "outputs": [
    {
     "name": "stdout",
     "output_type": "stream",
     "text": [
      "Linear mixed model fit by maximum likelihood  ['lmerMod']\n",
      "Formula: death_next_season~aqhi_average*ndvi_average+(aqhi_average|region)\n",
      "\n",
      "Family: binomial\t Inference: parametric\n",
      "\n",
      "Number of observations: 30268\t Groups: {'region': 5.0}\n",
      "\n",
      "Log-likelihood: -18549.058 \t AIC: 37112.116\n",
      "\n",
      "Random effects:\n",
      "\n",
      "                Name     Var    Std\n",
      "region   (Intercept)  16.677  4.084\n",
      "region  aqhi_average   3.756  1.938\n",
      "\n",
      "                IV1           IV2   Corr\n",
      "region  (Intercept)  aqhi_average -0.885\n",
      "\n",
      "Fixed effects:\n",
      "\n",
      "                           Estimate  2.5_ci  97.5_ci     SE     OR  OR_2.5_ci  \\\n",
      "(Intercept)                   0.595  -2.976    4.166  1.822  1.812      0.051   \n",
      "aqhi_average                 -0.967  -2.840    0.907  0.956  0.380      0.058   \n",
      "ndvi_average                 -2.344  -3.310   -1.378  0.493  0.096      0.037   \n",
      "aqhi_average:ndvi_average     0.483  -0.453    1.418  0.477  1.620      0.636   \n",
      "\n",
      "                           OR_97.5_ci   Prob  Prob_2.5_ci  Prob_97.5_ci  \\\n",
      "(Intercept)                    64.426  0.644        0.049         0.985   \n",
      "aqhi_average                    2.476  0.276        0.055         0.712   \n",
      "ndvi_average                    0.252  0.088        0.035         0.201   \n",
      "aqhi_average:ndvi_average       4.128  0.618        0.389         0.805   \n",
      "\n",
      "                           Z-stat  P-val  Sig  \n",
      "(Intercept)                 0.326  0.744       \n",
      "aqhi_average               -1.011  0.312       \n",
      "ndvi_average               -4.755  0.000  ***  \n",
      "aqhi_average:ndvi_average   1.011  0.312       \n"
     ]
    }
   ],
   "source": [
    "model3 = Lmer(\"death_next_season  ~ aqhi_average*ndvi_average  + (aqhi_average|region)\",\n",
    "             data=data, family = 'binomial')\n",
    "\n",
    "print(model3.fit())"
   ]
  },
  {
   "cell_type": "code",
   "execution_count": 142,
   "id": "1f34ee3f-4e21-4e5b-beec-0c25193ea219",
   "metadata": {},
   "outputs": [
    {
     "name": "stdout",
     "output_type": "stream",
     "text": [
      "Linear mixed model fit by maximum likelihood  ['lmerMod']\n",
      "Formula: death_next_season~aqhi_average+ndvi_average+tavg_average+prcp_average+wspd_average+(aqhi_average|region)\n",
      "\n",
      "Family: binomial\t Inference: parametric\n",
      "\n",
      "Number of observations: 30268\t Groups: {'region': 5.0}\n",
      "\n",
      "Log-likelihood: -18463.839 \t AIC: 36945.678\n",
      "\n",
      "Random effects:\n",
      "\n",
      "                Name     Var    Std\n",
      "region   (Intercept)  15.700  3.962\n",
      "region  aqhi_average   3.194  1.787\n",
      "\n",
      "                IV1           IV2   Corr\n",
      "region  (Intercept)  aqhi_average -0.881\n",
      "\n",
      "Fixed effects:\n",
      "\n",
      "              Estimate  2.5_ci  97.5_ci     SE     OR  OR_2.5_ci  OR_97.5_ci  \\\n",
      "(Intercept)     -3.580  -6.770   -0.390  1.627  0.028      0.001       0.677   \n",
      "aqhi_average    -1.287  -2.920    0.345  0.833  0.276      0.054       1.411   \n",
      "ndvi_average    -1.138  -1.393   -0.883  0.130  0.320      0.248       0.413   \n",
      "tavg_average     1.576   1.277    1.875  0.153  4.834      3.584       6.520   \n",
      "prcp_average    -0.011  -0.019   -0.003  0.004  0.989      0.981       0.997   \n",
      "wspd_average    -0.165  -0.216   -0.113  0.026  0.848      0.806       0.893   \n",
      "\n",
      "               Prob  Prob_2.5_ci  Prob_97.5_ci  Z-stat  P-val  Sig  \n",
      "(Intercept)   0.027        0.001         0.404  -2.200  0.028    *  \n",
      "aqhi_average  0.216        0.051         0.585  -1.546  0.122       \n",
      "ndvi_average  0.243        0.199         0.292  -8.757  0.000  ***  \n",
      "tavg_average  0.829        0.782         0.867  10.323  0.000  ***  \n",
      "prcp_average  0.497        0.495         0.499  -2.561  0.010    *  \n",
      "wspd_average  0.459        0.446         0.472  -6.283  0.000  ***  \n"
     ]
    }
   ],
   "source": [
    "model4 = Lmer(\"death_next_season  ~ aqhi_average + ndvi_average + tavg_average + prcp_average + wspd_average  + (aqhi_average|region)\",\n",
    "             data=data, family = 'binomial')\n",
    "\n",
    "print(model4.fit())"
   ]
  },
  {
   "cell_type": "code",
   "execution_count": 143,
   "id": "4c6a0781-e469-47ec-8020-0b21811f2832",
   "metadata": {},
   "outputs": [
    {
     "name": "stdout",
     "output_type": "stream",
     "text": [
      "Linear mixed model fit by maximum likelihood  ['lmerMod']\n",
      "Formula: death_next_season~aqhi_average*wspd_average+ndvi_average+tavg_average+prcp_average+(aqhi_average|region)\n",
      "\n",
      "Family: binomial\t Inference: parametric\n",
      "\n",
      "Number of observations: 30268\t Groups: {'region': 5.0}\n",
      "\n",
      "Log-likelihood: -18456.662 \t AIC: 36933.323\n",
      "\n",
      "Random effects:\n",
      "\n",
      "                Name     Var    Std\n",
      "region   (Intercept)  14.497  3.808\n",
      "region  aqhi_average   2.679  1.637\n",
      "\n",
      "                IV1           IV2   Corr\n",
      "region  (Intercept)  aqhi_average -0.882\n",
      "\n",
      "Fixed effects:\n",
      "\n",
      "                           Estimate  2.5_ci  97.5_ci     SE     OR  OR_2.5_ci  \\\n",
      "(Intercept)                  -1.184  -4.989    2.622  1.942  0.306      0.007   \n",
      "aqhi_average                 -3.152  -5.078   -1.225  0.983  0.043      0.006   \n",
      "wspd_average                 -1.015  -1.452   -0.577  0.223  0.363      0.234   \n",
      "ndvi_average                 -1.168  -1.424   -0.912  0.130  0.311      0.241   \n",
      "tavg_average                  1.410   1.099    1.721  0.159  4.097      3.003   \n",
      "prcp_average                 -0.013  -0.022   -0.005  0.004  0.987      0.979   \n",
      "aqhi_average:wspd_average     0.823   0.402    1.243  0.214  2.276      1.496   \n",
      "\n",
      "                           OR_97.5_ci   Prob  Prob_2.5_ci  Prob_97.5_ci  \\\n",
      "(Intercept)                    13.763  0.234        0.007         0.932   \n",
      "aqhi_average                    0.294  0.041        0.006         0.227   \n",
      "wspd_average                    0.561  0.266        0.190         0.360   \n",
      "ndvi_average                    0.402  0.237        0.194         0.287   \n",
      "tavg_average                    5.590  0.804        0.750         0.848   \n",
      "prcp_average                    0.995  0.497        0.495         0.499   \n",
      "aqhi_average:wspd_average       3.465  0.695        0.599         0.776   \n",
      "\n",
      "                           Z-stat  P-val  Sig  \n",
      "(Intercept)                -0.610  0.542       \n",
      "aqhi_average               -3.206  0.001   **  \n",
      "wspd_average               -4.549  0.000  ***  \n",
      "ndvi_average               -8.952  0.000  ***  \n",
      "tavg_average                8.894  0.000  ***  \n",
      "prcp_average               -3.136  0.002   **  \n",
      "aqhi_average:wspd_average   3.838  0.000  ***  \n"
     ]
    }
   ],
   "source": [
    "model5 = Lmer(\"death_next_season  ~ aqhi_average*wspd_average + ndvi_average + tavg_average + prcp_average   + (aqhi_average|region)\",\n",
    "             data=data, family = 'binomial')\n",
    "\n",
    "print(model5.fit())"
   ]
  },
  {
   "cell_type": "code",
   "execution_count": 144,
   "id": "6128b704-76c0-4b96-86ab-704696fa927f",
   "metadata": {},
   "outputs": [
    {
     "name": "stdout",
     "output_type": "stream",
     "text": [
      "Model failed to converge with max|grad| = 0.01291 (tol = 0.002, component 1) \n",
      "\n",
      "Linear mixed model fit by maximum likelihood  ['lmerMod']\n",
      "Formula: death_next_season~aqhi_average*wspd_average*tavg_average+(aqhi_average|region)\n",
      "\n",
      "Family: binomial\t Inference: parametric\n",
      "\n",
      "Number of observations: 30268\t Groups: {'region': 5.0}\n",
      "\n",
      "Log-likelihood: -18383.617 \t AIC: 36789.234\n",
      "\n",
      "Random effects:\n",
      "\n",
      "                Name    Var    Std\n",
      "region   (Intercept)  4.436  2.106\n",
      "region  aqhi_average  1.548  1.244\n",
      "\n",
      "                IV1           IV2   Corr\n",
      "region  (Intercept)  aqhi_average -0.639\n",
      "\n",
      "Fixed effects:\n",
      "\n",
      "                                        Estimate   2.5_ci  97.5_ci     SE  \\\n",
      "(Intercept)                             -143.771 -146.137 -141.406  1.207   \n",
      "aqhi_average                             128.361  125.904  130.818  1.254   \n",
      "wspd_average                              59.398   58.074   60.722  0.676   \n",
      "tavg_average                              49.658   48.609   50.708  0.535   \n",
      "aqhi_average:wspd_average                -55.033  -56.192  -53.873  0.592   \n",
      "aqhi_average:tavg_average                -44.375  -45.311  -43.440  0.477   \n",
      "wspd_average:tavg_average                -20.490  -20.979  -20.002  0.249   \n",
      "aqhi_average:wspd_average:tavg_average    18.841   18.454   19.229  0.198   \n",
      "\n",
      "                                                  OR     OR_2.5_ci  \\\n",
      "(Intercept)                             0.000000e+00  0.000000e+00   \n",
      "aqhi_average                            5.578539e+55  4.780893e+54   \n",
      "wspd_average                            6.255614e+25  1.663816e+25   \n",
      "tavg_average                            3.683945e+21  1.289796e+21   \n",
      "aqhi_average:wspd_average               0.000000e+00  0.000000e+00   \n",
      "aqhi_average:tavg_average               0.000000e+00  0.000000e+00   \n",
      "wspd_average:tavg_average               0.000000e+00  0.000000e+00   \n",
      "aqhi_average:wspd_average:tavg_average  1.522913e+08  1.033732e+08   \n",
      "\n",
      "                                          OR_97.5_ci  Prob  Prob_2.5_ci  \\\n",
      "(Intercept)                             0.000000e+00   0.0          0.0   \n",
      "aqhi_average                            6.509264e+56   1.0          1.0   \n",
      "wspd_average                            2.351986e+26   1.0          1.0   \n",
      "tavg_average                            1.052217e+22   1.0          1.0   \n",
      "aqhi_average:wspd_average               0.000000e+00   0.0          0.0   \n",
      "aqhi_average:tavg_average               0.000000e+00   0.0          0.0   \n",
      "wspd_average:tavg_average               0.000000e+00   0.0          0.0   \n",
      "aqhi_average:wspd_average:tavg_average  2.243584e+08   1.0          1.0   \n",
      "\n",
      "                                        Prob_97.5_ci   Z-stat  P-val  Sig  \n",
      "(Intercept)                                      0.0 -119.116    0.0  ***  \n",
      "aqhi_average                                     1.0  102.399    0.0  ***  \n",
      "wspd_average                                     1.0   87.905    0.0  ***  \n",
      "tavg_average                                     1.0   92.738    0.0  ***  \n",
      "aqhi_average:wspd_average                        0.0  -93.027    0.0  ***  \n",
      "aqhi_average:tavg_average                        0.0  -92.959    0.0  ***  \n",
      "wspd_average:tavg_average                        0.0  -82.144    0.0  ***  \n",
      "aqhi_average:wspd_average:tavg_average           1.0   95.311    0.0  ***  \n"
     ]
    }
   ],
   "source": [
    "model6 = Lmer(\"death_next_season  ~ aqhi_average*wspd_average*tavg_average + (aqhi_average|region)\",\n",
    "             data=data, family = 'binomial')\n",
    "\n",
    "print(model6.fit())"
   ]
  },
  {
   "cell_type": "code",
   "execution_count": 145,
   "id": "6f2d3b0b-1383-4b71-a519-8f0b1de05956",
   "metadata": {},
   "outputs": [
    {
     "name": "stdout",
     "output_type": "stream",
     "text": [
      "Model failed to converge with max|grad| = 0.00658436 (tol = 0.002, component 1) \n",
      "\n",
      "Linear mixed model fit by maximum likelihood  ['lmerMod']\n",
      "Formula: death_next_season~aqhi_average*ndvi_average*wspd_average+(ndvi_average|region)\n",
      "\n",
      "Family: binomial\t Inference: parametric\n",
      "\n",
      "Number of observations: 30268\t Groups: {'region': 5.0}\n",
      "\n",
      "Log-likelihood: -18606.482 \t AIC: 37234.964\n",
      "\n",
      "Random effects:\n",
      "\n",
      "                Name    Var    Std\n",
      "region   (Intercept)  5.847  2.418\n",
      "region  ndvi_average  1.615  1.271\n",
      "\n",
      "                IV1           IV2   Corr\n",
      "region  (Intercept)  ndvi_average -0.643\n",
      "\n",
      "Fixed effects:\n",
      "\n",
      "                                        Estimate  2.5_ci  97.5_ci     SE  \\\n",
      "(Intercept)                                2.614   0.326    4.902  1.167   \n",
      "aqhi_average                              -4.713  -6.194   -3.233  0.756   \n",
      "ndvi_average                              12.665   9.328   16.003  1.703   \n",
      "wspd_average                              -2.241  -2.841   -1.641  0.306   \n",
      "aqhi_average:ndvi_average                 -7.789 -10.705   -4.873  1.488   \n",
      "aqhi_average:wspd_average                  2.687   2.113    3.261  0.293   \n",
      "ndvi_average:wspd_average                 -3.825  -5.213   -2.436  0.708   \n",
      "aqhi_average:ndvi_average:wspd_average     1.399   0.136    2.662  0.645   \n",
      "\n",
      "                                                OR  OR_2.5_ci   OR_97.5_ci  \\\n",
      "(Intercept)                                 13.655      1.385      134.597   \n",
      "aqhi_average                                 0.009      0.002        0.039   \n",
      "ndvi_average                            316597.884  11250.605  8909229.724   \n",
      "wspd_average                                 0.106      0.058        0.194   \n",
      "aqhi_average:ndvi_average                    0.000      0.000        0.008   \n",
      "aqhi_average:wspd_average                   14.684      8.273       26.063   \n",
      "ndvi_average:wspd_average                    0.022      0.005        0.087   \n",
      "aqhi_average:ndvi_average:wspd_average       4.052      1.146       14.331   \n",
      "\n",
      "                                         Prob  Prob_2.5_ci  Prob_97.5_ci  \\\n",
      "(Intercept)                             0.932        0.581         0.993   \n",
      "aqhi_average                            0.009        0.002         0.038   \n",
      "ndvi_average                            1.000        1.000         1.000   \n",
      "wspd_average                            0.096        0.055         0.162   \n",
      "aqhi_average:ndvi_average               0.000        0.000         0.008   \n",
      "aqhi_average:wspd_average               0.936        0.892         0.963   \n",
      "ndvi_average:wspd_average               0.021        0.005         0.080   \n",
      "aqhi_average:ndvi_average:wspd_average  0.802        0.534         0.935   \n",
      "\n",
      "                                        Z-stat  P-val  Sig  \n",
      "(Intercept)                              2.239  0.025    *  \n",
      "aqhi_average                            -6.239  0.000  ***  \n",
      "ndvi_average                             7.438  0.000  ***  \n",
      "wspd_average                            -7.320  0.000  ***  \n",
      "aqhi_average:ndvi_average               -5.236  0.000  ***  \n",
      "aqhi_average:wspd_average                9.178  0.000  ***  \n",
      "ndvi_average:wspd_average               -5.399  0.000  ***  \n",
      "aqhi_average:ndvi_average:wspd_average   2.171  0.030    *  \n"
     ]
    }
   ],
   "source": [
    "model7a = Lmer(\"death_next_season  ~ aqhi_average*ndvi_average*wspd_average  + (ndvi_average|region) \",\n",
    "             data=data, family = 'binomial')\n",
    "\n",
    "print(model7a.fit())"
   ]
  },
  {
   "cell_type": "code",
   "execution_count": 146,
   "id": "e0801eea-9593-44fe-a1a8-09a8abd01308",
   "metadata": {},
   "outputs": [
    {
     "name": "stdout",
     "output_type": "stream",
     "text": [
      "Linear mixed model fit by maximum likelihood  ['lmerMod']\n",
      "Formula: death_next_season~aqhi_average*ndvi_average+wspd_average+(ndvi_average|region)\n",
      "\n",
      "Family: binomial\t Inference: parametric\n",
      "\n",
      "Number of observations: 30268\t Groups: {'region': 5.0}\n",
      "\n",
      "Log-likelihood: -18798.010 \t AIC: 37612.020\n",
      "\n",
      "Random effects:\n",
      "\n",
      "                Name     Var    Std\n",
      "region   (Intercept)  10.305  3.210\n",
      "region  ndvi_average  19.159  4.377\n",
      "\n",
      "                IV1           IV2   Corr\n",
      "region  (Intercept)  ndvi_average -0.964\n",
      "\n",
      "Fixed effects:\n",
      "\n",
      "                           Estimate  2.5_ci  97.5_ci     SE         OR  \\\n",
      "(Intercept)                  -5.601  -8.006   -3.196  1.227      0.004   \n",
      "aqhi_average                  3.682   3.350    4.014  0.169     39.724   \n",
      "ndvi_average                 10.692   7.345   14.038  1.707  43983.997   \n",
      "wspd_average                 -0.130  -0.180   -0.079  0.026      0.878   \n",
      "aqhi_average:ndvi_average    -8.572  -9.274   -7.871  0.358      0.000   \n",
      "\n",
      "                           OR_2.5_ci   OR_97.5_ci   Prob  Prob_2.5_ci  \\\n",
      "(Intercept)                    0.000        0.041  0.004        0.000   \n",
      "aqhi_average                  28.501       55.367  0.975        0.966   \n",
      "ndvi_average                1548.997  1248932.238  1.000        0.999   \n",
      "wspd_average                   0.835        0.924  0.468        0.455   \n",
      "aqhi_average:ndvi_average      0.000        0.000  0.000        0.000   \n",
      "\n",
      "                           Prob_97.5_ci  Z-stat  P-val  Sig  \n",
      "(Intercept)                       0.039  -4.564    0.0  ***  \n",
      "aqhi_average                      0.982  21.734    0.0  ***  \n",
      "ndvi_average                      1.000   6.262    0.0  ***  \n",
      "wspd_average                      0.480  -5.016    0.0  ***  \n",
      "aqhi_average:ndvi_average         0.000 -23.951    0.0  ***  \n"
     ]
    }
   ],
   "source": [
    "model7 = Lmer(\"death_next_season  ~ aqhi_average*ndvi_average + wspd_average + (ndvi_average|region)\",\n",
    "             data=data, family = 'binomial')\n",
    "\n",
    "print(model7.fit())"
   ]
  },
  {
   "cell_type": "code",
   "execution_count": 147,
   "id": "db493a07-850d-4c87-a6cf-dcbcd8fdad51",
   "metadata": {},
   "outputs": [
    {
     "name": "stdout",
     "output_type": "stream",
     "text": [
      "Model failed to converge with max|grad| = 0.0032135 (tol = 0.002, component 1) \n",
      "\n",
      "Linear mixed model fit by maximum likelihood  ['lmerMod']\n",
      "Formula: death_next_season~aqhi_average*ndvi_average*wspd_average+(aqhi_average|region)\n",
      "\n",
      "Family: binomial\t Inference: parametric\n",
      "\n",
      "Number of observations: 30268\t Groups: {'region': 5.0}\n",
      "\n",
      "Log-likelihood: -18481.235 \t AIC: 36984.470\n",
      "\n",
      "Random effects:\n",
      "\n",
      "                Name     Var    Std\n",
      "region   (Intercept)  11.306  3.362\n",
      "region  aqhi_average   2.016  1.420\n",
      "\n",
      "                IV1           IV2   Corr\n",
      "region  (Intercept)  aqhi_average -0.843\n",
      "\n",
      "Fixed effects:\n",
      "\n",
      "                                        Estimate  2.5_ci  97.5_ci     SE  \\\n",
      "(Intercept)                                4.780   2.077    7.482  1.379   \n",
      "aqhi_average                              -5.788  -7.515   -4.061  0.881   \n",
      "ndvi_average                              -1.670  -4.544    1.204  1.467   \n",
      "wspd_average                              -1.790  -2.384   -1.197  0.303   \n",
      "aqhi_average:ndvi_average                  3.623   0.982    6.264  1.347   \n",
      "aqhi_average:wspd_average                  2.066   1.491    2.642  0.294   \n",
      "ndvi_average:wspd_average                 -0.382  -1.613    0.848  0.628   \n",
      "aqhi_average:ndvi_average:wspd_average    -1.263  -2.382   -0.144  0.571   \n",
      "\n",
      "                                             OR  OR_2.5_ci  OR_97.5_ci   Prob  \\\n",
      "(Intercept)                             119.047      7.982    1775.547  0.992   \n",
      "aqhi_average                              0.003      0.001       0.017  0.003   \n",
      "ndvi_average                              0.188      0.011       3.335  0.158   \n",
      "wspd_average                              0.167      0.092       0.302  0.143   \n",
      "aqhi_average:ndvi_average                37.449      2.670     525.211  0.974   \n",
      "aqhi_average:wspd_average                 7.897      4.441      14.040  0.888   \n",
      "ndvi_average:wspd_average                 0.682      0.199       2.336  0.406   \n",
      "aqhi_average:ndvi_average:wspd_average    0.283      0.092       0.866  0.220   \n",
      "\n",
      "                                        Prob_2.5_ci  Prob_97.5_ci  Z-stat  \\\n",
      "(Intercept)                                   0.889         0.999   3.467   \n",
      "aqhi_average                                  0.001         0.017  -6.570   \n",
      "ndvi_average                                  0.011         0.769  -1.139   \n",
      "wspd_average                                  0.084         0.232  -5.910   \n",
      "aqhi_average:ndvi_average                     0.728         0.998   2.689   \n",
      "aqhi_average:wspd_average                     0.816         0.934   7.038   \n",
      "ndvi_average:wspd_average                     0.166         0.700  -0.609   \n",
      "aqhi_average:ndvi_average:wspd_average        0.085         0.464  -2.211   \n",
      "\n",
      "                                        P-val  Sig  \n",
      "(Intercept)                             0.001  ***  \n",
      "aqhi_average                            0.000  ***  \n",
      "ndvi_average                            0.255       \n",
      "wspd_average                            0.000  ***  \n",
      "aqhi_average:ndvi_average               0.007   **  \n",
      "aqhi_average:wspd_average               0.000  ***  \n",
      "ndvi_average:wspd_average               0.543       \n",
      "aqhi_average:ndvi_average:wspd_average  0.027    *  \n"
     ]
    }
   ],
   "source": [
    "model8 = Lmer(\"death_next_season  ~ aqhi_average*ndvi_average*wspd_average + (aqhi_average|region) \",\n",
    "             data=data, family = 'binomial')\n",
    "\n",
    "print(model8.fit())"
   ]
  },
  {
   "cell_type": "code",
   "execution_count": 148,
   "id": "e8494883-6e3d-49a2-b64f-3d1ebc56650d",
   "metadata": {},
   "outputs": [
    {
     "name": "stdout",
     "output_type": "stream",
     "text": [
      "Model failed to converge with max|grad| = 0.00760682 (tol = 0.002, component 1) \n",
      "\n",
      "Linear mixed model fit by maximum likelihood  ['lmerMod']\n",
      "Formula: death_next_season~aqhi_skew*ndvi_average*wspd_average+(aqhi_skew|region)\n",
      "\n",
      "Family: binomial\t Inference: parametric\n",
      "\n",
      "Number of observations: 30268\t Groups: {'region': 5.0}\n",
      "\n",
      "Log-likelihood: -18841.171 \t AIC: 37704.342\n",
      "\n",
      "Random effects:\n",
      "\n",
      "               Name     Var    Std\n",
      "region  (Intercept)  20.038  4.476\n",
      "region    aqhi_skew  25.868  5.086\n",
      "\n",
      "                IV1        IV2   Corr\n",
      "region  (Intercept)  aqhi_skew -0.972\n",
      "\n",
      "Fixed effects:\n",
      "\n",
      "                                     Estimate  2.5_ci  97.5_ci     SE  \\\n",
      "(Intercept)                            -3.640  -6.685   -0.595  1.554   \n",
      "aqhi_skew                              -1.889  -5.576    1.798  1.881   \n",
      "ndvi_average                            4.541   3.573    5.510  0.494   \n",
      "wspd_average                            0.995   0.848    1.142  0.075   \n",
      "aqhi_skew:ndvi_average                 14.594  12.152   17.036  1.246   \n",
      "aqhi_skew:wspd_average                  2.562   2.195    2.929  0.187   \n",
      "ndvi_average:wspd_average              -3.176  -3.586   -2.766  0.209   \n",
      "aqhi_skew:ndvi_average:wspd_average    -6.891  -7.934   -5.848  0.532   \n",
      "\n",
      "                                              OR   OR_2.5_ci    OR_97.5_ci  \\\n",
      "(Intercept)                                0.026       0.001  5.510000e-01   \n",
      "aqhi_skew                                  0.151       0.004  6.040000e+00   \n",
      "ndvi_average                              93.823      35.613  2.471750e+02   \n",
      "wspd_average                               2.705       2.336  3.132000e+00   \n",
      "aqhi_skew:ndvi_average               2177974.063  189402.418  2.504493e+07   \n",
      "aqhi_skew:wspd_average                    12.957       8.976  1.870300e+01   \n",
      "ndvi_average:wspd_average                  0.042       0.028  6.300000e-02   \n",
      "aqhi_skew:ndvi_average:wspd_average        0.001       0.000  3.000000e-03   \n",
      "\n",
      "                                      Prob  Prob_2.5_ci  Prob_97.5_ci  Z-stat  \\\n",
      "(Intercept)                          0.026        0.001         0.355  -2.343   \n",
      "aqhi_skew                            0.131        0.004         0.858  -1.004   \n",
      "ndvi_average                         0.989        0.973         0.996   9.189   \n",
      "wspd_average                         0.730        0.700         0.758  13.298   \n",
      "aqhi_skew:ndvi_average               1.000        1.000         1.000  11.712   \n",
      "aqhi_skew:wspd_average               0.928        0.900         0.949  13.678   \n",
      "ndvi_average:wspd_average            0.040        0.027         0.059 -15.174   \n",
      "aqhi_skew:ndvi_average:wspd_average  0.001        0.000         0.003 -12.950   \n",
      "\n",
      "                                     P-val  Sig  \n",
      "(Intercept)                          0.019    *  \n",
      "aqhi_skew                            0.315       \n",
      "ndvi_average                         0.000  ***  \n",
      "wspd_average                         0.000  ***  \n",
      "aqhi_skew:ndvi_average               0.000  ***  \n",
      "aqhi_skew:wspd_average               0.000  ***  \n",
      "ndvi_average:wspd_average            0.000  ***  \n",
      "aqhi_skew:ndvi_average:wspd_average  0.000  ***  \n"
     ]
    }
   ],
   "source": [
    "model9 = Lmer(\"death_next_season  ~ aqhi_skew*ndvi_average*wspd_average + (aqhi_skew|region) \",\n",
    "             data=data, family = 'binomial')\n",
    "print(model9.fit())"
   ]
  },
  {
   "cell_type": "code",
   "execution_count": 149,
   "id": "0009de8e-5600-4fa7-9132-d76b40e87528",
   "metadata": {},
   "outputs": [
    {
     "name": "stdout",
     "output_type": "stream",
     "text": [
      "Linear mixed model fit by maximum likelihood  ['lmerMod']\n",
      "Formula: death_next_season~aqhi_skew*ndvi_skew+(aqhi_skew|region)\n",
      "\n",
      "Family: binomial\t Inference: parametric\n",
      "\n",
      "Number of observations: 30268\t Groups: {'region': 5.0}\n",
      "\n",
      "Log-likelihood: -19197.939 \t AIC: 38409.878\n",
      "\n",
      "Random effects:\n",
      "\n",
      "               Name     Var    Std\n",
      "region  (Intercept)  14.312  3.783\n",
      "region    aqhi_skew  20.618  4.541\n",
      "\n",
      "                IV1        IV2   Corr\n",
      "region  (Intercept)  aqhi_skew -0.963\n",
      "\n",
      "Fixed effects:\n",
      "\n",
      "                     Estimate  2.5_ci  97.5_ci     SE      OR  OR_2.5_ci  \\\n",
      "(Intercept)            -2.521  -4.588   -0.455  1.054   0.080      0.010   \n",
      "aqhi_skew               2.934   0.372    5.496  1.307  18.807      1.451   \n",
      "ndvi_skew               0.580   0.518    0.642  0.032   1.786      1.678   \n",
      "aqhi_skew:ndvi_skew     0.325   0.184    0.466  0.072   1.384      1.202   \n",
      "\n",
      "                     OR_97.5_ci   Prob  Prob_2.5_ci  Prob_97.5_ci  Z-stat  \\\n",
      "(Intercept)               0.635  0.074        0.010         0.388  -2.391   \n",
      "aqhi_skew               243.762  0.950        0.592         0.996   2.245   \n",
      "ndvi_skew                 1.900  0.641        0.627         0.655  18.352   \n",
      "aqhi_skew:ndvi_skew       1.593  0.580        0.546         0.614   4.518   \n",
      "\n",
      "                     P-val  Sig  \n",
      "(Intercept)          0.017    *  \n",
      "aqhi_skew            0.025    *  \n",
      "ndvi_skew            0.000  ***  \n",
      "aqhi_skew:ndvi_skew  0.000  ***  \n"
     ]
    }
   ],
   "source": [
    "model10 = Lmer(\"death_next_season  ~ aqhi_skew*ndvi_skew  + (aqhi_skew|region) \",\n",
    "             data=data, family = 'binomial')\n",
    "\n",
    "print(model10.fit())"
   ]
  },
  {
   "cell_type": "code",
   "execution_count": 150,
   "id": "2de4b34e-6056-4a74-bc0e-ea0fc1a81f11",
   "metadata": {},
   "outputs": [
    {
     "name": "stdout",
     "output_type": "stream",
     "text": [
      "Linear mixed model fit by maximum likelihood  ['lmerMod']\n",
      "Formula: death_next_season~aqhi_skew*ndvi_average+wspd_average+(aqhi_skew|region)\n",
      "\n",
      "Family: binomial\t Inference: parametric\n",
      "\n",
      "Number of observations: 30268\t Groups: {'region': 5.0}\n",
      "\n",
      "Log-likelihood: -19013.225 \t AIC: 38042.449\n",
      "\n",
      "Random effects:\n",
      "\n",
      "               Name     Var    Std\n",
      "region  (Intercept)  25.709  5.070\n",
      "region    aqhi_skew  34.181  5.846\n",
      "\n",
      "                IV1        IV2   Corr\n",
      "region  (Intercept)  aqhi_skew -0.973\n",
      "\n",
      "Fixed effects:\n",
      "\n",
      "                        Estimate  2.5_ci  97.5_ci     SE      OR  OR_2.5_ci  \\\n",
      "(Intercept)               -1.402  -4.660    1.856  1.662   0.246      0.009   \n",
      "aqhi_skew                  4.467   0.363    8.572  2.094  87.138      1.438   \n",
      "ndvi_average              -2.763  -2.979   -2.547  0.110   0.063      0.051   \n",
      "wspd_average              -0.125  -0.175   -0.075  0.025   0.883      0.840   \n",
      "aqhi_skew:ndvi_average    -1.135  -1.557   -0.714  0.215   0.321      0.211   \n",
      "\n",
      "                        OR_97.5_ci   Prob  Prob_2.5_ci  Prob_97.5_ci  Z-stat  \\\n",
      "(Intercept)                  6.399  0.197        0.009         0.865  -0.843   \n",
      "aqhi_skew                 5281.578  0.989        0.590         1.000   2.133   \n",
      "ndvi_average                 0.078  0.059        0.048         0.073 -25.049   \n",
      "wspd_average                 0.928  0.469        0.456         0.481  -4.898   \n",
      "aqhi_skew:ndvi_average       0.490  0.243        0.174         0.329  -5.277   \n",
      "\n",
      "                        P-val  Sig  \n",
      "(Intercept)             0.399       \n",
      "aqhi_skew               0.033    *  \n",
      "ndvi_average            0.000  ***  \n",
      "wspd_average            0.000  ***  \n",
      "aqhi_skew:ndvi_average  0.000  ***  \n"
     ]
    }
   ],
   "source": [
    "model11 = Lmer(\"death_next_season  ~ aqhi_skew*ndvi_average + wspd_average  + (aqhi_skew|region) \",\n",
    "             data=data, family = 'binomial')\n",
    "\n",
    "print(model11.fit())"
   ]
  },
  {
   "cell_type": "code",
   "execution_count": 151,
   "id": "dc184750-39c5-4778-a8b5-6f7c5554a9a0",
   "metadata": {},
   "outputs": [
    {
     "name": "stdout",
     "output_type": "stream",
     "text": [
      "Linear mixed model fit by maximum likelihood  ['lmerMod']\n",
      "Formula: death_next_season~aqhi_max*ndvi_average+wspd_average+(ndvi_average|region)\n",
      "\n",
      "Family: binomial\t Inference: parametric\n",
      "\n",
      "Number of observations: 30268\t Groups: {'region': 5.0}\n",
      "\n",
      "Log-likelihood: -18893.369 \t AIC: 37802.739\n",
      "\n",
      "Random effects:\n",
      "\n",
      "                Name     Var    Std\n",
      "region   (Intercept)  16.582  4.072\n",
      "region  ndvi_average  37.965  6.162\n",
      "\n",
      "                IV1           IV2  Corr\n",
      "region  (Intercept)  ndvi_average -0.99\n",
      "\n",
      "Fixed effects:\n",
      "\n",
      "                       Estimate  2.5_ci  97.5_ci     SE        OR  OR_2.5_ci  \\\n",
      "(Intercept)              -4.206  -7.332   -1.079  1.595     0.015      0.001   \n",
      "aqhi_max                  0.796   0.718    0.875  0.040     2.217      2.051   \n",
      "ndvi_average              7.776   3.083   12.470  2.394  2383.717     21.831   \n",
      "wspd_average             -0.193  -0.244   -0.142  0.026     0.824      0.784   \n",
      "aqhi_max:ndvi_average    -1.720  -1.900   -1.541  0.092     0.179      0.150   \n",
      "\n",
      "                       OR_97.5_ci   Prob  Prob_2.5_ci  Prob_97.5_ci  Z-stat  \\\n",
      "(Intercept)                 0.340  0.015        0.001         0.254  -2.636   \n",
      "aqhi_max                    2.398  0.689        0.672         0.706  19.955   \n",
      "ndvi_average           260279.911  1.000        0.956         1.000   3.248   \n",
      "wspd_average                0.867  0.452        0.439         0.464  -7.460   \n",
      "aqhi_max:ndvi_average       0.214  0.152        0.130         0.176 -18.776   \n",
      "\n",
      "                       P-val  Sig  \n",
      "(Intercept)            0.008   **  \n",
      "aqhi_max               0.000  ***  \n",
      "ndvi_average           0.001   **  \n",
      "wspd_average           0.000  ***  \n",
      "aqhi_max:ndvi_average  0.000  ***  \n"
     ]
    }
   ],
   "source": [
    "model12 = Lmer(\"death_next_season  ~ aqhi_max*ndvi_average + wspd_average  + (ndvi_average|region)\",\n",
    "             data=data, family = 'binomial')\n",
    "\n",
    "print(model12.fit())"
   ]
  },
  {
   "cell_type": "code",
   "execution_count": 152,
   "id": "63d6cd09-39c4-4400-ad2f-a36da86a62d8",
   "metadata": {},
   "outputs": [
    {
     "name": "stdout",
     "output_type": "stream",
     "text": [
      "boundary (singular) fit: see help('isSingular') \n",
      "\n",
      "Linear mixed model fit by maximum likelihood  ['lmerMod']\n",
      "Formula: death_next_season~aqhi_average*wspd_average+ndvi_average+(ndvi_average|region)\n",
      "\n",
      "Family: binomial\t Inference: parametric\n",
      "\n",
      "Number of observations: 30268\t Groups: {'region': 5.0}\n",
      "\n",
      "Log-likelihood: -18743.189 \t AIC: 37502.378\n",
      "\n",
      "Random effects:\n",
      "\n",
      "                Name    Var    Std\n",
      "region   (Intercept)  3.706  1.925\n",
      "region  ndvi_average  0.752  0.867\n",
      "\n",
      "                IV1           IV2  Corr\n",
      "region  (Intercept)  ndvi_average   1.0\n",
      "\n",
      "Fixed effects:\n",
      "\n",
      "                           Estimate  2.5_ci  97.5_ci     SE         OR  \\\n",
      "(Intercept)                  11.468   9.659   13.276  0.923  95573.853   \n",
      "aqhi_average                -10.972 -11.785  -10.160  0.415      0.000   \n",
      "wspd_average                 -4.680  -5.032   -4.329  0.179      0.009   \n",
      "ndvi_average                 -2.648  -3.596   -1.701  0.483      0.071   \n",
      "aqhi_average:wspd_average     4.391   4.060    4.722  0.169     80.712   \n",
      "\n",
      "                           OR_2.5_ci  OR_97.5_ci   Prob  Prob_2.5_ci  \\\n",
      "(Intercept)                15669.743  582929.877  1.000        1.000   \n",
      "aqhi_average                   0.000       0.000  0.000        0.000   \n",
      "wspd_average                   0.007       0.013  0.009        0.006   \n",
      "ndvi_average                   0.027       0.183  0.066        0.027   \n",
      "aqhi_average:wspd_average     57.962     112.391  0.988        0.983   \n",
      "\n",
      "                           Prob_97.5_ci  Z-stat  P-val  Sig  \n",
      "(Intercept)                       1.000  12.430    0.0  ***  \n",
      "aqhi_average                      0.000 -26.465    0.0  ***  \n",
      "wspd_average                      0.013 -26.095    0.0  ***  \n",
      "ndvi_average                      0.154  -5.478    0.0  ***  \n",
      "aqhi_average:wspd_average         0.991  25.992    0.0  ***  \n"
     ]
    }
   ],
   "source": [
    "model13 = Lmer(\"death_next_season  ~ aqhi_average*wspd_average + ndvi_average  + (ndvi_average|region)\",\n",
    "             data=data, family = 'binomial')\n",
    "\n",
    "print(model13.fit())"
   ]
  },
  {
   "cell_type": "code",
   "execution_count": 153,
   "id": "f7497365-4521-4162-979d-aa10e0088c03",
   "metadata": {},
   "outputs": [
    {
     "name": "stdout",
     "output_type": "stream",
     "text": [
      "Model failed to converge with max|grad| = 0.0370346 (tol = 0.002, component 1) \n",
      "\n",
      "Linear mixed model fit by maximum likelihood  ['lmerMod']\n",
      "Formula: death_next_season~aqhi_max*ndvi_average*wspd_average+(ndvi_average|region)\n",
      "\n",
      "Family: binomial\t Inference: parametric\n",
      "\n",
      "Number of observations: 30268\t Groups: {'region': 5.0}\n",
      "\n",
      "Log-likelihood: -18758.822 \t AIC: 37539.644\n",
      "\n",
      "Random effects:\n",
      "\n",
      "                Name    Var    Std\n",
      "region   (Intercept)  6.997  2.645\n",
      "region  ndvi_average  0.358  0.599\n",
      "\n",
      "                IV1           IV2  Corr\n",
      "region  (Intercept)  ndvi_average  -1.0\n",
      "\n",
      "Fixed effects:\n",
      "\n",
      "                                    Estimate  2.5_ci  97.5_ci     SE  \\\n",
      "(Intercept)                            9.355   6.661   12.050  1.375   \n",
      "aqhi_max                              -3.596  -4.177   -3.016  0.296   \n",
      "ndvi_average                         -10.890 -14.514   -7.266  1.849   \n",
      "wspd_average                          -4.457  -5.163   -3.752  0.360   \n",
      "aqhi_max:ndvi_average                  4.800   3.693    5.907  0.565   \n",
      "aqhi_max:wspd_average                  1.632   1.404    1.861  0.116   \n",
      "ndvi_average:wspd_average              4.730   3.211    6.248  0.775   \n",
      "aqhi_max:ndvi_average:wspd_average    -2.358  -2.816   -1.899  0.234   \n",
      "\n",
      "                                           OR  OR_2.5_ci  OR_97.5_ci   Prob  \\\n",
      "(Intercept)                         11561.206    780.974  171147.136  1.000   \n",
      "aqhi_max                                0.027      0.015       0.049  0.027   \n",
      "ndvi_average                            0.000      0.000       0.001  0.000   \n",
      "wspd_average                            0.012      0.006       0.023  0.011   \n",
      "aqhi_max:ndvi_average                 121.497     40.158     367.591  0.992   \n",
      "aqhi_max:wspd_average                   5.117      4.072       6.428  0.837   \n",
      "ndvi_average:wspd_average             113.241     24.813     516.803  0.991   \n",
      "aqhi_max:ndvi_average:wspd_average      0.095      0.060       0.150  0.086   \n",
      "\n",
      "                                    Prob_2.5_ci  Prob_97.5_ci  Z-stat  P-val  \\\n",
      "(Intercept)                               0.999         1.000   6.804    0.0   \n",
      "aqhi_max                                  0.015         0.047 -12.145    0.0   \n",
      "ndvi_average                              0.000         0.001  -5.890    0.0   \n",
      "wspd_average                              0.006         0.023 -12.384    0.0   \n",
      "aqhi_max:ndvi_average                     0.976         0.997   8.498    0.0   \n",
      "aqhi_max:wspd_average                     0.803         0.865  14.019    0.0   \n",
      "ndvi_average:wspd_average                 0.961         0.998   6.106    0.0   \n",
      "aqhi_max:ndvi_average:wspd_average        0.056         0.130 -10.077    0.0   \n",
      "\n",
      "                                    Sig  \n",
      "(Intercept)                         ***  \n",
      "aqhi_max                            ***  \n",
      "ndvi_average                        ***  \n",
      "wspd_average                        ***  \n",
      "aqhi_max:ndvi_average               ***  \n",
      "aqhi_max:wspd_average               ***  \n",
      "ndvi_average:wspd_average           ***  \n",
      "aqhi_max:ndvi_average:wspd_average  ***  \n"
     ]
    }
   ],
   "source": [
    "model14 = Lmer(\"death_next_season  ~ aqhi_max*ndvi_average*wspd_average  + (ndvi_average|region) \",\n",
    "             data=data, family = 'binomial')\n",
    "\n",
    "print(model14.fit())"
   ]
  },
  {
   "cell_type": "code",
   "execution_count": 154,
   "id": "071d544d-c614-409c-a881-27c6b0fdae21",
   "metadata": {},
   "outputs": [
    {
     "name": "stdout",
     "output_type": "stream",
     "text": [
      "Model failed to converge with max|grad| = 0.00947704 (tol = 0.002, component 1) \n",
      "\n",
      "Linear mixed model fit by maximum likelihood  ['lmerMod']\n",
      "Formula: death_next_season~aqhi_average*ndvi_skew*wspd_average+(aqhi_average|region)\n",
      "\n",
      "Family: binomial\t Inference: parametric\n",
      "\n",
      "Number of observations: 30268\t Groups: {'region': 5.0}\n",
      "\n",
      "Log-likelihood: -18420.851 \t AIC: 36863.702\n",
      "\n",
      "Random effects:\n",
      "\n",
      "                Name     Var    Std\n",
      "region   (Intercept)  10.722  3.274\n",
      "region  aqhi_average   2.685  1.639\n",
      "\n",
      "                IV1           IV2   Corr\n",
      "region  (Intercept)  aqhi_average -0.798\n",
      "\n",
      "Fixed effects:\n",
      "\n",
      "                                     Estimate  2.5_ci  97.5_ci     SE  \\\n",
      "(Intercept)                            -1.941  -4.817    0.934  1.467   \n",
      "aqhi_average                            0.501  -1.246    2.248  0.891   \n",
      "ndvi_skew                             -16.108 -18.305  -13.910  1.121   \n",
      "wspd_average                            0.361  -0.112    0.834  0.241   \n",
      "aqhi_average:ndvi_skew                 14.730  12.597   16.864  1.089   \n",
      "aqhi_average:wspd_average              -0.356  -0.784    0.073  0.219   \n",
      "ndvi_skew:wspd_average                  7.205   6.275    8.135  0.474   \n",
      "aqhi_average:ndvi_skew:wspd_average    -6.394  -7.298   -5.490  0.461   \n",
      "\n",
      "                                              OR   OR_2.5_ci    OR_97.5_ci  \\\n",
      "(Intercept)                                0.144       0.008  2.546000e+00   \n",
      "aqhi_average                               1.651       0.288  9.471000e+00   \n",
      "ndvi_skew                                  0.000       0.000  0.000000e+00   \n",
      "wspd_average                               1.435       0.894  2.303000e+00   \n",
      "aqhi_average:ndvi_skew               2496456.870  295607.422  2.108302e+07   \n",
      "aqhi_average:wspd_average                  0.701       0.456  1.076000e+00   \n",
      "ndvi_skew:wspd_average                  1346.145     531.315  3.410607e+03   \n",
      "aqhi_average:ndvi_skew:wspd_average        0.002       0.001  4.000000e-03   \n",
      "\n",
      "                                      Prob  Prob_2.5_ci  Prob_97.5_ci  Z-stat  \\\n",
      "(Intercept)                          0.126        0.008         0.718  -1.323   \n",
      "aqhi_average                         0.623        0.223         0.904   0.562   \n",
      "ndvi_skew                            0.000        0.000         0.000 -14.364   \n",
      "wspd_average                         0.589        0.472         0.697   1.496   \n",
      "aqhi_average:ndvi_skew               1.000        1.000         1.000  13.532   \n",
      "aqhi_average:wspd_average            0.412        0.313         0.518  -1.626   \n",
      "ndvi_skew:wspd_average               0.999        0.998         1.000  15.190   \n",
      "aqhi_average:ndvi_skew:wspd_average  0.002        0.001         0.004 -13.864   \n",
      "\n",
      "                                     P-val  Sig  \n",
      "(Intercept)                          0.186       \n",
      "aqhi_average                         0.574       \n",
      "ndvi_skew                            0.000  ***  \n",
      "wspd_average                         0.135       \n",
      "aqhi_average:ndvi_skew               0.000  ***  \n",
      "aqhi_average:wspd_average            0.104       \n",
      "ndvi_skew:wspd_average               0.000  ***  \n",
      "aqhi_average:ndvi_skew:wspd_average  0.000  ***  \n"
     ]
    }
   ],
   "source": [
    "model15 = Lmer(\"death_next_season  ~ aqhi_average*ndvi_skew*wspd_average + (aqhi_average|region)\",\n",
    "             data=data, family = 'binomial')\n",
    "\n",
    "print(model15.fit())"
   ]
  },
  {
   "cell_type": "code",
   "execution_count": 155,
   "id": "92418366-8bbb-4983-854c-63043b364b02",
   "metadata": {},
   "outputs": [
    {
     "name": "stdout",
     "output_type": "stream",
     "text": [
      "Linear mixed model fit by maximum likelihood  ['lmerMod']\n",
      "Formula: death_next_season~aqhi_average*ndvi_skew+wspd_average+(aqhi_average|region)\n",
      "\n",
      "Family: binomial\t Inference: parametric\n",
      "\n",
      "Number of observations: 30268\t Groups: {'region': 5.0}\n",
      "\n",
      "Log-likelihood: -18522.700 \t AIC: 37061.400\n",
      "\n",
      "Random effects:\n",
      "\n",
      "                Name    Var    Std\n",
      "region   (Intercept)  7.991  2.827\n",
      "region  aqhi_average  2.174  1.474\n",
      "\n",
      "                IV1           IV2   Corr\n",
      "region  (Intercept)  aqhi_average -0.759\n",
      "\n",
      "Fixed effects:\n",
      "\n",
      "                        Estimate  2.5_ci  97.5_ci     SE     OR  OR_2.5_ci  \\\n",
      "(Intercept)               -0.211  -2.790    2.368  1.316  0.810      0.061   \n",
      "aqhi_average              -0.408  -1.943    1.128  0.783  0.665      0.143   \n",
      "ndvi_skew                  0.866   0.604    1.127  0.134  2.376      1.829   \n",
      "wspd_average              -0.298  -0.348   -0.248  0.025  0.742      0.706   \n",
      "aqhi_average:ndvi_skew    -0.310  -0.558   -0.063  0.126  0.733      0.573   \n",
      "\n",
      "                        OR_97.5_ci   Prob  Prob_2.5_ci  Prob_97.5_ci  Z-stat  \\\n",
      "(Intercept)                 10.671  0.447        0.058         0.914  -0.160   \n",
      "aqhi_average                 3.089  0.400        0.125         0.755  -0.520   \n",
      "ndvi_skew                    3.087  0.704        0.647         0.755   6.480   \n",
      "wspd_average                 0.780  0.426        0.414         0.438 -11.745   \n",
      "aqhi_average:ndvi_skew       0.939  0.423        0.364         0.484  -2.461   \n",
      "\n",
      "                        P-val  Sig  \n",
      "(Intercept)             0.873       \n",
      "aqhi_average            0.603       \n",
      "ndvi_skew               0.000  ***  \n",
      "wspd_average            0.000  ***  \n",
      "aqhi_average:ndvi_skew  0.014    *  \n"
     ]
    }
   ],
   "source": [
    "model16 = Lmer(\"death_next_season  ~ aqhi_average*ndvi_skew + wspd_average  + (aqhi_average|region)\",\n",
    "             data=data, family = 'binomial')\n",
    "\n",
    "print(model16.fit())"
   ]
  },
  {
   "cell_type": "code",
   "execution_count": 156,
   "id": "d5e2d03f-0803-44b7-bf83-13f09d4874fe",
   "metadata": {},
   "outputs": [
    {
     "name": "stdout",
     "output_type": "stream",
     "text": [
      "Model failed to converge with max|grad| = 0.00362357 (tol = 0.002, component 1) \n",
      "\n",
      "Linear mixed model fit by maximum likelihood  ['lmerMod']\n",
      "Formula: death_next_season~aqhi_average*ndvi_skew*wspd_average+(aqhi_average|operation_id)\n",
      "\n",
      "Family: binomial\t Inference: parametric\n",
      "\n",
      "Number of observations: 30268\t Groups: {'operation_id': 9.0}\n",
      "\n",
      "Log-likelihood: -17969.618 \t AIC: 35961.237\n",
      "\n",
      "Random effects:\n",
      "\n",
      "                      Name    Var    Std\n",
      "operation_id   (Intercept)  2.751  1.658\n",
      "operation_id  aqhi_average  3.897  1.974\n",
      "\n",
      "                      IV1           IV2   Corr\n",
      "operation_id  (Intercept)  aqhi_average -0.732\n",
      "\n",
      "Fixed effects:\n",
      "\n",
      "                                     Estimate  2.5_ci  97.5_ci     SE  \\\n",
      "(Intercept)                            -0.784  -2.619    1.052  0.937   \n",
      "aqhi_average                            0.648  -1.084    2.379  0.883   \n",
      "ndvi_skew                              -8.956 -11.209   -6.703  1.150   \n",
      "wspd_average                           -0.192  -0.696    0.312  0.257   \n",
      "aqhi_average:ndvi_skew                  8.982   6.793   11.171  1.117   \n",
      "aqhi_average:wspd_average              -0.119  -0.584    0.346  0.237   \n",
      "ndvi_skew:wspd_average                  3.791   2.829    4.752  0.491   \n",
      "aqhi_average:ndvi_skew:wspd_average    -3.721  -4.653   -2.788  0.476   \n",
      "\n",
      "                                           OR  OR_2.5_ci  OR_97.5_ci   Prob  \\\n",
      "(Intercept)                             0.457      0.073       2.864  0.314   \n",
      "aqhi_average                            1.911      0.338      10.796  0.657   \n",
      "ndvi_skew                               0.000      0.000       0.001  0.000   \n",
      "wspd_average                            0.825      0.498       1.367  0.452   \n",
      "aqhi_average:ndvi_skew               7958.503    891.418   71052.832  1.000   \n",
      "aqhi_average:wspd_average               0.888      0.557       1.413  0.470   \n",
      "ndvi_skew:wspd_average                 44.285     16.931     115.830  0.978   \n",
      "aqhi_average:ndvi_skew:wspd_average     0.024      0.010       0.062  0.024   \n",
      "\n",
      "                                     Prob_2.5_ci  Prob_97.5_ci  Z-stat  P-val  \\\n",
      "(Intercept)                                0.068         0.741  -0.837  0.403   \n",
      "aqhi_average                               0.253         0.915   0.733  0.463   \n",
      "ndvi_skew                                  0.000         0.001  -7.790  0.000   \n",
      "wspd_average                               0.333         0.577  -0.746  0.456   \n",
      "aqhi_average:ndvi_skew                     0.999         1.000   8.042  0.000   \n",
      "aqhi_average:wspd_average                  0.358         0.586  -0.502  0.615   \n",
      "ndvi_skew:wspd_average                     0.944         0.991   7.727  0.000   \n",
      "aqhi_average:ndvi_skew:wspd_average        0.009         0.058  -7.819  0.000   \n",
      "\n",
      "                                     Sig  \n",
      "(Intercept)                               \n",
      "aqhi_average                              \n",
      "ndvi_skew                            ***  \n",
      "wspd_average                              \n",
      "aqhi_average:ndvi_skew               ***  \n",
      "aqhi_average:wspd_average                 \n",
      "ndvi_skew:wspd_average               ***  \n",
      "aqhi_average:ndvi_skew:wspd_average  ***  \n"
     ]
    }
   ],
   "source": [
    "model17 = Lmer(\"death_next_season  ~ aqhi_average*ndvi_skew*wspd_average  + (aqhi_average|operation_id)\",\n",
    "             data=data, family = 'binomial')\n",
    "\n",
    "print(model17.fit())"
   ]
  },
  {
   "cell_type": "code",
   "execution_count": 157,
   "id": "d59cc74e-fbdf-4ace-b761-e637335e2efd",
   "metadata": {},
   "outputs": [
    {
     "name": "stdout",
     "output_type": "stream",
     "text": [
      "Linear mixed model fit by maximum likelihood  ['lmerMod']\n",
      "Formula: death_next_season~aqhi_max*ndvi_average+aqhi_average*wspd_average+(aqhi_average|operation_id)\n",
      "\n",
      "Family: binomial\t Inference: parametric\n",
      "\n",
      "Number of observations: 30268\t Groups: {'operation_id': 9.0}\n",
      "\n",
      "Log-likelihood: -17957.927 \t AIC: 35935.854\n",
      "\n",
      "Random effects:\n",
      "\n",
      "                      Name    Var    Std\n",
      "operation_id   (Intercept)  2.471  1.572\n",
      "operation_id  aqhi_average  3.263  1.806\n",
      "\n",
      "                      IV1           IV2  Corr\n",
      "operation_id  (Intercept)  aqhi_average -0.68\n",
      "\n",
      "Fixed effects:\n",
      "\n",
      "                           Estimate  2.5_ci  97.5_ci     SE     OR  OR_2.5_ci  \\\n",
      "(Intercept)                   2.142   0.332    3.952  0.924  8.517      1.393   \n",
      "aqhi_max                     -0.046  -0.163    0.072  0.060  0.956      0.850   \n",
      "ndvi_average                 -3.030  -3.921   -2.139  0.454  0.048      0.020   \n",
      "aqhi_average                 -1.570  -3.247    0.107  0.856  0.208      0.039   \n",
      "wspd_average                 -0.910  -1.380   -0.440  0.240  0.402      0.252   \n",
      "aqhi_max:ndvi_average         0.567   0.334    0.799  0.119  1.762      1.397   \n",
      "aqhi_average:wspd_average     0.583   0.131    1.034  0.230  1.791      1.140   \n",
      "\n",
      "                           OR_97.5_ci   Prob  Prob_2.5_ci  Prob_97.5_ci  \\\n",
      "(Intercept)                    52.060  0.895        0.582         0.981   \n",
      "aqhi_max                        1.074  0.489        0.459         0.518   \n",
      "ndvi_average                    0.118  0.046        0.019         0.105   \n",
      "aqhi_average                    1.113  0.172        0.037         0.527   \n",
      "wspd_average                    0.644  0.287        0.201         0.392   \n",
      "aqhi_max:ndvi_average           2.223  0.638        0.583         0.690   \n",
      "aqhi_average:wspd_average       2.813  0.642        0.533         0.738   \n",
      "\n",
      "                           Z-stat  P-val  Sig  \n",
      "(Intercept)                 2.319  0.020    *  \n",
      "aqhi_max                   -0.762  0.446       \n",
      "ndvi_average               -6.668  0.000  ***  \n",
      "aqhi_average               -1.834  0.067    .  \n",
      "wspd_average               -3.794  0.000  ***  \n",
      "aqhi_max:ndvi_average       4.781  0.000  ***  \n",
      "aqhi_average:wspd_average   2.529  0.011    *  \n"
     ]
    }
   ],
   "source": [
    "model18 = Lmer(\"death_next_season  ~ aqhi_max*ndvi_average + aqhi_average*wspd_average  + (aqhi_average|operation_id)\",\n",
    "             data=data, family = 'binomial')\n",
    "\n",
    "print(model18.fit())"
   ]
  },
  {
   "cell_type": "code",
   "execution_count": 158,
   "id": "99e8f9c7-c86a-4c12-ac72-3bbfe04696d1",
   "metadata": {},
   "outputs": [
    {
     "name": "stdout",
     "output_type": "stream",
     "text": [
      "Linear mixed model fit by maximum likelihood  ['lmerMod']\n",
      "Formula: death_next_season~ndvi_average*aqhi_average+(aqhi_average|operation_id)\n",
      "\n",
      "Family: binomial\t Inference: parametric\n",
      "\n",
      "Number of observations: 30268\t Groups: {'operation_id': 9.0}\n",
      "\n",
      "Log-likelihood: -18045.734 \t AIC: 36105.468\n",
      "\n",
      "Random effects:\n",
      "\n",
      "                      Name    Var    Std\n",
      "operation_id   (Intercept)  3.012  1.735\n",
      "operation_id  aqhi_average  3.494  1.869\n",
      "\n",
      "                      IV1           IV2   Corr\n",
      "operation_id  (Intercept)  aqhi_average -0.689\n",
      "\n",
      "Fixed effects:\n",
      "\n",
      "                           Estimate  2.5_ci  97.5_ci     SE     OR  OR_2.5_ci  \\\n",
      "(Intercept)                  -0.514  -2.182    1.153  0.851  0.598      0.113   \n",
      "ndvi_average                 -1.623  -2.853   -0.393  0.628  0.197      0.058   \n",
      "aqhi_average                  0.127  -1.386    1.640  0.772  1.136      0.250   \n",
      "ndvi_average:aqhi_average     0.604  -0.504    1.712  0.565  1.830      0.604   \n",
      "\n",
      "                           OR_97.5_ci   Prob  Prob_2.5_ci  Prob_97.5_ci  \\\n",
      "(Intercept)                     3.168  0.374        0.101         0.760   \n",
      "ndvi_average                    0.675  0.165        0.055         0.403   \n",
      "aqhi_average                    5.156  0.532        0.200         0.838   \n",
      "ndvi_average:aqhi_average       5.542  0.647        0.377         0.847   \n",
      "\n",
      "                           Z-stat  P-val Sig  \n",
      "(Intercept)                -0.605  0.545      \n",
      "ndvi_average               -2.586  0.010  **  \n",
      "aqhi_average                0.165  0.869      \n",
      "ndvi_average:aqhi_average   1.069  0.285      \n"
     ]
    }
   ],
   "source": [
    "model19 = Lmer(\"death_next_season  ~ ndvi_average*aqhi_average  + (aqhi_average|operation_id)\",\n",
    "             data=data, family = 'binomial')\n",
    "\n",
    "print(model19.fit())"
   ]
  },
  {
   "cell_type": "code",
   "execution_count": 159,
   "id": "04f117f7-dd69-4977-941f-dd94d918445f",
   "metadata": {},
   "outputs": [
    {
     "name": "stdout",
     "output_type": "stream",
     "text": [
      "Model failed to converge with max|grad| = 0.00272741 (tol = 0.002, component 1) \n",
      "\n",
      "Linear mixed model fit by maximum likelihood  ['lmerMod']\n",
      "Formula: death_next_season~ndvi_average*aqhi_average*wspd_average+(aqhi_average|operation_id)\n",
      "\n",
      "Family: binomial\t Inference: parametric\n",
      "\n",
      "Number of observations: 30268\t Groups: {'operation_id': 9.0}\n",
      "\n",
      "Log-likelihood: -17948.663 \t AIC: 35919.325\n",
      "\n",
      "Random effects:\n",
      "\n",
      "                      Name    Var    Std\n",
      "operation_id   (Intercept)  2.397  1.548\n",
      "operation_id  aqhi_average  2.427  1.558\n",
      "\n",
      "                      IV1           IV2   Corr\n",
      "operation_id  (Intercept)  aqhi_average -0.635\n",
      "\n",
      "Fixed effects:\n",
      "\n",
      "                                        Estimate  2.5_ci  97.5_ci     SE  \\\n",
      "(Intercept)                               -0.145  -2.071    1.780  0.982   \n",
      "ndvi_average                               6.333   3.483    9.183  1.454   \n",
      "aqhi_average                              -0.483  -2.250    1.283  0.901   \n",
      "wspd_average                               0.154  -0.465    0.773  0.316   \n",
      "ndvi_average:aqhi_average                 -3.410  -6.022   -0.798  1.333   \n",
      "ndvi_average:wspd_average                 -3.935  -5.192   -2.678  0.641   \n",
      "aqhi_average:wspd_average                  0.038  -0.558    0.633  0.304   \n",
      "ndvi_average:aqhi_average:wspd_average     2.048   0.923    3.173  0.574   \n",
      "\n",
      "                                             OR  OR_2.5_ci  OR_97.5_ci   Prob  \\\n",
      "(Intercept)                               0.865      0.126       5.930  0.464   \n",
      "ndvi_average                            562.770     32.556    9728.243  0.998   \n",
      "aqhi_average                              0.617      0.105       3.609  0.382   \n",
      "wspd_average                              1.166      0.628       2.166  0.538   \n",
      "ndvi_average:aqhi_average                 0.033      0.002       0.450  0.032   \n",
      "ndvi_average:wspd_average                 0.020      0.006       0.069  0.019   \n",
      "aqhi_average:wspd_average                 1.039      0.573       1.884  0.509   \n",
      "ndvi_average:aqhi_average:wspd_average    7.754      2.517      23.887  0.886   \n",
      "\n",
      "                                        Prob_2.5_ci  Prob_97.5_ci  Z-stat  \\\n",
      "(Intercept)                                   0.112         0.856  -0.148   \n",
      "ndvi_average                                  0.970         1.000   4.355   \n",
      "aqhi_average                                  0.095         0.783  -0.536   \n",
      "wspd_average                                  0.386         0.684   0.487   \n",
      "ndvi_average:aqhi_average                     0.002         0.310  -2.559   \n",
      "ndvi_average:wspd_average                     0.006         0.064  -6.137   \n",
      "aqhi_average:wspd_average                     0.364         0.653   0.125   \n",
      "ndvi_average:aqhi_average:wspd_average        0.716         0.960   3.568   \n",
      "\n",
      "                                        P-val  Sig  \n",
      "(Intercept)                             0.882       \n",
      "ndvi_average                            0.000  ***  \n",
      "aqhi_average                            0.592       \n",
      "wspd_average                            0.626       \n",
      "ndvi_average:aqhi_average               0.011    *  \n",
      "ndvi_average:wspd_average               0.000  ***  \n",
      "aqhi_average:wspd_average               0.901       \n",
      "ndvi_average:aqhi_average:wspd_average  0.000  ***  \n"
     ]
    }
   ],
   "source": [
    "model20 = Lmer(\"death_next_season  ~ ndvi_average*aqhi_average*wspd_average  + (aqhi_average|operation_id)\",\n",
    "             data=data, family = 'binomial')\n",
    "\n",
    "print(model20.fit())"
   ]
  },
  {
   "cell_type": "code",
   "execution_count": 160,
   "id": "30304e6a-f0c1-47f6-b316-7b48b08f6088",
   "metadata": {},
   "outputs": [
    {
     "name": "stdout",
     "output_type": "stream",
     "text": [
      "Linear mixed model fit by maximum likelihood  ['lmerMod']\n",
      "Formula: death_next_season~ndvi_average*aqhi_average+(1|operation_id)\n",
      "\n",
      "Family: binomial\t Inference: parametric\n",
      "\n",
      "Number of observations: 30268\t Groups: {'operation_id': 9.0}\n",
      "\n",
      "Log-likelihood: -18558.548 \t AIC: 37127.096\n",
      "\n",
      "Random effects:\n",
      "\n",
      "                     Name    Var    Std\n",
      "operation_id  (Intercept)  8.505  2.916\n",
      "\n",
      "No random effect correlations specified\n",
      "\n",
      "Fixed effects:\n",
      "\n",
      "                           Estimate  2.5_ci  97.5_ci     SE      OR  \\\n",
      "(Intercept)                  -3.511  -5.447   -1.574  0.988   0.030   \n",
      "ndvi_average                  4.188   3.334    5.042  0.436  65.865   \n",
      "aqhi_average                  3.339   2.985    3.693  0.181  28.183   \n",
      "ndvi_average:aqhi_average    -6.999  -7.708   -6.291  0.361   0.001   \n",
      "\n",
      "                           OR_2.5_ci  OR_97.5_ci   Prob  Prob_2.5_ci  \\\n",
      "(Intercept)                    0.004       0.207  0.029        0.004   \n",
      "ndvi_average                  28.037     154.729  0.985        0.966   \n",
      "aqhi_average                  19.780      40.155  0.966        0.952   \n",
      "ndvi_average:aqhi_average      0.000       0.002  0.001        0.000   \n",
      "\n",
      "                           Prob_97.5_ci  Z-stat  P-val  Sig  \n",
      "(Intercept)                       0.172  -3.553    0.0  ***  \n",
      "ndvi_average                      0.994   9.610    0.0  ***  \n",
      "aqhi_average                      0.976  18.483    0.0  ***  \n",
      "ndvi_average:aqhi_average         0.002 -19.362    0.0  ***  \n"
     ]
    }
   ],
   "source": [
    "model21 = Lmer(\"death_next_season  ~ ndvi_average*aqhi_average  + (1|operation_id)\",\n",
    "             data=data, family = 'binomial')\n",
    "\n",
    "print(model21.fit())"
   ]
  },
  {
   "cell_type": "code",
   "execution_count": 161,
   "id": "a5c75f14-bf3a-45a9-8180-98442cf3f2f5",
   "metadata": {},
   "outputs": [
    {
     "name": "stdout",
     "output_type": "stream",
     "text": [
      "Model failed to converge with max|grad| = 0.00216323 (tol = 0.002, component 1) \n",
      "\n",
      "Linear mixed model fit by maximum likelihood  ['lmerMod']\n",
      "Formula: death_next_season~ndvi_average*aqhi_average*wspd_average+(1|operation_id)\n",
      "\n",
      "Family: binomial\t Inference: parametric\n",
      "\n",
      "Number of observations: 30268\t Groups: {'operation_id': 9.0}\n",
      "\n",
      "Log-likelihood: -18218.763 \t AIC: 36455.525\n",
      "\n",
      "Random effects:\n",
      "\n",
      "                     Name    Var   Std\n",
      "operation_id  (Intercept)  5.063  2.25\n",
      "\n",
      "No random effect correlations specified\n",
      "\n",
      "Fixed effects:\n",
      "\n",
      "                                        Estimate  2.5_ci  97.5_ci     SE  \\\n",
      "(Intercept)                                1.179  -1.001    3.358  1.112   \n",
      "ndvi_average                              21.295  17.542   25.048  1.915   \n",
      "aqhi_average                              -2.173  -3.807   -0.538  0.834   \n",
      "wspd_average                              -1.270  -1.953   -0.586  0.349   \n",
      "ndvi_average:aqhi_average                -16.674 -20.137  -13.212  1.767   \n",
      "ndvi_average:wspd_average                 -8.578 -10.181   -6.975  0.818   \n",
      "aqhi_average:wspd_average                  1.697   1.048    2.345  0.331   \n",
      "ndvi_average:aqhi_average:wspd_average     5.509   4.035    6.983  0.752   \n",
      "\n",
      "                                                  OR     OR_2.5_ci  \\\n",
      "(Intercept)                             3.250000e+00  3.680000e-01   \n",
      "ndvi_average                            1.771189e+09  4.152110e+07   \n",
      "aqhi_average                            1.140000e-01  2.200000e-02   \n",
      "wspd_average                            2.810000e-01  1.420000e-01   \n",
      "ndvi_average:aqhi_average               0.000000e+00  0.000000e+00   \n",
      "ndvi_average:wspd_average               0.000000e+00  0.000000e+00   \n",
      "aqhi_average:wspd_average               5.456000e+00  2.853000e+00   \n",
      "ndvi_average:aqhi_average:wspd_average  2.470090e+02  5.656800e+01   \n",
      "\n",
      "                                          OR_97.5_ci   Prob  Prob_2.5_ci  \\\n",
      "(Intercept)                             2.872900e+01  0.765        0.269   \n",
      "ndvi_average                            7.555464e+10  1.000        1.000   \n",
      "aqhi_average                            5.840000e-01  0.102        0.022   \n",
      "wspd_average                            5.570000e-01  0.219        0.124   \n",
      "ndvi_average:aqhi_average               0.000000e+00  0.000        0.000   \n",
      "ndvi_average:wspd_average               1.000000e-03  0.000        0.000   \n",
      "aqhi_average:wspd_average               1.043400e+01  0.845        0.740   \n",
      "ndvi_average:aqhi_average:wspd_average  1.078590e+03  0.996        0.983   \n",
      "\n",
      "                                        Prob_97.5_ci  Z-stat  P-val  Sig  \n",
      "(Intercept)                                    0.966   1.060  0.289       \n",
      "ndvi_average                                   1.000  11.120  0.000  ***  \n",
      "aqhi_average                                   0.369  -2.606  0.009   **  \n",
      "wspd_average                                   0.358  -3.640  0.000  ***  \n",
      "ndvi_average:aqhi_average                      0.000  -9.438  0.000  ***  \n",
      "ndvi_average:wspd_average                      0.001 -10.489  0.000  ***  \n",
      "aqhi_average:wspd_average                      0.913   5.129  0.000  ***  \n",
      "ndvi_average:aqhi_average:wspd_average         0.999   7.326  0.000  ***  \n"
     ]
    }
   ],
   "source": [
    "model22 = Lmer(\"death_next_season  ~ ndvi_average*aqhi_average*wspd_average + (1|operation_id)\",\n",
    "             data=data, family = 'binomial')\n",
    "\n",
    "print(model22.fit())"
   ]
  },
  {
   "cell_type": "code",
   "execution_count": 162,
   "id": "85fbd0f6-ce0f-4413-a12f-98d59d17c627",
   "metadata": {},
   "outputs": [
    {
     "name": "stdout",
     "output_type": "stream",
     "text": [
      "Linear mixed model fit by maximum likelihood  ['lmerMod']\n",
      "Formula: death_next_season~ndvi_average*aqhi_average+wspd_average+(1|operation_id)\n",
      "\n",
      "Family: binomial\t Inference: parametric\n",
      "\n",
      "Number of observations: 30268\t Groups: {'operation_id': 9.0}\n",
      "\n",
      "Log-likelihood: -18496.144 \t AIC: 37004.287\n",
      "\n",
      "Random effects:\n",
      "\n",
      "                     Name    Var    Std\n",
      "operation_id  (Intercept)  9.065  3.011\n",
      "\n",
      "No random effect correlations specified\n",
      "\n",
      "Fixed effects:\n",
      "\n",
      "                           Estimate  2.5_ci  97.5_ci     SE      OR  \\\n",
      "(Intercept)                  -2.959  -4.839   -1.079  0.959   0.052   \n",
      "ndvi_average                  4.268   3.421    5.114  0.432  71.368   \n",
      "aqhi_average                  3.508   3.156    3.861  0.180  33.390   \n",
      "wspd_average                 -0.311  -0.366   -0.256  0.028   0.733   \n",
      "ndvi_average:aqhi_average    -7.164  -7.868   -6.460  0.359   0.001   \n",
      "\n",
      "                           OR_2.5_ci  OR_97.5_ci   Prob  Prob_2.5_ci  \\\n",
      "(Intercept)                    0.008       0.340  0.049        0.008   \n",
      "ndvi_average                  30.609     166.403  0.986        0.968   \n",
      "aqhi_average                  23.466      47.513  0.971        0.959   \n",
      "wspd_average                   0.694       0.774  0.423        0.410   \n",
      "ndvi_average:aqhi_average      0.000       0.002  0.001        0.000   \n",
      "\n",
      "                           Prob_97.5_ci  Z-stat  P-val  Sig  \n",
      "(Intercept)                       0.254  -3.085  0.002   **  \n",
      "ndvi_average                      0.994   9.881  0.000  ***  \n",
      "aqhi_average                      0.979  19.494  0.000  ***  \n",
      "wspd_average                      0.436 -11.157  0.000  ***  \n",
      "ndvi_average:aqhi_average         0.002 -19.953  0.000  ***  \n"
     ]
    }
   ],
   "source": [
    "model23 = Lmer(\"death_next_season  ~ ndvi_average*aqhi_average + wspd_average + (1|operation_id)\",\n",
    "             data=data, family = 'binomial')\n",
    "\n",
    "print(model23.fit())"
   ]
  },
  {
   "cell_type": "code",
   "execution_count": 163,
   "id": "af41405e-6510-48f9-8333-a85d2af0747e",
   "metadata": {},
   "outputs": [
    {
     "name": "stdout",
     "output_type": "stream",
     "text": [
      "Linear mixed model fit by maximum likelihood  ['lmerMod']\n",
      "Formula: death_next_season~ndvi_average+aqhi_average+wspd_average+(1|operation_id)\n",
      "\n",
      "Family: binomial\t Inference: parametric\n",
      "\n",
      "Number of observations: 30268\t Groups: {'operation_id': 9.0}\n",
      "\n",
      "Log-likelihood: -18691.518 \t AIC: 37393.035\n",
      "\n",
      "Random effects:\n",
      "\n",
      "                     Name    Var    Std\n",
      "operation_id  (Intercept)  4.185  2.046\n",
      "\n",
      "No random effect correlations specified\n",
      "\n",
      "Fixed effects:\n",
      "\n",
      "              Estimate  2.5_ci  97.5_ci     SE     OR  OR_2.5_ci  OR_97.5_ci  \\\n",
      "(Intercept)      1.327  -0.016    2.669  0.685  3.769      0.984      14.432   \n",
      "ndvi_average    -3.986  -4.259   -3.713  0.139  0.019      0.014       0.024   \n",
      "aqhi_average     0.053  -0.042    0.148  0.049  1.054      0.959       1.159   \n",
      "wspd_average    -0.291  -0.346   -0.237  0.028  0.747      0.707       0.789   \n",
      "\n",
      "               Prob  Prob_2.5_ci  Prob_97.5_ci  Z-stat  P-val  Sig  \n",
      "(Intercept)   0.790        0.496         0.935   1.937  0.053    .  \n",
      "ndvi_average  0.018        0.014         0.024 -28.652  0.000  ***  \n",
      "aqhi_average  0.513        0.489         0.537   1.088  0.277       \n",
      "wspd_average  0.428        0.414         0.441 -10.445  0.000  ***  \n"
     ]
    }
   ],
   "source": [
    "model24 = Lmer(\"death_next_season  ~ ndvi_average + aqhi_average + wspd_average  + (1|operation_id)\",\n",
    "             data=data, family = 'binomial')\n",
    "\n",
    "print(model24.fit())"
   ]
  },
  {
   "cell_type": "code",
   "execution_count": 164,
   "id": "e857e3d3-21ed-4b26-b64c-a3d8ca640c3a",
   "metadata": {},
   "outputs": [
    {
     "name": "stdout",
     "output_type": "stream",
     "text": [
      "Linear mixed model fit by maximum likelihood  ['lmerMod']\n",
      "Formula: death_next_season~ndvi_average+aqhi_average+wspd_average+(aqhi_average|operation_id)\n",
      "\n",
      "Family: binomial\t Inference: parametric\n",
      "\n",
      "Number of observations: 30268\t Groups: {'operation_id': 9.0}\n",
      "\n",
      "Log-likelihood: -17985.896 \t AIC: 35985.793\n",
      "\n",
      "Random effects:\n",
      "\n",
      "                      Name    Var    Std\n",
      "operation_id   (Intercept)  2.661  1.631\n",
      "operation_id  aqhi_average  3.612  1.900\n",
      "\n",
      "                      IV1           IV2   Corr\n",
      "operation_id  (Intercept)  aqhi_average -0.679\n",
      "\n",
      "Fixed effects:\n",
      "\n",
      "              Estimate  2.5_ci  97.5_ci     SE     OR  OR_2.5_ci  OR_97.5_ci  \\\n",
      "(Intercept)      0.010  -1.458    1.479  0.749  1.010      0.233       4.388   \n",
      "ndvi_average    -1.068  -1.393   -0.743  0.166  0.344      0.248       0.476   \n",
      "aqhi_average     0.362  -1.039    1.764  0.715  1.437      0.354       5.837   \n",
      "wspd_average    -0.304  -0.358   -0.250  0.028  0.738      0.699       0.779   \n",
      "\n",
      "               Prob  Prob_2.5_ci  Prob_97.5_ci  Z-stat  P-val  Sig  \n",
      "(Intercept)   0.503        0.189         0.814   0.014  0.989       \n",
      "ndvi_average  0.256        0.199         0.322  -6.447  0.000  ***  \n",
      "aqhi_average  0.590        0.261         0.854   0.507  0.612       \n",
      "wspd_average  0.425        0.411         0.438 -10.963  0.000  ***  \n"
     ]
    }
   ],
   "source": [
    "model25 = Lmer(\"death_next_season  ~ ndvi_average + aqhi_average + wspd_average  + (aqhi_average|operation_id)\",\n",
    "             data=data, family = 'binomial')\n",
    "\n",
    "print(model25.fit())"
   ]
  },
  {
   "cell_type": "code",
   "execution_count": 165,
   "id": "5e0e259a-6904-4eab-8d9e-4d4004a4799c",
   "metadata": {},
   "outputs": [
    {
     "name": "stdout",
     "output_type": "stream",
     "text": [
      "Linear mixed model fit by maximum likelihood  ['lmerMod']\n",
      "Formula: death_next_season~ndvi_average+aqhi_average*wspd_average+(aqhi_average|operation_id)\n",
      "\n",
      "Family: binomial\t Inference: parametric\n",
      "\n",
      "Number of observations: 30268\t Groups: {'operation_id': 9.0}\n",
      "\n",
      "Log-likelihood: -17983.018 \t AIC: 35982.036\n",
      "\n",
      "Random effects:\n",
      "\n",
      "                      Name    Var    Std\n",
      "operation_id   (Intercept)  2.501  1.582\n",
      "operation_id  aqhi_average  3.236  1.799\n",
      "\n",
      "                      IV1           IV2  Corr\n",
      "operation_id  (Intercept)  aqhi_average -0.64\n",
      "\n",
      "Fixed effects:\n",
      "\n",
      "                           Estimate  2.5_ci  97.5_ci     SE     OR  OR_2.5_ci  \\\n",
      "(Intercept)                   1.325  -0.466    3.115  0.914  3.761      0.628   \n",
      "ndvi_average                 -1.080  -1.404   -0.755  0.166  0.340      0.246   \n",
      "aqhi_average                 -0.919  -2.632    0.795  0.874  0.399      0.072   \n",
      "wspd_average                 -0.886  -1.361   -0.411  0.243  0.412      0.256   \n",
      "aqhi_average:wspd_average     0.562   0.106    1.019  0.233  1.755      1.112   \n",
      "\n",
      "                           OR_97.5_ci   Prob  Prob_2.5_ci  Prob_97.5_ci  \\\n",
      "(Intercept)                    22.540  0.790        0.386         0.958   \n",
      "ndvi_average                    0.470  0.254        0.197         0.320   \n",
      "aqhi_average                    2.214  0.285        0.067         0.689   \n",
      "wspd_average                    0.663  0.292        0.204         0.399   \n",
      "aqhi_average:wspd_average       2.770  0.637        0.526         0.735   \n",
      "\n",
      "                           Z-stat  P-val  Sig  \n",
      "(Intercept)                 1.450  0.147       \n",
      "ndvi_average               -6.519  0.000  ***  \n",
      "aqhi_average               -1.051  0.293       \n",
      "wspd_average               -3.653  0.000  ***  \n",
      "aqhi_average:wspd_average   2.415  0.016    *  \n"
     ]
    }
   ],
   "source": [
    "model26 = Lmer(\"death_next_season  ~ ndvi_average + aqhi_average*wspd_average  + (aqhi_average|operation_id)\",\n",
    "             data=data, family = 'binomial')\n",
    "\n",
    "print(model26.fit())"
   ]
  },
  {
   "cell_type": "code",
   "execution_count": 166,
   "id": "6fd1b1de-1128-4c23-951a-2dc545432d03",
   "metadata": {},
   "outputs": [
    {
     "name": "stdout",
     "output_type": "stream",
     "text": [
      "Linear mixed model fit by maximum likelihood  ['lmerMod']\n",
      "Formula: death_next_season~ndvi_average+o3_average+(o3_average|operation_id)\n",
      "\n",
      "Family: binomial\t Inference: parametric\n",
      "\n",
      "Number of observations: 30268\t Groups: {'operation_id': 9.0}\n",
      "\n",
      "Log-likelihood: -18013.392 \t AIC: 36038.785\n",
      "\n",
      "Random effects:\n",
      "\n",
      "                     Name    Var    Std\n",
      "operation_id  (Intercept)  4.412  2.100\n",
      "operation_id   o3_average  0.003  0.051\n",
      "\n",
      "                      IV1         IV2   Corr\n",
      "operation_id  (Intercept)  o3_average -0.796\n",
      "\n",
      "Fixed effects:\n",
      "\n",
      "              Estimate  2.5_ci  97.5_ci     SE     OR  OR_2.5_ci  OR_97.5_ci  \\\n",
      "(Intercept)     -1.265  -3.053    0.523  0.912  0.282      0.047       1.687   \n",
      "ndvi_average    -0.811  -1.132   -0.489  0.164  0.445      0.322       0.613   \n",
      "o3_average       0.016  -0.022    0.054  0.019  1.016      0.978       1.056   \n",
      "\n",
      "               Prob  Prob_2.5_ci  Prob_97.5_ci  Z-stat  P-val  Sig  \n",
      "(Intercept)   0.220        0.045         0.628  -1.387  0.166       \n",
      "ndvi_average  0.308        0.244         0.380  -4.939  0.000  ***  \n",
      "o3_average    0.504        0.495         0.514   0.833  0.405       \n"
     ]
    }
   ],
   "source": [
    "model27 = Lmer(\"death_next_season  ~ ndvi_average + o3_average  + (o3_average|operation_id)\",\n",
    "             data=data, family = 'binomial')\n",
    "\n",
    "print(model27.fit())"
   ]
  },
  {
   "cell_type": "code",
   "execution_count": 167,
   "id": "602c593f-7acb-4465-b017-006b7421af3e",
   "metadata": {},
   "outputs": [
    {
     "name": "stdout",
     "output_type": "stream",
     "text": [
      "Linear mixed model fit by maximum likelihood  ['lmerMod']\n",
      "Formula: death_next_season~ndvi_average*o3_average+(o3_average|operation_id)\n",
      "\n",
      "Family: binomial\t Inference: parametric\n",
      "\n",
      "Number of observations: 30268\t Groups: {'operation_id': 9.0}\n",
      "\n",
      "Log-likelihood: -17994.310 \t AIC: 36002.619\n",
      "\n",
      "Random effects:\n",
      "\n",
      "                     Name    Var    Std\n",
      "operation_id  (Intercept)  7.965  2.822\n",
      "operation_id   o3_average  0.003  0.055\n",
      "\n",
      "                      IV1         IV2   Corr\n",
      "operation_id  (Intercept)  o3_average -0.839\n",
      "\n",
      "Fixed effects:\n",
      "\n",
      "                         Estimate  2.5_ci  97.5_ci     SE     OR  OR_2.5_ci  \\\n",
      "(Intercept)                 0.093  -2.106    2.291  1.122  1.097      0.122   \n",
      "ndvi_average               -4.678  -5.902   -3.454  0.625  0.009      0.003   \n",
      "o3_average                 -0.015  -0.056    0.026  0.021  0.985      0.945   \n",
      "ndvi_average:o3_average     0.081   0.056    0.106  0.013  1.084      1.058   \n",
      "\n",
      "                         OR_97.5_ci   Prob  Prob_2.5_ci  Prob_97.5_ci  Z-stat  \\\n",
      "(Intercept)                   9.888  0.523        0.109         0.908   0.083   \n",
      "ndvi_average                  0.032  0.009        0.003         0.031  -7.491   \n",
      "o3_average                    1.027  0.496        0.486         0.507  -0.705   \n",
      "ndvi_average:o3_average       1.112  0.520        0.514         0.526   6.368   \n",
      "\n",
      "                         P-val  Sig  \n",
      "(Intercept)              0.934       \n",
      "ndvi_average             0.000  ***  \n",
      "o3_average               0.481       \n",
      "ndvi_average:o3_average  0.000  ***  \n"
     ]
    }
   ],
   "source": [
    "model28 = Lmer(\"death_next_season  ~ ndvi_average*o3_average  + (o3_average|operation_id)\",\n",
    "             data=data, family = 'binomial')\n",
    "\n",
    "print(model28.fit())"
   ]
  },
  {
   "cell_type": "code",
   "execution_count": 168,
   "id": "7d9e7be6-0f8c-4d47-9f06-ac399998a600",
   "metadata": {},
   "outputs": [
    {
     "name": "stdout",
     "output_type": "stream",
     "text": [
      "Linear mixed model fit by maximum likelihood  ['lmerMod']\n",
      "Formula: death_next_season~ndvi_average*o3_average+wspd_average+(o3_average|operation_id)\n",
      "\n",
      "Family: binomial\t Inference: parametric\n",
      "\n",
      "Number of observations: 30268\t Groups: {'operation_id': 9.0}\n",
      "\n",
      "Log-likelihood: -17929.646 \t AIC: 35875.293\n",
      "\n",
      "Random effects:\n",
      "\n",
      "                     Name    Var    Std\n",
      "operation_id  (Intercept)  9.156  3.026\n",
      "operation_id   o3_average  0.003  0.057\n",
      "\n",
      "                      IV1         IV2   Corr\n",
      "operation_id  (Intercept)  o3_average -0.841\n",
      "\n",
      "Fixed effects:\n",
      "\n",
      "                         Estimate  2.5_ci  97.5_ci     SE     OR  OR_2.5_ci  \\\n",
      "(Intercept)                 0.820  -1.504    3.143  1.186  2.270      0.222   \n",
      "ndvi_average               -5.069  -6.321   -3.817  0.639  0.006      0.002   \n",
      "o3_average                 -0.015  -0.057    0.028  0.022  0.986      0.945   \n",
      "wspd_average               -0.317  -0.372   -0.262  0.028  0.728      0.689   \n",
      "ndvi_average:o3_average     0.087   0.062    0.113  0.013  1.091      1.063   \n",
      "\n",
      "                         OR_97.5_ci   Prob  Prob_2.5_ci  Prob_97.5_ci  Z-stat  \\\n",
      "(Intercept)                  23.181  0.694        0.182         0.959   0.692   \n",
      "ndvi_average                  0.022  0.006        0.002         0.022  -7.934   \n",
      "o3_average                    1.028  0.496        0.486         0.507  -0.672   \n",
      "wspd_average                  0.769  0.421        0.408         0.435 -11.341   \n",
      "ndvi_average:o3_average       1.119  0.522        0.515         0.528   6.690   \n",
      "\n",
      "                         P-val  Sig  \n",
      "(Intercept)              0.489       \n",
      "ndvi_average             0.000  ***  \n",
      "o3_average               0.502       \n",
      "wspd_average             0.000  ***  \n",
      "ndvi_average:o3_average  0.000  ***  \n"
     ]
    }
   ],
   "source": [
    "model29 = Lmer(\"death_next_season  ~ ndvi_average*o3_average + wspd_average  + (o3_average|operation_id)\",\n",
    "             data=data, family = 'binomial')\n",
    "\n",
    "print(model29.fit())"
   ]
  },
  {
   "cell_type": "code",
   "execution_count": 169,
   "id": "cae2e563-97a9-47e7-b82a-167105c34a3b",
   "metadata": {},
   "outputs": [
    {
     "name": "stdout",
     "output_type": "stream",
     "text": [
      "[1] \"Model failed to converge with max|grad| = 0.635471 (tol = 0.002, component 1)\"\n",
      "[2] \" \\n\"                                                                          \n",
      "\n",
      "[1] \"Model is nearly unidentifiable: very large eigenvalue\\n - Rescale variables?\"\n",
      "[2] \" \\n\"                                                                         \n",
      "\n",
      "[1] \"Model is nearly unidentifiable: large eigenvalue ratio\\n - Rescale variables?\"\n",
      "[2] \" \\n\"                                                                          \n",
      "\n",
      "Linear mixed model fit by maximum likelihood  ['lmerMod']\n",
      "Formula: death_next_season~ndvi_average*o3_average*wspd_average+(o3_average|operation_id)\n",
      "\n",
      "Family: binomial\t Inference: parametric\n",
      "\n",
      "Number of observations: 30268\t Groups: {'operation_id': 9.0}\n",
      "\n",
      "Log-likelihood: -17886.686 \t AIC: 35795.372\n",
      "\n",
      "Random effects:\n",
      "\n",
      "                     Name    Var    Std\n",
      "operation_id  (Intercept)  7.198  2.683\n",
      "operation_id   o3_average  0.003  0.052\n",
      "\n",
      "                      IV1         IV2  Corr\n",
      "operation_id  (Intercept)  o3_average -0.85\n",
      "\n",
      "Fixed effects:\n",
      "\n",
      "                                      Estimate  2.5_ci  97.5_ci     SE  \\\n",
      "(Intercept)                              8.834   5.383   12.285  1.761   \n",
      "ndvi_average                           -12.470 -17.881   -7.060  2.760   \n",
      "o3_average                              -0.196  -0.264   -0.128  0.035   \n",
      "wspd_average                            -3.285  -4.380   -2.191  0.559   \n",
      "ndvi_average:o3_average                  0.306   0.197    0.415  0.056   \n",
      "ndvi_average:wspd_average                2.607   0.409    4.804  1.121   \n",
      "o3_average:wspd_average                  0.070   0.048    0.093  0.012   \n",
      "ndvi_average:o3_average:wspd_average    -0.084  -0.128   -0.041  0.022   \n",
      "\n",
      "                                            OR  OR_2.5_ci  OR_97.5_ci   Prob  \\\n",
      "(Intercept)                           6862.502    217.590  216434.696  1.000   \n",
      "ndvi_average                             0.000      0.000       0.001  0.000   \n",
      "o3_average                               0.822      0.768       0.880  0.451   \n",
      "wspd_average                             0.037      0.013       0.112  0.036   \n",
      "ndvi_average:o3_average                  1.358      1.217       1.514  0.576   \n",
      "ndvi_average:wspd_average               13.555      1.506     122.017  0.931   \n",
      "o3_average:wspd_average                  1.073      1.049       1.097  0.518   \n",
      "ndvi_average:o3_average:wspd_average     0.919      0.880       0.960  0.479   \n",
      "\n",
      "                                      Prob_2.5_ci  Prob_97.5_ci  Z-stat  \\\n",
      "(Intercept)                                 0.995         1.000   5.017   \n",
      "ndvi_average                                0.000         0.001  -4.518   \n",
      "o3_average                                  0.434         0.468  -5.656   \n",
      "wspd_average                                0.012         0.101  -5.882   \n",
      "ndvi_average:o3_average                     0.549         0.602   5.494   \n",
      "ndvi_average:wspd_average                   0.601         0.992   2.325   \n",
      "o3_average:wspd_average                     0.512         0.523   6.099   \n",
      "ndvi_average:o3_average:wspd_average        0.468         0.490  -3.785   \n",
      "\n",
      "                                      P-val  Sig  \n",
      "(Intercept)                            0.00  ***  \n",
      "ndvi_average                           0.00  ***  \n",
      "o3_average                             0.00  ***  \n",
      "wspd_average                           0.00  ***  \n",
      "ndvi_average:o3_average                0.00  ***  \n",
      "ndvi_average:wspd_average              0.02    *  \n",
      "o3_average:wspd_average                0.00  ***  \n",
      "ndvi_average:o3_average:wspd_average   0.00  ***  \n"
     ]
    }
   ],
   "source": [
    "model30 = Lmer(\"death_next_season  ~ ndvi_average*o3_average*wspd_average  + (o3_average|operation_id)\",\n",
    "             data=data, family = 'binomial')\n",
    "\n",
    "print(model30.fit())"
   ]
  },
  {
   "cell_type": "code",
   "execution_count": 170,
   "id": "cc8a7cb3-e3a2-4a73-b261-400760940298",
   "metadata": {},
   "outputs": [
    {
     "name": "stdout",
     "output_type": "stream",
     "text": [
      "Linear mixed model fit by maximum likelihood  ['lmerMod']\n",
      "Formula: death_next_season~ndvi_average+aqhi_average+wspd_average+tavg_average+prcp_average+(aqhi_average|operation_id)\n",
      "\n",
      "Family: binomial\t Inference: parametric\n",
      "\n",
      "Number of observations: 30268\t Groups: {'operation_id': 9.0}\n",
      "\n",
      "Log-likelihood: -17984.256 \t AIC: 35986.511\n",
      "\n",
      "Random effects:\n",
      "\n",
      "                      Name    Var    Std\n",
      "operation_id   (Intercept)  2.779  1.667\n",
      "operation_id  aqhi_average  3.667  1.915\n",
      "\n",
      "                      IV1           IV2   Corr\n",
      "operation_id  (Intercept)  aqhi_average -0.683\n",
      "\n",
      "Fixed effects:\n",
      "\n",
      "              Estimate  2.5_ci  97.5_ci     SE     OR  OR_2.5_ci  OR_97.5_ci  \\\n",
      "(Intercept)      0.085  -1.600    1.770  0.860  1.089      0.202       5.871   \n",
      "ndvi_average    -1.100  -1.426   -0.773  0.167  0.333      0.240       0.461   \n",
      "aqhi_average     0.430  -0.992    1.853  0.726  1.537      0.371       6.376   \n",
      "wspd_average    -0.305  -0.360   -0.251  0.028  0.737      0.697       0.778   \n",
      "tavg_average    -0.037  -0.373    0.298  0.171  0.963      0.689       1.348   \n",
      "prcp_average     0.008  -0.001    0.018  0.005  1.008      0.999       1.018   \n",
      "\n",
      "               Prob  Prob_2.5_ci  Prob_97.5_ci  Z-stat  P-val  Sig  \n",
      "(Intercept)   0.521        0.168         0.854   0.099  0.921       \n",
      "ndvi_average  0.250        0.194         0.316  -6.601  0.000  ***  \n",
      "aqhi_average  0.606        0.270         0.864   0.593  0.553       \n",
      "wspd_average  0.424        0.411         0.438 -10.911  0.000  ***  \n",
      "tavg_average  0.491        0.408         0.574  -0.219  0.827       \n",
      "prcp_average  0.502        0.500         0.504   1.733  0.083    .  \n"
     ]
    }
   ],
   "source": [
    "model31 = Lmer(\"death_next_season  ~ ndvi_average + aqhi_average + wspd_average + tavg_average + prcp_average  + (aqhi_average|operation_id)\",\n",
    "             data=data, family = 'binomial')\n",
    "\n",
    "print(model31.fit())"
   ]
  },
  {
   "cell_type": "code",
   "execution_count": 171,
   "id": "a822772e-d876-4fe2-8611-393fb28c669b",
   "metadata": {},
   "outputs": [
    {
     "name": "stdout",
     "output_type": "stream",
     "text": [
      "Model failed to converge with max|grad| = 0.00760682 (tol = 0.002, component 1) \n",
      "\n",
      "Linear mixed model fit by maximum likelihood  ['lmerMod']\n",
      "Formula: death_next_season~aqhi_skew*ndvi_average*wspd_average+(aqhi_skew|region)\n",
      "\n",
      "Family: binomial\t Inference: parametric\n",
      "\n",
      "Number of observations: 30268\t Groups: {'region': 5.0}\n",
      "\n",
      "Log-likelihood: -18841.171 \t AIC: 37704.342\n",
      "\n",
      "Random effects:\n",
      "\n",
      "               Name     Var    Std\n",
      "region  (Intercept)  20.038  4.476\n",
      "region    aqhi_skew  25.868  5.086\n",
      "\n",
      "                IV1        IV2   Corr\n",
      "region  (Intercept)  aqhi_skew -0.972\n",
      "\n",
      "Fixed effects:\n",
      "\n",
      "                                     Estimate  2.5_ci  97.5_ci     SE  \\\n",
      "(Intercept)                            -3.640  -6.685   -0.595  1.554   \n",
      "aqhi_skew                              -1.889  -5.576    1.798  1.881   \n",
      "ndvi_average                            4.541   3.573    5.510  0.494   \n",
      "wspd_average                            0.995   0.848    1.142  0.075   \n",
      "aqhi_skew:ndvi_average                 14.594  12.152   17.036  1.246   \n",
      "aqhi_skew:wspd_average                  2.562   2.195    2.929  0.187   \n",
      "ndvi_average:wspd_average              -3.176  -3.586   -2.766  0.209   \n",
      "aqhi_skew:ndvi_average:wspd_average    -6.891  -7.934   -5.848  0.532   \n",
      "\n",
      "                                              OR   OR_2.5_ci    OR_97.5_ci  \\\n",
      "(Intercept)                                0.026       0.001  5.510000e-01   \n",
      "aqhi_skew                                  0.151       0.004  6.040000e+00   \n",
      "ndvi_average                              93.823      35.613  2.471750e+02   \n",
      "wspd_average                               2.705       2.336  3.132000e+00   \n",
      "aqhi_skew:ndvi_average               2177974.063  189402.418  2.504493e+07   \n",
      "aqhi_skew:wspd_average                    12.957       8.976  1.870300e+01   \n",
      "ndvi_average:wspd_average                  0.042       0.028  6.300000e-02   \n",
      "aqhi_skew:ndvi_average:wspd_average        0.001       0.000  3.000000e-03   \n",
      "\n",
      "                                      Prob  Prob_2.5_ci  Prob_97.5_ci  Z-stat  \\\n",
      "(Intercept)                          0.026        0.001         0.355  -2.343   \n",
      "aqhi_skew                            0.131        0.004         0.858  -1.004   \n",
      "ndvi_average                         0.989        0.973         0.996   9.189   \n",
      "wspd_average                         0.730        0.700         0.758  13.298   \n",
      "aqhi_skew:ndvi_average               1.000        1.000         1.000  11.712   \n",
      "aqhi_skew:wspd_average               0.928        0.900         0.949  13.678   \n",
      "ndvi_average:wspd_average            0.040        0.027         0.059 -15.174   \n",
      "aqhi_skew:ndvi_average:wspd_average  0.001        0.000         0.003 -12.950   \n",
      "\n",
      "                                     P-val  Sig  \n",
      "(Intercept)                          0.019    *  \n",
      "aqhi_skew                            0.315       \n",
      "ndvi_average                         0.000  ***  \n",
      "wspd_average                         0.000  ***  \n",
      "aqhi_skew:ndvi_average               0.000  ***  \n",
      "aqhi_skew:wspd_average               0.000  ***  \n",
      "ndvi_average:wspd_average            0.000  ***  \n",
      "aqhi_skew:ndvi_average:wspd_average  0.000  ***  \n"
     ]
    }
   ],
   "source": [
    "model32 = Lmer(\"death_next_season  ~ aqhi_skew*ndvi_average*wspd_average  + (aqhi_skew|region) \",\n",
    "             data=data, family = 'binomial')\n",
    "\n",
    "print(model32.fit())"
   ]
  },
  {
   "cell_type": "markdown",
   "id": "239bdd1e-530c-4e51-958e-6c4d0b27ac04",
   "metadata": {},
   "source": [
    "### Pick best model based on AIC"
   ]
  },
  {
   "cell_type": "code",
   "execution_count": 172,
   "id": "9e001d44-ba3b-46e5-9c14-93523a6e7512",
   "metadata": {},
   "outputs": [
    {
     "name": "stdout",
     "output_type": "stream",
     "text": [
      "Current best model is 0 with an AIC of 37112.11618995437\n",
      "Current best model is 1 with an AIC of 37111.07242178419\n",
      "Current best model is 3 with an AIC of 36945.677565531885\n",
      "Current best model is 4 with an AIC of 36933.323452579316\n",
      "Model 5 did not converged\n",
      "Model 7 did not converged\n",
      "Model 8 did not converged\n",
      "Model 9 did not converged\n",
      "Model 14 did not converged\n",
      "Model 15 did not converged\n",
      "Model 17 did not converged\n",
      "Current best model is 18 with an AIC of 35935.854278109466\n",
      "Model 20 did not converged\n",
      "Model 22 did not converged\n",
      "Current best model is 29 with an AIC of 35875.29254139747\n",
      "Model 30 did not converged\n",
      "Model 32 did not converged\n"
     ]
    }
   ],
   "source": [
    "i = 0\n",
    "best_aic = model0.AIC\n",
    "best_model = model0\n",
    "for i,m in enumerate([model,model2,model3,model4,model5,model6,model7,model7a,model8,model9,model10\n",
    "                      ,model11,model12,model13,model14,model15,model16,model17,model18, model19,model20, \n",
    "                      model21,model22,model23,model24,model25,model26,model27,model28,model29,model30,\n",
    "                     model31,model32]):\n",
    "    # Check if model converged first \n",
    "    try:\n",
    "        logs = m.warnings[0]\n",
    "    except:\n",
    "        logs = \"\"\n",
    "    if (len(m.warnings) == 0) | ( logs == \"boundary (singular) fit: see help('isSingular')\"):\n",
    "        current_aic = m.AIC\n",
    "        if current_aic < best_aic:\n",
    "            print(f\"Current best model is {i} with an AIC of {current_aic}\")\n",
    "            best_aic = current_aic\n",
    "            best_model = m\n",
    "    else:\n",
    "        print(f\"Model {i} did not converged\")\n",
    "    i+=1"
   ]
  },
  {
   "cell_type": "code",
   "execution_count": 173,
   "id": "e19f5f9a-38ee-4885-a1ba-0d1f4ebd2659",
   "metadata": {},
   "outputs": [
    {
     "name": "stdout",
     "output_type": "stream",
     "text": [
      "Linear mixed model fit by maximum likelihood  ['lmerMod']\n",
      "Formula: death_next_season~ndvi_average*o3_average+wspd_average+(o3_average|operation_id)\n",
      "\n",
      "Family: binomial\t Inference: parametric\n",
      "\n",
      "Number of observations: 30268\t Groups: {'operation_id': 9.0}\n",
      "\n",
      "Log-likelihood: -17929.646 \t AIC: 35875.293\n",
      "\n",
      "Random effects:\n",
      "\n",
      "                     Name    Var    Std\n",
      "operation_id  (Intercept)  9.156  3.026\n",
      "operation_id   o3_average  0.003  0.057\n",
      "\n",
      "                      IV1         IV2   Corr\n",
      "operation_id  (Intercept)  o3_average -0.841\n",
      "\n",
      "Fixed effects:\n",
      "\n"
     ]
    },
    {
     "data": {
      "text/html": [
       "<div>\n",
       "<style scoped>\n",
       "    .dataframe tbody tr th:only-of-type {\n",
       "        vertical-align: middle;\n",
       "    }\n",
       "\n",
       "    .dataframe tbody tr th {\n",
       "        vertical-align: top;\n",
       "    }\n",
       "\n",
       "    .dataframe thead th {\n",
       "        text-align: right;\n",
       "    }\n",
       "</style>\n",
       "<table border=\"1\" class=\"dataframe\">\n",
       "  <thead>\n",
       "    <tr style=\"text-align: right;\">\n",
       "      <th></th>\n",
       "      <th>Estimate</th>\n",
       "      <th>2.5_ci</th>\n",
       "      <th>97.5_ci</th>\n",
       "      <th>SE</th>\n",
       "      <th>OR</th>\n",
       "      <th>OR_2.5_ci</th>\n",
       "      <th>OR_97.5_ci</th>\n",
       "      <th>Prob</th>\n",
       "      <th>Prob_2.5_ci</th>\n",
       "      <th>Prob_97.5_ci</th>\n",
       "      <th>Z-stat</th>\n",
       "      <th>P-val</th>\n",
       "      <th>Sig</th>\n",
       "    </tr>\n",
       "  </thead>\n",
       "  <tbody>\n",
       "    <tr>\n",
       "      <th>(Intercept)</th>\n",
       "      <td>0.820</td>\n",
       "      <td>-1.504</td>\n",
       "      <td>3.143</td>\n",
       "      <td>1.186</td>\n",
       "      <td>2.270</td>\n",
       "      <td>0.222</td>\n",
       "      <td>23.181</td>\n",
       "      <td>0.694</td>\n",
       "      <td>0.182</td>\n",
       "      <td>0.959</td>\n",
       "      <td>0.692</td>\n",
       "      <td>0.489</td>\n",
       "      <td></td>\n",
       "    </tr>\n",
       "    <tr>\n",
       "      <th>ndvi_average</th>\n",
       "      <td>-5.069</td>\n",
       "      <td>-6.321</td>\n",
       "      <td>-3.817</td>\n",
       "      <td>0.639</td>\n",
       "      <td>0.006</td>\n",
       "      <td>0.002</td>\n",
       "      <td>0.022</td>\n",
       "      <td>0.006</td>\n",
       "      <td>0.002</td>\n",
       "      <td>0.022</td>\n",
       "      <td>-7.934</td>\n",
       "      <td>0.000</td>\n",
       "      <td>***</td>\n",
       "    </tr>\n",
       "    <tr>\n",
       "      <th>o3_average</th>\n",
       "      <td>-0.015</td>\n",
       "      <td>-0.057</td>\n",
       "      <td>0.028</td>\n",
       "      <td>0.022</td>\n",
       "      <td>0.986</td>\n",
       "      <td>0.945</td>\n",
       "      <td>1.028</td>\n",
       "      <td>0.496</td>\n",
       "      <td>0.486</td>\n",
       "      <td>0.507</td>\n",
       "      <td>-0.672</td>\n",
       "      <td>0.502</td>\n",
       "      <td></td>\n",
       "    </tr>\n",
       "    <tr>\n",
       "      <th>wspd_average</th>\n",
       "      <td>-0.317</td>\n",
       "      <td>-0.372</td>\n",
       "      <td>-0.262</td>\n",
       "      <td>0.028</td>\n",
       "      <td>0.728</td>\n",
       "      <td>0.689</td>\n",
       "      <td>0.769</td>\n",
       "      <td>0.421</td>\n",
       "      <td>0.408</td>\n",
       "      <td>0.435</td>\n",
       "      <td>-11.341</td>\n",
       "      <td>0.000</td>\n",
       "      <td>***</td>\n",
       "    </tr>\n",
       "    <tr>\n",
       "      <th>ndvi_average:o3_average</th>\n",
       "      <td>0.087</td>\n",
       "      <td>0.062</td>\n",
       "      <td>0.113</td>\n",
       "      <td>0.013</td>\n",
       "      <td>1.091</td>\n",
       "      <td>1.063</td>\n",
       "      <td>1.119</td>\n",
       "      <td>0.522</td>\n",
       "      <td>0.515</td>\n",
       "      <td>0.528</td>\n",
       "      <td>6.690</td>\n",
       "      <td>0.000</td>\n",
       "      <td>***</td>\n",
       "    </tr>\n",
       "  </tbody>\n",
       "</table>\n",
       "</div>"
      ],
      "text/plain": [
       "                         Estimate  2.5_ci  97.5_ci     SE     OR  OR_2.5_ci  \\\n",
       "(Intercept)                 0.820  -1.504    3.143  1.186  2.270      0.222   \n",
       "ndvi_average               -5.069  -6.321   -3.817  0.639  0.006      0.002   \n",
       "o3_average                 -0.015  -0.057    0.028  0.022  0.986      0.945   \n",
       "wspd_average               -0.317  -0.372   -0.262  0.028  0.728      0.689   \n",
       "ndvi_average:o3_average     0.087   0.062    0.113  0.013  1.091      1.063   \n",
       "\n",
       "                         OR_97.5_ci   Prob  Prob_2.5_ci  Prob_97.5_ci  Z-stat  \\\n",
       "(Intercept)                  23.181  0.694        0.182         0.959   0.692   \n",
       "ndvi_average                  0.022  0.006        0.002         0.022  -7.934   \n",
       "o3_average                    1.028  0.496        0.486         0.507  -0.672   \n",
       "wspd_average                  0.769  0.421        0.408         0.435 -11.341   \n",
       "ndvi_average:o3_average       1.119  0.522        0.515         0.528   6.690   \n",
       "\n",
       "                         P-val  Sig  \n",
       "(Intercept)              0.489       \n",
       "ndvi_average             0.000  ***  \n",
       "o3_average               0.502       \n",
       "wspd_average             0.000  ***  \n",
       "ndvi_average:o3_average  0.000  ***  "
      ]
     },
     "execution_count": 173,
     "metadata": {},
     "output_type": "execute_result"
    }
   ],
   "source": [
    "best_model.summary()"
   ]
  },
  {
   "cell_type": "code",
   "execution_count": 174,
   "id": "d8344ddb-6176-4597-95cb-fdf816267b7b",
   "metadata": {},
   "outputs": [
    {
     "data": {
      "text/plain": [
       "<Axes: xlabel='Estimate'>"
      ]
     },
     "execution_count": 174,
     "metadata": {},
     "output_type": "execute_result"
    },
    {
     "data": {
      "image/png": "[encoded data removed]",
      "text/plain": [
       "<Figure size 1200x600 with 1 Axes>"
      ]
     },
     "metadata": {},
     "output_type": "display_data"
    }
   ],
   "source": [
    "best_model.plot_summary()"
   ]
  },
  {
   "cell_type": "markdown",
   "id": "5fe65de3-3ab0-4329-9171-90cd4c596234",
   "metadata": {},
   "source": [
    "### Higher skewness , means that death hive have right skewed distribution (more positive value)\n",
    "\n",
    "Let's check these distribution of average (which is an aggregate but should show similar pattern)"
   ]
  },
  {
   "cell_type": "code",
   "execution_count": 175,
   "id": "6e614240-6676-4128-a06f-96b6dddfb8c2",
   "metadata": {},
   "outputs": [
    {
     "data": {
      "text/plain": [
       "<Axes: xlabel='aqhi_average_og', ylabel='Density'>"
      ]
     },
     "execution_count": 175,
     "metadata": {},
     "output_type": "execute_result"
    },
    {
     "data": {
      "image/png": "[encoded data removed]",
      "text/plain": [
       "<Figure size 640x480 with 1 Axes>"
      ]
     },
     "metadata": {},
     "output_type": "display_data"
    }
   ],
   "source": [
    "sns.distplot(data.loc[data['death_next_season']]['aqhi_average_og'], label=\"Death\", color=\"red\")\n",
    "sns.distplot(data.loc[~data['death_next_season']]['aqhi_average_og'], label=\"Alive\",color=\"green\")"
   ]
  },
  {
   "cell_type": "markdown",
   "id": "c8c41aee-8413-4a5e-927c-11b244e620f3",
   "metadata": {},
   "source": [
    "### Shallow learning approach "
   ]
  },
  {
   "cell_type": "code",
   "execution_count": 176,
   "id": "dc20f2a0-8bda-4b88-b130-66f4fcd0dc10",
   "metadata": {},
   "outputs": [],
   "source": [
    "\n",
    "# Number of trees in random forest\n",
    "n_estimators = [int(x) for x in np.linspace(start = 100, stop = 1250, num = 10)]\n",
    "# Number of features to consider at every split\n",
    "max_features = ['auto', 'sqrt']\n",
    "# Maximum number of levels in tree\n",
    "max_depth = [int(x) for x in np.linspace(10, 60, num = 10)]\n",
    "max_depth.append(None)\n",
    "# Minimum number of samples required to split a node\n",
    "min_samples_split = [10, 20, 40,60]\n",
    "# Minimum number of samples required at each leaf node\n",
    "min_samples_leaf = [10, 20, 40,60]\n",
    "# Method of selecting samples for training each tree\n",
    "bootstrap = [True, False]\n",
    "# Create the random grid\n",
    "random_grid = {'n_estimators': n_estimators,\n",
    "               'max_features': max_features,\n",
    "               'max_depth': max_depth,\n",
    "               'min_samples_split': min_samples_split,\n",
    "               'min_samples_leaf': min_samples_leaf,\n",
    "               'bootstrap': bootstrap}"
   ]
  },
  {
   "cell_type": "code",
   "execution_count": 177,
   "id": "d29deb25-4653-435e-8996-aae7b0cbcfdc",
   "metadata": {},
   "outputs": [
    {
     "data": {
      "text/plain": [
       "season\n",
       "2022    24326\n",
       "2021     5942\n",
       "Name: count, dtype: int64"
      ]
     },
     "execution_count": 177,
     "metadata": {},
     "output_type": "execute_result"
    }
   ],
   "source": [
    "features = ['aqhi_average_og','tavg_average_og','tavg_max','tavg_skew'\n",
    "            ,'wspd_average_og','wspd_skew','wspd_max','ndvi_skew','ndvi_max','ndvi_average'\n",
    "            ,'prcp_average_og','prcp_skew','prcp_max']\n",
    "data.season.value_counts()"
   ]
  },
  {
   "cell_type": "code",
   "execution_count": 178,
   "id": "f886bfe2-1db9-4c79-ab81-ccb9d873a37c",
   "metadata": {},
   "outputs": [],
   "source": [
    "\n",
    "mx=StandardScaler()\n",
    "\n",
    "gr = pd.get_dummies(data['region'])\n",
    "X = data.dropna(subset=['death_next_season','hive_age_next_season'],axis=0)\n",
    "X.fillna(0,inplace=True)\n",
    "X = X[features]\n",
    "X = pd.concat([X,gr],axis=1)\n",
    "\n",
    "data['death_next_season'] = data['death_next_season'].astype(bool)\n",
    "\n",
    "X_train, X_test, y_train, y_test = train_test_split(\n",
    "    X,\n",
    "    np.array(data.apply(lambda x: (x[\"death_next_season\"], x[\"hive_age_next_season\"]), axis=1).tolist(),dtype=[('cens', '?'), ('time', '<f8')]),\n",
    "    test_size=0.15,\n",
    "    random_state=8,\n",
    ")\n",
    "\n",
    "X_train = mx.fit_transform(X_train)\n",
    "X_test = mx.transform(X_test)\n",
    "\n"
   ]
  },
  {
   "cell_type": "code",
   "execution_count": null,
   "id": "b36dccea-b20a-415c-9d3d-f319c10523d1",
   "metadata": {},
   "outputs": [
    {
     "name": "stdout",
     "output_type": "stream",
     "text": [
      "Fitting 3 folds for each of 5 candidates, totalling 15 fits\n"
     ]
    }
   ],
   "source": [
    "\n",
    "rf = RandomSurvivalForest()\n",
    "\n",
    "rf_random = RandomizedSearchCV(\n",
    "    estimator=rf,\n",
    "    param_distributions=random_grid,\n",
    "    n_iter=5,\n",
    "    cv=3,\n",
    "    verbose=1,\n",
    "    random_state=8,\n",
    "    n_jobs=4,\n",
    ")\n",
    "# Fit the random search model\n",
    "rf_random.fit(X_train, y_train)\n"
   ]
  },
  {
   "cell_type": "code",
   "execution_count": null,
   "id": "4e540a26-66d2-4e4b-a99b-b264abc41b1f",
   "metadata": {},
   "outputs": [],
   "source": [
    "rsf = rf_random.best_estimator_"
   ]
  },
  {
   "cell_type": "code",
   "execution_count": null,
   "id": "2497b3e8-c08a-420e-9336-e1f6dc3d9586",
   "metadata": {},
   "outputs": [],
   "source": [
    "print(\"SCORE\")\n",
    "print(rsf.score(X_test,y_test))\n",
    "\n",
    "sns.displot(rsf.predict(X_test))"
   ]
  },
  {
   "cell_type": "markdown",
   "id": "ba5bf87c-a059-40a9-afa7-d38ffb5ab204",
   "metadata": {},
   "source": [
    "### Evalutate"
   ]
  },
  {
   "cell_type": "code",
   "execution_count": null,
   "id": "536a2718-a34f-4154-9508-ef6d65fe2552",
   "metadata": {},
   "outputs": [],
   "source": [
    "va_times = np.arange(220, 550, 7)\n",
    "rsf_chf_funcs = rsf.predict_cumulative_hazard_function(\n",
    "    X_test, return_array=False)\n",
    "rsf_risk_scores = np.row_stack([chf(va_times) for chf in rsf_chf_funcs])\n",
    "\n",
    "rsf_auc, rsf_mean_auc = cumulative_dynamic_auc(\n",
    "    y_train, y_test, rsf_risk_scores, va_times\n",
    ")\n"
   ]
  },
  {
   "cell_type": "code",
   "execution_count": null,
   "id": "6b352293-34fe-4da6-a701-080ae6dd5b80",
   "metadata": {},
   "outputs": [],
   "source": [
    "plt.plot(va_times, rsf_auc, \"o-\", label=\"RSF (mean AUC = {:.3f})\".format(rsf_mean_auc))\n",
    "plt.xlabel(\"days from enrollment\")\n",
    "plt.ylabel(\"time-dependent AUC\")\n",
    "plt.legend(loc=\"lower center\")\n",
    "plt.savefig(\"ROC.png\")\n",
    "plt.grid(True)"
   ]
  },
  {
   "cell_type": "markdown",
   "id": "0ee4093a-0375-4e15-9306-379284842f6d",
   "metadata": {},
   "source": [
    "### FEature importance"
   ]
  },
  {
   "cell_type": "code",
   "execution_count": null,
   "id": "1d3d230f-71a7-494f-a753-da2c53d913c0",
   "metadata": {},
   "outputs": [],
   "source": [
    "result = permutation_importance(\n",
    "    rsf, X_test, y_test, n_repeats=15, random_state=8\n",
    ")\n",
    "\n",
    "pd.DataFrame(\n",
    "    {k: result[k] for k in (\"importances_mean\", \"importances_std\",)},\n",
    "    index=X.columns\n",
    ").sort_values(by=\"importances_mean\", ascending=False)"
   ]
  },
  {
   "cell_type": "markdown",
   "id": "baa5ade1-5972-4f20-8134-8e201ab6f453",
   "metadata": {},
   "source": [
    "### Basic simulation"
   ]
  },
  {
   "cell_type": "code",
   "execution_count": null,
   "id": "e9ff9229-dec5-449e-a8df-75335e78226e",
   "metadata": {},
   "outputs": [],
   "source": [
    "def process(X, factor):\n",
    "    X_copy = X.copy()\n",
    "    X_copy[['aqhi_average']] = X[['aqhi_average']] * factor\n",
    "    #data = mx.transform(data)\n",
    "    return X_copy\n",
    "    "
   ]
  },
  {
   "cell_type": "code",
   "execution_count": null,
   "id": "e4e55ae6-fc83-4741-90dd-110b72fbb69e",
   "metadata": {},
   "outputs": [],
   "source": [
    "def avg_surv_func(feat):\n",
    "    surv = rsf.predict_survival_function(feat, return_array=True)\n",
    "    return np.mean(surv,axis=0)"
   ]
  },
  {
   "cell_type": "code",
   "execution_count": null,
   "id": "50cd80ef-a7a6-4ff5-b99a-dd471e1f7726",
   "metadata": {},
   "outputs": [],
   "source": [
    "preds = avg_surv_func(process(X, 1))\n",
    "preds2 = avg_surv_func(process(X, 1.1))\n",
    "preds3 = avg_surv_func(process(X, 1.5))\n",
    "preds4 = avg_surv_func(process(X, 2))\n",
    "preds8 = avg_surv_func(process(X, 4))\n"
   ]
  },
  {
   "cell_type": "code",
   "execution_count": null,
   "id": "3924cc31-9533-4076-a6be-31fec36473ef",
   "metadata": {},
   "outputs": [],
   "source": [
    "predictions = np.stack([preds,preds2,preds3,preds4,preds8],axis=1,dtype=np.float32).flatten()\n",
    "predictions.shape"
   ]
  },
  {
   "cell_type": "code",
   "execution_count": null,
   "id": "9ae048e4-395b-499d-973f-0bbe2c451c00",
   "metadata": {},
   "outputs": [],
   "source": [
    "temps = []\n",
    "for _ in [1.0,1.1,1.5,2.0,4.0]:\n",
    "    temps.append([i for i in range(len(preds))])"
   ]
  },
  {
   "cell_type": "code",
   "execution_count": null,
   "id": "0cea248f-8a8d-40b8-a999-9651804d2d24",
   "metadata": {},
   "outputs": [],
   "source": [
    "temps = np.stack(temps,axis=1).flatten()\n",
    "temps.shape"
   ]
  },
  {
   "cell_type": "code",
   "execution_count": null,
   "id": "51794585-d5e1-45b9-8ba2-891f8d9ec227",
   "metadata": {},
   "outputs": [],
   "source": [
    "factor = []\n",
    "for ii in [1.0,1.1,1.5,2.0,4.0]:\n",
    "    f = []\n",
    "    for _ in range(len(preds)):\n",
    "        f.append([f\"{ii}x\"])\n",
    "    factor.append(f)\n",
    "factor = np.stack(factor,axis=1).flatten()\n",
    "factor.shape"
   ]
  },
  {
   "cell_type": "code",
   "execution_count": null,
   "id": "ed3a5799-ea2b-49c2-9bc8-0cde6843b7a1",
   "metadata": {},
   "outputs": [],
   "source": [
    "results = pd.DataFrame({\"Probabilité de survie\":predictions,\"Temps\":temps, \"Facteur\":factor})\n",
    "results.head()"
   ]
  },
  {
   "cell_type": "code",
   "execution_count": null,
   "id": "e8d3d5f7-a42c-4707-848d-5b1123971353",
   "metadata": {},
   "outputs": [],
   "source": [
    "LANG = \"EN\"\n",
    "title = {\"FR\":\"Fonction de survie attendue dans des simulations \\n d'intensification de mauvaise qualité de l'air\",\n",
    "         \"EN\":\"Expected survival function for different simulations with varying air quality\"}\n",
    "xaxe = {\"FR\": \"Temps (en jours)\",\"EN\":\"Time (days)\"}\n",
    "yaxe = {\"FR\": \"Probabilité de survie\", \"EN\":\"Probability of survival\"}\n",
    "\n",
    "\n",
    "sns.lineplot(x=results['Temps'], y=results['Probabilité de survie'], hue=results[\"Facteur\"], linewidth=3, alpha=0.85, linestyle=\"solid\")\n",
    "plt.ylabel(yaxe[LANG])\n",
    "plt.xlabel(xaxe[LANG])\n",
    "plt.title(title[LANG])\n",
    "plt.legend()\n",
    "plt.grid(True)\n",
    "plt.savefig(f\"figure-2-{LANG}.png\")"
   ]
  },
  {
   "cell_type": "markdown",
   "id": "cfeed8bc-e656-4584-b62c-be969af6c2c3",
   "metadata": {},
   "source": [
    "### Pred on 2023 true value"
   ]
  },
  {
   "cell_type": "code",
   "execution_count": null,
   "id": "74a674f3-808f-442d-b30e-b5c7b3114d52",
   "metadata": {},
   "outputs": [],
   "source": []
  },
  {
   "cell_type": "markdown",
   "id": "38863fa7-6cf8-4fbe-ae79-f1143ad37237",
   "metadata": {},
   "source": [
    "### Conclusion and next steps "
   ]
  },
  {
   "cell_type": "code",
   "execution_count": null,
   "id": "d05092e8-b776-4a1a-a8e5-fdff66b6e42c",
   "metadata": {},
   "outputs": [],
   "source": []
  }
 ],
 "metadata": {
  "kernelspec": {
   "display_name": "Python 3 (ipykernel)",
   "language": "python",
   "name": "python3"
  },
  "language_info": {
   "codemirror_mode": {
    "name": "ipython",
    "version": 3
   },
   "file_extension": ".py",
   "mimetype": "text/x-python",
   "name": "python",
   "nbconvert_exporter": "python",
   "pygments_lexer": "ipython3",
   "version": "3.11.4"
  }
 },
 "nbformat": 4,
 "nbformat_minor": 5
}
