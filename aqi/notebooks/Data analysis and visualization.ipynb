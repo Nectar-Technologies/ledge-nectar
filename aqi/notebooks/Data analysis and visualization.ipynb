{
 "cells": [
  {
   "cell_type": "markdown",
   "id": "4bf50976-64dd-47ae-b2a7-9dc7afe7cea3",
   "metadata": {},
   "source": [
    "# Air quality impact on hives survival \n",
    "\n",
    "The dataset is from Nectar 1.19 and cover hives from 2020 to 2023. The 2023 season is currently censored in terms of winter mortality but you can analyse the acute effect (which I didn't include in the blog post but I did have a look at the effect on the summer mortality and the effect are even stronger). I also shared the complete daily history for all the yards in the dataset for air quality , ndvi and weather that was scrapped from Airpyllution package, meteostats package and earth engine. Finally, you will find a file called 'ops_meta.csv' which contains the region of the given operations. \n",
    "\n",
    "The file are found on this google drive: [here](https://drive.google.com/drive/u/0/folders/1UZ3_jzMRdaQEaIR1TzPqEWTb0azECStB)\n"
   ]
  },
  {
   "cell_type": "markdown",
   "id": "2f66cf91-dbde-4789-8f06-dd8dd11469fb",
   "metadata": {},
   "source": [
    "***\n",
    "### SETUP"
   ]
  },
  {
   "cell_type": "code",
   "execution_count": 363,
   "id": "9e121c82-5805-43d0-96eb-2cfe2f8fff0e",
   "metadata": {},
   "outputs": [],
   "source": [
    "import os \n",
    "import ast\n",
    "from datetime import datetime, date,timezone, timedelta\n",
    "\n",
    "import pandas as pd \n",
    "import numpy as np\n",
    "from collections import Counter\n",
    "\n",
    "import seaborn as sns \n",
    "import matplotlib.pyplot as plt \n",
    "import matplotlib.ticker as mtick\n",
    "%matplotlib inline \n",
    "\n",
    "from sklearn.preprocessing import MinMaxScaler\n",
    "from scipy.stats import skew, kurtosis\n",
    "from pymer4.models import Lmer\n",
    "from lifelines import KaplanMeierFitter, CoxPHFitter\n",
    "from sklearn.model_selection import train_test_split\n",
    "from sksurv.preprocessing import OneHotEncoder\n",
    "from sklearn.preprocessing import StandardScaler\n",
    "from sksurv.ensemble import RandomSurvivalForest\n",
    "from sklearn.model_selection import RandomizedSearchCV\n",
    "\n",
    "from sksurv.metrics import (\n",
    "    concordance_index_censored,\n",
    "    concordance_index_ipcw,\n",
    "    cumulative_dynamic_auc,\n",
    "    integrated_brier_score,\n",
    ")\n",
    "\n",
    "from tqdm.notebook import tqdm\n",
    "\n",
    "import warnings\n",
    "warnings.filterwarnings(\"ignore\")\n",
    "\n",
    "NECTAR_PALETTE = \"blend:#D8A348,#1D1D1D\"\n",
    "sns.set_palette(NECTAR_PALETTE)\n",
    "\n",
    "ROOT_PATH = \"../data\"\n",
    "SEASONS_INCLUDED = [2021, 2022, 2023]\n",
    "FEATURES_MONTH = [6,7,8]\n",
    "RUN_PREPROCESS = True\n",
    "\n",
    "START_SEASON_MONTH = 6\n",
    "START_SEASON_DAY = 1\n",
    "END_SEASON_MONTH = 10\n",
    "END_SEASON_DAY = 1"
   ]
  },
  {
   "cell_type": "code",
   "execution_count": 364,
   "id": "fcfaade7-a430-45c5-b327-351181a2b793",
   "metadata": {},
   "outputs": [],
   "source": [
    "from aqi.data.utils import timestamp_to_date, try_check_month\n",
    "from aqi.vizualisation.utils import plot_survival_bar_per_state"
   ]
  },
  {
   "cell_type": "markdown",
   "id": "4158ca5a-791f-419b-a236-c0d50034e29c",
   "metadata": {},
   "source": [
    "***\n",
    "### LOADING DATA"
   ]
  },
  {
   "cell_type": "code",
   "execution_count": 371,
   "id": "385d3846-8e4e-45c7-8bfd-a609fc4a0e30",
   "metadata": {},
   "outputs": [],
   "source": [
    "if RUN_PREPROCESS:\n",
    "    operation_meta = pd.read_csv(os.path.join(ROOT_PATH,\"ops_meta.csv\"))\n",
    "    aqi = pd.read_csv(os.path.join(ROOT_PATH,\"aqi_dev.csv\"))\n",
    "    weather = pd.read_csv(os.path.join(ROOT_PATH,\"weather_dev.csv\"))\n",
    "    ee = pd.read_csv(os.path.join(ROOT_PATH,\"ee_dev.csv\"))\n",
    "    ee.drop(\"ee-image\",axis=1,inplace=True)\n",
    "    ee.dropna(subset=[\"ndvi\"],inplace=True)\n",
    "    \n",
    "    mov = pd.read_csv(os.path.join(ROOT_PATH,\"mouvements.csv\"))\n",
    "\n",
    "    data = pd.read_csv(os.path.join(ROOT_PATH,\"merged_dev.csv\"))\n",
    "else:\n",
    "    data = pd.read_csv(os.path.join(ROOT_PATH,\"preprocess.csv\"))\n",
    "data['death_date'] = pd.to_datetime(data['death_date'], format='mixed')\n",
    "data = data.loc[data['season'].isin(SEASONS_INCLUDED)]"
   ]
  },
  {
   "cell_type": "code",
   "execution_count": 372,
   "id": "45e58248-6cf3-4217-b486-fa2bc6e8ec2f",
   "metadata": {},
   "outputs": [
    {
     "data": {
      "text/plain": [
       "148249"
      ]
     },
     "execution_count": 372,
     "metadata": {},
     "output_type": "execute_result"
    }
   ],
   "source": [
    "len(data)"
   ]
  },
  {
   "cell_type": "code",
   "execution_count": 373,
   "id": "8ecc0626-eb08-458d-a138-a54cc5a8ef42",
   "metadata": {},
   "outputs": [],
   "source": [
    "def norm_1_10(data):\n",
    "    start = 1\n",
    "    end = 10\n",
    "    width = end - start\n",
    "    return (data - data.min())/data.ptp() * width + start\n",
    "    "
   ]
  },
  {
   "cell_type": "code",
   "execution_count": 374,
   "id": "17e1ca23-4285-4597-a179-cbec25456506",
   "metadata": {},
   "outputs": [],
   "source": [
    "if RUN_PREPROCESS:\n",
    "    weather.isnull().mean() # For some reason atmost pressure is not getting scrapped "
   ]
  },
  {
   "cell_type": "code",
   "execution_count": 375,
   "id": "31d22900-13d0-4128-aba6-66e3f4440043",
   "metadata": {},
   "outputs": [],
   "source": [
    "if RUN_PREPROCESS:\n",
    "    aqi['aqhi'] = norm_1_10(aqi['aqhi'].values)\n",
    "    aqi.isnull().mean()"
   ]
  },
  {
   "cell_type": "code",
   "execution_count": 376,
   "id": "61a16635-63be-4b3a-8ad1-41b83b27fd2c",
   "metadata": {},
   "outputs": [],
   "source": [
    "if RUN_PREPROCESS:\n",
    "    ee.isnull().mean() # 2023 is null , need to update for simulations later..."
   ]
  },
  {
   "cell_type": "code",
   "execution_count": 377,
   "id": "c2d92f66-72e9-4145-9e63-de1f7d48fce4",
   "metadata": {},
   "outputs": [],
   "source": [
    "if RUN_PREPROCESS:\n",
    "    ee.head()"
   ]
  },
  {
   "cell_type": "code",
   "execution_count": 378,
   "id": "1dd835e5-dc41-486b-ac76-ffdbe3fb584c",
   "metadata": {},
   "outputs": [],
   "source": [
    "if RUN_PREPROCESS:\n",
    "    data['creation_date'] = pd.to_datetime(data['creation_date'],format='mixed').dt.date\n",
    "    data['death_date']= pd.to_datetime(data['death_date']).dt.date"
   ]
  },
  {
   "cell_type": "code",
   "execution_count": 379,
   "id": "aa609157-7da0-4a6c-b353-ee372897fb8d",
   "metadata": {},
   "outputs": [],
   "source": [
    "if RUN_PREPROCESS:\n",
    "    Counter(data.hid.value_counts()) # Meaning that 16 632 hives are present in two season while 38405 are only in one season "
   ]
  },
  {
   "cell_type": "code",
   "execution_count": 380,
   "id": "4d99f664-9147-4871-8b40-b3606e236a8c",
   "metadata": {},
   "outputs": [],
   "source": [
    "if RUN_PREPROCESS:\n",
    "    ### Label creation (based on season start end)\n",
    "    \n",
    "    def get_state_for_season(state_log):\n",
    "        return state_log.apply(lambda x : x['death_date'] != date(x['season']+1,START_SEASON_MONTH,START_SEASON_DAY), axis=1)\n",
    "    \n",
    "    def get_age_for_season(state_log):\n",
    "        return state_log.apply(lambda x : abs((x['death_date'] - x['creation_date']).days), axis=1)\n",
    "    \n",
    "    \n",
    "    data['death_next_season'] = get_state_for_season(data)\n",
    "    data['hive_age_next_season'] = get_age_for_season(data)"
   ]
  },
  {
   "cell_type": "code",
   "execution_count": 381,
   "id": "2d04813a-0667-4a37-bf05-829e57cacbd4",
   "metadata": {},
   "outputs": [
    {
     "data": {
      "text/plain": [
       "0.21521898967278025"
      ]
     },
     "execution_count": 381,
     "metadata": {},
     "output_type": "execute_result"
    }
   ],
   "source": [
    "data['death_next_season'].mean()"
   ]
  },
  {
   "cell_type": "code",
   "execution_count": 382,
   "id": "6f30602e-31ca-49c8-826a-75b5d2d2cbf1",
   "metadata": {},
   "outputs": [
    {
     "data": {
      "text/plain": [
       "hid                      int64\n",
       "creation_date           object\n",
       "operation_id             int64\n",
       "death_date              object\n",
       "season                   int64\n",
       "death_next_season         bool\n",
       "hive_age_next_season     int64\n",
       "dtype: object"
      ]
     },
     "execution_count": 382,
     "metadata": {},
     "output_type": "execute_result"
    }
   ],
   "source": [
    "data.dtypes"
   ]
  },
  {
   "cell_type": "code",
   "execution_count": 383,
   "id": "a9abe41a-e1f2-4b7f-846c-1dad22e1f364",
   "metadata": {},
   "outputs": [
    {
     "data": {
      "text/plain": [
       "operation_id\n",
       "193    44996\n",
       "69     33202\n",
       "153    18265\n",
       "55     14186\n",
       "167    10597\n",
       "161     8221\n",
       "87      5841\n",
       "207     5607\n",
       "210     1720\n",
       "195     1588\n",
       "36      1084\n",
       "194      789\n",
       "212      741\n",
       "219      397\n",
       "160      322\n",
       "159      228\n",
       "205      193\n",
       "83       188\n",
       "220       82\n",
       "199        2\n",
       "Name: count, dtype: int64"
      ]
     },
     "execution_count": 383,
     "metadata": {},
     "output_type": "execute_result"
    }
   ],
   "source": [
    "data.operation_id.value_counts()"
   ]
  },
  {
   "cell_type": "code",
   "execution_count": 384,
   "id": "34a2ab75-2b7a-4084-b069-c01e59ffda8d",
   "metadata": {},
   "outputs": [
    {
     "data": {
      "text/plain": [
       "season\n",
       "2023    107172\n",
       "2022     32164\n",
       "2021      8913\n",
       "Name: count, dtype: int64"
      ]
     },
     "execution_count": 384,
     "metadata": {},
     "output_type": "execute_result"
    }
   ],
   "source": [
    "data.season.value_counts()"
   ]
  },
  {
   "cell_type": "code",
   "execution_count": 385,
   "id": "30d98d5c-1e8d-4ef0-b14e-fe2c068b1cbc",
   "metadata": {},
   "outputs": [
    {
     "data": {
      "text/html": [
       "<div>\n",
       "<style scoped>\n",
       "    .dataframe tbody tr th:only-of-type {\n",
       "        vertical-align: middle;\n",
       "    }\n",
       "\n",
       "    .dataframe tbody tr th {\n",
       "        vertical-align: top;\n",
       "    }\n",
       "\n",
       "    .dataframe thead th {\n",
       "        text-align: right;\n",
       "    }\n",
       "</style>\n",
       "<table border=\"1\" class=\"dataframe\">\n",
       "  <thead>\n",
       "    <tr style=\"text-align: right;\">\n",
       "      <th></th>\n",
       "      <th></th>\n",
       "      <th>death_next_season</th>\n",
       "      <th>hive_age_next_season</th>\n",
       "    </tr>\n",
       "    <tr>\n",
       "      <th>season</th>\n",
       "      <th>operation_id</th>\n",
       "      <th></th>\n",
       "      <th></th>\n",
       "    </tr>\n",
       "  </thead>\n",
       "  <tbody>\n",
       "    <tr>\n",
       "      <th rowspan=\"5\" valign=\"top\">2021</th>\n",
       "      <th>36</th>\n",
       "      <td>0.034884</td>\n",
       "      <td>374.296512</td>\n",
       "    </tr>\n",
       "    <tr>\n",
       "      <th>55</th>\n",
       "      <td>0.631184</td>\n",
       "      <td>319.231549</td>\n",
       "    </tr>\n",
       "    <tr>\n",
       "      <th>69</th>\n",
       "      <td>0.653664</td>\n",
       "      <td>345.589835</td>\n",
       "    </tr>\n",
       "    <tr>\n",
       "      <th>83</th>\n",
       "      <td>0.000000</td>\n",
       "      <td>308.000000</td>\n",
       "    </tr>\n",
       "    <tr>\n",
       "      <th>87</th>\n",
       "      <td>0.868106</td>\n",
       "      <td>233.582734</td>\n",
       "    </tr>\n",
       "    <tr>\n",
       "      <th rowspan=\"10\" valign=\"top\">2022</th>\n",
       "      <th>36</th>\n",
       "      <td>0.307978</td>\n",
       "      <td>509.821892</td>\n",
       "    </tr>\n",
       "    <tr>\n",
       "      <th>55</th>\n",
       "      <td>0.238085</td>\n",
       "      <td>551.987305</td>\n",
       "    </tr>\n",
       "    <tr>\n",
       "      <th>69</th>\n",
       "      <td>0.338473</td>\n",
       "      <td>357.186206</td>\n",
       "    </tr>\n",
       "    <tr>\n",
       "      <th>83</th>\n",
       "      <td>0.552632</td>\n",
       "      <td>393.394737</td>\n",
       "    </tr>\n",
       "    <tr>\n",
       "      <th>87</th>\n",
       "      <td>0.566813</td>\n",
       "      <td>404.662103</td>\n",
       "    </tr>\n",
       "    <tr>\n",
       "      <th>153</th>\n",
       "      <td>0.408203</td>\n",
       "      <td>381.321779</td>\n",
       "    </tr>\n",
       "    <tr>\n",
       "      <th>159</th>\n",
       "      <td>0.706897</td>\n",
       "      <td>292.086207</td>\n",
       "    </tr>\n",
       "    <tr>\n",
       "      <th>160</th>\n",
       "      <td>0.275862</td>\n",
       "      <td>343.672414</td>\n",
       "    </tr>\n",
       "    <tr>\n",
       "      <th>161</th>\n",
       "      <td>0.326817</td>\n",
       "      <td>263.603543</td>\n",
       "    </tr>\n",
       "    <tr>\n",
       "      <th>167</th>\n",
       "      <td>0.950954</td>\n",
       "      <td>343.819255</td>\n",
       "    </tr>\n",
       "    <tr>\n",
       "      <th rowspan=\"20\" valign=\"top\">2023</th>\n",
       "      <th>36</th>\n",
       "      <td>0.000000</td>\n",
       "      <td>913.525469</td>\n",
       "    </tr>\n",
       "    <tr>\n",
       "      <th>55</th>\n",
       "      <td>0.049328</td>\n",
       "      <td>734.802267</td>\n",
       "    </tr>\n",
       "    <tr>\n",
       "      <th>69</th>\n",
       "      <td>0.138861</td>\n",
       "      <td>509.819924</td>\n",
       "    </tr>\n",
       "    <tr>\n",
       "      <th>83</th>\n",
       "      <td>0.055556</td>\n",
       "      <td>822.444444</td>\n",
       "    </tr>\n",
       "    <tr>\n",
       "      <th>87</th>\n",
       "      <td>0.171852</td>\n",
       "      <td>448.547395</td>\n",
       "    </tr>\n",
       "    <tr>\n",
       "      <th>153</th>\n",
       "      <td>0.045369</td>\n",
       "      <td>573.771176</td>\n",
       "    </tr>\n",
       "    <tr>\n",
       "      <th>159</th>\n",
       "      <td>0.035714</td>\n",
       "      <td>461.142857</td>\n",
       "    </tr>\n",
       "    <tr>\n",
       "      <th>160</th>\n",
       "      <td>0.063107</td>\n",
       "      <td>558.873786</td>\n",
       "    </tr>\n",
       "    <tr>\n",
       "      <th>161</th>\n",
       "      <td>0.029715</td>\n",
       "      <td>501.978775</td>\n",
       "    </tr>\n",
       "    <tr>\n",
       "      <th>167</th>\n",
       "      <td>0.137848</td>\n",
       "      <td>337.949031</td>\n",
       "    </tr>\n",
       "    <tr>\n",
       "      <th>193</th>\n",
       "      <td>0.154325</td>\n",
       "      <td>421.237221</td>\n",
       "    </tr>\n",
       "    <tr>\n",
       "      <th>194</th>\n",
       "      <td>0.048162</td>\n",
       "      <td>318.356147</td>\n",
       "    </tr>\n",
       "    <tr>\n",
       "      <th>195</th>\n",
       "      <td>0.034005</td>\n",
       "      <td>315.068010</td>\n",
       "    </tr>\n",
       "    <tr>\n",
       "      <th>199</th>\n",
       "      <td>0.000000</td>\n",
       "      <td>423.500000</td>\n",
       "    </tr>\n",
       "    <tr>\n",
       "      <th>205</th>\n",
       "      <td>0.000000</td>\n",
       "      <td>356.248705</td>\n",
       "    </tr>\n",
       "    <tr>\n",
       "      <th>207</th>\n",
       "      <td>0.227751</td>\n",
       "      <td>271.232388</td>\n",
       "    </tr>\n",
       "    <tr>\n",
       "      <th>210</th>\n",
       "      <td>0.070349</td>\n",
       "      <td>313.478488</td>\n",
       "    </tr>\n",
       "    <tr>\n",
       "      <th>212</th>\n",
       "      <td>0.331984</td>\n",
       "      <td>225.112011</td>\n",
       "    </tr>\n",
       "    <tr>\n",
       "      <th>219</th>\n",
       "      <td>0.007557</td>\n",
       "      <td>251.350126</td>\n",
       "    </tr>\n",
       "    <tr>\n",
       "      <th>220</th>\n",
       "      <td>0.000000</td>\n",
       "      <td>256.000000</td>\n",
       "    </tr>\n",
       "  </tbody>\n",
       "</table>\n",
       "</div>"
      ],
      "text/plain": [
       "                     death_next_season  hive_age_next_season\n",
       "season operation_id                                         \n",
       "2021   36                     0.034884            374.296512\n",
       "       55                     0.631184            319.231549\n",
       "       69                     0.653664            345.589835\n",
       "       83                     0.000000            308.000000\n",
       "       87                     0.868106            233.582734\n",
       "2022   36                     0.307978            509.821892\n",
       "       55                     0.238085            551.987305\n",
       "       69                     0.338473            357.186206\n",
       "       83                     0.552632            393.394737\n",
       "       87                     0.566813            404.662103\n",
       "       153                    0.408203            381.321779\n",
       "       159                    0.706897            292.086207\n",
       "       160                    0.275862            343.672414\n",
       "       161                    0.326817            263.603543\n",
       "       167                    0.950954            343.819255\n",
       "2023   36                     0.000000            913.525469\n",
       "       55                     0.049328            734.802267\n",
       "       69                     0.138861            509.819924\n",
       "       83                     0.055556            822.444444\n",
       "       87                     0.171852            448.547395\n",
       "       153                    0.045369            573.771176\n",
       "       159                    0.035714            461.142857\n",
       "       160                    0.063107            558.873786\n",
       "       161                    0.029715            501.978775\n",
       "       167                    0.137848            337.949031\n",
       "       193                    0.154325            421.237221\n",
       "       194                    0.048162            318.356147\n",
       "       195                    0.034005            315.068010\n",
       "       199                    0.000000            423.500000\n",
       "       205                    0.000000            356.248705\n",
       "       207                    0.227751            271.232388\n",
       "       210                    0.070349            313.478488\n",
       "       212                    0.331984            225.112011\n",
       "       219                    0.007557            251.350126\n",
       "       220                    0.000000            256.000000"
      ]
     },
     "execution_count": 385,
     "metadata": {},
     "output_type": "execute_result"
    }
   ],
   "source": [
    "data.drop(['death_date','creation_date'],axis=1).groupby(['season','operation_id']).mean(numeric_only=True)[['death_next_season','hive_age_next_season']]"
   ]
  },
  {
   "cell_type": "code",
   "execution_count": 386,
   "id": "fb54b7c1-502b-49c6-a165-d48461e166ac",
   "metadata": {},
   "outputs": [],
   "source": [
    "if RUN_PREPROCESS:\n",
    "    # BAD OPS\n",
    "    data = data.loc[~data['operation_id'].isin([51,167,84])]"
   ]
  },
  {
   "cell_type": "code",
   "execution_count": 387,
   "id": "706b4c58-f023-4c46-bd2e-339fc296a789",
   "metadata": {},
   "outputs": [
    {
     "data": {
      "text/plain": [
       "137652"
      ]
     },
     "execution_count": 387,
     "metadata": {},
     "output_type": "execute_result"
    }
   ],
   "source": [
    "len(data)"
   ]
  },
  {
   "cell_type": "code",
   "execution_count": 388,
   "id": "45ef04be-155f-444a-8c21-625d56d22730",
   "metadata": {},
   "outputs": [
    {
     "data": {
      "text/plain": [
       "hid                     0.0\n",
       "creation_date           0.0\n",
       "operation_id            0.0\n",
       "death_date              0.0\n",
       "season                  0.0\n",
       "death_next_season       0.0\n",
       "hive_age_next_season    0.0\n",
       "dtype: float64"
      ]
     },
     "execution_count": 388,
     "metadata": {},
     "output_type": "execute_result"
    }
   ],
   "source": [
    "data.isnull().mean()"
   ]
  },
  {
   "cell_type": "markdown",
   "id": "0c15d8b6-8b91-4979-a302-09c97423cd75",
   "metadata": {},
   "source": [
    "### Feature eng for predictive models\n"
   ]
  },
  {
   "cell_type": "markdown",
   "id": "9c65e797-9d81-4ced-af60-57714e1cbd37",
   "metadata": {},
   "source": [
    "### From mouvements to sensors data \n",
    "\n",
    "- Idea is to get the location of the hive at time X between june 1st and August 31 \n",
    "- Once we have that info we simply do statistic on the sequence \n"
   ]
  },
  {
   "cell_type": "markdown",
   "id": "550621e1-adc0-4011-92dc-af87aa2362dc",
   "metadata": {},
   "source": [
    "***\n",
    "### One hive example"
   ]
  },
  {
   "cell_type": "code",
   "execution_count": 389,
   "id": "b9db8eef-b77b-48cd-a819-f65d45003b5c",
   "metadata": {},
   "outputs": [],
   "source": [
    "if RUN_PREPROCESS:\n",
    "    mov['to_when'].fillna(date.today(),inplace=True) # When null still didn't moved\n",
    "    mov['from_when'] = pd.to_datetime(mov['from_when'],format='mixed').dt.date\n",
    "    mov['to_when'] = pd.to_datetime(mov['to_when'],format='mixed').dt.date\n",
    "    \n",
    "    aqi['time'] = pd.to_datetime(aqi['time'],format='mixed').dt.date\n",
    "    weather['time'] = pd.to_datetime(weather['time'],format='mixed').dt.date\n",
    "    ee['time'] = pd.to_datetime(ee['time'],format='mixed').dt.date"
   ]
  },
  {
   "cell_type": "code",
   "execution_count": 390,
   "id": "372843c0-77ba-46c3-a9a5-6a60f3d8f4e4",
   "metadata": {},
   "outputs": [],
   "source": [
    "if RUN_PREPROCESS:\n",
    "    # Only keep aqi, weather and ee for summer month \n",
    "    \n",
    "    aqi = aqi.loc[pd.to_datetime(aqi['time']).dt.month.isin(FEATURES_MONTH)].reset_index(drop=True)\n",
    "    weather = weather.loc[pd.to_datetime(weather['time']).dt.month.isin(FEATURES_MONTH)].reset_index(drop=True)\n",
    "    ee = ee.loc[pd.to_datetime(ee['time']).dt.month.isin(FEATURES_MONTH)].reset_index(drop=True)"
   ]
  },
  {
   "cell_type": "code",
   "execution_count": 391,
   "id": "1564f07e-4c4c-47b5-adbf-ae247ba4770e",
   "metadata": {},
   "outputs": [],
   "source": [
    "if RUN_PREPROCESS:\n",
    "    one = mov.loc[mov['hive_identity_id']==21199]"
   ]
  },
  {
   "cell_type": "code",
   "execution_count": 392,
   "id": "6a06c7bf-daa6-4767-b27f-377747b4da24",
   "metadata": {},
   "outputs": [],
   "source": [
    "if RUN_PREPROCESS:\n",
    "    one = (one.assign(time = [pd.date_range(start, end) \n",
    "                       for start, end \n",
    "                       in zip(one['from_when'], one['to_when'])]\n",
    "              )\n",
    "       .explode('time', ignore_index = True)\n",
    "    )"
   ]
  },
  {
   "cell_type": "code",
   "execution_count": 393,
   "id": "71554947-4344-42b8-95ba-88ee14f3f01f",
   "metadata": {},
   "outputs": [],
   "source": [
    "if RUN_PREPROCESS:\n",
    "    one['time'] = pd.to_datetime(one['time']).dt.date"
   ]
  },
  {
   "cell_type": "code",
   "execution_count": 394,
   "id": "2258126e-41fc-4599-af00-9265432ba85d",
   "metadata": {},
   "outputs": [],
   "source": [
    "if RUN_PREPROCESS:\n",
    "    one.head()"
   ]
  },
  {
   "cell_type": "code",
   "execution_count": 395,
   "id": "5afed2e9-8599-4dde-b706-0797765edadb",
   "metadata": {},
   "outputs": [],
   "source": [
    "if RUN_PREPROCESS:\n",
    "    one = pd.merge(one,aqi, on=[\"yard_id\",\"time\"])"
   ]
  },
  {
   "cell_type": "code",
   "execution_count": 396,
   "id": "2a5495c0-f414-4c1d-aa89-e548355e469e",
   "metadata": {},
   "outputs": [],
   "source": [
    "if RUN_PREPROCESS:\n",
    "    one['season'] = pd.to_datetime(one['time']).dt.year\n",
    "    one['month'] = pd.to_datetime(one['time']).dt.month"
   ]
  },
  {
   "cell_type": "code",
   "execution_count": 423,
   "id": "e4163665-104b-4133-8b97-03d1fcad511e",
   "metadata": {},
   "outputs": [],
   "source": [
    "if RUN_PREPROCESS:\n",
    "    one[['season','month','aqhi']].groupby([\"season\",\"month\"]).mean()"
   ]
  },
  {
   "cell_type": "markdown",
   "id": "530e9fb0-c91b-490d-8aa1-f8aa885441ac",
   "metadata": {},
   "source": [
    "### ALL hives and sensors"
   ]
  },
  {
   "cell_type": "code",
   "execution_count": 425,
   "id": "1c2be193-92db-4945-aec7-5506a57cd499",
   "metadata": {},
   "outputs": [],
   "source": [
    "if RUN_PREPROCESS:\n",
    "    mov = mov[mov['hive_identity_id'].isin(list(data.hid.unique()))].reset_index(drop=True)"
   ]
  },
  {
   "cell_type": "code",
   "execution_count": 426,
   "id": "ae5312a8-f4c3-4787-b238-4b97ad261936",
   "metadata": {},
   "outputs": [],
   "source": [
    "if RUN_PREPROCESS:\n",
    "    # WARNING THIS TAKES A WHILE (5 minutes...or so)\n",
    "    mov = (mov.assign(time = [pd.date_range(start,end) \n",
    "                       for start, end \n",
    "                       in zip(mov['from_when'], mov['to_when'])]\n",
    "              )\n",
    "       .explode('time', ignore_index = True)\n",
    "    )"
   ]
  },
  {
   "cell_type": "code",
   "execution_count": 427,
   "id": "a38564e6-0435-49db-b30b-65001c1bf026",
   "metadata": {},
   "outputs": [],
   "source": [
    "if RUN_PREPROCESS:\n",
    "    mov['time'] = pd.to_datetime(mov['time']).dt.date\n",
    "    \n",
    "    mov = mov.loc[pd.to_datetime(mov['time']).dt.month.isin(FEATURES_MONTH)].reset_index(drop=True)"
   ]
  },
  {
   "cell_type": "code",
   "execution_count": 428,
   "id": "24e7cf3e-e3f0-474f-9c27-a421a31abe60",
   "metadata": {},
   "outputs": [],
   "source": [
    "if RUN_PREPROCESS:\n",
    "    merged = pd.merge(mov,aqi, on=[\"yard_id\",\"time\"])\n",
    "    merged = pd.merge(merged,weather, on=[\"yard_id\",\"time\"])\n",
    "    merged = pd.merge(merged,ee, on=[\"yard_id\",\"time\"])\n",
    "    \n",
    "    merged.head()"
   ]
  },
  {
   "cell_type": "code",
   "execution_count": 429,
   "id": "0eb50387-692a-4dd9-9959-1b21c8af1c6d",
   "metadata": {},
   "outputs": [],
   "source": [
    "if RUN_PREPROCESS:\n",
    "    merged.isnull().mean()"
   ]
  },
  {
   "cell_type": "markdown",
   "id": "8e12717e-9947-48b8-b891-fae164e6f746",
   "metadata": {},
   "source": [
    "### TSun and Wdir high null, just ignore them "
   ]
  },
  {
   "cell_type": "code",
   "execution_count": 430,
   "id": "c02d0b93-7e84-4c79-8f96-29537789a84b",
   "metadata": {},
   "outputs": [],
   "source": [
    "if RUN_PREPROCESS:\n",
    "    merged.drop(['tsun','wdir'],axis=1,inplace=True)"
   ]
  },
  {
   "cell_type": "markdown",
   "id": "2228b568-52b8-4843-9397-8f2705a91284",
   "metadata": {},
   "source": [
    "### Compute stats for each hid"
   ]
  },
  {
   "cell_type": "code",
   "execution_count": 431,
   "id": "b5b8ba8e-4423-4126-aace-ec1519b4b0a9",
   "metadata": {},
   "outputs": [],
   "source": [
    "if RUN_PREPROCESS:\n",
    "    merged['season'] = pd.to_datetime(merged['time']).dt.year"
   ]
  },
  {
   "cell_type": "code",
   "execution_count": 432,
   "id": "9a8ad47f-81c2-4b65-adf1-901c746b6a44",
   "metadata": {},
   "outputs": [],
   "source": [
    "if RUN_PREPROCESS:\n",
    "    # THis takes 10 min or so locally\n",
    "    averages = merged.drop(['from_when','to_when','time','submitted_at'],axis=1).groupby([\"hive_identity_id\",\"season\"]).mean().reset_index()\n",
    "    skewed = merged.drop(['from_when','to_when','time','submitted_at'],axis=1).groupby([\"hive_identity_id\",\"season\"]).agg(lambda x : skew(x)).reset_index()\n",
    "    maxed = merged.drop(['from_when','to_when','time','submitted_at'],axis=1).groupby([\"hive_identity_id\",\"season\"]).max().reset_index()"
   ]
  },
  {
   "cell_type": "code",
   "execution_count": 433,
   "id": "6dae0bb4-17fe-4dd1-bc09-b1e433fc6ed3",
   "metadata": {},
   "outputs": [],
   "source": [
    "if RUN_PREPROCESS:\n",
    "    averages.rename(columns={\"aqhi\":\"aqhi_average\",\"prcp\":\"prcp_average\",\"wspd\":\"wspd_average\",\"ndvi\":\"ndvi_average\",\"tavg\":\"tavg_average\",\"hive_identity_id\":\"hid\"},inplace=True)\n",
    "    skewed.rename(columns={\"aqhi\":\"aqhi_skew\",\"prcp\":\"prcp_skew\",\"wspd\":\"wspd_skew\",\"ndvi\":\"ndvi_skew\",\"tavg\":\"tavg_skew\",\"hive_identity_id\":\"hid\"},inplace=True)\n",
    "    maxed.rename(columns={\"aqhi\":\"aqhi_max\",\"prcp\":\"prcp_max\",\"wspd\":\"wspd_max\",\"ndvi\":\"ndvi_max\",\"tavg\":\"tavg_max\",\"hive_identity_id\":\"hid\"},inplace=True)\n"
   ]
  },
  {
   "cell_type": "markdown",
   "id": "356ccf12-2435-49af-ac5d-1cb657999f51",
   "metadata": {},
   "source": [
    "### Bring remote sensors with season state (merge)"
   ]
  },
  {
   "cell_type": "code",
   "execution_count": 434,
   "id": "eaa6c079-08d7-4b89-9943-5cff2469dec6",
   "metadata": {},
   "outputs": [
    {
     "name": "stdout",
     "output_type": "stream",
     "text": [
      "137652\n",
      "137652\n",
      "137652\n",
      "137652\n"
     ]
    }
   ],
   "source": [
    "if RUN_PREPROCESS:\n",
    "    print(len(data))\n",
    "    data = pd.merge(data, averages[['season','hid','aqhi_average','prcp_average','wspd_average','ndvi_average','tavg_average']], on=[\"season\",\"hid\"], how=\"left\")\n",
    "    print(len(data))\n",
    "    data = pd.merge(data, skewed[['season','hid','aqhi_skew','prcp_skew','wspd_skew','ndvi_skew','tavg_skew']], on=[\"season\",\"hid\"], how=\"left\")\n",
    "    print(len(data))\n",
    "    data = pd.merge(data, maxed[['season','hid','aqhi_max','prcp_max','wspd_max','ndvi_max','tavg_max']], on=[\"season\",\"hid\"], how=\"left\")\n",
    "    print(len(data))"
   ]
  },
  {
   "cell_type": "code",
   "execution_count": 435,
   "id": "c4f24213-75f5-4d65-8f20-7876efd4da47",
   "metadata": {},
   "outputs": [
    {
     "data": {
      "text/html": [
       "<div>\n",
       "<style scoped>\n",
       "    .dataframe tbody tr th:only-of-type {\n",
       "        vertical-align: middle;\n",
       "    }\n",
       "\n",
       "    .dataframe tbody tr th {\n",
       "        vertical-align: top;\n",
       "    }\n",
       "\n",
       "    .dataframe thead th {\n",
       "        text-align: right;\n",
       "    }\n",
       "</style>\n",
       "<table border=\"1\" class=\"dataframe\">\n",
       "  <thead>\n",
       "    <tr style=\"text-align: right;\">\n",
       "      <th></th>\n",
       "      <th>hid</th>\n",
       "      <th>creation_date</th>\n",
       "      <th>operation_id</th>\n",
       "      <th>death_date</th>\n",
       "      <th>season</th>\n",
       "      <th>death_next_season</th>\n",
       "      <th>hive_age_next_season</th>\n",
       "      <th>aqhi_average</th>\n",
       "      <th>prcp_average</th>\n",
       "      <th>wspd_average</th>\n",
       "      <th>...</th>\n",
       "      <th>aqhi_skew</th>\n",
       "      <th>prcp_skew</th>\n",
       "      <th>wspd_skew</th>\n",
       "      <th>ndvi_skew</th>\n",
       "      <th>tavg_skew</th>\n",
       "      <th>aqhi_max</th>\n",
       "      <th>prcp_max</th>\n",
       "      <th>wspd_max</th>\n",
       "      <th>ndvi_max</th>\n",
       "      <th>tavg_max</th>\n",
       "    </tr>\n",
       "  </thead>\n",
       "  <tbody>\n",
       "    <tr>\n",
       "      <th>0</th>\n",
       "      <td>21199</td>\n",
       "      <td>2021-06-23</td>\n",
       "      <td>55</td>\n",
       "      <td>2022-06-01</td>\n",
       "      <td>2021</td>\n",
       "      <td>False</td>\n",
       "      <td>343</td>\n",
       "      <td>1.164223</td>\n",
       "      <td>0.1</td>\n",
       "      <td>5.20</td>\n",
       "      <td>...</td>\n",
       "      <td>-4.653820e-14</td>\n",
       "      <td>0.0</td>\n",
       "      <td>3.252607e-15</td>\n",
       "      <td>0.000000e+00</td>\n",
       "      <td>0.0</td>\n",
       "      <td>1.171389</td>\n",
       "      <td>0.2</td>\n",
       "      <td>5.6</td>\n",
       "      <td>0.643625</td>\n",
       "      <td>20.4</td>\n",
       "    </tr>\n",
       "    <tr>\n",
       "      <th>1</th>\n",
       "      <td>38198</td>\n",
       "      <td>2021-09-27</td>\n",
       "      <td>55</td>\n",
       "      <td>2022-06-01</td>\n",
       "      <td>2021</td>\n",
       "      <td>False</td>\n",
       "      <td>247</td>\n",
       "      <td>NaN</td>\n",
       "      <td>NaN</td>\n",
       "      <td>NaN</td>\n",
       "      <td>...</td>\n",
       "      <td>NaN</td>\n",
       "      <td>NaN</td>\n",
       "      <td>NaN</td>\n",
       "      <td>NaN</td>\n",
       "      <td>NaN</td>\n",
       "      <td>NaN</td>\n",
       "      <td>NaN</td>\n",
       "      <td>NaN</td>\n",
       "      <td>NaN</td>\n",
       "      <td>NaN</td>\n",
       "    </tr>\n",
       "    <tr>\n",
       "      <th>2</th>\n",
       "      <td>22571</td>\n",
       "      <td>2021-07-28</td>\n",
       "      <td>83</td>\n",
       "      <td>2022-06-01</td>\n",
       "      <td>2021</td>\n",
       "      <td>False</td>\n",
       "      <td>308</td>\n",
       "      <td>1.171389</td>\n",
       "      <td>0.0</td>\n",
       "      <td>4.80</td>\n",
       "      <td>...</td>\n",
       "      <td>NaN</td>\n",
       "      <td>NaN</td>\n",
       "      <td>NaN</td>\n",
       "      <td>NaN</td>\n",
       "      <td>NaN</td>\n",
       "      <td>1.171389</td>\n",
       "      <td>0.0</td>\n",
       "      <td>4.8</td>\n",
       "      <td>0.336577</td>\n",
       "      <td>16.4</td>\n",
       "    </tr>\n",
       "    <tr>\n",
       "      <th>3</th>\n",
       "      <td>19339</td>\n",
       "      <td>2021-06-18</td>\n",
       "      <td>69</td>\n",
       "      <td>2022-06-01</td>\n",
       "      <td>2021</td>\n",
       "      <td>False</td>\n",
       "      <td>348</td>\n",
       "      <td>1.207219</td>\n",
       "      <td>0.0</td>\n",
       "      <td>11.95</td>\n",
       "      <td>...</td>\n",
       "      <td>0.000000e+00</td>\n",
       "      <td>NaN</td>\n",
       "      <td>2.408966e-15</td>\n",
       "      <td>4.442735e-16</td>\n",
       "      <td>0.0</td>\n",
       "      <td>1.228717</td>\n",
       "      <td>0.0</td>\n",
       "      <td>13.1</td>\n",
       "      <td>0.501838</td>\n",
       "      <td>25.5</td>\n",
       "    </tr>\n",
       "    <tr>\n",
       "      <th>4</th>\n",
       "      <td>19340</td>\n",
       "      <td>2021-06-18</td>\n",
       "      <td>69</td>\n",
       "      <td>2022-06-01</td>\n",
       "      <td>2021</td>\n",
       "      <td>False</td>\n",
       "      <td>348</td>\n",
       "      <td>1.207219</td>\n",
       "      <td>0.0</td>\n",
       "      <td>11.95</td>\n",
       "      <td>...</td>\n",
       "      <td>0.000000e+00</td>\n",
       "      <td>NaN</td>\n",
       "      <td>2.408966e-15</td>\n",
       "      <td>4.442735e-16</td>\n",
       "      <td>0.0</td>\n",
       "      <td>1.228717</td>\n",
       "      <td>0.0</td>\n",
       "      <td>13.1</td>\n",
       "      <td>0.501838</td>\n",
       "      <td>25.5</td>\n",
       "    </tr>\n",
       "  </tbody>\n",
       "</table>\n",
       "<p>5 rows × 22 columns</p>\n",
       "</div>"
      ],
      "text/plain": [
       "     hid creation_date  operation_id  death_date  season  death_next_season  \\\n",
       "0  21199    2021-06-23            55  2022-06-01    2021              False   \n",
       "1  38198    2021-09-27            55  2022-06-01    2021              False   \n",
       "2  22571    2021-07-28            83  2022-06-01    2021              False   \n",
       "3  19339    2021-06-18            69  2022-06-01    2021              False   \n",
       "4  19340    2021-06-18            69  2022-06-01    2021              False   \n",
       "\n",
       "   hive_age_next_season  aqhi_average  prcp_average  wspd_average  ...  \\\n",
       "0                   343      1.164223           0.1          5.20  ...   \n",
       "1                   247           NaN           NaN           NaN  ...   \n",
       "2                   308      1.171389           0.0          4.80  ...   \n",
       "3                   348      1.207219           0.0         11.95  ...   \n",
       "4                   348      1.207219           0.0         11.95  ...   \n",
       "\n",
       "      aqhi_skew  prcp_skew     wspd_skew     ndvi_skew  tavg_skew  aqhi_max  \\\n",
       "0 -4.653820e-14        0.0  3.252607e-15  0.000000e+00        0.0  1.171389   \n",
       "1           NaN        NaN           NaN           NaN        NaN       NaN   \n",
       "2           NaN        NaN           NaN           NaN        NaN  1.171389   \n",
       "3  0.000000e+00        NaN  2.408966e-15  4.442735e-16        0.0  1.228717   \n",
       "4  0.000000e+00        NaN  2.408966e-15  4.442735e-16        0.0  1.228717   \n",
       "\n",
       "   prcp_max  wspd_max  ndvi_max  tavg_max  \n",
       "0       0.2       5.6  0.643625      20.4  \n",
       "1       NaN       NaN       NaN       NaN  \n",
       "2       0.0       4.8  0.336577      16.4  \n",
       "3       0.0      13.1  0.501838      25.5  \n",
       "4       0.0      13.1  0.501838      25.5  \n",
       "\n",
       "[5 rows x 22 columns]"
      ]
     },
     "execution_count": 435,
     "metadata": {},
     "output_type": "execute_result"
    }
   ],
   "source": [
    "data.head()"
   ]
  },
  {
   "cell_type": "code",
   "execution_count": 436,
   "id": "c13d1dc9-497e-489b-9a1b-11a75a2b9889",
   "metadata": {},
   "outputs": [
    {
     "data": {
      "text/plain": [
       "137652"
      ]
     },
     "execution_count": 436,
     "metadata": {},
     "output_type": "execute_result"
    }
   ],
   "source": [
    "len(data)"
   ]
  },
  {
   "cell_type": "markdown",
   "id": "ad97dcf6-d24d-466e-ae98-bfd13a72430e",
   "metadata": {},
   "source": [
    "### Add region"
   ]
  },
  {
   "cell_type": "code",
   "execution_count": 437,
   "id": "b925f043-087c-4018-aa0f-c754f7156d95",
   "metadata": {},
   "outputs": [],
   "source": [
    "if RUN_PREPROCESS:\n",
    "    operation_meta.index = operation_meta['Operation ID']\n",
    "    regions = operation_meta.to_dict(orient=\"dict\")['Location']"
   ]
  },
  {
   "cell_type": "code",
   "execution_count": 438,
   "id": "6202e9df-9b8e-4ad0-bb9f-dfcbc8395303",
   "metadata": {},
   "outputs": [],
   "source": [
    "def try_region(x):\n",
    "    try:\n",
    "        return regions[str(x)].split(\",\")[1]\n",
    "    except:\n",
    "        return 'Unknown'"
   ]
  },
  {
   "cell_type": "code",
   "execution_count": 439,
   "id": "86d1a636-a93e-4b4b-9f12-22b86d5b43cd",
   "metadata": {},
   "outputs": [
    {
     "data": {
      "text/plain": [
       "region\n",
       " AB        57501\n",
       " CA        46584\n",
       " QC        24127\n",
       " FL         5607\n",
       " WA         1084\n",
       "Unknown      895\n",
       " WY          789\n",
       " NY          741\n",
       " NS          322\n",
       " KS            2\n",
       "Name: count, dtype: int64"
      ]
     },
     "execution_count": 439,
     "metadata": {},
     "output_type": "execute_result"
    }
   ],
   "source": [
    "if RUN_PREPROCESS:\n",
    "    data['region'] = data['operation_id'].apply(lambda x: try_region(x))\n",
    "data['region'].value_counts()"
   ]
  },
  {
   "cell_type": "markdown",
   "id": "f5aa3e19-b99a-4bd5-96e0-1e8748c2d085",
   "metadata": {},
   "source": [
    "### Saving preprocess so we don't need to run every time"
   ]
  },
  {
   "cell_type": "code",
   "execution_count": 440,
   "id": "d11e0063-a879-40a2-9e20-8a7e330f032b",
   "metadata": {},
   "outputs": [],
   "source": [
    "if RUN_PREPROCESS:\n",
    "    data.to_csv(os.path.join(ROOT_PATH,\"preprocess.csv\"),index=False)\n",
    "else:\n",
    "    data = pd.read_csv(os.path.join(ROOT_PATH,\"preprocess.csv\"))"
   ]
  },
  {
   "cell_type": "code",
   "execution_count": 441,
   "id": "ea13d159-0e8d-479e-8e41-fb562de33081",
   "metadata": {},
   "outputs": [
    {
     "data": {
      "text/plain": [
       "137652"
      ]
     },
     "execution_count": 441,
     "metadata": {},
     "output_type": "execute_result"
    }
   ],
   "source": [
    "len(data)"
   ]
  },
  {
   "cell_type": "code",
   "execution_count": 442,
   "id": "921e9f7d-82d3-4afa-8dab-202af40021e2",
   "metadata": {},
   "outputs": [],
   "source": [
    "ONLY_WINTER = False\n",
    "ONLY_INSEASON = False \n",
    "ACTIVE_ALL_AND_WINTER =True  # Blog post hypothesis \n",
    "if ONLY_WINTER or ONLY_INSEASON:\n",
    "    assert ONLY_WINTER != ONLY_INSEASON, \"choose one! or both False\"\n",
    "if ONLY_INSEASON or ACTIVE_ALL_AND_WINTER:\n",
    "    assert ACTIVE_ALL_AND_WINTER != ONLY_INSEASON, \"choose one! or both False\"\n",
    "\n",
    "# Reload and apply\n",
    "data = pd.read_csv(os.path.join(ROOT_PATH,\"preprocess.csv\"))"
   ]
  },
  {
   "cell_type": "code",
   "execution_count": 443,
   "id": "55c5342e-a130-44b3-a454-6db214eee802",
   "metadata": {},
   "outputs": [
    {
     "data": {
      "text/plain": [
       "137652"
      ]
     },
     "execution_count": 443,
     "metadata": {},
     "output_type": "execute_result"
    }
   ],
   "source": [
    "len(data)"
   ]
  },
  {
   "cell_type": "code",
   "execution_count": 444,
   "id": "54c42e6c-6b76-45b2-b6ff-d6cfc57b37e2",
   "metadata": {},
   "outputs": [],
   "source": [
    "if ONLY_WINTER:\n",
    "    # Exclude in-season deadout , we are just looking at winter morta \n",
    "    data['winter_deadout'] = data.apply(lambda x: x['death_date'] > date(int(x['season']),END_SEASON_MONTH,END_SEASON_DAY),axis=1)\n",
    "    data = data.loc[data['winter_deadout']].reset_index(drop=True)\n",
    "\n",
    "if ONLY_INSEASON:\n",
    "    data['death_date'] = pd.to_datetime(data['death_date']).dt.date\n",
    "    data['winter_deadout'] = data.apply(lambda x: x['death_date'].month in [6,7,8],axis=1)\n",
    "    data = data.loc[~data['winter_deadout'] | ~data['death_next_season']].reset_index(drop=True)\n",
    "\n",
    "if ACTIVE_ALL_AND_WINTER:\n",
    "    data['death_date'] = pd.to_datetime(data['death_date']).dt.date\n",
    "    data['creation_date'] = pd.to_datetime(data['creation_date']).dt.date\n",
    "    # This ensure the exposition rate is the full season (makes them comparable with the current approach)\n",
    "    data = data.loc[(data['creation_date'] <= data['season'].apply(lambda x: date(int(x),START_SEASON_MONTH+1,START_SEASON_DAY))) \\\n",
    "            & (data['death_date'] > data['season'].apply(lambda x : date(int(x),END_SEASON_MONTH,END_SEASON_DAY)))]\n",
    "    data = data.reset_index(drop=True)\n"
   ]
  },
  {
   "cell_type": "markdown",
   "id": "6d454af4-1b3c-4bad-9e20-4852a591e208",
   "metadata": {},
   "source": [
    "### Keep next year aside and exclude some abnormal data"
   ]
  },
  {
   "cell_type": "code",
   "execution_count": 445,
   "id": "d3c8b97c-6d0b-4a97-bbbb-0561bfb0c62c",
   "metadata": {},
   "outputs": [],
   "source": [
    "next_year = data.loc[data['season']==2023].reset_index(drop=True)\n",
    "if not ONLY_INSEASON:\n",
    "    data = data.loc[data['season']!=2023].reset_index(drop=True)"
   ]
  },
  {
   "cell_type": "code",
   "execution_count": 446,
   "id": "65fa19ab-3c2b-4e4f-b067-ad4e7e08603a",
   "metadata": {},
   "outputs": [
    {
     "data": {
      "text/plain": [
       "30439"
      ]
     },
     "execution_count": 446,
     "metadata": {},
     "output_type": "execute_result"
    }
   ],
   "source": [
    "len(data)"
   ]
  },
  {
   "cell_type": "code",
   "execution_count": 447,
   "id": "870b37e6-02b3-4ac2-b468-35c7c326e7d8",
   "metadata": {},
   "outputs": [
    {
     "data": {
      "text/html": [
       "<div>\n",
       "<style scoped>\n",
       "    .dataframe tbody tr th:only-of-type {\n",
       "        vertical-align: middle;\n",
       "    }\n",
       "\n",
       "    .dataframe tbody tr th {\n",
       "        vertical-align: top;\n",
       "    }\n",
       "\n",
       "    .dataframe thead th {\n",
       "        text-align: right;\n",
       "    }\n",
       "</style>\n",
       "<table border=\"1\" class=\"dataframe\">\n",
       "  <thead>\n",
       "    <tr style=\"text-align: right;\">\n",
       "      <th></th>\n",
       "      <th></th>\n",
       "      <th>hid</th>\n",
       "      <th>operation_id</th>\n",
       "      <th>hive_age_next_season</th>\n",
       "      <th>aqhi_average</th>\n",
       "      <th>prcp_average</th>\n",
       "      <th>wspd_average</th>\n",
       "      <th>ndvi_average</th>\n",
       "      <th>tavg_average</th>\n",
       "      <th>aqhi_skew</th>\n",
       "      <th>prcp_skew</th>\n",
       "      <th>wspd_skew</th>\n",
       "      <th>ndvi_skew</th>\n",
       "      <th>tavg_skew</th>\n",
       "      <th>aqhi_max</th>\n",
       "      <th>prcp_max</th>\n",
       "      <th>wspd_max</th>\n",
       "      <th>ndvi_max</th>\n",
       "      <th>tavg_max</th>\n",
       "    </tr>\n",
       "    <tr>\n",
       "      <th>death_next_season</th>\n",
       "      <th>season</th>\n",
       "      <th></th>\n",
       "      <th></th>\n",
       "      <th></th>\n",
       "      <th></th>\n",
       "      <th></th>\n",
       "      <th></th>\n",
       "      <th></th>\n",
       "      <th></th>\n",
       "      <th></th>\n",
       "      <th></th>\n",
       "      <th></th>\n",
       "      <th></th>\n",
       "      <th></th>\n",
       "      <th></th>\n",
       "      <th></th>\n",
       "      <th></th>\n",
       "      <th></th>\n",
       "      <th></th>\n",
       "    </tr>\n",
       "  </thead>\n",
       "  <tbody>\n",
       "    <tr>\n",
       "      <th rowspan=\"2\" valign=\"top\">False</th>\n",
       "      <th>2021</th>\n",
       "      <td>17142.420027</td>\n",
       "      <td>59.155415</td>\n",
       "      <td>367.472587</td>\n",
       "      <td>1.180747</td>\n",
       "      <td>0.380909</td>\n",
       "      <td>11.049879</td>\n",
       "      <td>0.424834</td>\n",
       "      <td>19.871530</td>\n",
       "      <td>0.305737</td>\n",
       "      <td>0.427582</td>\n",
       "      <td>0.198110</td>\n",
       "      <td>0.097643</td>\n",
       "      <td>0.015265</td>\n",
       "      <td>1.202194</td>\n",
       "      <td>0.882102</td>\n",
       "      <td>13.823108</td>\n",
       "      <td>0.512187</td>\n",
       "      <td>21.364341</td>\n",
       "    </tr>\n",
       "    <tr>\n",
       "      <th>2022</th>\n",
       "      <td>53375.674205</td>\n",
       "      <td>97.692630</td>\n",
       "      <td>445.451785</td>\n",
       "      <td>1.179916</td>\n",
       "      <td>1.038794</td>\n",
       "      <td>10.807450</td>\n",
       "      <td>0.452435</td>\n",
       "      <td>17.207498</td>\n",
       "      <td>-0.207892</td>\n",
       "      <td>0.446374</td>\n",
       "      <td>0.052575</td>\n",
       "      <td>-0.339672</td>\n",
       "      <td>-0.122884</td>\n",
       "      <td>1.191725</td>\n",
       "      <td>2.494184</td>\n",
       "      <td>13.428847</td>\n",
       "      <td>0.571514</td>\n",
       "      <td>20.980325</td>\n",
       "    </tr>\n",
       "    <tr>\n",
       "      <th rowspan=\"2\" valign=\"top\">True</th>\n",
       "      <th>2021</th>\n",
       "      <td>17087.594645</td>\n",
       "      <td>61.198126</td>\n",
       "      <td>343.560107</td>\n",
       "      <td>1.180164</td>\n",
       "      <td>0.361834</td>\n",
       "      <td>11.488884</td>\n",
       "      <td>0.459772</td>\n",
       "      <td>19.610112</td>\n",
       "      <td>0.287956</td>\n",
       "      <td>0.488198</td>\n",
       "      <td>0.143533</td>\n",
       "      <td>0.068253</td>\n",
       "      <td>0.027405</td>\n",
       "      <td>1.199406</td>\n",
       "      <td>0.888434</td>\n",
       "      <td>14.527175</td>\n",
       "      <td>0.541029</td>\n",
       "      <td>21.165114</td>\n",
       "    </tr>\n",
       "    <tr>\n",
       "      <th>2022</th>\n",
       "      <td>52545.046219</td>\n",
       "      <td>108.259505</td>\n",
       "      <td>401.855548</td>\n",
       "      <td>1.179279</td>\n",
       "      <td>0.766829</td>\n",
       "      <td>10.386509</td>\n",
       "      <td>0.398924</td>\n",
       "      <td>16.992298</td>\n",
       "      <td>-0.246668</td>\n",
       "      <td>0.513989</td>\n",
       "      <td>0.108917</td>\n",
       "      <td>-0.340827</td>\n",
       "      <td>-0.081071</td>\n",
       "      <td>1.190111</td>\n",
       "      <td>1.852193</td>\n",
       "      <td>13.680837</td>\n",
       "      <td>0.538159</td>\n",
       "      <td>21.125238</td>\n",
       "    </tr>\n",
       "  </tbody>\n",
       "</table>\n",
       "</div>"
      ],
      "text/plain": [
       "                                   hid  operation_id  hive_age_next_season  \\\n",
       "death_next_season season                                                     \n",
       "False             2021    17142.420027     59.155415            367.472587   \n",
       "                  2022    53375.674205     97.692630            445.451785   \n",
       "True              2021    17087.594645     61.198126            343.560107   \n",
       "                  2022    52545.046219    108.259505            401.855548   \n",
       "\n",
       "                          aqhi_average  prcp_average  wspd_average  \\\n",
       "death_next_season season                                             \n",
       "False             2021        1.180747      0.380909     11.049879   \n",
       "                  2022        1.179916      1.038794     10.807450   \n",
       "True              2021        1.180164      0.361834     11.488884   \n",
       "                  2022        1.179279      0.766829     10.386509   \n",
       "\n",
       "                          ndvi_average  tavg_average  aqhi_skew  prcp_skew  \\\n",
       "death_next_season season                                                     \n",
       "False             2021        0.424834     19.871530   0.305737   0.427582   \n",
       "                  2022        0.452435     17.207498  -0.207892   0.446374   \n",
       "True              2021        0.459772     19.610112   0.287956   0.488198   \n",
       "                  2022        0.398924     16.992298  -0.246668   0.513989   \n",
       "\n",
       "                          wspd_skew  ndvi_skew  tavg_skew  aqhi_max  prcp_max  \\\n",
       "death_next_season season                                                        \n",
       "False             2021     0.198110   0.097643   0.015265  1.202194  0.882102   \n",
       "                  2022     0.052575  -0.339672  -0.122884  1.191725  2.494184   \n",
       "True              2021     0.143533   0.068253   0.027405  1.199406  0.888434   \n",
       "                  2022     0.108917  -0.340827  -0.081071  1.190111  1.852193   \n",
       "\n",
       "                           wspd_max  ndvi_max   tavg_max  \n",
       "death_next_season season                                  \n",
       "False             2021    13.823108  0.512187  21.364341  \n",
       "                  2022    13.428847  0.571514  20.980325  \n",
       "True              2021    14.527175  0.541029  21.165114  \n",
       "                  2022    13.680837  0.538159  21.125238  "
      ]
     },
     "execution_count": 447,
     "metadata": {},
     "output_type": "execute_result"
    }
   ],
   "source": [
    "data.groupby([\"death_next_season\",\"season\"]).mean(numeric_only=True)"
   ]
  },
  {
   "cell_type": "code",
   "execution_count": 448,
   "id": "4ee48186-7218-4e98-acbf-a4b82741ae41",
   "metadata": {},
   "outputs": [
    {
     "data": {
      "text/plain": [
       "season\n",
       "2022    24497\n",
       "2021     5942\n",
       "Name: count, dtype: int64"
      ]
     },
     "execution_count": 448,
     "metadata": {},
     "output_type": "execute_result"
    }
   ],
   "source": [
    "data.season.value_counts()"
   ]
  },
  {
   "cell_type": "code",
   "execution_count": 449,
   "id": "4ec7a44e-1665-4ab1-aeba-c79a2e87decf",
   "metadata": {},
   "outputs": [
    {
     "data": {
      "text/plain": [
       "hid                     0.000000\n",
       "creation_date           0.000000\n",
       "operation_id            0.000000\n",
       "death_date              0.000000\n",
       "season                  0.000000\n",
       "death_next_season       0.000000\n",
       "hive_age_next_season    0.000000\n",
       "aqhi_average            0.005618\n",
       "prcp_average            0.005618\n",
       "wspd_average            0.005618\n",
       "ndvi_average            0.005618\n",
       "tavg_average            0.005618\n",
       "aqhi_skew               0.071060\n",
       "prcp_skew               0.376294\n",
       "wspd_skew               0.015901\n",
       "ndvi_skew               0.007260\n",
       "tavg_skew               0.015572\n",
       "aqhi_max                0.005618\n",
       "prcp_max                0.005618\n",
       "wspd_max                0.005618\n",
       "ndvi_max                0.005618\n",
       "tavg_max                0.005618\n",
       "region                  0.000000\n",
       "dtype: float64"
      ]
     },
     "execution_count": 449,
     "metadata": {},
     "output_type": "execute_result"
    }
   ],
   "source": [
    "data.isnull().mean()"
   ]
  },
  {
   "cell_type": "markdown",
   "id": "32c60037-50f2-4006-9181-a6a41cdfd393",
   "metadata": {},
   "source": [
    "*** \n",
    "### Quick viz \n",
    "\n",
    "Just checking a bit the data for intuition"
   ]
  },
  {
   "cell_type": "markdown",
   "id": "9acd7d96-89ae-45ca-a077-e78ecd4402b0",
   "metadata": {},
   "source": [
    "### Check different sensors bar chart"
   ]
  },
  {
   "cell_type": "code",
   "execution_count": 450,
   "id": "4e63b0f6-da11-4a86-a410-b39684060ecf",
   "metadata": {},
   "outputs": [
    {
     "data": {
      "image/png": "[encoded data removed]",
      "text/plain": [
       "<Figure size 1400x600 with 1 Axes>"
      ]
     },
     "metadata": {},
     "output_type": "display_data"
    }
   ],
   "source": [
    "plot_survival_bar_per_state(data, \"aqhi_average\") # Bias by region for sure"
   ]
  },
  {
   "cell_type": "markdown",
   "id": "b776403a-e345-468f-bb68-f1c190e9f20d",
   "metadata": {},
   "source": [
    "### Check relation NDVI ~ AQHI\n",
    "\n",
    "\n",
    "Idea is that increased vegetation should lead to less extreme AQHI value"
   ]
  },
  {
   "cell_type": "code",
   "execution_count": 451,
   "id": "281664bb-41e7-45e6-a4ca-6f29a5185056",
   "metadata": {},
   "outputs": [
    {
     "data": {
      "image/png": "[encoded data removed]",
      "text/plain": [
       "<Figure size 1400x600 with 1 Axes>"
      ]
     },
     "metadata": {},
     "output_type": "display_data"
    }
   ],
   "source": [
    "sns.set_palette('colorblind') # Otherwise very confusing \n",
    "sns.set_style(\"whitegrid\")\n",
    "_, ax = plt.subplots(nrows=1, ncols=1, figsize=(14,6))\n",
    "for s in data['region'].unique():\n",
    "    sub = data.loc[data['region']==s]\n",
    "    if len(sub) > 10:\n",
    "        sns.regplot(x=sub[\"ndvi_average\"], y=sub[\"aqhi_max\"], label=s, ax=ax)\n",
    "plt.ylabel(\"AQHI Maximum value\")\n",
    "plt.xlabel(\"NDVI Average value\")\n",
    "plt.title(\"Relation between AQHI and NDVI per region\")\n",
    "plt.legend()\n",
    "plt.show()"
   ]
  },
  {
   "cell_type": "markdown",
   "id": "84a5f497-3fb5-422a-af41-8879be481fb0",
   "metadata": {},
   "source": [
    "### Check raw AQHI ~ mortality\n",
    "\n",
    "Pattern for Quebec are different from the rest of the dataset"
   ]
  },
  {
   "cell_type": "code",
   "execution_count": 452,
   "id": "a4d16e20-f359-4329-beb8-b8227d592d01",
   "metadata": {},
   "outputs": [
    {
     "data": {
      "image/png": "[encoded data removed]",
      "text/plain": [
       "<Figure size 1400x600 with 1 Axes>"
      ]
     },
     "metadata": {},
     "output_type": "display_data"
    }
   ],
   "source": [
    "sns.set_palette(NECTAR_PALETTE)\n",
    "sns.set_style(\"whitegrid\")\n",
    "_, ax = plt.subplots(nrows=1, ncols=1, figsize=(14,6))\n",
    "sns.regplot(x=\"aqhi_average\",y=\"death_next_season\",data=data.loc[data['region']==\" QC\"],logistic=True, truncate=False, ax=ax)\n",
    "plt.show()"
   ]
  },
  {
   "cell_type": "code",
   "execution_count": 453,
   "id": "a696584b-bfb6-4be3-9b47-a626e00d30cc",
   "metadata": {},
   "outputs": [
    {
     "data": {
      "image/png": "[encoded data removed]",
      "text/plain": [
       "<Figure size 1400x600 with 1 Axes>"
      ]
     },
     "metadata": {},
     "output_type": "display_data"
    }
   ],
   "source": [
    "sns.set_palette(NECTAR_PALETTE)\n",
    "sns.set_style(\"whitegrid\")\n",
    "_, ax = plt.subplots(nrows=1, ncols=1, figsize=(14,6))\n",
    "sns.regplot(x=\"aqhi_average\",y=\"death_next_season\",data=data.loc[data['region']!=\" QC\"],logistic=True, truncate=False, ax=ax)\n",
    "plt.show()"
   ]
  },
  {
   "cell_type": "markdown",
   "id": "a80def3a-bda6-4cec-af16-8d345c073059",
   "metadata": {},
   "source": [
    "*** \n",
    "### Check per region"
   ]
  },
  {
   "cell_type": "code",
   "execution_count": 454,
   "id": "cdb14b90-9867-4021-bca6-b3e4ccb5ea7f",
   "metadata": {},
   "outputs": [
    {
     "data": {
      "text/plain": [
       "<Axes: xlabel='aqhi', ylabel='Density'>"
      ]
     },
     "execution_count": 454,
     "metadata": {},
     "output_type": "execute_result"
    },
    {
     "data": {
      "image/png": "[encoded data removed]",
      "text/plain": [
       "<Figure size 640x480 with 1 Axes>"
      ]
     },
     "metadata": {},
     "output_type": "display_data"
    }
   ],
   "source": [
    "sns.distplot(aqi['aqhi'])"
   ]
  },
  {
   "cell_type": "code",
   "execution_count": 455,
   "id": "0fe5cda2-bc9c-4e1b-accd-5b44ae4d0807",
   "metadata": {},
   "outputs": [
    {
     "data": {
      "text/plain": [
       "region\n",
       " AB        21661\n",
       " QC         8021\n",
       " WA          519\n",
       "Unknown      146\n",
       " NS           92\n",
       "Name: count, dtype: int64"
      ]
     },
     "execution_count": 455,
     "metadata": {},
     "output_type": "execute_result"
    }
   ],
   "source": [
    "data.region.value_counts()"
   ]
  },
  {
   "cell_type": "code",
   "execution_count": 456,
   "id": "fe3c3f00-cdf6-4244-90f3-dcf7861025ff",
   "metadata": {},
   "outputs": [
    {
     "data": {
      "text/html": [
       "<div>\n",
       "<style scoped>\n",
       "    .dataframe tbody tr th:only-of-type {\n",
       "        vertical-align: middle;\n",
       "    }\n",
       "\n",
       "    .dataframe tbody tr th {\n",
       "        vertical-align: top;\n",
       "    }\n",
       "\n",
       "    .dataframe thead th {\n",
       "        text-align: right;\n",
       "    }\n",
       "</style>\n",
       "<table border=\"1\" class=\"dataframe\">\n",
       "  <thead>\n",
       "    <tr style=\"text-align: right;\">\n",
       "      <th></th>\n",
       "      <th>hid</th>\n",
       "      <th>operation_id</th>\n",
       "      <th>season</th>\n",
       "      <th>death_next_season</th>\n",
       "      <th>hive_age_next_season</th>\n",
       "      <th>aqhi_average</th>\n",
       "      <th>prcp_average</th>\n",
       "      <th>wspd_average</th>\n",
       "      <th>ndvi_average</th>\n",
       "      <th>tavg_average</th>\n",
       "      <th>aqhi_skew</th>\n",
       "      <th>prcp_skew</th>\n",
       "      <th>wspd_skew</th>\n",
       "      <th>ndvi_skew</th>\n",
       "      <th>tavg_skew</th>\n",
       "      <th>aqhi_max</th>\n",
       "      <th>prcp_max</th>\n",
       "      <th>wspd_max</th>\n",
       "      <th>ndvi_max</th>\n",
       "      <th>tavg_max</th>\n",
       "    </tr>\n",
       "    <tr>\n",
       "      <th>region</th>\n",
       "      <th></th>\n",
       "      <th></th>\n",
       "      <th></th>\n",
       "      <th></th>\n",
       "      <th></th>\n",
       "      <th></th>\n",
       "      <th></th>\n",
       "      <th></th>\n",
       "      <th></th>\n",
       "      <th></th>\n",
       "      <th></th>\n",
       "      <th></th>\n",
       "      <th></th>\n",
       "      <th></th>\n",
       "      <th></th>\n",
       "      <th></th>\n",
       "      <th></th>\n",
       "      <th></th>\n",
       "      <th></th>\n",
       "      <th></th>\n",
       "    </tr>\n",
       "  </thead>\n",
       "  <tbody>\n",
       "    <tr>\n",
       "      <th>AB</th>\n",
       "      <td>52117.902590</td>\n",
       "      <td>100.687180</td>\n",
       "      <td>2021.882831</td>\n",
       "      <td>0.356909</td>\n",
       "      <td>394.927612</td>\n",
       "      <td>1.179109</td>\n",
       "      <td>0.772855</td>\n",
       "      <td>11.128865</td>\n",
       "      <td>0.390084</td>\n",
       "      <td>17.393223</td>\n",
       "      <td>-0.261076</td>\n",
       "      <td>0.481740</td>\n",
       "      <td>0.085542</td>\n",
       "      <td>-0.352426</td>\n",
       "      <td>-0.049906</td>\n",
       "      <td>1.190078</td>\n",
       "      <td>1.856207</td>\n",
       "      <td>14.341998</td>\n",
       "      <td>0.532196</td>\n",
       "      <td>21.145575</td>\n",
       "    </tr>\n",
       "    <tr>\n",
       "      <th>NS</th>\n",
       "      <td>57235.956522</td>\n",
       "      <td>160.000000</td>\n",
       "      <td>2022.000000</td>\n",
       "      <td>0.228261</td>\n",
       "      <td>379.467391</td>\n",
       "      <td>1.173855</td>\n",
       "      <td>5.177536</td>\n",
       "      <td>10.913225</td>\n",
       "      <td>0.717846</td>\n",
       "      <td>14.235145</td>\n",
       "      <td>0.560809</td>\n",
       "      <td>0.671719</td>\n",
       "      <td>0.611229</td>\n",
       "      <td>0.211670</td>\n",
       "      <td>-0.256701</td>\n",
       "      <td>1.180424</td>\n",
       "      <td>14.518478</td>\n",
       "      <td>16.040217</td>\n",
       "      <td>0.733306</td>\n",
       "      <td>18.540217</td>\n",
       "    </tr>\n",
       "    <tr>\n",
       "      <th>QC</th>\n",
       "      <td>30581.489964</td>\n",
       "      <td>73.963970</td>\n",
       "      <td>2021.596684</td>\n",
       "      <td>0.371525</td>\n",
       "      <td>472.692806</td>\n",
       "      <td>1.181101</td>\n",
       "      <td>1.010589</td>\n",
       "      <td>10.040174</td>\n",
       "      <td>0.588826</td>\n",
       "      <td>17.912207</td>\n",
       "      <td>0.268688</td>\n",
       "      <td>0.447677</td>\n",
       "      <td>0.093037</td>\n",
       "      <td>-0.048469</td>\n",
       "      <td>-0.177112</td>\n",
       "      <td>1.199653</td>\n",
       "      <td>2.418007</td>\n",
       "      <td>11.869741</td>\n",
       "      <td>0.636046</td>\n",
       "      <td>20.459211</td>\n",
       "    </tr>\n",
       "    <tr>\n",
       "      <th>WA</th>\n",
       "      <td>29417.398844</td>\n",
       "      <td>36.000000</td>\n",
       "      <td>2021.674374</td>\n",
       "      <td>0.007707</td>\n",
       "      <td>504.603083</td>\n",
       "      <td>1.187158</td>\n",
       "      <td>0.327778</td>\n",
       "      <td>9.770713</td>\n",
       "      <td>0.091410</td>\n",
       "      <td>24.016185</td>\n",
       "      <td>0.104507</td>\n",
       "      <td>-0.138800</td>\n",
       "      <td>0.015437</td>\n",
       "      <td>0.291424</td>\n",
       "      <td>-0.091928</td>\n",
       "      <td>1.209503</td>\n",
       "      <td>0.545472</td>\n",
       "      <td>12.650867</td>\n",
       "      <td>0.257972</td>\n",
       "      <td>26.821773</td>\n",
       "    </tr>\n",
       "    <tr>\n",
       "      <th>Unknown</th>\n",
       "      <td>58694.027397</td>\n",
       "      <td>132.972603</td>\n",
       "      <td>2022.000000</td>\n",
       "      <td>0.506849</td>\n",
       "      <td>378.095890</td>\n",
       "      <td>1.201544</td>\n",
       "      <td>1.389243</td>\n",
       "      <td>9.530201</td>\n",
       "      <td>0.531999</td>\n",
       "      <td>20.505437</td>\n",
       "      <td>0.125424</td>\n",
       "      <td>0.566515</td>\n",
       "      <td>-0.115486</td>\n",
       "      <td>0.080857</td>\n",
       "      <td>-0.351350</td>\n",
       "      <td>1.224652</td>\n",
       "      <td>3.818440</td>\n",
       "      <td>10.824823</td>\n",
       "      <td>0.586602</td>\n",
       "      <td>23.363121</td>\n",
       "    </tr>\n",
       "  </tbody>\n",
       "</table>\n",
       "</div>"
      ],
      "text/plain": [
       "                  hid  operation_id       season  death_next_season  \\\n",
       "region                                                                \n",
       " AB      52117.902590    100.687180  2021.882831           0.356909   \n",
       " NS      57235.956522    160.000000  2022.000000           0.228261   \n",
       " QC      30581.489964     73.963970  2021.596684           0.371525   \n",
       " WA      29417.398844     36.000000  2021.674374           0.007707   \n",
       "Unknown  58694.027397    132.972603  2022.000000           0.506849   \n",
       "\n",
       "         hive_age_next_season  aqhi_average  prcp_average  wspd_average  \\\n",
       "region                                                                    \n",
       " AB                394.927612      1.179109      0.772855     11.128865   \n",
       " NS                379.467391      1.173855      5.177536     10.913225   \n",
       " QC                472.692806      1.181101      1.010589     10.040174   \n",
       " WA                504.603083      1.187158      0.327778      9.770713   \n",
       "Unknown            378.095890      1.201544      1.389243      9.530201   \n",
       "\n",
       "         ndvi_average  tavg_average  aqhi_skew  prcp_skew  wspd_skew  \\\n",
       "region                                                                 \n",
       " AB          0.390084     17.393223  -0.261076   0.481740   0.085542   \n",
       " NS          0.717846     14.235145   0.560809   0.671719   0.611229   \n",
       " QC          0.588826     17.912207   0.268688   0.447677   0.093037   \n",
       " WA          0.091410     24.016185   0.104507  -0.138800   0.015437   \n",
       "Unknown      0.531999     20.505437   0.125424   0.566515  -0.115486   \n",
       "\n",
       "         ndvi_skew  tavg_skew  aqhi_max   prcp_max   wspd_max  ndvi_max  \\\n",
       "region                                                                    \n",
       " AB      -0.352426  -0.049906  1.190078   1.856207  14.341998  0.532196   \n",
       " NS       0.211670  -0.256701  1.180424  14.518478  16.040217  0.733306   \n",
       " QC      -0.048469  -0.177112  1.199653   2.418007  11.869741  0.636046   \n",
       " WA       0.291424  -0.091928  1.209503   0.545472  12.650867  0.257972   \n",
       "Unknown   0.080857  -0.351350  1.224652   3.818440  10.824823  0.586602   \n",
       "\n",
       "          tavg_max  \n",
       "region              \n",
       " AB      21.145575  \n",
       " NS      18.540217  \n",
       " QC      20.459211  \n",
       " WA      26.821773  \n",
       "Unknown  23.363121  "
      ]
     },
     "execution_count": 456,
     "metadata": {},
     "output_type": "execute_result"
    }
   ],
   "source": [
    "data.groupby(\"region\").mean(numeric_only=True)"
   ]
  },
  {
   "cell_type": "code",
   "execution_count": 457,
   "id": "2cf8f094-f412-4b7b-a829-78d6b123ef25",
   "metadata": {},
   "outputs": [
    {
     "data": {
      "text/plain": [
       "region\n",
       " AB        21661\n",
       " QC         8021\n",
       " WA          519\n",
       "Unknown      146\n",
       " NS           92\n",
       "Name: count, dtype: int64"
      ]
     },
     "execution_count": 457,
     "metadata": {},
     "output_type": "execute_result"
    }
   ],
   "source": [
    "data = data.loc[data['region']!=' CA']\n",
    "data.region.value_counts()"
   ]
  },
  {
   "cell_type": "code",
   "execution_count": 458,
   "id": "563ebb1f-5898-4a8d-ab51-2bf15e0e670c",
   "metadata": {},
   "outputs": [
    {
     "data": {
      "image/png": "[encoded data removed]",
      "text/plain": [
       "<Figure size 1400x600 with 1 Axes>"
      ]
     },
     "metadata": {},
     "output_type": "display_data"
    }
   ],
   "source": [
    "sns.set_style(\"whitegrid\")\n",
    "_, axes = plt.subplots(nrows=1, ncols=1, figsize=(14,6))\n",
    "ax = sns.barplot(\n",
    "    y=data['aqhi_average'],x=data['season'].astype(str),\n",
    "    hue=data[\"death_next_season\"].apply(lambda x : \"Death\" if x == 1 else \"Survived\"), ax=axes,\n",
    "    palette=\"blend:#D8A348,#1D1D1D\"#, errcolor=\"darkred\"\n",
    ")\n",
    "#  \n",
    "ax.set_ylabel(\"Average AQHI\")\n",
    "ax.set_xlabel(\"Did not survived until next season\")\n",
    "ax.tick_params(labelrotation=90)\n",
    "plt.title(\"Average AQHI during 2020-2022 seasons \\n for hives that survived or not\")\n",
    "plt.show()"
   ]
  },
  {
   "cell_type": "markdown",
   "id": "3c1d82bd-c036-4a27-b01d-5fd480195b6a",
   "metadata": {},
   "source": [
    "***\n",
    "### DESCRIPTIVE STATS"
   ]
  },
  {
   "cell_type": "code",
   "execution_count": 459,
   "id": "530475c7-72b4-49c2-81f6-e5cc8f426e8b",
   "metadata": {},
   "outputs": [
    {
     "data": {
      "text/plain": [
       "aqhi_average    0.005618\n",
       "ndvi_average    0.005618\n",
       "dtype: float64"
      ]
     },
     "execution_count": 459,
     "metadata": {},
     "output_type": "execute_result"
    }
   ],
   "source": [
    "data[['aqhi_average','ndvi_average']].isnull().mean()"
   ]
  },
  {
   "cell_type": "code",
   "execution_count": 460,
   "id": "0b63e0d5-ae60-4a60-ad5d-6db73a7bb956",
   "metadata": {},
   "outputs": [],
   "source": [
    "data.fillna(0,inplace=True) # Filling null value with zero\n",
    "\n",
    "data['operation_id'] = data['operation_id'].astype(str)\n",
    "data['season'] = data['season'].astype(str)"
   ]
  },
  {
   "cell_type": "markdown",
   "id": "986df10b-def1-4c0a-9a05-7a096ebbc5f5",
   "metadata": {},
   "source": [
    "### Models "
   ]
  },
  {
   "cell_type": "code",
   "execution_count": 461,
   "id": "924dd627-671d-4d0a-a4ce-74a6e9e0f855",
   "metadata": {},
   "outputs": [
    {
     "data": {
      "text/plain": [
       "<Axes: xlabel='aqhi_average', ylabel='Count'>"
      ]
     },
     "execution_count": 461,
     "metadata": {},
     "output_type": "execute_result"
    },
    {
     "data": {
      "image/png": "[encoded data removed]",
      "text/plain": [
       "<Figure size 640x480 with 1 Axes>"
      ]
     },
     "metadata": {},
     "output_type": "display_data"
    }
   ],
   "source": [
    "sns.histplot(data['aqhi_average'])"
   ]
  },
  {
   "cell_type": "code",
   "execution_count": 462,
   "id": "b0bc223a-fb06-43a2-8d0c-44d7460f9d55",
   "metadata": {},
   "outputs": [
    {
     "data": {
      "text/plain": [
       "<Axes: xlabel='ndvi_average', ylabel='Count'>"
      ]
     },
     "execution_count": 462,
     "metadata": {},
     "output_type": "execute_result"
    },
    {
     "data": {
      "image/png": "[encoded data removed]",
      "text/plain": [
       "<Figure size 640x480 with 1 Axes>"
      ]
     },
     "metadata": {},
     "output_type": "display_data"
    }
   ],
   "source": [
    "sns.histplot(data['ndvi_average'])"
   ]
  },
  {
   "cell_type": "code",
   "execution_count": 463,
   "id": "126272f1-063f-4dd7-baa9-35663f1265dd",
   "metadata": {},
   "outputs": [
    {
     "data": {
      "text/plain": [
       "0.35513650251322315"
      ]
     },
     "execution_count": 463,
     "metadata": {},
     "output_type": "execute_result"
    }
   ],
   "source": [
    "data.death_next_season.mean()"
   ]
  },
  {
   "cell_type": "code",
   "execution_count": 464,
   "id": "37deb123-2621-4c07-b1bc-843bae54d6eb",
   "metadata": {},
   "outputs": [
    {
     "name": "stdout",
     "output_type": "stream",
     "text": [
      "Linear mixed model fit by maximum likelihood  ['lmerMod']\n",
      "Formula: death_next_season~1+(1|region)\n",
      "\n",
      "Family: binomial\t Inference: parametric\n",
      "\n",
      "Number of observations: 30439\t Groups: {'region': 5.0}\n",
      "\n",
      "Log-likelihood: -19597.962 \t AIC: 39199.924\n",
      "\n",
      "Random effects:\n",
      "\n",
      "               Name    Var    Std\n",
      "region  (Intercept)  2.918  1.708\n",
      "\n",
      "No random effect correlations specified\n",
      "\n",
      "Fixed effects:\n",
      "\n",
      "             Estimate  2.5_ci  97.5_ci     SE     OR  OR_2.5_ci  OR_97.5_ci  \\\n",
      "(Intercept)    -1.407  -2.833    0.018  0.727  0.245      0.059       1.018   \n",
      "\n",
      "              Prob  Prob_2.5_ci  Prob_97.5_ci  Z-stat  P-val Sig  \n",
      "(Intercept)  0.197        0.056         0.504  -1.935  0.053   .  \n"
     ]
    }
   ],
   "source": [
    "model0 = Lmer(\"death_next_season  ~ 1 + (1|region)\",\n",
    "             data=data, family = 'binomial')\n",
    "\n",
    "print(model0.fit())"
   ]
  },
  {
   "cell_type": "code",
   "execution_count": 465,
   "id": "0f794227-1fab-48c2-9454-c95686793484",
   "metadata": {},
   "outputs": [
    {
     "name": "stdout",
     "output_type": "stream",
     "text": [
      "boundary (singular) fit: see help('isSingular') \n",
      "\n",
      "Linear mixed model fit by maximum likelihood  ['lmerMod']\n",
      "Formula: death_next_season~aqhi_average*ndvi_average+(aqhi_average|region)\n",
      "\n",
      "Family: binomial\t Inference: parametric\n",
      "\n",
      "Number of observations: 30439\t Groups: {'region': 5.0}\n",
      "\n",
      "Log-likelihood: -19113.827 \t AIC: 38241.654\n",
      "\n",
      "Random effects:\n",
      "\n",
      "                Name     Var    Std\n",
      "region   (Intercept)  93.483  9.669\n",
      "region  aqhi_average  38.131  6.175\n",
      "\n",
      "                IV1           IV2  Corr\n",
      "region  (Intercept)  aqhi_average  -1.0\n",
      "\n",
      "Fixed effects:\n",
      "\n",
      "                           Estimate  2.5_ci  97.5_ci     SE            OR  \\\n",
      "(Intercept)                  -6.013 -10.884   -1.143  2.485  2.000000e-03   \n",
      "aqhi_average                  4.957   1.798    8.116  1.612  1.422010e+02   \n",
      "ndvi_average                 28.567  25.050   32.084  1.794  2.549302e+12   \n",
      "aqhi_average:ndvi_average   -26.577 -29.580  -23.573  1.532  0.000000e+00   \n",
      "\n",
      "                              OR_2.5_ci    OR_97.5_ci   Prob  Prob_2.5_ci  \\\n",
      "(Intercept)                0.000000e+00  3.190000e-01  0.002        0.000   \n",
      "aqhi_average               6.040000e+00  3.348102e+03  0.993        0.858   \n",
      "ndvi_average               7.569915e+10  8.585221e+13  1.000        1.000   \n",
      "aqhi_average:ndvi_average  0.000000e+00  0.000000e+00  0.000        0.000   \n",
      "\n",
      "                           Prob_97.5_ci  Z-stat  P-val  Sig  \n",
      "(Intercept)                       0.242  -2.420  0.016    *  \n",
      "aqhi_average                      1.000   3.076  0.002   **  \n",
      "ndvi_average                      1.000  15.921  0.000  ***  \n",
      "aqhi_average:ndvi_average         0.000 -17.343  0.000  ***  \n"
     ]
    }
   ],
   "source": [
    "model = Lmer(\"death_next_season  ~  aqhi_average*ndvi_average  + (aqhi_average|region)\",\n",
    "             data=data, family = 'binomial')\n",
    "\n",
    "print(model.fit())"
   ]
  },
  {
   "cell_type": "code",
   "execution_count": 467,
   "id": "c3821bc9-14e3-4b22-911d-8f869421bde7",
   "metadata": {},
   "outputs": [
    {
     "name": "stdout",
     "output_type": "stream",
     "text": [
      "boundary (singular) fit: see help('isSingular') \n",
      "\n",
      "Linear mixed model fit by maximum likelihood  ['lmerMod']\n",
      "Formula: death_next_season~aqhi_average+ndvi_average+(aqhi_average|region)\n",
      "\n",
      "Family: binomial\t Inference: parametric\n",
      "\n",
      "Number of observations: 30439\t Groups: {'region': 5.0}\n",
      "\n",
      "Log-likelihood: -19209.917 \t AIC: 38431.834\n",
      "\n",
      "Random effects:\n",
      "\n",
      "                Name     Var    Std\n",
      "region   (Intercept)  95.201  9.757\n",
      "region  aqhi_average  40.117  6.334\n",
      "\n",
      "                IV1           IV2  Corr\n",
      "region  (Intercept)  aqhi_average  -1.0\n",
      "\n",
      "Fixed effects:\n",
      "\n",
      "              Estimate  2.5_ci  97.5_ci     SE      OR  OR_2.5_ci  OR_97.5_ci  \\\n",
      "(Intercept)     -5.591  -9.951   -1.231  2.224   0.004      0.000       0.292   \n",
      "aqhi_average     4.494   1.640    7.348  1.456  89.478      5.153    1553.777   \n",
      "ndvi_average    -2.552  -2.744   -2.359  0.098   0.078      0.064       0.094   \n",
      "\n",
      "               Prob  Prob_2.5_ci  Prob_97.5_ci  Z-stat  P-val  Sig  \n",
      "(Intercept)   0.004        0.000         0.226  -2.513  0.012    *  \n",
      "aqhi_average  0.989        0.837         0.999   3.086  0.002   **  \n",
      "ndvi_average  0.072        0.060         0.086 -26.016  0.000  ***  \n"
     ]
    }
   ],
   "source": [
    "model2 = Lmer(\"death_next_season  ~ aqhi_average + ndvi_average  + (aqhi_average|region)\",\n",
    "             data=data, family = 'binomial')\n",
    "\n",
    "print(model2.fit())"
   ]
  },
  {
   "cell_type": "code",
   "execution_count": 468,
   "id": "6728d062-433f-43e3-9480-2dbf25c1d90c",
   "metadata": {},
   "outputs": [
    {
     "name": "stdout",
     "output_type": "stream",
     "text": [
      "boundary (singular) fit: see help('isSingular') \n",
      "\n",
      "Linear mixed model fit by maximum likelihood  ['lmerMod']\n",
      "Formula: death_next_season~aqhi_average*ndvi_average+(aqhi_average|region)\n",
      "\n",
      "Family: binomial\t Inference: parametric\n",
      "\n",
      "Number of observations: 30439\t Groups: {'region': 5.0}\n",
      "\n",
      "Log-likelihood: -19113.827 \t AIC: 38241.654\n",
      "\n",
      "Random effects:\n",
      "\n",
      "                Name     Var    Std\n",
      "region   (Intercept)  93.483  9.669\n",
      "region  aqhi_average  38.131  6.175\n",
      "\n",
      "                IV1           IV2  Corr\n",
      "region  (Intercept)  aqhi_average  -1.0\n",
      "\n",
      "Fixed effects:\n",
      "\n",
      "                           Estimate  2.5_ci  97.5_ci     SE            OR  \\\n",
      "(Intercept)                  -6.013 -10.884   -1.143  2.485  2.000000e-03   \n",
      "aqhi_average                  4.957   1.798    8.116  1.612  1.422010e+02   \n",
      "ndvi_average                 28.567  25.050   32.084  1.794  2.549302e+12   \n",
      "aqhi_average:ndvi_average   -26.577 -29.580  -23.573  1.532  0.000000e+00   \n",
      "\n",
      "                              OR_2.5_ci    OR_97.5_ci   Prob  Prob_2.5_ci  \\\n",
      "(Intercept)                0.000000e+00  3.190000e-01  0.002        0.000   \n",
      "aqhi_average               6.040000e+00  3.348102e+03  0.993        0.858   \n",
      "ndvi_average               7.569915e+10  8.585221e+13  1.000        1.000   \n",
      "aqhi_average:ndvi_average  0.000000e+00  0.000000e+00  0.000        0.000   \n",
      "\n",
      "                           Prob_97.5_ci  Z-stat  P-val  Sig  \n",
      "(Intercept)                       0.242  -2.420  0.016    *  \n",
      "aqhi_average                      1.000   3.076  0.002   **  \n",
      "ndvi_average                      1.000  15.921  0.000  ***  \n",
      "aqhi_average:ndvi_average         0.000 -17.343  0.000  ***  \n"
     ]
    }
   ],
   "source": [
    "model3 = Lmer(\"death_next_season  ~ aqhi_average*ndvi_average  + (aqhi_average|region)\",\n",
    "             data=data, family = 'binomial')\n",
    "\n",
    "print(model3.fit())"
   ]
  },
  {
   "cell_type": "code",
   "execution_count": 469,
   "id": "1f34ee3f-4e21-4e5b-beec-0c25193ea219",
   "metadata": {},
   "outputs": [
    {
     "name": "stdout",
     "output_type": "stream",
     "text": [
      "boundary (singular) fit: see help('isSingular') \n",
      "\n",
      "Linear mixed model fit by maximum likelihood  ['lmerMod']\n",
      "Formula: death_next_season~aqhi_average+ndvi_average+tavg_average+prcp_average+wspd_average+(aqhi_average|region)\n",
      "\n",
      "Family: binomial\t Inference: parametric\n",
      "\n",
      "Number of observations: 30439\t Groups: {'region': 5.0}\n",
      "\n",
      "Log-likelihood: -19053.843 \t AIC: 38125.687\n",
      "\n",
      "Random effects:\n",
      "\n",
      "                Name      Var     Std\n",
      "region   (Intercept)  139.749  11.822\n",
      "region  aqhi_average   66.154   8.134\n",
      "\n",
      "                IV1           IV2  Corr\n",
      "region  (Intercept)  aqhi_average  -1.0\n",
      "\n",
      "Fixed effects:\n",
      "\n",
      "              Estimate  2.5_ci  97.5_ci     SE      OR  OR_2.5_ci  OR_97.5_ci  \\\n",
      "(Intercept)     -5.907 -10.606   -1.208  2.397   0.003      0.000       0.299   \n",
      "aqhi_average     3.998   0.796    7.199  1.634  54.464      2.216    1338.616   \n",
      "ndvi_average    -1.330  -1.562   -1.098  0.118   0.265      0.210       0.334   \n",
      "tavg_average     0.037   0.026    0.048  0.006   1.038      1.026       1.050   \n",
      "prcp_average    -0.226  -0.257   -0.195  0.016   0.798      0.773       0.823   \n",
      "wspd_average    -0.008  -0.018    0.001  0.005   0.992      0.982       1.001   \n",
      "\n",
      "               Prob  Prob_2.5_ci  Prob_97.5_ci  Z-stat  P-val  Sig  \n",
      "(Intercept)   0.003        0.000         0.230  -2.464  0.014    *  \n",
      "aqhi_average  0.982        0.689         0.999   2.447  0.014    *  \n",
      "ndvi_average  0.209        0.173         0.250 -11.232  0.000  ***  \n",
      "tavg_average  0.509        0.506         0.512   6.411  0.000  ***  \n",
      "prcp_average  0.444        0.436         0.452 -14.181  0.000  ***  \n",
      "wspd_average  0.498        0.496         0.500  -1.773  0.076    .  \n"
     ]
    }
   ],
   "source": [
    "model4 = Lmer(\"death_next_season  ~ aqhi_average + ndvi_average + tavg_average + prcp_average + wspd_average  + (aqhi_average|region)\",\n",
    "             data=data, family = 'binomial')\n",
    "\n",
    "print(model4.fit())"
   ]
  },
  {
   "cell_type": "code",
   "execution_count": 470,
   "id": "4c6a0781-e469-47ec-8020-0b21811f2832",
   "metadata": {},
   "outputs": [
    {
     "name": "stdout",
     "output_type": "stream",
     "text": [
      "boundary (singular) fit: see help('isSingular') \n",
      "\n",
      "Linear mixed model fit by maximum likelihood  ['lmerMod']\n",
      "Formula: death_next_season~aqhi_average*wspd_average+ndvi_average+tavg_average+prcp_average+(aqhi_average|region)\n",
      "\n",
      "Family: binomial\t Inference: parametric\n",
      "\n",
      "Number of observations: 30439\t Groups: {'region': 5.0}\n",
      "\n",
      "Log-likelihood: -18892.926 \t AIC: 37805.852\n",
      "\n",
      "Random effects:\n",
      "\n",
      "                Name      Var     Std\n",
      "region   (Intercept)  189.119  13.752\n",
      "region  aqhi_average   91.964   9.590\n",
      "\n",
      "                IV1           IV2  Corr\n",
      "region  (Intercept)  aqhi_average  -1.0\n",
      "\n",
      "Fixed effects:\n",
      "\n",
      "                           Estimate  2.5_ci  97.5_ci     SE      OR  \\\n",
      "(Intercept)                  -6.916 -13.139   -0.693  3.175   0.001   \n",
      "aqhi_average                  3.381  -1.009    7.771  2.240  29.394   \n",
      "wspd_average                  2.681   2.384    2.979  0.152  14.605   \n",
      "ndvi_average                 -1.229  -1.467   -0.991  0.121   0.293   \n",
      "tavg_average                  0.139   0.123    0.155  0.008   1.149   \n",
      "prcp_average                 -0.258  -0.290   -0.227  0.016   0.772   \n",
      "aqhi_average:wspd_average    -2.289  -2.542   -2.036  0.129   0.101   \n",
      "\n",
      "                           OR_2.5_ci  OR_97.5_ci   Prob  Prob_2.5_ci  \\\n",
      "(Intercept)                    0.000       0.500  0.001        0.000   \n",
      "aqhi_average                   0.364    2371.052  0.967        0.267   \n",
      "wspd_average                  10.851      19.659  0.936        0.916   \n",
      "ndvi_average                   0.231       0.371  0.226        0.187   \n",
      "tavg_average                   1.131       1.168  0.535        0.531   \n",
      "prcp_average                   0.748       0.797  0.436        0.428   \n",
      "aqhi_average:wspd_average      0.079       0.130  0.092        0.073   \n",
      "\n",
      "                           Prob_97.5_ci  Z-stat  P-val  Sig  \n",
      "(Intercept)                       0.333  -2.178  0.029    *  \n",
      "aqhi_average                      1.000   1.509  0.131       \n",
      "wspd_average                      0.952  17.685  0.000  ***  \n",
      "ndvi_average                      0.271 -10.124  0.000  ***  \n",
      "tavg_average                      0.539  16.896  0.000  ***  \n",
      "prcp_average                      0.444 -16.073  0.000  ***  \n",
      "aqhi_average:wspd_average         0.115 -17.748  0.000  ***  \n"
     ]
    }
   ],
   "source": [
    "model5 = Lmer(\"death_next_season  ~ aqhi_average*wspd_average + ndvi_average + tavg_average + prcp_average   + (aqhi_average|region)\",\n",
    "             data=data, family = 'binomial')\n",
    "\n",
    "print(model5.fit())"
   ]
  },
  {
   "cell_type": "code",
   "execution_count": 471,
   "id": "6128b704-76c0-4b96-86ab-704696fa927f",
   "metadata": {},
   "outputs": [
    {
     "name": "stdout",
     "output_type": "stream",
     "text": [
      "[1] \"Model failed to converge with max|grad| = 0.103279 (tol = 0.002, component 1)\"\n",
      "[2] \" \\n\"                                                                          \n",
      "\n",
      "[1] \"Model is nearly unidentifiable: very large eigenvalue\\n - Rescale variables?\"\n",
      "[2] \" \\n\"                                                                         \n",
      "\n",
      "[1] \"Model is nearly unidentifiable: large eigenvalue ratio\\n - Rescale variables?\"\n",
      "[2] \" \\n\"                                                                          \n",
      "\n",
      "Linear mixed model fit by maximum likelihood  ['lmerMod']\n",
      "Formula: death_next_season~aqhi_average*wspd_average*tavg_average+(aqhi_average|region)\n",
      "\n",
      "Family: binomial\t Inference: parametric\n",
      "\n",
      "Number of observations: 30439\t Groups: {'region': 5.0}\n",
      "\n",
      "Log-likelihood: -18850.818 \t AIC: 37723.637\n",
      "\n",
      "Random effects:\n",
      "\n",
      "                Name     Var    Std\n",
      "region   (Intercept)  62.727  7.920\n",
      "region  aqhi_average  25.536  5.053\n",
      "\n",
      "                IV1           IV2   Corr\n",
      "region  (Intercept)  aqhi_average -0.999\n",
      "\n",
      "Fixed effects:\n",
      "\n",
      "                                        Estimate  2.5_ci  97.5_ci     SE  \\\n",
      "(Intercept)                               -5.083  -7.913   -2.253  1.444   \n",
      "aqhi_average                               8.560   6.546   10.575  1.028   \n",
      "wspd_average                               7.602   6.629    8.574  0.496   \n",
      "tavg_average                               0.936   0.345    1.526  0.301   \n",
      "aqhi_average:wspd_average                 -7.072  -7.918   -6.227  0.431   \n",
      "aqhi_average:tavg_average                 -1.061  -1.535   -0.586  0.242   \n",
      "wspd_average:tavg_average                 -0.372  -0.411   -0.333  0.020   \n",
      "aqhi_average:wspd_average:tavg_average     0.347   0.315    0.378  0.016   \n",
      "\n",
      "                                              OR  OR_2.5_ci  OR_97.5_ci  \\\n",
      "(Intercept)                                0.006      0.000       0.105   \n",
      "aqhi_average                            5219.965    696.351   39129.731   \n",
      "wspd_average                            2002.152    757.096    5294.721   \n",
      "tavg_average                               2.549      1.413       4.598   \n",
      "aqhi_average:wspd_average                  0.001      0.000       0.002   \n",
      "aqhi_average:tavg_average                  0.346      0.215       0.556   \n",
      "wspd_average:tavg_average                  0.689      0.663       0.717   \n",
      "aqhi_average:wspd_average:tavg_average     1.414      1.370       1.460   \n",
      "\n",
      "                                         Prob  Prob_2.5_ci  Prob_97.5_ci  \\\n",
      "(Intercept)                             0.006        0.000         0.095   \n",
      "aqhi_average                            1.000        0.999         1.000   \n",
      "wspd_average                            1.000        0.999         1.000   \n",
      "tavg_average                            0.718        0.586         0.821   \n",
      "aqhi_average:wspd_average               0.001        0.000         0.002   \n",
      "aqhi_average:tavg_average               0.257        0.177         0.357   \n",
      "wspd_average:tavg_average               0.408        0.399         0.417   \n",
      "aqhi_average:wspd_average:tavg_average  0.586        0.578         0.593   \n",
      "\n",
      "                                        Z-stat  P-val  Sig  \n",
      "(Intercept)                             -3.520  0.000  ***  \n",
      "aqhi_average                             8.329  0.000  ***  \n",
      "wspd_average                            15.321  0.000  ***  \n",
      "tavg_average                             3.107  0.002   **  \n",
      "aqhi_average:wspd_average              -16.401  0.000  ***  \n",
      "aqhi_average:tavg_average               -4.383  0.000  ***  \n",
      "wspd_average:tavg_average              -18.700  0.000  ***  \n",
      "aqhi_average:wspd_average:tavg_average  21.377  0.000  ***  \n"
     ]
    }
   ],
   "source": [
    "model6 = Lmer(\"death_next_season  ~ aqhi_average*wspd_average*tavg_average + (aqhi_average|region)\",\n",
    "             data=data, family = 'binomial')\n",
    "\n",
    "print(model6.fit())"
   ]
  },
  {
   "cell_type": "code",
   "execution_count": null,
   "id": "6f2d3b0b-1383-4b71-a519-8f0b1de05956",
   "metadata": {},
   "outputs": [],
   "source": [
    "model7a = Lmer(\"death_next_season  ~ aqhi_average*ndvi_average*wspd_average  + (aqhi_average|region) + (ndvi_average|region)\",\n",
    "             data=data, family = 'binomial')\n",
    "\n",
    "print(model7a.fit())"
   ]
  },
  {
   "cell_type": "code",
   "execution_count": null,
   "id": "e0801eea-9593-44fe-a1a8-09a8abd01308",
   "metadata": {},
   "outputs": [],
   "source": [
    "model7 = Lmer(\"death_next_season  ~ aqhi_average*ndvi_average + wspd_average  + (aqhi_average|region) + (ndvi_average|region)\",\n",
    "             data=data, family = 'binomial')\n",
    "\n",
    "print(model7.fit())"
   ]
  },
  {
   "cell_type": "code",
   "execution_count": null,
   "id": "db493a07-850d-4c87-a6cf-dcbcd8fdad51",
   "metadata": {},
   "outputs": [],
   "source": [
    "model8 = Lmer(\"death_next_season  ~ aqhi_average*ndvi_average*wspd_average  + (aqhi_average|region) \",\n",
    "             data=data, family = 'binomial')\n",
    "\n",
    "print(model8.fit())"
   ]
  },
  {
   "cell_type": "code",
   "execution_count": null,
   "id": "e8494883-6e3d-49a2-b64f-3d1ebc56650d",
   "metadata": {},
   "outputs": [],
   "source": [
    "model9 = Lmer(\"death_next_season  ~ aqhi_skew*ndvi_average*wspd_average  + (aqhi_skew|region) \",\n",
    "             data=data, family = 'binomial')\n",
    "print(model9.fit())"
   ]
  },
  {
   "cell_type": "code",
   "execution_count": null,
   "id": "0009de8e-5600-4fa7-9132-d76b40e87528",
   "metadata": {},
   "outputs": [],
   "source": [
    "model10 = Lmer(\"death_next_season  ~ aqhi_skew*ndvi_skew  + (aqhi_skew|region) \",\n",
    "             data=data, family = 'binomial')\n",
    "\n",
    "print(model10.fit())"
   ]
  },
  {
   "cell_type": "code",
   "execution_count": null,
   "id": "2de4b34e-6056-4a74-bc0e-ea0fc1a81f11",
   "metadata": {},
   "outputs": [],
   "source": [
    "model11 = Lmer(\"death_next_season  ~ aqhi_skew*ndvi_average + wspd_average  + (aqhi_skew|region) \",\n",
    "             data=data, family = 'binomial')\n",
    "\n",
    "print(model11.fit())"
   ]
  },
  {
   "cell_type": "code",
   "execution_count": null,
   "id": "dc184750-39c5-4778-a8b5-6f7c5554a9a0",
   "metadata": {},
   "outputs": [],
   "source": [
    "model12 = Lmer(\"death_next_season  ~ aqhi_max*ndvi_average + wspd_average  + (aqhi_max|region) + (ndvi_average|region)\",\n",
    "             data=data, family = 'binomial')\n",
    "\n",
    "print(model12.fit())"
   ]
  },
  {
   "cell_type": "code",
   "execution_count": null,
   "id": "63d6cd09-39c4-4400-ad2f-a36da86a62d8",
   "metadata": {},
   "outputs": [],
   "source": [
    "model13 = Lmer(\"death_next_season  ~ aqhi_average*log(wspd_average) + ndvi_average  + (aqhi_average|region) + (ndvi_average|region)\",\n",
    "             data=data, family = 'binomial')\n",
    "\n",
    "print(model13.fit())"
   ]
  },
  {
   "cell_type": "code",
   "execution_count": null,
   "id": "f7497365-4521-4162-979d-aa10e0088c03",
   "metadata": {},
   "outputs": [],
   "source": [
    "model14 = Lmer(\"death_next_season  ~ aqhi_max*ndvi_average*wspd_average  + (aqhi_max|region) + (ndvi_average|region) \",\n",
    "             data=data, family = 'binomial')\n",
    "\n",
    "print(model14.fit())"
   ]
  },
  {
   "cell_type": "code",
   "execution_count": null,
   "id": "071d544d-c614-409c-a881-27c6b0fdae21",
   "metadata": {},
   "outputs": [],
   "source": [
    "model15 = Lmer(\"death_next_season  ~ aqhi_average*ndvi_skew*wspd_average  + (aqhi_average|region) + (ndvi_skew|region)\",\n",
    "             data=data, family = 'binomial')\n",
    "\n",
    "print(model15.fit())"
   ]
  },
  {
   "cell_type": "code",
   "execution_count": null,
   "id": "92418366-8bbb-4983-854c-63043b364b02",
   "metadata": {},
   "outputs": [],
   "source": [
    "model16 = Lmer(\"death_next_season  ~ aqhi_average*ndvi_skew*wspd_average  + (aqhi_average|region) + (ndvi_skew|region)\",\n",
    "             data=data, family = 'binomial')\n",
    "\n",
    "print(model16.fit())"
   ]
  },
  {
   "cell_type": "code",
   "execution_count": null,
   "id": "d5e2d03f-0803-44b7-bf83-13f09d4874fe",
   "metadata": {},
   "outputs": [],
   "source": [
    "model17 = Lmer(\"death_next_season  ~ aqhi_average*ndvi_skew*wspd_average  + (aqhi_average|operation_id) + (ndvi_skew|operation_id)\",\n",
    "             data=data, family = 'binomial')\n",
    "\n",
    "print(model15.fit())"
   ]
  },
  {
   "cell_type": "markdown",
   "id": "239bdd1e-530c-4e51-958e-6c4d0b27ac04",
   "metadata": {},
   "source": [
    "### Pick best model based on AIC"
   ]
  },
  {
   "cell_type": "code",
   "execution_count": null,
   "id": "9e001d44-ba3b-46e5-9c14-93523a6e7512",
   "metadata": {},
   "outputs": [],
   "source": [
    "i = 0\n",
    "best_aic = model0.AIC\n",
    "best_model = model0\n",
    "for i,m in enumerate([model,model2,model3,model4,model5,model6,model7,model7a,model8,model9,model10,model11,model12,model13,model14,model15,model16,model17]):\n",
    "    # Check if model converged first \n",
    "    try:\n",
    "        logs = m.warnings[0]\n",
    "    except:\n",
    "        logs = \"\"\n",
    "    if (len(m.warnings) == 0) | ( logs == \"boundary (singular) fit: see help('isSingular')\"):\n",
    "        current_aic = m.AIC\n",
    "        if current_aic < best_aic:\n",
    "            print(f\"Current best model is {i} with an AIC of {current_aic}\")\n",
    "            best_aic = current_aic\n",
    "            best_model = m\n",
    "    else:\n",
    "        print(f\"Model {i} did not converged\")\n",
    "    i+=1"
   ]
  },
  {
   "cell_type": "code",
   "execution_count": null,
   "id": "e19f5f9a-38ee-4885-a1ba-0d1f4ebd2659",
   "metadata": {},
   "outputs": [],
   "source": [
    "best_model.summary()"
   ]
  },
  {
   "cell_type": "code",
   "execution_count": null,
   "id": "d8344ddb-6176-4597-95cb-fdf816267b7b",
   "metadata": {},
   "outputs": [],
   "source": [
    "best_model.plot_summary()"
   ]
  },
  {
   "cell_type": "markdown",
   "id": "c8c41aee-8413-4a5e-927c-11b244e620f3",
   "metadata": {},
   "source": [
    "### Shallow learning approach "
   ]
  },
  {
   "cell_type": "code",
   "execution_count": null,
   "id": "dc20f2a0-8bda-4b88-b130-66f4fcd0dc10",
   "metadata": {},
   "outputs": [],
   "source": [
    "\n",
    "# Number of trees in random forest\n",
    "n_estimators = [int(x) for x in np.linspace(start = 500, stop = 4000, num = 10)]\n",
    "# Number of features to consider at every split\n",
    "max_features = ['auto', 'sqrt']\n",
    "# Maximum number of levels in tree\n",
    "max_depth = [int(x) for x in np.linspace(10, 200, num = 10)]\n",
    "max_depth.append(None)\n",
    "# Minimum number of samples required to split a node\n",
    "min_samples_split = [10, 20, 40,60]\n",
    "# Minimum number of samples required at each leaf node\n",
    "min_samples_leaf = [10, 20, 40,60]\n",
    "# Method of selecting samples for training each tree\n",
    "bootstrap = [True, False]\n",
    "# Create the random grid\n",
    "random_grid = {'n_estimators': n_estimators,\n",
    "               'max_features': max_features,\n",
    "               'max_depth': max_depth,\n",
    "               'min_samples_split': min_samples_split,\n",
    "               'min_samples_leaf': min_samples_leaf,\n",
    "               'bootstrap': bootstrap}"
   ]
  },
  {
   "cell_type": "code",
   "execution_count": null,
   "id": "d29deb25-4653-435e-8996-aae7b0cbcfdc",
   "metadata": {},
   "outputs": [],
   "source": [
    "features = ['aqhi_average','aqhi_skew','aqhi_max','tavg_average','tavg_max','tavg_skew'\n",
    "            ,'wspd_average','wspd_skew','ndvi_skew','ndvi_max','ndvi_average'\n",
    "            ,'prcp_average','prcp_skew','prcp_max']\n",
    "data.season.value_counts()"
   ]
  },
  {
   "cell_type": "code",
   "execution_count": null,
   "id": "f886bfe2-1db9-4c79-ab81-ccb9d873a37c",
   "metadata": {},
   "outputs": [],
   "source": [
    "\n",
    "mx=StandardScaler()\n",
    "\n",
    "gr = pd.get_dummies(data['region'])\n",
    "X = data.dropna(subset=['death_next_season','hive_age_next_season'],axis=0)\n",
    "X.fillna(0,inplace=True)\n",
    "X = X[features]\n",
    "X = pd.concat([X,gr],axis=1)\n",
    "\n",
    "data['death_next_season'] = data['death_next_season'].astype(bool)\n",
    "\n",
    "X_train, X_test, y_train, y_test = train_test_split(\n",
    "    X,\n",
    "    np.array(data.apply(lambda x: (x[\"death_next_season\"], x[\"hive_age_next_season\"]), axis=1).tolist(),dtype=[('cens', '?'), ('time', '<f8')]),\n",
    "    test_size=0.15,\n",
    "    random_state=8,\n",
    ")\n",
    "\n",
    "X_train = mx.fit_transform(X_train)\n",
    "X_test = mx.transform(X_test)\n",
    "\n"
   ]
  },
  {
   "cell_type": "code",
   "execution_count": null,
   "id": "b36dccea-b20a-415c-9d3d-f319c10523d1",
   "metadata": {},
   "outputs": [],
   "source": [
    "\n",
    "rf = RandomSurvivalForest()\n",
    "\n",
    "rf_random = RandomizedSearchCV(\n",
    "    estimator=rf,\n",
    "    param_distributions=random_grid,\n",
    "    n_iter=25,\n",
    "    cv=3,\n",
    "    verbose=1,\n",
    "    random_state=8,\n",
    "    n_jobs=-1,\n",
    ")\n",
    "# Fit the random search model\n",
    "rf_random.fit(X_train, y_train)\n"
   ]
  },
  {
   "cell_type": "code",
   "execution_count": null,
   "id": "4e540a26-66d2-4e4b-a99b-b264abc41b1f",
   "metadata": {},
   "outputs": [],
   "source": [
    "rsf = rf_random.best_estimator_"
   ]
  },
  {
   "cell_type": "code",
   "execution_count": null,
   "id": "2497b3e8-c08a-420e-9336-e1f6dc3d9586",
   "metadata": {},
   "outputs": [],
   "source": [
    "print(\"SCORE\")\n",
    "print(rsf.score(X_test,y_test))\n",
    "\n",
    "sns.displot(rsf.predict(X_test))"
   ]
  },
  {
   "cell_type": "markdown",
   "id": "ba5bf87c-a059-40a9-afa7-d38ffb5ab204",
   "metadata": {},
   "source": [
    "### Evalutate"
   ]
  },
  {
   "cell_type": "code",
   "execution_count": null,
   "id": "536a2718-a34f-4154-9508-ef6d65fe2552",
   "metadata": {},
   "outputs": [],
   "source": [
    "va_times = np.arange(220, 550, 7)\n",
    "rsf_chf_funcs = rsf.predict_cumulative_hazard_function(\n",
    "    X_test, return_array=False)\n",
    "rsf_risk_scores = np.row_stack([chf(va_times) for chf in rsf_chf_funcs])\n",
    "\n",
    "rsf_auc, rsf_mean_auc = cumulative_dynamic_auc(\n",
    "    y_train, y_test, rsf_risk_scores, va_times\n",
    ")\n"
   ]
  },
  {
   "cell_type": "code",
   "execution_count": null,
   "id": "6b352293-34fe-4da6-a701-080ae6dd5b80",
   "metadata": {},
   "outputs": [],
   "source": [
    "plt.plot(va_times, rsf_auc, \"o-\", label=\"RSF (mean AUC = {:.3f})\".format(rsf_mean_auc))\n",
    "plt.xlabel(\"days from enrollment\")\n",
    "plt.ylabel(\"time-dependent AUC\")\n",
    "plt.legend(loc=\"lower center\")\n",
    "plt.savefig(\"ROC.png\")\n",
    "plt.grid(True)"
   ]
  },
  {
   "cell_type": "markdown",
   "id": "0ee4093a-0375-4e15-9306-379284842f6d",
   "metadata": {},
   "source": [
    "### FEature importance"
   ]
  },
  {
   "cell_type": "code",
   "execution_count": null,
   "id": "1d3d230f-71a7-494f-a753-da2c53d913c0",
   "metadata": {},
   "outputs": [],
   "source": [
    "result = permutation_importance(\n",
    "    rsf, X_test, y_test, n_repeats=15, random_state=8\n",
    ")\n",
    "\n",
    "pd.DataFrame(\n",
    "    {k: result[k] for k in (\"importances_mean\", \"importances_std\",)},\n",
    "    index=X.columns\n",
    ").sort_values(by=\"importances_mean\", ascending=False)"
   ]
  },
  {
   "cell_type": "markdown",
   "id": "baa5ade1-5972-4f20-8134-8e201ab6f453",
   "metadata": {},
   "source": [
    "### Basic simulation"
   ]
  },
  {
   "cell_type": "code",
   "execution_count": null,
   "id": "e9ff9229-dec5-449e-a8df-75335e78226e",
   "metadata": {},
   "outputs": [],
   "source": [
    "def process(X, factor):\n",
    "    X_copy = X.copy()\n",
    "    X_copy[['aqhi_average']] = X[['aqhi_average']] * factor\n",
    "    #data = mx.transform(data)\n",
    "    return X_copy\n",
    "    "
   ]
  },
  {
   "cell_type": "code",
   "execution_count": null,
   "id": "e4e55ae6-fc83-4741-90dd-110b72fbb69e",
   "metadata": {},
   "outputs": [],
   "source": [
    "def avg_surv_func(feat):\n",
    "    surv = rsf.predict_survival_function(feat, return_array=True)\n",
    "    return np.mean(surv,axis=0)"
   ]
  },
  {
   "cell_type": "code",
   "execution_count": null,
   "id": "50cd80ef-a7a6-4ff5-b99a-dd471e1f7726",
   "metadata": {},
   "outputs": [],
   "source": [
    "preds = avg_surv_func(process(X, 1))\n",
    "preds2 = avg_surv_func(process(X, 1.1))\n",
    "preds3 = avg_surv_func(process(X, 1.5))\n",
    "preds4 = avg_surv_func(process(X, 2))\n",
    "preds8 = avg_surv_func(process(X, 4))\n"
   ]
  },
  {
   "cell_type": "code",
   "execution_count": null,
   "id": "3924cc31-9533-4076-a6be-31fec36473ef",
   "metadata": {},
   "outputs": [],
   "source": [
    "predictions = np.stack([preds,preds2,preds3,preds4,preds8],axis=1,dtype=np.float32).flatten()\n",
    "predictions.shape"
   ]
  },
  {
   "cell_type": "code",
   "execution_count": null,
   "id": "9ae048e4-395b-499d-973f-0bbe2c451c00",
   "metadata": {},
   "outputs": [],
   "source": [
    "temps = []\n",
    "for _ in [1.0,1.1,1.5,2.0,4.0]:\n",
    "    temps.append([i for i in range(len(preds))])"
   ]
  },
  {
   "cell_type": "code",
   "execution_count": null,
   "id": "0cea248f-8a8d-40b8-a999-9651804d2d24",
   "metadata": {},
   "outputs": [],
   "source": [
    "temps = np.stack(temps,axis=1).flatten()\n",
    "temps.shape"
   ]
  },
  {
   "cell_type": "code",
   "execution_count": null,
   "id": "51794585-d5e1-45b9-8ba2-891f8d9ec227",
   "metadata": {},
   "outputs": [],
   "source": [
    "factor = []\n",
    "for ii in [1.0,1.1,1.5,2.0,4.0]:\n",
    "    f = []\n",
    "    for _ in range(len(preds)):\n",
    "        f.append([f\"{ii}x\"])\n",
    "    factor.append(f)\n",
    "factor = np.stack(factor,axis=1).flatten()\n",
    "factor.shape"
   ]
  },
  {
   "cell_type": "code",
   "execution_count": null,
   "id": "ed3a5799-ea2b-49c2-9bc8-0cde6843b7a1",
   "metadata": {},
   "outputs": [],
   "source": [
    "results = pd.DataFrame({\"Probabilité de survie\":predictions,\"Temps\":temps, \"Facteur\":factor})\n",
    "results.head()"
   ]
  },
  {
   "cell_type": "code",
   "execution_count": null,
   "id": "e8d3d5f7-a42c-4707-848d-5b1123971353",
   "metadata": {},
   "outputs": [],
   "source": [
    "LANG = \"EN\"\n",
    "title = {\"FR\":\"Fonction de survie attendue dans des simulations \\n d'intensification de mauvaise qualité de l'air\",\n",
    "         \"EN\":\"Expected survival function for different simulations with varying air quality\"}\n",
    "xaxe = {\"FR\": \"Temps (en jours)\",\"EN\":\"Time (days)\"}\n",
    "yaxe = {\"FR\": \"Probabilité de survie\", \"EN\":\"Probability of survival\"}\n",
    "\n",
    "\n",
    "sns.lineplot(x=results['Temps'], y=results['Probabilité de survie'], hue=results[\"Facteur\"], linewidth=3, alpha=0.85, linestyle=\"solid\")\n",
    "plt.ylabel(yaxe[LANG])\n",
    "plt.xlabel(xaxe[LANG])\n",
    "plt.title(title[LANG])\n",
    "plt.legend()\n",
    "plt.grid(True)\n",
    "plt.savefig(f\"figure-2-{LANG}.png\")"
   ]
  },
  {
   "cell_type": "markdown",
   "id": "cfeed8bc-e656-4584-b62c-be969af6c2c3",
   "metadata": {},
   "source": [
    "### Pred on 2023 true value"
   ]
  },
  {
   "cell_type": "code",
   "execution_count": null,
   "id": "74a674f3-808f-442d-b30e-b5c7b3114d52",
   "metadata": {},
   "outputs": [],
   "source": []
  },
  {
   "cell_type": "markdown",
   "id": "38863fa7-6cf8-4fbe-ae79-f1143ad37237",
   "metadata": {},
   "source": [
    "### Conclusion and next steps "
   ]
  },
  {
   "cell_type": "code",
   "execution_count": null,
   "id": "d05092e8-b776-4a1a-a8e5-fdff66b6e42c",
   "metadata": {},
   "outputs": [],
   "source": []
  }
 ],
 "metadata": {
  "kernelspec": {
   "display_name": "Python 3 (ipykernel)",
   "language": "python",
   "name": "python3"
  },
  "language_info": {
   "codemirror_mode": {
    "name": "ipython",
    "version": 3
   },
   "file_extension": ".py",
   "mimetype": "text/x-python",
   "name": "python",
   "nbconvert_exporter": "python",
   "pygments_lexer": "ipython3",
   "version": "3.11.4"
  }
 },
 "nbformat": 4,
 "nbformat_minor": 5
}
