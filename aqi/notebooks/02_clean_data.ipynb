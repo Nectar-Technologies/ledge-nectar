{
 "cells": [
  {
   "cell_type": "markdown",
   "metadata": {},
   "source": [
    "## DESCRIPTION\n",
    "\n",
    "This notebook cleans the data processed in generate_data.ipynb"
   ]
  },
  {
   "cell_type": "markdown",
   "metadata": {},
   "source": [
    "***\n",
    "### SETUP"
   ]
  },
  {
   "cell_type": "markdown",
   "metadata": {},
   "source": [
    "The script common_setup.py is called below.\n",
    "\n",
    "You can modify the script at will if needed (e.g. add new packages, etc.)"
   ]
  },
  {
   "cell_type": "code",
   "execution_count": 3,
   "metadata": {},
   "outputs": [],
   "source": [
    "from utils.common_setup import *\n",
    "%matplotlib inline"
   ]
  },
  {
   "cell_type": "markdown",
   "metadata": {},
   "source": [
    "### Load the preprocessed data"
   ]
  },
  {
   "cell_type": "code",
   "execution_count": 4,
   "metadata": {},
   "outputs": [],
   "source": [
    "data = pd.read_csv('../data/preprocess.csv')"
   ]
  },
  {
   "cell_type": "markdown",
   "metadata": {},
   "source": [
    "***\n",
    "### CLEAN THE DATA"
   ]
  },
  {
   "cell_type": "code",
   "execution_count": null,
   "metadata": {},
   "outputs": [],
   "source": [
    "ONLY_WINTER = False\n",
    "ONLY_INSEASON = False \n",
    "ACTIVE_ALL_AND_WINTER = True  # Blog post hypothesis \n",
    "if ONLY_WINTER or ONLY_INSEASON:\n",
    "    assert ONLY_WINTER != ONLY_INSEASON, \"choose one! or both False\"\n",
    "if ONLY_INSEASON or ACTIVE_ALL_AND_WINTER:\n",
    "    assert ACTIVE_ALL_AND_WINTER != ONLY_INSEASON, \"choose one! or both False\"\n",
    "\n",
    "# Reload and apply\n",
    "data = pd.read_csv(os.path.join(ROOT_PATH, \"preprocess.csv\"))"
   ]
  }
 ],
 "metadata": {
  "kernelspec": {
   "display_name": "aqi-PLczhCOw-py3.10",
   "language": "python",
   "name": "python3"
  },
  "language_info": {
   "codemirror_mode": {
    "name": "ipython",
    "version": 3
   },
   "file_extension": ".py",
   "mimetype": "text/x-python",
   "name": "python",
   "nbconvert_exporter": "python",
   "pygments_lexer": "ipython3",
   "version": "3.10.1"
  }
 },
 "nbformat": 4,
 "nbformat_minor": 2
}
